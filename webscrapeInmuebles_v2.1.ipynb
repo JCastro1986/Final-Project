{
 "cells": [
  {
   "cell_type": "markdown",
   "id": "d7a27dbe",
   "metadata": {},
   "source": [
    "## Webscrapping from metroscubicos.com"
   ]
  },
  {
   "cell_type": "code",
   "execution_count": 1,
   "id": "85fd59ba",
   "metadata": {},
   "outputs": [],
   "source": [
    "# import instances and libraries\n",
    "from splinter import Browser\n",
    "from bs4 import BeautifulSoup as soup\n",
    "from webdriver_manager.chrome import ChromeDriverManager\n",
    "import requests\n",
    "import re\n",
    "import pandas as pd\n",
    "# To show a progess bar in loops:\n",
    "from tqdm import tqdm.notebook.tqdm as tqdm\n",
    "import csv"
   ]
  },
  {
   "cell_type": "code",
   "execution_count": 9,
   "id": "5af6f630",
   "metadata": {
    "scrolled": true
   },
   "outputs": [
    {
     "name": "stderr",
     "output_type": "stream",
     "text": [
      "\n",
      "\n",
      "====== WebDriver manager ======\n",
      "Could not get version for google-chrome with the command:  powershell \"$ErrorActionPreference='silentlycontinue' ; (Get-Item -Path \"$env:PROGRAMFILES\\Google\\Chrome\\Application\\chrome.exe\").VersionInfo.FileVersion ; if (-not $? -or $? -match $error) { (Get-Item -Path \"$env:PROGRAMFILES(x86)\\Google\\Chrome\\Application\\chrome.exe\").VersionInfo.FileVersion } if (-not $? -or $? -match $error) { (Get-Item -Path \"$env:LOCALAPPDATA\\Google\\Chrome\\Application\\chrome.exe\").VersionInfo.FileVersion } if (-not $? -or $? -match $error) { reg query \"HKCU\\SOFTWARE\\Google\\Chrome\\BLBeacon\" /v version } if (-not $? -or $? -match $error) { reg query \"HKLM\\SOFTWARE\\Wow6432Node\\Microsoft\\Windows\\CurrentVersion\\Uninstall\\Google Chrome\" /v version }\"\n",
      "Current google-chrome version is UNKNOWN\n",
      "Get LATEST chromedriver version for UNKNOWN google-chrome\n",
      "Trying to download new driver from https://chromedriver.storage.googleapis.com/101.0.4951.41/chromedriver_win32.zip\n",
      "Driver has been saved in cache [C:\\Users\\CAC\\.wdm\\drivers\\chromedriver\\win32\\101.0.4951.41]\n"
     ]
    }
   ],
   "source": [
    "# Set up Splinter\n",
    "executable_path = {'executable_path': ChromeDriverManager().install()}\n",
    "browser = Browser('chrome', **executable_path, headless=False)"
   ]
  },
  {
   "cell_type": "code",
   "execution_count": 2,
   "id": "87dc794d",
   "metadata": {},
   "outputs": [],
   "source": [
    "# List all entities available in metroscubicos.com\n",
    "\n",
    "entidades = ['Aguascalientes', 'Baja California', 'Baja California Sur', 'Campeche', 'Chiapas', 'Chihuahua', 'Coahuila', 'Colima',\n",
    "            'Distrito Federal', 'Durango', 'Estado De México', 'Guanajuato', 'Guerrero', 'Hidalgo', 'Jalisco', 'Michoacán',\n",
    "             'Morelos', 'Nayarit', 'Nuevo León', 'Oaxaca', 'Puebla', 'Querétaro', 'Quintana Roo', 'San Luis Potosí',\n",
    "             'Sinaloa', 'Sonora', 'Tabasco', 'Tamaulipas', 'Tlaxcala', 'Veracruz', 'Yucatán', 'Zacatecas']"
   ]
  },
  {
   "cell_type": "code",
   "execution_count": 3,
   "id": "2636927e",
   "metadata": {},
   "outputs": [],
   "source": [
    "# make smallcaps and change spaces for dashes, and select which entities\n",
    "entidadesLower = [x.lower().replace(' ', '-') for x in entidades]"
   ]
  },
  {
   "cell_type": "code",
   "execution_count": 4,
   "id": "a366f7b8",
   "metadata": {},
   "outputs": [
    {
     "data": {
      "text/plain": [
       "['aguascalientes',\n",
       " 'baja-california',\n",
       " 'baja-california-sur',\n",
       " 'campeche',\n",
       " 'chiapas',\n",
       " 'chihuahua',\n",
       " 'coahuila',\n",
       " 'colima',\n",
       " 'distrito-federal',\n",
       " 'durango',\n",
       " 'estado-de-méxico',\n",
       " 'guanajuato',\n",
       " 'guerrero',\n",
       " 'hidalgo',\n",
       " 'jalisco',\n",
       " 'michoacán',\n",
       " 'morelos',\n",
       " 'nayarit',\n",
       " 'nuevo-león',\n",
       " 'oaxaca',\n",
       " 'puebla',\n",
       " 'querétaro',\n",
       " 'quintana-roo',\n",
       " 'san-luis-potosí',\n",
       " 'sinaloa',\n",
       " 'sonora',\n",
       " 'tabasco',\n",
       " 'tamaulipas',\n",
       " 'tlaxcala',\n",
       " 'veracruz',\n",
       " 'yucatán',\n",
       " 'zacatecas']"
      ]
     },
     "execution_count": 4,
     "metadata": {},
     "output_type": "execute_result"
    }
   ],
   "source": [
    "entidadesLower"
   ]
  },
  {
   "cell_type": "code",
   "execution_count": 5,
   "id": "2e62faaa",
   "metadata": {},
   "outputs": [],
   "source": [
    "# Initialize variables\n",
    "cityList = []\n",
    "listLinks = []\n",
    "tipos = ['casas', 'departamentos', 'terrenos']\n",
    "baseUrl = 'https://inmuebles.metroscubicos.com/'\n",
    "csvPath = './Resources/'"
   ]
  },
  {
   "cell_type": "markdown",
   "id": "a61d249d",
   "metadata": {},
   "source": [
    "### Script para hacer el webscrapping por ciudad"
   ]
  },
  {
   "cell_type": "code",
   "execution_count": 15,
   "id": "a6722a41",
   "metadata": {},
   "outputs": [
    {
     "data": {
      "text/html": [
       "<div>\n",
       "<style scoped>\n",
       "    .dataframe tbody tr th:only-of-type {\n",
       "        vertical-align: middle;\n",
       "    }\n",
       "\n",
       "    .dataframe tbody tr th {\n",
       "        vertical-align: top;\n",
       "    }\n",
       "\n",
       "    .dataframe thead th {\n",
       "        text-align: right;\n",
       "    }\n",
       "</style>\n",
       "<table border=\"1\" class=\"dataframe\">\n",
       "  <thead>\n",
       "    <tr style=\"text-align: right;\">\n",
       "      <th></th>\n",
       "      <th>ID</th>\n",
       "      <th>entidad</th>\n",
       "      <th>tipo</th>\n",
       "      <th>link</th>\n",
       "    </tr>\n",
       "  </thead>\n",
       "  <tbody>\n",
       "    <tr>\n",
       "      <th>0</th>\n",
       "      <td>1425548080</td>\n",
       "      <td>aguascalientes</td>\n",
       "      <td>venta</td>\n",
       "      <td>https://casa.metroscubicos.com/MLM-1425548080-...</td>\n",
       "    </tr>\n",
       "    <tr>\n",
       "      <th>1</th>\n",
       "      <td>1397663987</td>\n",
       "      <td>aguascalientes</td>\n",
       "      <td>casa</td>\n",
       "      <td>https://casa.metroscubicos.com/MLM-1397663987-...</td>\n",
       "    </tr>\n",
       "    <tr>\n",
       "      <th>2</th>\n",
       "      <td>1398422703</td>\n",
       "      <td>aguascalientes</td>\n",
       "      <td>casa</td>\n",
       "      <td>https://casa.metroscubicos.com/MLM-1398422703-...</td>\n",
       "    </tr>\n",
       "    <tr>\n",
       "      <th>3</th>\n",
       "      <td>1413775652</td>\n",
       "      <td>aguascalientes</td>\n",
       "      <td>bonita</td>\n",
       "      <td>https://casa.metroscubicos.com/MLM-1413775652-...</td>\n",
       "    </tr>\n",
       "    <tr>\n",
       "      <th>4</th>\n",
       "      <td>1411133552</td>\n",
       "      <td>aguascalientes</td>\n",
       "      <td>casa</td>\n",
       "      <td>https://casa.metroscubicos.com/MLM-1411133552-...</td>\n",
       "    </tr>\n",
       "  </tbody>\n",
       "</table>\n",
       "</div>"
      ],
      "text/plain": [
       "           ID         entidad    tipo  \\\n",
       "0  1425548080  aguascalientes   venta   \n",
       "1  1397663987  aguascalientes    casa   \n",
       "2  1398422703  aguascalientes    casa   \n",
       "3  1413775652  aguascalientes  bonita   \n",
       "4  1411133552  aguascalientes    casa   \n",
       "\n",
       "                                                link  \n",
       "0  https://casa.metroscubicos.com/MLM-1425548080-...  \n",
       "1  https://casa.metroscubicos.com/MLM-1397663987-...  \n",
       "2  https://casa.metroscubicos.com/MLM-1398422703-...  \n",
       "3  https://casa.metroscubicos.com/MLM-1413775652-...  \n",
       "4  https://casa.metroscubicos.com/MLM-1411133552-...  "
      ]
     },
     "execution_count": 15,
     "metadata": {},
     "output_type": "execute_result"
    }
   ],
   "source": [
    "## Read file by city\n",
    "ciudad = entidadesLower[0]\n",
    "csvfile = csvPath+ciudad+\".csv\"\n",
    "data= pd.read_csv(csvfile)\n",
    "data.head()"
   ]
  },
  {
   "cell_type": "code",
   "execution_count": 16,
   "id": "e2d3cf95",
   "metadata": {},
   "outputs": [],
   "source": [
    "# Select which city\n",
    "entidadesLower[0:1]"
   ]
  },
  {
   "cell_type": "code",
   "execution_count": 22,
   "id": "921c9775",
   "metadata": {},
   "outputs": [
    {
     "name": "stderr",
     "output_type": "stream",
     "text": [
      "C:\\Users\\CAC\\anaconda3\\envs\\PythonData\\lib\\site-packages\\ipykernel_launcher.py:2: TqdmDeprecationWarning: This function will be removed in tqdm==5.0.0\n",
      "Please use `tqdm.notebook.tqdm` instead of `tqdm.tqdm_notebook`\n",
      "  \n"
     ]
    },
    {
     "data": {
      "application/vnd.jupyter.widget-view+json": {
       "model_id": "4fe1736ee6424ae4b5d5f9d145860023",
       "version_major": 2,
       "version_minor": 0
      },
      "text/plain": [
       "  0%|          | 0/1908 [00:00<?, ?it/s]"
      ]
     },
     "metadata": {},
     "output_type": "display_data"
    },
    {
     "data": {
      "text/plain": [
       "{'link': 'https://terreno.metroscubicos.com/MLM-1406187667-vendo-terreno-en-fraccionamiento-las-plazas-_JM',\n",
       " 'precio': '$187,500,000',\n",
       " 'colonia': 'Las Plazuelas',\n",
       " 'municipio': 'Aguascalientes',\n",
       " 'Superficie total': '250 ha',\n",
       " 'Superficie construida': '90 m²',\n",
       " 'Ambientes': '3',\n",
       " 'Recámaras': '2',\n",
       " 'Baños': '1',\n",
       " 'Estacionamientos': '1',\n",
       " 'Bodegas': '1',\n",
       " 'Cantidad de pisos': '3',\n",
       " 'Orientación': 'Norte',\n",
       " 'Antigüedad': '0 años',\n",
       " 'Cuota mensual de mantenimiento': '0 MXN',\n",
       " 'RecÃ¡maras': '2',\n",
       " 'BaÃ±os': '2',\n",
       " 'AntigÃ¼edad': '1 aÃ±os',\n",
       " 'Tipo de casa': 'Casa',\n",
       " 'Tipo de propiedad': 'Casa en condominio',\n",
       " 'OrientaciÃ³n': 'Norte',\n",
       " 'Departamentos por piso': '4',\n",
       " 'Número de piso de la unidad': '3',\n",
       " 'Disposición': 'Contrafrente',\n",
       " 'NÃºmero de piso de la unidad': '2',\n",
       " 'Acceso': 'Otro',\n",
       " 'Metros de frente': '45 m',\n",
       " 'Metros de fondo': '55 m',\n",
       " 'Forma del terreno': 'Plano',\n",
       " 'DisposiciÃ³n del lote': 'Perimetral'}"
      ]
     },
     "execution_count": 22,
     "metadata": {},
     "output_type": "execute_result"
    }
   ],
   "source": [
    "for ciudad in tqdm(entidadesLower):\n",
    "    # Read csv file and get links\n",
    "    csvfile = csvPath+ciudad+\".csv\"\n",
    "    data= pd.read_csv(csvfile)\n",
    "    links = data[\"link\"].tolist()\n",
    "    \n",
    "    # Loop through all links and webscrape info. Info is stores in a dictionary\n",
    "    for link in tqdm(links):\n",
    "        # Clean dictionary for each link\n",
    "        dict = {}\n",
    "        dict[\"link\"] = link\n",
    "        try: \n",
    "            asset_soup = soup(requests.get(link).content, 'html.parser')\n",
    "        except:\n",
    "            print(f\"Cannot retrieve {link} ... passing\")\n",
    "            continue\n",
    "        # Get price and currency symbol\n",
    "        if asset_soup.find('span', class_=\"andes-money-amount__currency-symbol\") != None:\n",
    "            simbolo = asset_soup.find('span', class_=\"andes-money-amount__currency-symbol\").get_text()\n",
    "        else:\n",
    "            simbolo = \"\"\n",
    "        if asset_soup.find('span', class_=\"andes-money-amount__fraction\") != None:\n",
    "            monto = asset_soup.find('span', class_=\"andes-money-amount__fraction\").get_text()\n",
    "        else:\n",
    "            monto = \"\"\n",
    "        precio = simbolo+monto\n",
    "        dict[\"precio\"] = precio\n",
    "        if asset_soup.find('ol', class_=\"andes-breadcrumb\") != None:\n",
    "            divBreadcrumbs = asset_soup.find('ol', class_=\"andes-breadcrumb\")\n",
    "            aBreadcrumbs = divBreadcrumbs.find_all('a')\n",
    "            dict['colonia'] = aBreadcrumbs[-1].get_text()\n",
    "            dict['municipio'] = aBreadcrumbs[-2].get_text()\n",
    "        # Find table and process columns and rows\n",
    "        if asset_soup.find('tbody', class_=\"andes-table__body\") == None:\n",
    "            tabla = \"\"\n",
    "            pass\n",
    "        else:\n",
    "            tabla = asset_soup.find('tbody', class_=\"andes-table__body\")\n",
    "            tablaDatos = asset_soup.find('table', class_=\"andes-table\") \n",
    "            nombreDatos = tablaDatos.find_all('th')\n",
    "            dataDatos = tablaDatos.find_all('td')\n",
    "            for i in range(len(nombreDatos)):\n",
    "                dict[nombreDatos[i].get_text()] = dataDatos[i].get_text()\n",
    "        \n",
    "        # Add dictionary values to global list\n",
    "        if dict not in cityList:\n",
    "            cityList.append(dict)\n",
    "\n",
    "results_df = pd.DataFrame(cityList)\n",
    "final_df = pd.merge(data, results_df, on=\"link\")\n",
    "file = csvPath+city+\"-webscrapeResults.csv\"\n",
    "final_df.to_csv(file, index=False)\n",
    "            "
   ]
  },
  {
   "cell_type": "code",
   "execution_count": null,
   "id": "1925fd12",
   "metadata": {},
   "outputs": [],
   "source": []
  },
  {
   "cell_type": "code",
   "execution_count": null,
   "id": "29f609a5",
   "metadata": {},
   "outputs": [],
   "source": []
  },
  {
   "cell_type": "markdown",
   "id": "df5bd139",
   "metadata": {},
   "source": [
    "### Multithreading"
   ]
  },
  {
   "cell_type": "code",
   "execution_count": 6,
   "id": "f34b2c2a",
   "metadata": {},
   "outputs": [],
   "source": [
    "from multiprocessing.dummy import Pool  # This is a thread-based Pool\n",
    "from multiprocessing import cpu_count"
   ]
  },
  {
   "cell_type": "code",
   "execution_count": null,
   "id": "b499d3ee",
   "metadata": {},
   "outputs": [],
   "source": []
  },
  {
   "cell_type": "code",
   "execution_count": 7,
   "id": "80ead8ae",
   "metadata": {},
   "outputs": [],
   "source": [
    "def parseWeb(url):\n",
    "    dict = {}\n",
    "    try: \n",
    "        asset_soup = soup(requests.get(url).content, 'html.parser')\n",
    "    except:\n",
    "        print(f\"Cannot retrieve {url} ... passing\")\n",
    "        return dict\n",
    "    # Get price and currency symbol\n",
    "    if asset_soup.find('span', class_=\"andes-money-amount__currency-symbol\") != None:\n",
    "        simbolo = asset_soup.find('span', class_=\"andes-money-amount__currency-symbol\").get_text()\n",
    "    else:\n",
    "        simbolo = \"\"\n",
    "    if asset_soup.find('span', class_=\"andes-money-amount__fraction\") != None:\n",
    "        monto = asset_soup.find('span', class_=\"andes-money-amount__fraction\").get_text()\n",
    "    else:\n",
    "        monto = \"\"\n",
    "    precio = simbolo+monto\n",
    "    dict[\"precio\"] = precio\n",
    "    if asset_soup.find('ol', class_=\"andes-breadcrumb\") != None:\n",
    "        divBreadcrumbs = asset_soup.find('ol', class_=\"andes-breadcrumb\")\n",
    "        aBreadcrumbs = divBreadcrumbs.find_all('a')\n",
    "        dict['colonia'] = aBreadcrumbs[-1].get_text()\n",
    "        dict['municipio'] = aBreadcrumbs[-2].get_text()\n",
    "    # Find table and process columns and rows\n",
    "    if asset_soup.find('tbody', class_=\"andes-table__body\") == None:\n",
    "        tabla = \"\"\n",
    "        pass\n",
    "    else:\n",
    "        tabla = asset_soup.find('tbody', class_=\"andes-table__body\")\n",
    "        tablaDatos = asset_soup.find('table', class_=\"andes-table\") \n",
    "        nombreDatos = tablaDatos.find_all('th')\n",
    "        dataDatos = tablaDatos.find_all('td')\n",
    "        for i in range(len(nombreDatos)):\n",
    "            dict[nombreDatos[i].get_text()] = dataDatos[i].get_text()\n",
    "    #if dict not in cityList:\n",
    "    #    cityList.append(dict)\n",
    "    return dict"
   ]
  },
  {
   "cell_type": "code",
   "execution_count": null,
   "id": "67343eb9",
   "metadata": {},
   "outputs": [
    {
     "name": "stdout",
     "output_type": "stream",
     "text": [
      "Cannot retrieve https://casa.metroscubicos.com/MLM-1419146480-casa-en-venta-arboledas-de-paso-blanco-aguascalientes-_JM ... passing\n",
      "Cannot retrieve https://casa.metroscubicos.com/MLM-951074747-casa-en-xarama-residencial-girona-_JM ... passing\n",
      "Cannot retrieve https://casa.metroscubicos.com/MLM-936352294-casa-sola-en-venta-jardines-de-la-asuncion-_JM ... passing\n",
      "Cannot retrieve https://casa.metroscubicos.com/MLM-1332709573-go-liquidacion-hipotecaria-de-casa-hacienda-tetelpa-ags-_JM ... passing\n",
      "Cannot retrieve https://casa.metroscubicos.com/MLM-1362085554-casa-sola-residencial-en-venta-_JM ... passing\n",
      "Cannot retrieve https://casa.metroscubicos.com/MLM-953514589-casa-en-venta-en-eden-los-sabinos-_JM ... passing\n",
      "Cannot retrieve https://casa.metroscubicos.com/MLM-1401341367-casa-fraccionamiento-ladrilleras-los-arellano-_JM ... passing\n",
      "Cannot retrieve https://casa.metroscubicos.com/MLM-1401330560-casa-en-venta-con-locales-comerciales-en-fracc-ejido-cumbres-iii-cerca-de-linea-verde-_JM ... passing\n",
      "Cannot retrieve https://casa.metroscubicos.com/MLM-1411651212-estupenda-casa-en-villas-de-la-cantera-_JM ... passing\n",
      "Cannot retrieve https://casa.metroscubicos.com/MLM-1401316847-casa-en-venta-en-madero-la-purisima-ags-_JM ... passing\n",
      "Cannot retrieve https://casa.metroscubicos.com/MLM-1360417565-cartagena-3-rec-25-ban-2-est-cons-124m2-norte-_JM ... passing\n",
      "Cannot retrieve https://casa.metroscubicos.com/MLM-1345519167-punta-del-cielo-3-rec-4-ban-3-est-nor-pte-_JM ... passing\n",
      "Cannot retrieve https://casa.metroscubicos.com/MLM-1398878495-canteras-de-san-agustin-casa-en-venta-en-aguascalientes-_JM ... passing\n",
      "Cannot retrieve https://casa.metroscubicos.com/MLM-939290821-casa-nueva-en-venta-_JM ... passing\n",
      "Cannot retrieve https://casa.metroscubicos.com/MLM-1326482893-casa-venta-en-colonia-del-carmen-_JM ... passing\n",
      "Cannot retrieve https://casa.metroscubicos.com/MLM-1398859962-casa-venta-nueva-canteras-san-agustin-_JM ... passing\n",
      "Cannot retrieve https://casa.metroscubicos.com/MLM-1403117595-hurban-vende-casa-nueva-en-san-angelo-residence-al-norte-zo-_JM ... passing\n",
      "Cannot retrieve https://casa.metroscubicos.com/MLM-925241981-casa-nueva-en-venta-norte-aguascalientes-cerca-al-tec-de-mon-_JM ... passing\n",
      "Cannot retrieve https://casa.metroscubicos.com/MLM-1403117624-hurban-vende-casa-nueva-en-coto-al-norte-de-la-ciudad-_JM ... passing\n",
      "Cannot retrieve https://casa.metroscubicos.com/MLM-1360386075-residencias-al-norte-desde-28-mdp-vendido-el-55-_JM ... passing\n",
      "Cannot retrieve https://casa.metroscubicos.com/MLM-1419188443-casa-en-venta-residencial-tahona-_JM ... passing\n",
      "Cannot retrieve https://casa.metroscubicos.com/MLM-1365989372-casa-en-venta-en-puerto-las-hadas-_JM ... passing\n",
      "Cannot retrieve https://casa.metroscubicos.com/MLM-1401316600-casa-en-venta-soberana-convencion-_JM ... passing\n",
      "Cannot retrieve https://casa.metroscubicos.com/MLM-1403085043-hurban-vende-casa-nueva-en-privada-al-norte-de-la-ciudad-_JM ... passing\n",
      "Cannot retrieve https://casa.metroscubicos.com/MLM-1390372447-casa-nueva-en-venta-en-condominio-santa-barbara-aguascalientes-_JM ... passing\n",
      "Cannot retrieve https://casa.metroscubicos.com/MLM-1367667091-casa-sola-en-venta-belago-residencial-_JM ... passingCannot retrieve https://casa.metroscubicos.com/MLM-1401310165-casa-en-venta-en-la-plazuela-al-norte-de-aguascalientes-_JM ... passing\n",
      "\n",
      "Cannot retrieve https://casa.metroscubicos.com/MLM-897439699-casa-en-venta-al-norte-3-rec-25-ban-2-est-_JM ... passing\n",
      "Cannot retrieve https://casa.metroscubicos.com/MLM-1401316605-casa-en-venta-en-montebello-della-stanza-_JM ... passing\n",
      "Cannot retrieve https://casa.metroscubicos.com/MLM-1403091553-hurban-vende-casa-nueva-al-norte-de-la-ciudad-_JM ... passingCannot retrieve https://casa.metroscubicos.com/MLM-1403098010-hurban-vende-casa-en-la-concepcion-_JM ... passing\n",
      "Cannot retrieve https://casa.metroscubicos.com/MLM-1401322805-casa-nueva-en-venta-en-residencial-catania-spazio-_JM ... passing\n",
      "\n",
      "Cannot retrieve https://casa.metroscubicos.com/MLM-1326489220-casa-en-venta-en-q-campestre-residencial-_JM ... passing\n",
      "Cannot retrieve https://casa.metroscubicos.com/MLM-1388116318-casa-sola-en-venta-bosque-sereno-_JM ... passing\n",
      "Cannot retrieve https://casa.metroscubicos.com/MLM-1415259166-venta-en-fraccionamiento-lopez-portillo-_JM ... passingCannot retrieve https://casa.metroscubicos.com/MLM-1403870040-casa-sola-en-venta-real-campestre-_JM ... passing\n",
      "\n",
      "Cannot retrieve https://casa.metroscubicos.com/MLM-1386172939-casa-en-venta-pabellon-arteaga-aguascalientes-ab-_JM ... passing\n",
      "Cannot retrieve https://casa.metroscubicos.com/MLM-918599745-casa-sola-en-venta-bosque-sereno-_JM ... passing\n",
      "Cannot retrieve https://casa.metroscubicos.com/MLM-1330343764-alcazar-sta-maria-3-rec-25-ban-2-est-con-excedente-_JM ... passing\n",
      "Cannot retrieve https://casa.metroscubicos.com/MLM-1392375919-casa-sola-en-venta-la-ribera-_JM ... passing\n",
      "Cannot retrieve https://casa.metroscubicos.com/MLM-1415145637-casa-en-venta-zona-centro-juan-de-montoro-_JM ... passing\n",
      "Cannot retrieve https://casa.metroscubicos.com/MLM-1401322807-casa-en-venta-en-la-concepcion-_JM ... passing\n",
      "Cannot retrieve https://casa.metroscubicos.com/MLM-1386738001-casa-en-venta-jesus-maria-aguascalientes-ab-_JM ... passingCannot retrieve https://casa.metroscubicos.com/MLM-1403166281-casa-en-ruscello-nor-pte-3-rec-5-banos-roof-garden-_JM ... passing\n",
      "\n",
      "Cannot retrieve https://casa.metroscubicos.com/MLM-1401322809-casa-de-una-planta-en-venta-en-cerro-de-la-silla-_JM ... passing\n",
      "Cannot retrieve https://casa.metroscubicos.com/MLM-1326121024-casa-en-venta-en-la-trinidad-_JM ... passing\n",
      "Cannot retrieve https://casa.metroscubicos.com/MLM-1419880710-casa-en-venta-en-tahona-residencial-_JM ... passing\n",
      "Cannot retrieve https://casa.metroscubicos.com/MLM-1409367015-casa-nueva-en-venta-en-residencial-ruscello-aguascalientes-_JM ... passing\n",
      "Cannot retrieve https://casa.metroscubicos.com/MLM-1368531473-casa-sola-en-venta-alberia-residencial-_JM ... passing\n",
      "Cannot retrieve https://casa.metroscubicos.com/MLM-918606912-casa-sola-en-venta-vista-alegre-_JM ... passing\n",
      "Cannot retrieve https://casa.metroscubicos.com/MLM-1404915130-casa-nueva-en-jesus-maria-cerrada-abbondanza-_JM ... passing\n",
      "Cannot retrieve https://casa.metroscubicos.com/MLM-1393716367-casa-sola-en-venta-tamarindos-campestre-_JM ... passing\n",
      "Cannot retrieve https://casa.metroscubicos.com/MLM-1401272717-casa-condominio-santa-imelda-_JM ... passing\n",
      "Cannot retrieve https://casa.metroscubicos.com/MLM-1403098004-hurban-vende-impecable-casa-en-jardines-de-la-concepcion-ii-_JM ... passing\n",
      "Cannot retrieve https://casa.metroscubicos.com/MLM-1416940856-casa-sola-en-venta-lunaria-_JM ... passing\n",
      "Cannot retrieve https://casa.metroscubicos.com/MLM-947859817-casa-en-lunaria-modelo-elara-_JM ... passing\n",
      "Cannot retrieve https://casa.metroscubicos.com/MLM-947902719-residencial-la-perla-modelo-frisia-_JM ... passing\n",
      "Cannot retrieve https://casa.metroscubicos.com/MLM-1386663571-rb-venta-de-casa-en-real-del-sol-aguascalientes-_JM ... passing\n",
      "Cannot retrieve https://casa.metroscubicos.com/MLM-1345449782-casa-san-mateo-nopala-zona-sur-_JM ... passing\n",
      "Cannot retrieve https://casa.metroscubicos.com/MLM-1400896328-dos-casas-nuevas-en-venta-al-norte-y-sur-de-aguascalientes-portofino-y-ronda-residencial-_JM ... passing\n",
      "Cannot retrieve https://casa.metroscubicos.com/MLM-1386163604-er-yahualica-aguascalientes-_JM ... passing\n"
     ]
    }
   ],
   "source": [
    "if __name__ == '__main__':\n",
    "    ciudad = entidadesLower[0]\n",
    "    csvfile = csvPath+ciudad+\".csv\"\n",
    "    data= pd.read_csv(csvfile)\n",
    "    links = data[\"link\"].tolist()\n",
    "    pool = Pool(cpu_count() * 200)\n",
    "    results = pool.map(parseWeb, links)\n",
    "    if results not in cityList and len(results) != 0:\n",
    "        cityList.append(results)\n",
    "        print(f\"Processed {len(results)} links\")"
   ]
  },
  {
   "cell_type": "code",
   "execution_count": null,
   "id": "f2ccab93",
   "metadata": {},
   "outputs": [],
   "source": []
  },
  {
   "cell_type": "code",
   "execution_count": null,
   "id": "78aacdeb",
   "metadata": {},
   "outputs": [],
   "source": []
  },
  {
   "cell_type": "code",
   "execution_count": null,
   "id": "f61a3d7e",
   "metadata": {},
   "outputs": [],
   "source": []
  }
 ],
 "metadata": {
  "kernelspec": {
   "display_name": "PythonData",
   "language": "python",
   "name": "pythondata"
  },
  "language_info": {
   "codemirror_mode": {
    "name": "ipython",
    "version": 3
   },
   "file_extension": ".py",
   "mimetype": "text/x-python",
   "name": "python",
   "nbconvert_exporter": "python",
   "pygments_lexer": "ipython3",
   "version": "3.7.11"
  }
 },
 "nbformat": 4,
 "nbformat_minor": 5
}
