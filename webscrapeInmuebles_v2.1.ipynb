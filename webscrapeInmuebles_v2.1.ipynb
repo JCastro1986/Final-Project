{
 "cells": [
  {
   "cell_type": "markdown",
   "id": "d7a27dbe",
   "metadata": {},
   "source": [
    "## Webscrapping from metroscubicos.com"
   ]
  },
  {
   "cell_type": "code",
   "execution_count": 1,
   "id": "85fd59ba",
   "metadata": {},
   "outputs": [],
   "source": [
    "# import instances and libraries\n",
    "from splinter import Browser\n",
    "from bs4 import BeautifulSoup as soup\n",
    "from webdriver_manager.chrome import ChromeDriverManager\n",
    "import requests\n",
    "import re\n",
    "import pandas as pd\n",
    "# To show a progess bar in loops:\n",
    "from tqdm import tqdm_notebook as tqdm\n",
    "import csv"
   ]
  },
  {
   "cell_type": "code",
   "execution_count": 2,
   "id": "87dc794d",
   "metadata": {},
   "outputs": [],
   "source": [
    "# List all entities available in metroscubicos.com\n",
    "\n",
    "entidades = ['Aguascalientes', 'Baja California', 'Baja California Sur', 'Campeche', 'Chiapas', 'Chihuahua', 'Coahuila', 'Colima',\n",
    "            'Distrito Federal', 'Durango', 'Estado De México', 'Guanajuato', 'Guerrero', 'Hidalgo', 'Jalisco', 'Michoacán',\n",
    "             'Morelos', 'Nayarit', 'Nuevo León', 'Oaxaca', 'Puebla', 'Querétaro', 'Quintana Roo', 'San Luis Potosí',\n",
    "             'Sinaloa', 'Sonora', 'Tabasco', 'Tamaulipas', 'Tlaxcala', 'Veracruz', 'Yucatán', 'Zacatecas']"
   ]
  },
  {
   "cell_type": "code",
   "execution_count": 6,
   "id": "2636927e",
   "metadata": {},
   "outputs": [],
   "source": [
    "# make smallcaps and change spaces for dashes, and select which entities\n",
    "entidadesLower = [x.lower().replace(' ', '-') for x in entidades]"
   ]
  },
  {
   "cell_type": "code",
   "execution_count": 7,
   "id": "a366f7b8",
   "metadata": {},
   "outputs": [
    {
     "data": {
      "text/plain": [
       "['aguascalientes',\n",
       " 'baja-california',\n",
       " 'baja-california-sur',\n",
       " 'campeche',\n",
       " 'chiapas',\n",
       " 'chihuahua',\n",
       " 'coahuila',\n",
       " 'colima',\n",
       " 'distrito-federal',\n",
       " 'durango',\n",
       " 'estado-de-méxico',\n",
       " 'guanajuato',\n",
       " 'guerrero',\n",
       " 'hidalgo',\n",
       " 'jalisco',\n",
       " 'michoacán',\n",
       " 'morelos',\n",
       " 'nayarit',\n",
       " 'nuevo-león',\n",
       " 'oaxaca',\n",
       " 'puebla',\n",
       " 'querétaro',\n",
       " 'quintana-roo',\n",
       " 'san-luis-potosí',\n",
       " 'sinaloa',\n",
       " 'sonora',\n",
       " 'tabasco',\n",
       " 'tamaulipas',\n",
       " 'tlaxcala',\n",
       " 'veracruz',\n",
       " 'yucatán',\n",
       " 'zacatecas']"
      ]
     },
     "execution_count": 7,
     "metadata": {},
     "output_type": "execute_result"
    }
   ],
   "source": [
    "entidadesLower"
   ]
  },
  {
   "cell_type": "code",
   "execution_count": 8,
   "id": "2e62faaa",
   "metadata": {},
   "outputs": [],
   "source": [
    "# Initialize variables\n",
    "cityList = []\n",
    "listLinksPassed = []\n",
    "tipos = ['casas', 'departamentos', 'terrenos']\n",
    "baseUrl = 'https://inmuebles.metroscubicos.com/'\n",
    "csvPath = './Resources/'"
   ]
  },
  {
   "cell_type": "markdown",
   "id": "a61d249d",
   "metadata": {},
   "source": [
    "### Script para hacer el webscrapping por ciudad"
   ]
  },
  {
   "cell_type": "code",
   "execution_count": null,
   "id": "a6722a41",
   "metadata": {},
   "outputs": [],
   "source": [
    "## Read file by city\n",
    "ciudad = entidadesLower[0]\n",
    "csvfile = csvPath+ciudad+\".csv\"\n",
    "data= pd.read_csv(csvfile)\n",
    "data.head()"
   ]
  },
  {
   "cell_type": "code",
   "execution_count": 10,
   "id": "e2d3cf95",
   "metadata": {},
   "outputs": [
    {
     "data": {
      "text/plain": [
       "['jalisco',\n",
       " 'michoacán',\n",
       " 'morelos',\n",
       " 'nayarit',\n",
       " 'nuevo-león',\n",
       " 'oaxaca',\n",
       " 'puebla',\n",
       " 'querétaro',\n",
       " 'quintana-roo',\n",
       " 'san-luis-potosí',\n",
       " 'sinaloa',\n",
       " 'sonora',\n",
       " 'tabasco',\n",
       " 'tamaulipas',\n",
       " 'tlaxcala',\n",
       " 'veracruz',\n",
       " 'yucatán',\n",
       " 'zacatecas']"
      ]
     },
     "execution_count": 10,
     "metadata": {},
     "output_type": "execute_result"
    }
   ],
   "source": [
    "# Select which city\n",
    "ciudades = entidadesLower[14:]\n",
    "ciudades"
   ]
  },
  {
   "cell_type": "code",
   "execution_count": null,
   "id": "921c9775",
   "metadata": {},
   "outputs": [
    {
     "name": "stderr",
     "output_type": "stream",
     "text": [
      "C:\\Users\\CAC\\anaconda3\\envs\\PythonData\\lib\\site-packages\\ipykernel_launcher.py:1: TqdmDeprecationWarning: This function will be removed in tqdm==5.0.0\n",
      "Please use `tqdm.notebook.tqdm` instead of `tqdm.tqdm_notebook`\n",
      "  \"\"\"Entry point for launching an IPython kernel.\n"
     ]
    },
    {
     "data": {
      "application/vnd.jupyter.widget-view+json": {
       "model_id": "3fcfba7a74b64f5f8ca5650ff0ddbef8",
       "version_major": 2,
       "version_minor": 0
      },
      "text/plain": [
       "  0%|          | 0/18 [00:00<?, ?it/s]"
      ]
     },
     "metadata": {},
     "output_type": "display_data"
    },
    {
     "name": "stderr",
     "output_type": "stream",
     "text": [
      "C:\\Users\\CAC\\anaconda3\\envs\\PythonData\\lib\\site-packages\\ipykernel_launcher.py:8: TqdmDeprecationWarning: This function will be removed in tqdm==5.0.0\n",
      "Please use `tqdm.notebook.tqdm` instead of `tqdm.tqdm_notebook`\n",
      "  \n"
     ]
    },
    {
     "data": {
      "application/vnd.jupyter.widget-view+json": {
       "model_id": "97d3fd5dccca46c49d2491e86ba9d17b",
       "version_major": 2,
       "version_minor": 0
      },
      "text/plain": [
       "  0%|          | 0/5753 [00:00<?, ?it/s]"
      ]
     },
     "metadata": {},
     "output_type": "display_data"
    }
   ],
   "source": [
    "for ciudad in tqdm(ciudades):\n",
    "    # Read csv file and get links\n",
    "    csvfile = csvPath+ciudad+\".csv\"\n",
    "    data= pd.read_csv(csvfile)\n",
    "    links = data[\"link\"].tolist()\n",
    "    \n",
    "    # Loop through all links and webscrape info. Info is stores in a dictionary\n",
    "    for link in tqdm(links):\n",
    "        # Clean dictionary for each link\n",
    "        dict = {}\n",
    "        dict[\"link\"] = link\n",
    "        try: \n",
    "            asset_soup = soup(requests.get(link).content, 'html.parser')\n",
    "        except:\n",
    "            print(f\"Cannot retrieve {link} ... passing\")\n",
    "            if link not in listLinksPassed:\n",
    "                listLinksPassed.append(link)\n",
    "            continue\n",
    "        # Get price and currency symbol\n",
    "        if asset_soup.find('span', class_=\"andes-money-amount__currency-symbol\") != None:\n",
    "            simbolo = asset_soup.find('span', class_=\"andes-money-amount__currency-symbol\").get_text()\n",
    "        else:\n",
    "            simbolo = \"\"\n",
    "        if asset_soup.find('span', class_=\"andes-money-amount__fraction\") != None:\n",
    "            monto = asset_soup.find('span', class_=\"andes-money-amount__fraction\").get_text()\n",
    "        else:\n",
    "            monto = \"\"\n",
    "        precio = simbolo+monto\n",
    "        dict[\"precio\"] = precio\n",
    "        if asset_soup.find('ol', class_=\"andes-breadcrumb\") != None:\n",
    "            divBreadcrumbs = asset_soup.find('ol', class_=\"andes-breadcrumb\")\n",
    "            aBreadcrumbs = divBreadcrumbs.find_all('a')\n",
    "            if len(aBreadcrumbs) > 1:\n",
    "                dict['municipio'] = aBreadcrumbs[-2].get_text()\n",
    "                dict['colonia'] = aBreadcrumbs[-1].get_text()\n",
    "            elif len(aBreadcrumbs) == 1:\n",
    "                dict['municipio'] = \"\"\n",
    "                dict['colonia'] = aBreadcrumbs[-1].get_text()\n",
    "            else:\n",
    "                dict['municipio'] = \"\"\n",
    "                dict['colonia'] = \"\"\n",
    "        # Find table and process columns and rows\n",
    "        if asset_soup.find('tbody', class_=\"andes-table__body\") == None:\n",
    "            tabla = \"\"\n",
    "            pass\n",
    "        else:\n",
    "            tabla = asset_soup.find('tbody', class_=\"andes-table__body\")\n",
    "            tablaDatos = asset_soup.find('table', class_=\"andes-table\") \n",
    "            nombreDatos = tablaDatos.find_all('th')\n",
    "            dataDatos = tablaDatos.find_all('td')\n",
    "            for i in range(len(nombreDatos)):\n",
    "                dict[nombreDatos[i].get_text()] = dataDatos[i].get_text()\n",
    "        \n",
    "        # Add dictionary values to global list\n",
    "        if dict not in cityList:\n",
    "            cityList.append(dict)\n",
    "\n",
    "    # save results\n",
    "    results_df = pd.DataFrame(cityList)\n",
    "    final_df = pd.merge(data, results_df, on=\"link\")\n",
    "    file = csvPath+ciudad+\"-webscrapeResults.csv\"\n",
    "    final_df.to_csv(file, index=False)\n",
    "    \n",
    "    # save links passed\n",
    "    passed_df = pd.DataFrame(listLinksPassed)\n",
    "    passed_df.to_csv(csvPath+ciudad+\"_passed.csv\", index=False)\n",
    "\n",
    "            "
   ]
  },
  {
   "cell_type": "code",
   "execution_count": null,
   "id": "29f609a5",
   "metadata": {},
   "outputs": [],
   "source": []
  },
  {
   "cell_type": "markdown",
   "id": "df5bd139",
   "metadata": {},
   "source": [
    "### Multithreading"
   ]
  },
  {
   "cell_type": "code",
   "execution_count": null,
   "id": "f34b2c2a",
   "metadata": {},
   "outputs": [],
   "source": [
    "from multiprocessing.dummy import Pool  # This is a thread-based Pool\n",
    "from multiprocessing import cpu_count"
   ]
  },
  {
   "cell_type": "code",
   "execution_count": null,
   "id": "b499d3ee",
   "metadata": {},
   "outputs": [],
   "source": []
  },
  {
   "cell_type": "code",
   "execution_count": null,
   "id": "80ead8ae",
   "metadata": {},
   "outputs": [],
   "source": [
    "def parseWeb(url):\n",
    "    dict = {}\n",
    "    try: \n",
    "        asset_soup = soup(requests.get(url).content, 'html.parser')\n",
    "    except:\n",
    "        print(f\"Cannot retrieve {url} ... passing\")\n",
    "        return dict\n",
    "    # Get price and currency symbol\n",
    "    if asset_soup.find('span', class_=\"andes-money-amount__currency-symbol\") != None:\n",
    "        simbolo = asset_soup.find('span', class_=\"andes-money-amount__currency-symbol\").get_text()\n",
    "    else:\n",
    "        simbolo = \"\"\n",
    "    if asset_soup.find('span', class_=\"andes-money-amount__fraction\") != None:\n",
    "        monto = asset_soup.find('span', class_=\"andes-money-amount__fraction\").get_text()\n",
    "    else:\n",
    "        monto = \"\"\n",
    "    precio = simbolo+monto\n",
    "    dict[\"precio\"] = precio\n",
    "    if asset_soup.find('ol', class_=\"andes-breadcrumb\") != None:\n",
    "        divBreadcrumbs = asset_soup.find('ol', class_=\"andes-breadcrumb\")\n",
    "        aBreadcrumbs = divBreadcrumbs.find_all('a')\n",
    "        dict['colonia'] = aBreadcrumbs[-1].get_text()\n",
    "        dict['municipio'] = aBreadcrumbs[-2].get_text()\n",
    "    # Find table and process columns and rows\n",
    "    if asset_soup.find('tbody', class_=\"andes-table__body\") == None:\n",
    "        tabla = \"\"\n",
    "        pass\n",
    "    else:\n",
    "        tabla = asset_soup.find('tbody', class_=\"andes-table__body\")\n",
    "        tablaDatos = asset_soup.find('table', class_=\"andes-table\") \n",
    "        nombreDatos = tablaDatos.find_all('th')\n",
    "        dataDatos = tablaDatos.find_all('td')\n",
    "        for i in range(len(nombreDatos)):\n",
    "            dict[nombreDatos[i].get_text()] = dataDatos[i].get_text()\n",
    "    #if dict not in cityList:\n",
    "    #    cityList.append(dict)\n",
    "    return dict"
   ]
  },
  {
   "cell_type": "code",
   "execution_count": null,
   "id": "67343eb9",
   "metadata": {},
   "outputs": [],
   "source": [
    "if __name__ == '__main__':\n",
    "    ciudad = entidadesLower[0]\n",
    "    csvfile = csvPath+ciudad+\".csv\"\n",
    "    data= pd.read_csv(csvfile)\n",
    "    links = data[\"link\"].tolist()\n",
    "    pool = Pool(cpu_count() * 200)\n",
    "    results = pool.map(parseWeb, links)\n",
    "    if results not in cityList and len(results) != 0:\n",
    "        cityList.append(results)\n",
    "        print(f\"Processed {len(results)} links\")"
   ]
  },
  {
   "cell_type": "code",
   "execution_count": null,
   "id": "f2ccab93",
   "metadata": {},
   "outputs": [],
   "source": []
  },
  {
   "cell_type": "code",
   "execution_count": null,
   "id": "78aacdeb",
   "metadata": {},
   "outputs": [],
   "source": []
  },
  {
   "cell_type": "code",
   "execution_count": null,
   "id": "f61a3d7e",
   "metadata": {},
   "outputs": [],
   "source": []
  }
 ],
 "metadata": {
  "kernelspec": {
   "display_name": "PythonData",
   "language": "python",
   "name": "pythondata"
  },
  "language_info": {
   "codemirror_mode": {
    "name": "ipython",
    "version": 3
   },
   "file_extension": ".py",
   "mimetype": "text/x-python",
   "name": "python",
   "nbconvert_exporter": "python",
   "pygments_lexer": "ipython3",
   "version": "3.7.11"
  }
 },
 "nbformat": 4,
 "nbformat_minor": 5
}
