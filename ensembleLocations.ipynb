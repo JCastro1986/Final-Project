{
 "cells": [
  {
   "cell_type": "code",
   "execution_count": 32,
   "id": "6a1c1c33",
   "metadata": {},
   "outputs": [],
   "source": [
    "import pandas as pd\n",
    "import numpy as np"
   ]
  },
  {
   "cell_type": "code",
   "execution_count": 60,
   "id": "8821dccc",
   "metadata": {
    "scrolled": true
   },
   "outputs": [
    {
     "data": {
      "text/html": [
       "<div>\n",
       "<style scoped>\n",
       "    .dataframe tbody tr th:only-of-type {\n",
       "        vertical-align: middle;\n",
       "    }\n",
       "\n",
       "    .dataframe tbody tr th {\n",
       "        vertical-align: top;\n",
       "    }\n",
       "\n",
       "    .dataframe thead th {\n",
       "        text-align: right;\n",
       "    }\n",
       "</style>\n",
       "<table border=\"1\" class=\"dataframe\">\n",
       "  <thead>\n",
       "    <tr style=\"text-align: right;\">\n",
       "      <th></th>\n",
       "      <th>id</th>\n",
       "      <th>nombre</th>\n",
       "      <th>municipio</th>\n",
       "      <th>asentamiento</th>\n",
       "      <th>codigo_postal</th>\n",
       "      <th>latitud</th>\n",
       "      <th>longitud</th>\n",
       "    </tr>\n",
       "  </thead>\n",
       "  <tbody>\n",
       "    <tr>\n",
       "      <th>0</th>\n",
       "      <td>10011</td>\n",
       "      <td>Zona Centro</td>\n",
       "      <td>1001</td>\n",
       "      <td>Colonia</td>\n",
       "      <td>20000</td>\n",
       "      <td>21.881191</td>\n",
       "      <td>-102.296143</td>\n",
       "    </tr>\n",
       "    <tr>\n",
       "      <th>1</th>\n",
       "      <td>10012</td>\n",
       "      <td>Colinas del Rio</td>\n",
       "      <td>1001</td>\n",
       "      <td>Fraccionamiento</td>\n",
       "      <td>20010</td>\n",
       "      <td>21.894022</td>\n",
       "      <td>-102.313606</td>\n",
       "    </tr>\n",
       "    <tr>\n",
       "      <th>2</th>\n",
       "      <td>10013</td>\n",
       "      <td>Olivares Santana</td>\n",
       "      <td>1001</td>\n",
       "      <td>Colonia</td>\n",
       "      <td>20010</td>\n",
       "      <td>21.894022</td>\n",
       "      <td>-102.313606</td>\n",
       "    </tr>\n",
       "    <tr>\n",
       "      <th>3</th>\n",
       "      <td>10014</td>\n",
       "      <td>Las Brisas</td>\n",
       "      <td>1001</td>\n",
       "      <td>Fraccionamiento</td>\n",
       "      <td>20010</td>\n",
       "      <td>21.894022</td>\n",
       "      <td>-102.313606</td>\n",
       "    </tr>\n",
       "    <tr>\n",
       "      <th>4</th>\n",
       "      <td>10015</td>\n",
       "      <td>Ramon Romo Franco</td>\n",
       "      <td>1001</td>\n",
       "      <td>Fraccionamiento</td>\n",
       "      <td>20010</td>\n",
       "      <td>21.894022</td>\n",
       "      <td>-102.313606</td>\n",
       "    </tr>\n",
       "  </tbody>\n",
       "</table>\n",
       "</div>"
      ],
      "text/plain": [
       "      id             nombre  municipio     asentamiento  codigo_postal  \\\n",
       "0  10011        Zona Centro       1001          Colonia          20000   \n",
       "1  10012    Colinas del Rio       1001  Fraccionamiento          20010   \n",
       "2  10013   Olivares Santana       1001          Colonia          20010   \n",
       "3  10014         Las Brisas       1001  Fraccionamiento          20010   \n",
       "4  10015  Ramon Romo Franco       1001  Fraccionamiento          20010   \n",
       "\n",
       "     latitud    longitud  \n",
       "0  21.881191 -102.296143  \n",
       "1  21.894022 -102.313606  \n",
       "2  21.894022 -102.313606  \n",
       "3  21.894022 -102.313606  \n",
       "4  21.894022 -102.313606  "
      ]
     },
     "execution_count": 60,
     "metadata": {},
     "output_type": "execute_result"
    }
   ],
   "source": [
    "## Read file by city\n",
    "csvfile = './Resources/colonias.csv'\n",
    "colonias_df = pd.read_csv(csvfile)\n",
    "colonias_df.head()"
   ]
  },
  {
   "cell_type": "code",
   "execution_count": 61,
   "id": "24d8b012",
   "metadata": {},
   "outputs": [],
   "source": [
    "# remove spaces from columns names and \"'\" from data\n",
    "colonias_df.columns = colonias_df.columns.str.replace(' ', '')\n"
   ]
  },
  {
   "cell_type": "code",
   "execution_count": 62,
   "id": "32d959d1",
   "metadata": {},
   "outputs": [
    {
     "data": {
      "text/plain": [
       "143852"
      ]
     },
     "execution_count": 62,
     "metadata": {},
     "output_type": "execute_result"
    }
   ],
   "source": [
    "len(colonias_df)"
   ]
  },
  {
   "cell_type": "code",
   "execution_count": 64,
   "id": "63464130",
   "metadata": {
    "scrolled": true
   },
   "outputs": [
    {
     "data": {
      "text/plain": [
       "id                 int64\n",
       "nombre            object\n",
       "municipio          int64\n",
       "asentamiento      object\n",
       "codigo_postal      int64\n",
       "latitud          float64\n",
       "longitud         float64\n",
       "dtype: object"
      ]
     },
     "execution_count": 64,
     "metadata": {},
     "output_type": "execute_result"
    }
   ],
   "source": [
    "# look at columns types\n",
    "colonias_df.dtypes"
   ]
  },
  {
   "cell_type": "code",
   "execution_count": 65,
   "id": "5a668695",
   "metadata": {},
   "outputs": [
    {
     "data": {
      "text/html": [
       "<div>\n",
       "<style scoped>\n",
       "    .dataframe tbody tr th:only-of-type {\n",
       "        vertical-align: middle;\n",
       "    }\n",
       "\n",
       "    .dataframe tbody tr th {\n",
       "        vertical-align: top;\n",
       "    }\n",
       "\n",
       "    .dataframe thead th {\n",
       "        text-align: right;\n",
       "    }\n",
       "</style>\n",
       "<table border=\"1\" class=\"dataframe\">\n",
       "  <thead>\n",
       "    <tr style=\"text-align: right;\">\n",
       "      <th></th>\n",
       "      <th>id</th>\n",
       "      <th>nombre</th>\n",
       "      <th>estado</th>\n",
       "      <th>cp_min</th>\n",
       "      <th>cp_max</th>\n",
       "      <th>huso_horario</th>\n",
       "    </tr>\n",
       "  </thead>\n",
       "  <tbody>\n",
       "    <tr>\n",
       "      <th>0</th>\n",
       "      <td>1001</td>\n",
       "      <td>Aguascalientes</td>\n",
       "      <td>1</td>\n",
       "      <td>20000</td>\n",
       "      <td>20396</td>\n",
       "      <td>Tiempo del Centro</td>\n",
       "    </tr>\n",
       "    <tr>\n",
       "      <th>1</th>\n",
       "      <td>1002</td>\n",
       "      <td>Asientos</td>\n",
       "      <td>1</td>\n",
       "      <td>20700</td>\n",
       "      <td>20799</td>\n",
       "      <td>Tiempo del Centro</td>\n",
       "    </tr>\n",
       "    <tr>\n",
       "      <th>2</th>\n",
       "      <td>1003</td>\n",
       "      <td>Calvillo</td>\n",
       "      <td>1</td>\n",
       "      <td>20800</td>\n",
       "      <td>20890</td>\n",
       "      <td>Tiempo del Centro</td>\n",
       "    </tr>\n",
       "    <tr>\n",
       "      <th>3</th>\n",
       "      <td>1004</td>\n",
       "      <td>Cosío</td>\n",
       "      <td>1</td>\n",
       "      <td>20460</td>\n",
       "      <td>20478</td>\n",
       "      <td>Tiempo del Centro</td>\n",
       "    </tr>\n",
       "    <tr>\n",
       "      <th>4</th>\n",
       "      <td>1005</td>\n",
       "      <td>Jesús María</td>\n",
       "      <td>1</td>\n",
       "      <td>20900</td>\n",
       "      <td>20997</td>\n",
       "      <td>Tiempo del Centro</td>\n",
       "    </tr>\n",
       "  </tbody>\n",
       "</table>\n",
       "</div>"
      ],
      "text/plain": [
       "     id           nombre  estado  cp_min  cp_max        huso_horario\n",
       "0  1001   Aguascalientes       1   20000   20396   Tiempo del Centro\n",
       "1  1002         Asientos       1   20700   20799   Tiempo del Centro\n",
       "2  1003         Calvillo       1   20800   20890   Tiempo del Centro\n",
       "3  1004            Cosío       1   20460   20478   Tiempo del Centro\n",
       "4  1005      Jesús María       1   20900   20997   Tiempo del Centro"
      ]
     },
     "execution_count": 65,
     "metadata": {},
     "output_type": "execute_result"
    }
   ],
   "source": [
    "municipios_df = pd.read_csv('./Resources/municipios.csv')\n",
    "municipios_df.columns = municipios_df.columns.str.replace(' ', '')\n",
    "municipios_df.head()"
   ]
  },
  {
   "cell_type": "code",
   "execution_count": 66,
   "id": "6497f16b",
   "metadata": {},
   "outputs": [
    {
     "data": {
      "text/plain": [
       "2465"
      ]
     },
     "execution_count": 66,
     "metadata": {},
     "output_type": "execute_result"
    }
   ],
   "source": [
    "len(municipios_df)"
   ]
  },
  {
   "cell_type": "code",
   "execution_count": 67,
   "id": "0554b455",
   "metadata": {},
   "outputs": [
    {
     "data": {
      "text/plain": [
       "id               int64\n",
       "nombre          object\n",
       "estado           int64\n",
       "cp_min           int64\n",
       "cp_max           int64\n",
       "huso_horario    object\n",
       "dtype: object"
      ]
     },
     "execution_count": 67,
     "metadata": {},
     "output_type": "execute_result"
    }
   ],
   "source": [
    "municipios_df.dtypes"
   ]
  },
  {
   "cell_type": "code",
   "execution_count": 68,
   "id": "d95c23d1",
   "metadata": {
    "scrolled": true
   },
   "outputs": [
    {
     "data": {
      "text/html": [
       "<div>\n",
       "<style scoped>\n",
       "    .dataframe tbody tr th:only-of-type {\n",
       "        vertical-align: middle;\n",
       "    }\n",
       "\n",
       "    .dataframe tbody tr th {\n",
       "        vertical-align: top;\n",
       "    }\n",
       "\n",
       "    .dataframe thead th {\n",
       "        text-align: right;\n",
       "    }\n",
       "</style>\n",
       "<table border=\"1\" class=\"dataframe\">\n",
       "  <thead>\n",
       "    <tr style=\"text-align: right;\">\n",
       "      <th></th>\n",
       "      <th>id</th>\n",
       "      <th>nombre</th>\n",
       "      <th>municipio</th>\n",
       "      <th>asentamiento</th>\n",
       "      <th>codigo_postal</th>\n",
       "      <th>latitud</th>\n",
       "      <th>longitud</th>\n",
       "      <th>nombreMun</th>\n",
       "    </tr>\n",
       "  </thead>\n",
       "  <tbody>\n",
       "    <tr>\n",
       "      <th>0</th>\n",
       "      <td>10011</td>\n",
       "      <td>Zona Centro</td>\n",
       "      <td>1001</td>\n",
       "      <td>Colonia</td>\n",
       "      <td>20000</td>\n",
       "      <td>21.881191</td>\n",
       "      <td>-102.296143</td>\n",
       "      <td>Aguascalientes</td>\n",
       "    </tr>\n",
       "    <tr>\n",
       "      <th>1</th>\n",
       "      <td>10012</td>\n",
       "      <td>Colinas del Rio</td>\n",
       "      <td>1001</td>\n",
       "      <td>Fraccionamiento</td>\n",
       "      <td>20010</td>\n",
       "      <td>21.894022</td>\n",
       "      <td>-102.313606</td>\n",
       "      <td>Aguascalientes</td>\n",
       "    </tr>\n",
       "    <tr>\n",
       "      <th>2</th>\n",
       "      <td>10013</td>\n",
       "      <td>Olivares Santana</td>\n",
       "      <td>1001</td>\n",
       "      <td>Colonia</td>\n",
       "      <td>20010</td>\n",
       "      <td>21.894022</td>\n",
       "      <td>-102.313606</td>\n",
       "      <td>Aguascalientes</td>\n",
       "    </tr>\n",
       "    <tr>\n",
       "      <th>3</th>\n",
       "      <td>10014</td>\n",
       "      <td>Las Brisas</td>\n",
       "      <td>1001</td>\n",
       "      <td>Fraccionamiento</td>\n",
       "      <td>20010</td>\n",
       "      <td>21.894022</td>\n",
       "      <td>-102.313606</td>\n",
       "      <td>Aguascalientes</td>\n",
       "    </tr>\n",
       "    <tr>\n",
       "      <th>4</th>\n",
       "      <td>10015</td>\n",
       "      <td>Ramon Romo Franco</td>\n",
       "      <td>1001</td>\n",
       "      <td>Fraccionamiento</td>\n",
       "      <td>20010</td>\n",
       "      <td>21.894022</td>\n",
       "      <td>-102.313606</td>\n",
       "      <td>Aguascalientes</td>\n",
       "    </tr>\n",
       "  </tbody>\n",
       "</table>\n",
       "</div>"
      ],
      "text/plain": [
       "      id             nombre  municipio     asentamiento  codigo_postal  \\\n",
       "0  10011        Zona Centro       1001          Colonia          20000   \n",
       "1  10012    Colinas del Rio       1001  Fraccionamiento          20010   \n",
       "2  10013   Olivares Santana       1001          Colonia          20010   \n",
       "3  10014         Las Brisas       1001  Fraccionamiento          20010   \n",
       "4  10015  Ramon Romo Franco       1001  Fraccionamiento          20010   \n",
       "\n",
       "     latitud    longitud        nombreMun  \n",
       "0  21.881191 -102.296143   Aguascalientes  \n",
       "1  21.894022 -102.313606   Aguascalientes  \n",
       "2  21.894022 -102.313606   Aguascalientes  \n",
       "3  21.894022 -102.313606   Aguascalientes  \n",
       "4  21.894022 -102.313606   Aguascalientes  "
      ]
     },
     "execution_count": 68,
     "metadata": {},
     "output_type": "execute_result"
    }
   ],
   "source": [
    "colonias_df['nombreMun'] = colonias_df['municipio'].map(municipios_df.set_index('id')['nombre'])\n",
    "colonias_df.head()"
   ]
  },
  {
   "cell_type": "code",
   "execution_count": 69,
   "id": "ea594720",
   "metadata": {},
   "outputs": [
    {
     "data": {
      "text/plain": [
       "143852"
      ]
     },
     "execution_count": 69,
     "metadata": {},
     "output_type": "execute_result"
    }
   ],
   "source": [
    "len(colonias_df)"
   ]
  },
  {
   "cell_type": "code",
   "execution_count": 70,
   "id": "cd774cfc",
   "metadata": {},
   "outputs": [
    {
     "data": {
      "text/html": [
       "<div>\n",
       "<style scoped>\n",
       "    .dataframe tbody tr th:only-of-type {\n",
       "        vertical-align: middle;\n",
       "    }\n",
       "\n",
       "    .dataframe tbody tr th {\n",
       "        vertical-align: top;\n",
       "    }\n",
       "\n",
       "    .dataframe thead th {\n",
       "        text-align: right;\n",
       "    }\n",
       "</style>\n",
       "<table border=\"1\" class=\"dataframe\">\n",
       "  <thead>\n",
       "    <tr style=\"text-align: right;\">\n",
       "      <th></th>\n",
       "      <th>clave</th>\n",
       "      <th>nombre</th>\n",
       "      <th>abreviacion</th>\n",
       "      <th>cp_min</th>\n",
       "      <th>cp_max</th>\n",
       "    </tr>\n",
       "  </thead>\n",
       "  <tbody>\n",
       "    <tr>\n",
       "      <th>0</th>\n",
       "      <td>1</td>\n",
       "      <td>Aguascalientes</td>\n",
       "      <td>AGU</td>\n",
       "      <td>20000</td>\n",
       "      <td>20999</td>\n",
       "    </tr>\n",
       "    <tr>\n",
       "      <th>1</th>\n",
       "      <td>2</td>\n",
       "      <td>Baja California</td>\n",
       "      <td>BCN</td>\n",
       "      <td>21000</td>\n",
       "      <td>22999</td>\n",
       "    </tr>\n",
       "    <tr>\n",
       "      <th>2</th>\n",
       "      <td>3</td>\n",
       "      <td>Baja California Sur</td>\n",
       "      <td>BCS</td>\n",
       "      <td>23000</td>\n",
       "      <td>23999</td>\n",
       "    </tr>\n",
       "    <tr>\n",
       "      <th>3</th>\n",
       "      <td>4</td>\n",
       "      <td>Campeche</td>\n",
       "      <td>CAM</td>\n",
       "      <td>24000</td>\n",
       "      <td>24999</td>\n",
       "    </tr>\n",
       "    <tr>\n",
       "      <th>4</th>\n",
       "      <td>5</td>\n",
       "      <td>Coahuila de Zaragoza</td>\n",
       "      <td>COA</td>\n",
       "      <td>25000</td>\n",
       "      <td>27999</td>\n",
       "    </tr>\n",
       "  </tbody>\n",
       "</table>\n",
       "</div>"
      ],
      "text/plain": [
       "   clave                 nombre abreviacion  cp_min  cp_max\n",
       "0      1         Aguascalientes         AGU   20000   20999\n",
       "1      2        Baja California         BCN   21000   22999\n",
       "2      3    Baja California Sur         BCS   23000   23999\n",
       "3      4               Campeche         CAM   24000   24999\n",
       "4      5   Coahuila de Zaragoza         COA   25000   27999"
      ]
     },
     "execution_count": 70,
     "metadata": {},
     "output_type": "execute_result"
    }
   ],
   "source": [
    "estados_df = pd.read_csv('./Resources/estados.csv')\n",
    "estados_df.columns = estados_df.columns.str.replace(' ', '')\n",
    "estados_df.head()"
   ]
  },
  {
   "cell_type": "code",
   "execution_count": 71,
   "id": "647c74ae",
   "metadata": {},
   "outputs": [
    {
     "data": {
      "text/plain": [
       "clave           int64\n",
       "nombre         object\n",
       "abreviacion    object\n",
       "cp_min          int64\n",
       "cp_max          int64\n",
       "dtype: object"
      ]
     },
     "execution_count": 71,
     "metadata": {},
     "output_type": "execute_result"
    }
   ],
   "source": [
    "estados_df.dtypes"
   ]
  },
  {
   "cell_type": "code",
   "execution_count": 76,
   "id": "1439eb65",
   "metadata": {},
   "outputs": [
    {
     "ename": "SyntaxError",
     "evalue": "invalid syntax (Temp/ipykernel_2916/1839228636.py, line 1)",
     "output_type": "error",
     "traceback": [
      "\u001b[1;36m  File \u001b[1;32m\"C:\\Users\\CAC\\AppData\\Local\\Temp/ipykernel_2916/1839228636.py\"\u001b[1;36m, line \u001b[1;32m1\u001b[0m\n\u001b[1;33m    colonias_df['entidad'] = colonias_df['codigo_postal'].map(lambda x: estados_df.set_index('id')['nombre'] if x >= estados_df.set_index('clave')['cp_min'] and x <= estados_df.set_index('clave')['cp_min'])\u001b[0m\n\u001b[1;37m                                                                                                                                                                                                             ^\u001b[0m\n\u001b[1;31mSyntaxError\u001b[0m\u001b[1;31m:\u001b[0m invalid syntax\n"
     ]
    }
   ],
   "source": [
    "colonias_df['entidad'] = colonias_df['codigo_postal'].map(lambda x: estados_df.set_index('id')['nombre'] if x >= estados_df.set_index('clave')['cp_min'] and x <= estados_df.set_index('clave')['cp_min'])"
   ]
  },
  {
   "cell_type": "code",
   "execution_count": 98,
   "id": "a71d070c",
   "metadata": {},
   "outputs": [],
   "source": [
    "estadoColumn = []\n",
    "for index, row in colonias_df.iterrows():\n",
    "    for jndex, row2 in estados_df.iterrows():\n",
    "        if row[\"codigo_postal\"] >= row2[\"cp_min\"] and row[\"codigo_postal\"] <= row2[\"cp_max\"]:\n",
    "            estadoColumn.append(row2[\"nombre\"])"
   ]
  },
  {
   "cell_type": "code",
   "execution_count": 100,
   "id": "7edf35e2",
   "metadata": {},
   "outputs": [
    {
     "data": {
      "text/plain": [
       "143852"
      ]
     },
     "execution_count": 100,
     "metadata": {},
     "output_type": "execute_result"
    }
   ],
   "source": [
    "len(estadoColumn)"
   ]
  },
  {
   "cell_type": "code",
   "execution_count": 103,
   "id": "ed565842",
   "metadata": {},
   "outputs": [
    {
     "data": {
      "text/html": [
       "<div>\n",
       "<style scoped>\n",
       "    .dataframe tbody tr th:only-of-type {\n",
       "        vertical-align: middle;\n",
       "    }\n",
       "\n",
       "    .dataframe tbody tr th {\n",
       "        vertical-align: top;\n",
       "    }\n",
       "\n",
       "    .dataframe thead th {\n",
       "        text-align: right;\n",
       "    }\n",
       "</style>\n",
       "<table border=\"1\" class=\"dataframe\">\n",
       "  <thead>\n",
       "    <tr style=\"text-align: right;\">\n",
       "      <th></th>\n",
       "      <th>id</th>\n",
       "      <th>nombre</th>\n",
       "      <th>municipio</th>\n",
       "      <th>asentamiento</th>\n",
       "      <th>codigo_postal</th>\n",
       "      <th>latitud</th>\n",
       "      <th>longitud</th>\n",
       "      <th>nombreMun</th>\n",
       "      <th>estado</th>\n",
       "    </tr>\n",
       "  </thead>\n",
       "  <tbody>\n",
       "    <tr>\n",
       "      <th>0</th>\n",
       "      <td>10011</td>\n",
       "      <td>Zona Centro</td>\n",
       "      <td>1001</td>\n",
       "      <td>Colonia</td>\n",
       "      <td>20000</td>\n",
       "      <td>21.881191</td>\n",
       "      <td>-102.296143</td>\n",
       "      <td>Aguascalientes</td>\n",
       "      <td>Aguascalientes</td>\n",
       "    </tr>\n",
       "    <tr>\n",
       "      <th>1</th>\n",
       "      <td>10012</td>\n",
       "      <td>Colinas del Rio</td>\n",
       "      <td>1001</td>\n",
       "      <td>Fraccionamiento</td>\n",
       "      <td>20010</td>\n",
       "      <td>21.894022</td>\n",
       "      <td>-102.313606</td>\n",
       "      <td>Aguascalientes</td>\n",
       "      <td>Aguascalientes</td>\n",
       "    </tr>\n",
       "    <tr>\n",
       "      <th>2</th>\n",
       "      <td>10013</td>\n",
       "      <td>Olivares Santana</td>\n",
       "      <td>1001</td>\n",
       "      <td>Colonia</td>\n",
       "      <td>20010</td>\n",
       "      <td>21.894022</td>\n",
       "      <td>-102.313606</td>\n",
       "      <td>Aguascalientes</td>\n",
       "      <td>Aguascalientes</td>\n",
       "    </tr>\n",
       "    <tr>\n",
       "      <th>3</th>\n",
       "      <td>10014</td>\n",
       "      <td>Las Brisas</td>\n",
       "      <td>1001</td>\n",
       "      <td>Fraccionamiento</td>\n",
       "      <td>20010</td>\n",
       "      <td>21.894022</td>\n",
       "      <td>-102.313606</td>\n",
       "      <td>Aguascalientes</td>\n",
       "      <td>Aguascalientes</td>\n",
       "    </tr>\n",
       "    <tr>\n",
       "      <th>4</th>\n",
       "      <td>10015</td>\n",
       "      <td>Ramon Romo Franco</td>\n",
       "      <td>1001</td>\n",
       "      <td>Fraccionamiento</td>\n",
       "      <td>20010</td>\n",
       "      <td>21.894022</td>\n",
       "      <td>-102.313606</td>\n",
       "      <td>Aguascalientes</td>\n",
       "      <td>Aguascalientes</td>\n",
       "    </tr>\n",
       "  </tbody>\n",
       "</table>\n",
       "</div>"
      ],
      "text/plain": [
       "      id             nombre  municipio     asentamiento  codigo_postal  \\\n",
       "0  10011        Zona Centro       1001          Colonia          20000   \n",
       "1  10012    Colinas del Rio       1001  Fraccionamiento          20010   \n",
       "2  10013   Olivares Santana       1001          Colonia          20010   \n",
       "3  10014         Las Brisas       1001  Fraccionamiento          20010   \n",
       "4  10015  Ramon Romo Franco       1001  Fraccionamiento          20010   \n",
       "\n",
       "     latitud    longitud        nombreMun           estado  \n",
       "0  21.881191 -102.296143   Aguascalientes   Aguascalientes  \n",
       "1  21.894022 -102.313606   Aguascalientes   Aguascalientes  \n",
       "2  21.894022 -102.313606   Aguascalientes   Aguascalientes  \n",
       "3  21.894022 -102.313606   Aguascalientes   Aguascalientes  \n",
       "4  21.894022 -102.313606   Aguascalientes   Aguascalientes  "
      ]
     },
     "execution_count": 103,
     "metadata": {},
     "output_type": "execute_result"
    }
   ],
   "source": [
    "colonias_df['estado'] = estadoColumn\n",
    "colonias_df.head()"
   ]
  },
  {
   "cell_type": "code",
   "execution_count": 109,
   "id": "b492aff8",
   "metadata": {
    "scrolled": true
   },
   "outputs": [],
   "source": [
    "file = \"./Resources/locationsMexico.csv\"\n",
    "colonias_df.to_csv(file, index=False)"
   ]
  },
  {
   "cell_type": "code",
   "execution_count": null,
   "id": "c6c23646",
   "metadata": {},
   "outputs": [],
   "source": []
  }
 ],
 "metadata": {
  "kernelspec": {
   "display_name": "PythonData",
   "language": "python",
   "name": "pythondata"
  },
  "language_info": {
   "codemirror_mode": {
    "name": "ipython",
    "version": 3
   },
   "file_extension": ".py",
   "mimetype": "text/x-python",
   "name": "python",
   "nbconvert_exporter": "python",
   "pygments_lexer": "ipython3",
   "version": "3.7.11"
  }
 },
 "nbformat": 4,
 "nbformat_minor": 5
}
