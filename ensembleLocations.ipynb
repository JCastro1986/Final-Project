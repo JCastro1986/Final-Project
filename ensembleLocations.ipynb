{
 "cells": [
  {
   "cell_type": "code",
   "execution_count": 1,
   "id": "6a1c1c33",
   "metadata": {},
   "outputs": [],
   "source": [
    "import pandas as pd\n",
    "import numpy as np\n",
    "import sqlite3"
   ]
  },
  {
   "cell_type": "code",
   "execution_count": 2,
   "id": "8821dccc",
   "metadata": {
    "scrolled": true
   },
   "outputs": [
    {
     "data": {
      "text/html": [
       "<div>\n",
       "<style scoped>\n",
       "    .dataframe tbody tr th:only-of-type {\n",
       "        vertical-align: middle;\n",
       "    }\n",
       "\n",
       "    .dataframe tbody tr th {\n",
       "        vertical-align: top;\n",
       "    }\n",
       "\n",
       "    .dataframe thead th {\n",
       "        text-align: right;\n",
       "    }\n",
       "</style>\n",
       "<table border=\"1\" class=\"dataframe\">\n",
       "  <thead>\n",
       "    <tr style=\"text-align: right;\">\n",
       "      <th></th>\n",
       "      <th>id</th>\n",
       "      <th>nombre</th>\n",
       "      <th>municipio</th>\n",
       "      <th>asentamiento</th>\n",
       "      <th>codigo_postal</th>\n",
       "      <th>latitud</th>\n",
       "      <th>longitud</th>\n",
       "    </tr>\n",
       "  </thead>\n",
       "  <tbody>\n",
       "    <tr>\n",
       "      <th>0</th>\n",
       "      <td>10011</td>\n",
       "      <td>Zona Centro</td>\n",
       "      <td>1001</td>\n",
       "      <td>Colonia</td>\n",
       "      <td>20000</td>\n",
       "      <td>21.881191</td>\n",
       "      <td>-102.296143</td>\n",
       "    </tr>\n",
       "    <tr>\n",
       "      <th>1</th>\n",
       "      <td>10012</td>\n",
       "      <td>Colinas del Rio</td>\n",
       "      <td>1001</td>\n",
       "      <td>Fraccionamiento</td>\n",
       "      <td>20010</td>\n",
       "      <td>21.894022</td>\n",
       "      <td>-102.313606</td>\n",
       "    </tr>\n",
       "    <tr>\n",
       "      <th>2</th>\n",
       "      <td>10013</td>\n",
       "      <td>Olivares Santana</td>\n",
       "      <td>1001</td>\n",
       "      <td>Colonia</td>\n",
       "      <td>20010</td>\n",
       "      <td>21.894022</td>\n",
       "      <td>-102.313606</td>\n",
       "    </tr>\n",
       "    <tr>\n",
       "      <th>3</th>\n",
       "      <td>10014</td>\n",
       "      <td>Las Brisas</td>\n",
       "      <td>1001</td>\n",
       "      <td>Fraccionamiento</td>\n",
       "      <td>20010</td>\n",
       "      <td>21.894022</td>\n",
       "      <td>-102.313606</td>\n",
       "    </tr>\n",
       "    <tr>\n",
       "      <th>4</th>\n",
       "      <td>10015</td>\n",
       "      <td>Ramon Romo Franco</td>\n",
       "      <td>1001</td>\n",
       "      <td>Fraccionamiento</td>\n",
       "      <td>20010</td>\n",
       "      <td>21.894022</td>\n",
       "      <td>-102.313606</td>\n",
       "    </tr>\n",
       "  </tbody>\n",
       "</table>\n",
       "</div>"
      ],
      "text/plain": [
       "      id             nombre  municipio     asentamiento  codigo_postal  \\\n",
       "0  10011        Zona Centro       1001          Colonia          20000   \n",
       "1  10012    Colinas del Rio       1001  Fraccionamiento          20010   \n",
       "2  10013   Olivares Santana       1001          Colonia          20010   \n",
       "3  10014         Las Brisas       1001  Fraccionamiento          20010   \n",
       "4  10015  Ramon Romo Franco       1001  Fraccionamiento          20010   \n",
       "\n",
       "     latitud    longitud  \n",
       "0  21.881191 -102.296143  \n",
       "1  21.894022 -102.313606  \n",
       "2  21.894022 -102.313606  \n",
       "3  21.894022 -102.313606  \n",
       "4  21.894022 -102.313606  "
      ]
     },
     "execution_count": 2,
     "metadata": {},
     "output_type": "execute_result"
    }
   ],
   "source": [
    "## Read file by city\n",
    "csvfile = './Resources/colonias.csv'\n",
    "colonias_df = pd.read_csv(csvfile, encoding='utf-8-sig')\n",
    "colonias_df.head()"
   ]
  },
  {
   "cell_type": "code",
   "execution_count": 3,
   "id": "24d8b012",
   "metadata": {},
   "outputs": [],
   "source": [
    "# remove spaces from columns names and \"'\" from data\n",
    "colonias_df.columns = colonias_df.columns.str.replace(' ', '')\n"
   ]
  },
  {
   "cell_type": "code",
   "execution_count": 4,
   "id": "32d959d1",
   "metadata": {},
   "outputs": [
    {
     "data": {
      "text/plain": [
       "143852"
      ]
     },
     "execution_count": 4,
     "metadata": {},
     "output_type": "execute_result"
    }
   ],
   "source": [
    "len(colonias_df)"
   ]
  },
  {
   "cell_type": "code",
   "execution_count": 5,
   "id": "63464130",
   "metadata": {
    "scrolled": true
   },
   "outputs": [
    {
     "data": {
      "text/plain": [
       "id                 int64\n",
       "nombre            object\n",
       "municipio          int64\n",
       "asentamiento      object\n",
       "codigo_postal      int64\n",
       "latitud          float64\n",
       "longitud         float64\n",
       "dtype: object"
      ]
     },
     "execution_count": 5,
     "metadata": {},
     "output_type": "execute_result"
    }
   ],
   "source": [
    "# look at columns types\n",
    "colonias_df.dtypes"
   ]
  },
  {
   "cell_type": "code",
   "execution_count": 6,
   "id": "5a668695",
   "metadata": {},
   "outputs": [
    {
     "data": {
      "text/html": [
       "<div>\n",
       "<style scoped>\n",
       "    .dataframe tbody tr th:only-of-type {\n",
       "        vertical-align: middle;\n",
       "    }\n",
       "\n",
       "    .dataframe tbody tr th {\n",
       "        vertical-align: top;\n",
       "    }\n",
       "\n",
       "    .dataframe thead th {\n",
       "        text-align: right;\n",
       "    }\n",
       "</style>\n",
       "<table border=\"1\" class=\"dataframe\">\n",
       "  <thead>\n",
       "    <tr style=\"text-align: right;\">\n",
       "      <th></th>\n",
       "      <th>id</th>\n",
       "      <th>nombre</th>\n",
       "      <th>estado</th>\n",
       "      <th>cp_min</th>\n",
       "      <th>cp_max</th>\n",
       "      <th>huso_horario</th>\n",
       "    </tr>\n",
       "  </thead>\n",
       "  <tbody>\n",
       "    <tr>\n",
       "      <th>0</th>\n",
       "      <td>1001</td>\n",
       "      <td>Aguascalientes</td>\n",
       "      <td>1</td>\n",
       "      <td>20000</td>\n",
       "      <td>20396</td>\n",
       "      <td>Tiempo del Centro</td>\n",
       "    </tr>\n",
       "    <tr>\n",
       "      <th>1</th>\n",
       "      <td>1002</td>\n",
       "      <td>Asientos</td>\n",
       "      <td>1</td>\n",
       "      <td>20700</td>\n",
       "      <td>20799</td>\n",
       "      <td>Tiempo del Centro</td>\n",
       "    </tr>\n",
       "    <tr>\n",
       "      <th>2</th>\n",
       "      <td>1003</td>\n",
       "      <td>Calvillo</td>\n",
       "      <td>1</td>\n",
       "      <td>20800</td>\n",
       "      <td>20890</td>\n",
       "      <td>Tiempo del Centro</td>\n",
       "    </tr>\n",
       "    <tr>\n",
       "      <th>3</th>\n",
       "      <td>1004</td>\n",
       "      <td>Cosío</td>\n",
       "      <td>1</td>\n",
       "      <td>20460</td>\n",
       "      <td>20478</td>\n",
       "      <td>Tiempo del Centro</td>\n",
       "    </tr>\n",
       "    <tr>\n",
       "      <th>4</th>\n",
       "      <td>1005</td>\n",
       "      <td>Jesús María</td>\n",
       "      <td>1</td>\n",
       "      <td>20900</td>\n",
       "      <td>20997</td>\n",
       "      <td>Tiempo del Centro</td>\n",
       "    </tr>\n",
       "  </tbody>\n",
       "</table>\n",
       "</div>"
      ],
      "text/plain": [
       "     id           nombre  estado  cp_min  cp_max        huso_horario\n",
       "0  1001   Aguascalientes       1   20000   20396   Tiempo del Centro\n",
       "1  1002         Asientos       1   20700   20799   Tiempo del Centro\n",
       "2  1003         Calvillo       1   20800   20890   Tiempo del Centro\n",
       "3  1004            Cosío       1   20460   20478   Tiempo del Centro\n",
       "4  1005      Jesús María       1   20900   20997   Tiempo del Centro"
      ]
     },
     "execution_count": 6,
     "metadata": {},
     "output_type": "execute_result"
    }
   ],
   "source": [
    "municipios_df = pd.read_csv('./Resources/municipios.csv')\n",
    "municipios_df.columns = municipios_df.columns.str.replace(' ', '')\n",
    "municipios_df.head()"
   ]
  },
  {
   "cell_type": "code",
   "execution_count": 7,
   "id": "6497f16b",
   "metadata": {},
   "outputs": [
    {
     "data": {
      "text/plain": [
       "2465"
      ]
     },
     "execution_count": 7,
     "metadata": {},
     "output_type": "execute_result"
    }
   ],
   "source": [
    "len(municipios_df)"
   ]
  },
  {
   "cell_type": "code",
   "execution_count": 8,
   "id": "0554b455",
   "metadata": {},
   "outputs": [
    {
     "data": {
      "text/plain": [
       "id               int64\n",
       "nombre          object\n",
       "estado           int64\n",
       "cp_min           int64\n",
       "cp_max           int64\n",
       "huso_horario    object\n",
       "dtype: object"
      ]
     },
     "execution_count": 8,
     "metadata": {},
     "output_type": "execute_result"
    }
   ],
   "source": [
    "municipios_df.dtypes"
   ]
  },
  {
   "cell_type": "code",
   "execution_count": 9,
   "id": "d95c23d1",
   "metadata": {
    "scrolled": true
   },
   "outputs": [
    {
     "data": {
      "text/html": [
       "<div>\n",
       "<style scoped>\n",
       "    .dataframe tbody tr th:only-of-type {\n",
       "        vertical-align: middle;\n",
       "    }\n",
       "\n",
       "    .dataframe tbody tr th {\n",
       "        vertical-align: top;\n",
       "    }\n",
       "\n",
       "    .dataframe thead th {\n",
       "        text-align: right;\n",
       "    }\n",
       "</style>\n",
       "<table border=\"1\" class=\"dataframe\">\n",
       "  <thead>\n",
       "    <tr style=\"text-align: right;\">\n",
       "      <th></th>\n",
       "      <th>id</th>\n",
       "      <th>nombre</th>\n",
       "      <th>municipio</th>\n",
       "      <th>asentamiento</th>\n",
       "      <th>codigo_postal</th>\n",
       "      <th>latitud</th>\n",
       "      <th>longitud</th>\n",
       "      <th>nombreMun</th>\n",
       "    </tr>\n",
       "  </thead>\n",
       "  <tbody>\n",
       "    <tr>\n",
       "      <th>0</th>\n",
       "      <td>10011</td>\n",
       "      <td>Zona Centro</td>\n",
       "      <td>1001</td>\n",
       "      <td>Colonia</td>\n",
       "      <td>20000</td>\n",
       "      <td>21.881191</td>\n",
       "      <td>-102.296143</td>\n",
       "      <td>Aguascalientes</td>\n",
       "    </tr>\n",
       "    <tr>\n",
       "      <th>1</th>\n",
       "      <td>10012</td>\n",
       "      <td>Colinas del Rio</td>\n",
       "      <td>1001</td>\n",
       "      <td>Fraccionamiento</td>\n",
       "      <td>20010</td>\n",
       "      <td>21.894022</td>\n",
       "      <td>-102.313606</td>\n",
       "      <td>Aguascalientes</td>\n",
       "    </tr>\n",
       "    <tr>\n",
       "      <th>2</th>\n",
       "      <td>10013</td>\n",
       "      <td>Olivares Santana</td>\n",
       "      <td>1001</td>\n",
       "      <td>Colonia</td>\n",
       "      <td>20010</td>\n",
       "      <td>21.894022</td>\n",
       "      <td>-102.313606</td>\n",
       "      <td>Aguascalientes</td>\n",
       "    </tr>\n",
       "    <tr>\n",
       "      <th>3</th>\n",
       "      <td>10014</td>\n",
       "      <td>Las Brisas</td>\n",
       "      <td>1001</td>\n",
       "      <td>Fraccionamiento</td>\n",
       "      <td>20010</td>\n",
       "      <td>21.894022</td>\n",
       "      <td>-102.313606</td>\n",
       "      <td>Aguascalientes</td>\n",
       "    </tr>\n",
       "    <tr>\n",
       "      <th>4</th>\n",
       "      <td>10015</td>\n",
       "      <td>Ramon Romo Franco</td>\n",
       "      <td>1001</td>\n",
       "      <td>Fraccionamiento</td>\n",
       "      <td>20010</td>\n",
       "      <td>21.894022</td>\n",
       "      <td>-102.313606</td>\n",
       "      <td>Aguascalientes</td>\n",
       "    </tr>\n",
       "  </tbody>\n",
       "</table>\n",
       "</div>"
      ],
      "text/plain": [
       "      id             nombre  municipio     asentamiento  codigo_postal  \\\n",
       "0  10011        Zona Centro       1001          Colonia          20000   \n",
       "1  10012    Colinas del Rio       1001  Fraccionamiento          20010   \n",
       "2  10013   Olivares Santana       1001          Colonia          20010   \n",
       "3  10014         Las Brisas       1001  Fraccionamiento          20010   \n",
       "4  10015  Ramon Romo Franco       1001  Fraccionamiento          20010   \n",
       "\n",
       "     latitud    longitud        nombreMun  \n",
       "0  21.881191 -102.296143   Aguascalientes  \n",
       "1  21.894022 -102.313606   Aguascalientes  \n",
       "2  21.894022 -102.313606   Aguascalientes  \n",
       "3  21.894022 -102.313606   Aguascalientes  \n",
       "4  21.894022 -102.313606   Aguascalientes  "
      ]
     },
     "execution_count": 9,
     "metadata": {},
     "output_type": "execute_result"
    }
   ],
   "source": [
    "colonias_df['nombreMun'] = colonias_df['municipio'].map(municipios_df.set_index('id')['nombre'])\n",
    "colonias_df.head()"
   ]
  },
  {
   "cell_type": "code",
   "execution_count": 10,
   "id": "ea594720",
   "metadata": {},
   "outputs": [
    {
     "data": {
      "text/plain": [
       "143852"
      ]
     },
     "execution_count": 10,
     "metadata": {},
     "output_type": "execute_result"
    }
   ],
   "source": [
    "len(colonias_df)"
   ]
  },
  {
   "cell_type": "code",
   "execution_count": 11,
   "id": "cd774cfc",
   "metadata": {},
   "outputs": [
    {
     "data": {
      "text/html": [
       "<div>\n",
       "<style scoped>\n",
       "    .dataframe tbody tr th:only-of-type {\n",
       "        vertical-align: middle;\n",
       "    }\n",
       "\n",
       "    .dataframe tbody tr th {\n",
       "        vertical-align: top;\n",
       "    }\n",
       "\n",
       "    .dataframe thead th {\n",
       "        text-align: right;\n",
       "    }\n",
       "</style>\n",
       "<table border=\"1\" class=\"dataframe\">\n",
       "  <thead>\n",
       "    <tr style=\"text-align: right;\">\n",
       "      <th></th>\n",
       "      <th>clave</th>\n",
       "      <th>nombre</th>\n",
       "      <th>abreviacion</th>\n",
       "      <th>cp_min</th>\n",
       "      <th>cp_max</th>\n",
       "    </tr>\n",
       "  </thead>\n",
       "  <tbody>\n",
       "    <tr>\n",
       "      <th>0</th>\n",
       "      <td>1</td>\n",
       "      <td>Aguascalientes</td>\n",
       "      <td>AGU</td>\n",
       "      <td>20000</td>\n",
       "      <td>20999</td>\n",
       "    </tr>\n",
       "    <tr>\n",
       "      <th>1</th>\n",
       "      <td>2</td>\n",
       "      <td>Baja California</td>\n",
       "      <td>BCN</td>\n",
       "      <td>21000</td>\n",
       "      <td>22999</td>\n",
       "    </tr>\n",
       "    <tr>\n",
       "      <th>2</th>\n",
       "      <td>3</td>\n",
       "      <td>Baja California Sur</td>\n",
       "      <td>BCS</td>\n",
       "      <td>23000</td>\n",
       "      <td>23999</td>\n",
       "    </tr>\n",
       "    <tr>\n",
       "      <th>3</th>\n",
       "      <td>4</td>\n",
       "      <td>Campeche</td>\n",
       "      <td>CAM</td>\n",
       "      <td>24000</td>\n",
       "      <td>24999</td>\n",
       "    </tr>\n",
       "    <tr>\n",
       "      <th>4</th>\n",
       "      <td>5</td>\n",
       "      <td>Coahuila de Zaragoza</td>\n",
       "      <td>COA</td>\n",
       "      <td>25000</td>\n",
       "      <td>27999</td>\n",
       "    </tr>\n",
       "  </tbody>\n",
       "</table>\n",
       "</div>"
      ],
      "text/plain": [
       "   clave                 nombre abreviacion  cp_min  cp_max\n",
       "0      1         Aguascalientes         AGU   20000   20999\n",
       "1      2        Baja California         BCN   21000   22999\n",
       "2      3    Baja California Sur         BCS   23000   23999\n",
       "3      4               Campeche         CAM   24000   24999\n",
       "4      5   Coahuila de Zaragoza         COA   25000   27999"
      ]
     },
     "execution_count": 11,
     "metadata": {},
     "output_type": "execute_result"
    }
   ],
   "source": [
    "estados_df = pd.read_csv('./Resources/estados.csv')\n",
    "estados_df.columns = estados_df.columns.str.replace(' ', '')\n",
    "estados_df.head()"
   ]
  },
  {
   "cell_type": "code",
   "execution_count": 12,
   "id": "647c74ae",
   "metadata": {},
   "outputs": [
    {
     "data": {
      "text/plain": [
       "clave           int64\n",
       "nombre         object\n",
       "abreviacion    object\n",
       "cp_min          int64\n",
       "cp_max          int64\n",
       "dtype: object"
      ]
     },
     "execution_count": 12,
     "metadata": {},
     "output_type": "execute_result"
    }
   ],
   "source": [
    "estados_df.dtypes"
   ]
  },
  {
   "cell_type": "code",
   "execution_count": 13,
   "id": "1439eb65",
   "metadata": {},
   "outputs": [],
   "source": [
    "#colonias_df['entidad'] = colonias_df['codigo_postal'].map(lambda x: estados_df.set_index('id')['nombre'] if x >= estados_df.set_index('clave')['cp_min'] and x <= estados_df.set_index('clave')['cp_min'])"
   ]
  },
  {
   "cell_type": "code",
   "execution_count": 14,
   "id": "a71d070c",
   "metadata": {},
   "outputs": [],
   "source": [
    "estadoColumn = []\n",
    "for index, row in colonias_df.iterrows():\n",
    "    for jndex, row2 in estados_df.iterrows():\n",
    "        if row[\"codigo_postal\"] >= row2[\"cp_min\"] and row[\"codigo_postal\"] <= row2[\"cp_max\"]:\n",
    "            estadoColumn.append(row2[\"nombre\"])"
   ]
  },
  {
   "cell_type": "code",
   "execution_count": 15,
   "id": "7edf35e2",
   "metadata": {},
   "outputs": [
    {
     "data": {
      "text/plain": [
       "143852"
      ]
     },
     "execution_count": 15,
     "metadata": {},
     "output_type": "execute_result"
    }
   ],
   "source": [
    "len(estadoColumn)"
   ]
  },
  {
   "cell_type": "code",
   "execution_count": 16,
   "id": "aa02236e",
   "metadata": {},
   "outputs": [],
   "source": [
    "colonias_df.rename(columns={'id': 'id_locations'}, inplace=True)"
   ]
  },
  {
   "cell_type": "code",
   "execution_count": 18,
   "id": "ed565842",
   "metadata": {},
   "outputs": [
    {
     "data": {
      "text/html": [
       "<div>\n",
       "<style scoped>\n",
       "    .dataframe tbody tr th:only-of-type {\n",
       "        vertical-align: middle;\n",
       "    }\n",
       "\n",
       "    .dataframe tbody tr th {\n",
       "        vertical-align: top;\n",
       "    }\n",
       "\n",
       "    .dataframe thead th {\n",
       "        text-align: right;\n",
       "    }\n",
       "</style>\n",
       "<table border=\"1\" class=\"dataframe\">\n",
       "  <thead>\n",
       "    <tr style=\"text-align: right;\">\n",
       "      <th></th>\n",
       "      <th>id_locations</th>\n",
       "      <th>nombre</th>\n",
       "      <th>municipio</th>\n",
       "      <th>asentamiento</th>\n",
       "      <th>codigo_postal</th>\n",
       "      <th>latitud</th>\n",
       "      <th>longitud</th>\n",
       "      <th>nombreMun</th>\n",
       "      <th>estado</th>\n",
       "    </tr>\n",
       "  </thead>\n",
       "  <tbody>\n",
       "    <tr>\n",
       "      <th>0</th>\n",
       "      <td>10011</td>\n",
       "      <td>Zona Centro</td>\n",
       "      <td>1001</td>\n",
       "      <td>Colonia</td>\n",
       "      <td>20000</td>\n",
       "      <td>21.881191</td>\n",
       "      <td>-102.296143</td>\n",
       "      <td>Aguascalientes</td>\n",
       "      <td>Aguascalientes</td>\n",
       "    </tr>\n",
       "    <tr>\n",
       "      <th>1</th>\n",
       "      <td>10012</td>\n",
       "      <td>Colinas del Rio</td>\n",
       "      <td>1001</td>\n",
       "      <td>Fraccionamiento</td>\n",
       "      <td>20010</td>\n",
       "      <td>21.894022</td>\n",
       "      <td>-102.313606</td>\n",
       "      <td>Aguascalientes</td>\n",
       "      <td>Aguascalientes</td>\n",
       "    </tr>\n",
       "    <tr>\n",
       "      <th>2</th>\n",
       "      <td>10013</td>\n",
       "      <td>Olivares Santana</td>\n",
       "      <td>1001</td>\n",
       "      <td>Colonia</td>\n",
       "      <td>20010</td>\n",
       "      <td>21.894022</td>\n",
       "      <td>-102.313606</td>\n",
       "      <td>Aguascalientes</td>\n",
       "      <td>Aguascalientes</td>\n",
       "    </tr>\n",
       "    <tr>\n",
       "      <th>3</th>\n",
       "      <td>10014</td>\n",
       "      <td>Las Brisas</td>\n",
       "      <td>1001</td>\n",
       "      <td>Fraccionamiento</td>\n",
       "      <td>20010</td>\n",
       "      <td>21.894022</td>\n",
       "      <td>-102.313606</td>\n",
       "      <td>Aguascalientes</td>\n",
       "      <td>Aguascalientes</td>\n",
       "    </tr>\n",
       "    <tr>\n",
       "      <th>4</th>\n",
       "      <td>10015</td>\n",
       "      <td>Ramon Romo Franco</td>\n",
       "      <td>1001</td>\n",
       "      <td>Fraccionamiento</td>\n",
       "      <td>20010</td>\n",
       "      <td>21.894022</td>\n",
       "      <td>-102.313606</td>\n",
       "      <td>Aguascalientes</td>\n",
       "      <td>Aguascalientes</td>\n",
       "    </tr>\n",
       "  </tbody>\n",
       "</table>\n",
       "</div>"
      ],
      "text/plain": [
       "   id_locations             nombre  municipio     asentamiento  codigo_postal  \\\n",
       "0         10011        Zona Centro       1001          Colonia          20000   \n",
       "1         10012    Colinas del Rio       1001  Fraccionamiento          20010   \n",
       "2         10013   Olivares Santana       1001          Colonia          20010   \n",
       "3         10014         Las Brisas       1001  Fraccionamiento          20010   \n",
       "4         10015  Ramon Romo Franco       1001  Fraccionamiento          20010   \n",
       "\n",
       "     latitud    longitud        nombreMun          estado  \n",
       "0  21.881191 -102.296143   Aguascalientes  Aguascalientes  \n",
       "1  21.894022 -102.313606   Aguascalientes  Aguascalientes  \n",
       "2  21.894022 -102.313606   Aguascalientes  Aguascalientes  \n",
       "3  21.894022 -102.313606   Aguascalientes  Aguascalientes  \n",
       "4  21.894022 -102.313606   Aguascalientes  Aguascalientes  "
      ]
     },
     "execution_count": 18,
     "metadata": {},
     "output_type": "execute_result"
    }
   ],
   "source": [
    "colonias_df['estado'] = estadoColumn\n",
    "colonias_df['estado'] = colonias_df['estado'].str.strip()\n",
    "colonias_df.head()"
   ]
  },
  {
   "cell_type": "code",
   "execution_count": 19,
   "id": "b492aff8",
   "metadata": {
    "scrolled": true
   },
   "outputs": [],
   "source": [
    "file = \"./Resources/locationsMexico.csv\"\n",
    "colonias_df.to_csv(file, index=False, encoding='utf-8-sig')"
   ]
  },
  {
   "cell_type": "code",
   "execution_count": 20,
   "id": "4587ad0f",
   "metadata": {},
   "outputs": [],
   "source": [
    "colonias_df = pd.read_csv('./Resources/locationsMexico.csv', encoding='utf-8-sig')"
   ]
  },
  {
   "cell_type": "markdown",
   "id": "e44d81bd",
   "metadata": {},
   "source": [
    "### Interaction with SQLite"
   ]
  },
  {
   "cell_type": "code",
   "execution_count": 21,
   "id": "98a65392",
   "metadata": {},
   "outputs": [],
   "source": [
    "typesCols = []"
   ]
  },
  {
   "cell_type": "code",
   "execution_count": 22,
   "id": "2bc138ac",
   "metadata": {},
   "outputs": [],
   "source": [
    "# Create type for each columns to make DB Table 'Inmuebles'\n",
    "for i in colonias_df.dtypes.values:\n",
    "    if i == 'int64':\n",
    "        typesCols.append('integer')\n",
    "    elif i == 'float64':\n",
    "        typesCols.append('float')\n",
    "    else:\n",
    "        typesCols.append('string')"
   ]
  },
  {
   "cell_type": "code",
   "execution_count": 23,
   "id": "bb8bd68f",
   "metadata": {},
   "outputs": [],
   "source": [
    "# Create string for table columns and types\n",
    "colsDBlist = [str(x[0]) + \" \" + str(x[1]) for x in zip(colonias_df.columns.values, typesCols)]\n",
    "colsDB = \",\".join(colsDBlist)"
   ]
  },
  {
   "cell_type": "code",
   "execution_count": 24,
   "id": "dc258a99",
   "metadata": {},
   "outputs": [],
   "source": [
    "# connect to database\n",
    "conn = sqlite3.connect('./Resources/finalData.db')\n",
    "c = conn.cursor()"
   ]
  },
  {
   "cell_type": "code",
   "execution_count": 25,
   "id": "50804569",
   "metadata": {},
   "outputs": [
    {
     "name": "stdout",
     "output_type": "stream",
     "text": [
      "Table exists.\n",
      "Table dropped... \n",
      "New table created.\n"
     ]
    }
   ],
   "source": [
    "# create table 'Locations' in databse\n",
    "\n",
    "c.execute('''SELECT count(name) FROM sqlite_master WHERE type='table' AND name='Locations' ''')\n",
    "\n",
    "#if the count is 1, then table exists\n",
    "if c.fetchone()[0]==1: \n",
    "    print('Table exists.')\n",
    "    c.execute(\"DROP TABLE Locations\")\n",
    "    print(\"Table dropped... \")\n",
    "    conn.commit()\n",
    "    columns = colsDB\n",
    "    queryCreate = f\"CREATE TABLE Locations ({columns})\"\n",
    "    c.execute(queryCreate)\n",
    "    print('New table created.')\n",
    "else:\n",
    "    print('Table does not exist.')\n",
    "    columns = colsDB\n",
    "    queryCreate = f\"CREATE TABLE Locations ({columns})\"\n",
    "    c.execute(queryCreate)\n",
    "    print('Table created.')"
   ]
  },
  {
   "cell_type": "code",
   "execution_count": 26,
   "id": "73acba74",
   "metadata": {},
   "outputs": [],
   "source": [
    "# write the data to a sqlite table\n",
    "colonias_df.to_sql(\"Locations\", conn, if_exists='append', index = False)\n",
    "conn.close()"
   ]
  },
  {
   "cell_type": "code",
   "execution_count": null,
   "id": "9bbed81e",
   "metadata": {},
   "outputs": [],
   "source": []
  }
 ],
 "metadata": {
  "kernelspec": {
   "display_name": "PythonData",
   "language": "python",
   "name": "pythondata"
  },
  "language_info": {
   "codemirror_mode": {
    "name": "ipython",
    "version": 3
   },
   "file_extension": ".py",
   "mimetype": "text/x-python",
   "name": "python",
   "nbconvert_exporter": "python",
   "pygments_lexer": "ipython3",
   "version": "3.7.11"
  }
 },
 "nbformat": 4,
 "nbformat_minor": 5
}
