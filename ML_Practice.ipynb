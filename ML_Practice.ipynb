{
 "cells": [
  {
   "cell_type": "code",
   "execution_count": 1,
   "id": "e69d4f6d",
   "metadata": {},
   "outputs": [],
   "source": [
    "# import dependencies\n",
    "import pandas as pd\n",
    "from path import Path\n",
    "from sklearn.ensemble import RandomForestClassifier\n",
    "from sklearn.preprocessing import StandardScaler\n",
    "from sklearn.model_selection import train_test_split\n",
    "from sklearn.metrics import confusion_matrix, accuracy_score, classification_report\n",
    "\n",
    "from sklearn.preprocessing import OneHotEncoder"
   ]
  },
  {
   "cell_type": "code",
   "execution_count": 27,
   "id": "3d67c172",
   "metadata": {
    "scrolled": true
   },
   "outputs": [
    {
     "data": {
      "text/html": [
       "<div>\n",
       "<style scoped>\n",
       "    .dataframe tbody tr th:only-of-type {\n",
       "        vertical-align: middle;\n",
       "    }\n",
       "\n",
       "    .dataframe tbody tr th {\n",
       "        vertical-align: top;\n",
       "    }\n",
       "\n",
       "    .dataframe thead th {\n",
       "        text-align: right;\n",
       "    }\n",
       "</style>\n",
       "<table border=\"1\" class=\"dataframe\">\n",
       "  <thead>\n",
       "    <tr style=\"text-align: right;\">\n",
       "      <th></th>\n",
       "      <th>id</th>\n",
       "      <th>entidad</th>\n",
       "      <th>colonia</th>\n",
       "      <th>municipio</th>\n",
       "      <th>codigo_postal</th>\n",
       "      <th>tipo</th>\n",
       "      <th>m2Terreno</th>\n",
       "      <th>m2Construccion</th>\n",
       "      <th>recamaras</th>\n",
       "      <th>banos</th>\n",
       "      <th>medio_bano</th>\n",
       "      <th>Baños</th>\n",
       "      <th>estacionamientos</th>\n",
       "      <th>pisos</th>\n",
       "      <th>antiguedad</th>\n",
       "      <th>cuotaMantto</th>\n",
       "      <th>precioSalida</th>\n",
       "      <th>precioVenta</th>\n",
       "    </tr>\n",
       "  </thead>\n",
       "  <tbody>\n",
       "    <tr>\n",
       "      <th>0</th>\n",
       "      <td>10293</td>\n",
       "      <td>CIUDAD DE MEXICO</td>\n",
       "      <td>Del Valle Norte</td>\n",
       "      <td>Benito JuÃ¡rez</td>\n",
       "      <td>3103</td>\n",
       "      <td>TERRENO</td>\n",
       "      <td>421</td>\n",
       "      <td>NaN</td>\n",
       "      <td>NaN</td>\n",
       "      <td>NaN</td>\n",
       "      <td>NaN</td>\n",
       "      <td>0.0</td>\n",
       "      <td>NaN</td>\n",
       "      <td>NaN</td>\n",
       "      <td>NaN</td>\n",
       "      <td>NaN</td>\n",
       "      <td>20000000</td>\n",
       "      <td>17000000</td>\n",
       "    </tr>\n",
       "    <tr>\n",
       "      <th>1</th>\n",
       "      <td>11382</td>\n",
       "      <td>CIUDAD DE MEXICO</td>\n",
       "      <td>Mixcoac</td>\n",
       "      <td>Benito JuÃ¡rez</td>\n",
       "      <td>3910</td>\n",
       "      <td>TERRENO</td>\n",
       "      <td>385.12</td>\n",
       "      <td>NaN</td>\n",
       "      <td>NaN</td>\n",
       "      <td>NaN</td>\n",
       "      <td>NaN</td>\n",
       "      <td>0.0</td>\n",
       "      <td>NaN</td>\n",
       "      <td>NaN</td>\n",
       "      <td>Mas de 30</td>\n",
       "      <td>NaN</td>\n",
       "      <td>18500000</td>\n",
       "      <td>17000000</td>\n",
       "    </tr>\n",
       "    <tr>\n",
       "      <th>2</th>\n",
       "      <td>13132</td>\n",
       "      <td>CIUDAD DE MEXICO</td>\n",
       "      <td>Portales Sur</td>\n",
       "      <td>Benito JuÃ¡rez</td>\n",
       "      <td>3300</td>\n",
       "      <td>CASA</td>\n",
       "      <td>207</td>\n",
       "      <td>230.0</td>\n",
       "      <td>4.0</td>\n",
       "      <td>2.0</td>\n",
       "      <td>NaN</td>\n",
       "      <td>2.0</td>\n",
       "      <td>3.0</td>\n",
       "      <td>1.0</td>\n",
       "      <td>Mas de 30</td>\n",
       "      <td>NaN</td>\n",
       "      <td>6800000</td>\n",
       "      <td>6000000</td>\n",
       "    </tr>\n",
       "    <tr>\n",
       "      <th>3</th>\n",
       "      <td>17107</td>\n",
       "      <td>CIUDAD DE MEXICO</td>\n",
       "      <td>Jardines de CoyoacÃ¡n</td>\n",
       "      <td>CoyoacÃ¡n</td>\n",
       "      <td>4890</td>\n",
       "      <td>CASA</td>\n",
       "      <td>482</td>\n",
       "      <td>637.0</td>\n",
       "      <td>4.0</td>\n",
       "      <td>5.0</td>\n",
       "      <td>1.0</td>\n",
       "      <td>5.5</td>\n",
       "      <td>6.0</td>\n",
       "      <td>3.0</td>\n",
       "      <td>ENTRE 21 - 30 AÃOS</td>\n",
       "      <td>NaN</td>\n",
       "      <td>15000000</td>\n",
       "      <td>14200000</td>\n",
       "    </tr>\n",
       "    <tr>\n",
       "      <th>4</th>\n",
       "      <td>17799</td>\n",
       "      <td>CIUDAD DE MEXICO</td>\n",
       "      <td>Paulino Navarro</td>\n",
       "      <td>CuauhtÃ©moc</td>\n",
       "      <td>6870</td>\n",
       "      <td>EDIFICIO</td>\n",
       "      <td>542</td>\n",
       "      <td>542.0</td>\n",
       "      <td>NaN</td>\n",
       "      <td>NaN</td>\n",
       "      <td>NaN</td>\n",
       "      <td>0.0</td>\n",
       "      <td>NaN</td>\n",
       "      <td>3.0</td>\n",
       "      <td>Mas de 30</td>\n",
       "      <td>NaN</td>\n",
       "      <td>62330000</td>\n",
       "      <td>62330000</td>\n",
       "    </tr>\n",
       "  </tbody>\n",
       "</table>\n",
       "</div>"
      ],
      "text/plain": [
       "      id           entidad                colonia       municipio  \\\n",
       "0  10293  CIUDAD DE MEXICO        Del Valle Norte  Benito JuÃ¡rez   \n",
       "1  11382  CIUDAD DE MEXICO                Mixcoac  Benito JuÃ¡rez   \n",
       "2  13132  CIUDAD DE MEXICO           Portales Sur  Benito JuÃ¡rez   \n",
       "3  17107  CIUDAD DE MEXICO  Jardines de CoyoacÃ¡n       CoyoacÃ¡n   \n",
       "4  17799  CIUDAD DE MEXICO        Paulino Navarro     CuauhtÃ©moc   \n",
       "\n",
       "   codigo_postal      tipo m2Terreno  m2Construccion  recamaras  banos  \\\n",
       "0           3103   TERRENO       421             NaN        NaN    NaN   \n",
       "1           3910   TERRENO    385.12             NaN        NaN    NaN   \n",
       "2           3300      CASA       207           230.0        4.0    2.0   \n",
       "3           4890      CASA       482           637.0        4.0    5.0   \n",
       "4           6870  EDIFICIO       542           542.0        NaN    NaN   \n",
       "\n",
       "   medio_bano  Baños  estacionamientos  pisos           antiguedad  \\\n",
       "0         NaN    0.0               NaN    NaN                  NaN   \n",
       "1         NaN    0.0               NaN    NaN            Mas de 30   \n",
       "2         NaN    2.0               3.0    1.0            Mas de 30   \n",
       "3         1.0    5.5               6.0    3.0  ENTRE 21 - 30 AÃOS   \n",
       "4         NaN    0.0               NaN    3.0            Mas de 30   \n",
       "\n",
       "  cuotaMantto  precioSalida  precioVenta  \n",
       "0         NaN      20000000     17000000  \n",
       "1         NaN      18500000     17000000  \n",
       "2         NaN       6800000      6000000  \n",
       "3         NaN      15000000     14200000  \n",
       "4         NaN      62330000     62330000  "
      ]
     },
     "execution_count": 27,
     "metadata": {},
     "output_type": "execute_result"
    }
   ],
   "source": [
    "# Load data CSV\n",
    "file_path = Path('Resources/reporteTecno.csv')\n",
    "prices_df = pd.read_csv(file_path, encoding=\"ISO-8859-1\")\n",
    "prices_df.head()"
   ]
  },
  {
   "cell_type": "code",
   "execution_count": 28,
   "id": "0c002380",
   "metadata": {},
   "outputs": [
    {
     "data": {
      "text/plain": [
       "id                    int64\n",
       "entidad              object\n",
       "colonia              object\n",
       "municipio            object\n",
       "codigo_postal         int64\n",
       "tipo                 object\n",
       "m2Terreno            object\n",
       "m2Construccion      float64\n",
       "recamaras           float64\n",
       "banos               float64\n",
       "medio_bano          float64\n",
       "Baños               float64\n",
       "estacionamientos    float64\n",
       "pisos               float64\n",
       "antiguedad           object\n",
       "cuotaMantto          object\n",
       "precioSalida          int64\n",
       "precioVenta           int64\n",
       "dtype: object"
      ]
     },
     "execution_count": 28,
     "metadata": {},
     "output_type": "execute_result"
    }
   ],
   "source": [
    "prices_df.dtypes"
   ]
  },
  {
   "cell_type": "code",
   "execution_count": 29,
   "id": "ea402f9f",
   "metadata": {},
   "outputs": [
    {
     "data": {
      "text/html": [
       "<div>\n",
       "<style scoped>\n",
       "    .dataframe tbody tr th:only-of-type {\n",
       "        vertical-align: middle;\n",
       "    }\n",
       "\n",
       "    .dataframe tbody tr th {\n",
       "        vertical-align: top;\n",
       "    }\n",
       "\n",
       "    .dataframe thead th {\n",
       "        text-align: right;\n",
       "    }\n",
       "</style>\n",
       "<table border=\"1\" class=\"dataframe\">\n",
       "  <thead>\n",
       "    <tr style=\"text-align: right;\">\n",
       "      <th></th>\n",
       "      <th>colonia</th>\n",
       "      <th>tipo</th>\n",
       "      <th>m2Terreno</th>\n",
       "      <th>m2Construccion</th>\n",
       "      <th>recamaras</th>\n",
       "      <th>Baños</th>\n",
       "      <th>pisos</th>\n",
       "      <th>precioVenta</th>\n",
       "    </tr>\n",
       "  </thead>\n",
       "  <tbody>\n",
       "    <tr>\n",
       "      <th>0</th>\n",
       "      <td>Del Valle Norte</td>\n",
       "      <td>TERRENO</td>\n",
       "      <td>421</td>\n",
       "      <td>NaN</td>\n",
       "      <td>NaN</td>\n",
       "      <td>0.0</td>\n",
       "      <td>NaN</td>\n",
       "      <td>17000000</td>\n",
       "    </tr>\n",
       "    <tr>\n",
       "      <th>1</th>\n",
       "      <td>Mixcoac</td>\n",
       "      <td>TERRENO</td>\n",
       "      <td>385.12</td>\n",
       "      <td>NaN</td>\n",
       "      <td>NaN</td>\n",
       "      <td>0.0</td>\n",
       "      <td>NaN</td>\n",
       "      <td>17000000</td>\n",
       "    </tr>\n",
       "    <tr>\n",
       "      <th>2</th>\n",
       "      <td>Portales Sur</td>\n",
       "      <td>CASA</td>\n",
       "      <td>207</td>\n",
       "      <td>230.0</td>\n",
       "      <td>4.0</td>\n",
       "      <td>2.0</td>\n",
       "      <td>1.0</td>\n",
       "      <td>6000000</td>\n",
       "    </tr>\n",
       "    <tr>\n",
       "      <th>3</th>\n",
       "      <td>Jardines de CoyoacÃ¡n</td>\n",
       "      <td>CASA</td>\n",
       "      <td>482</td>\n",
       "      <td>637.0</td>\n",
       "      <td>4.0</td>\n",
       "      <td>5.5</td>\n",
       "      <td>3.0</td>\n",
       "      <td>14200000</td>\n",
       "    </tr>\n",
       "    <tr>\n",
       "      <th>4</th>\n",
       "      <td>Paulino Navarro</td>\n",
       "      <td>EDIFICIO</td>\n",
       "      <td>542</td>\n",
       "      <td>542.0</td>\n",
       "      <td>NaN</td>\n",
       "      <td>0.0</td>\n",
       "      <td>3.0</td>\n",
       "      <td>62330000</td>\n",
       "    </tr>\n",
       "  </tbody>\n",
       "</table>\n",
       "</div>"
      ],
      "text/plain": [
       "                 colonia      tipo m2Terreno  m2Construccion  recamaras  \\\n",
       "0        Del Valle Norte   TERRENO       421             NaN        NaN   \n",
       "1                Mixcoac   TERRENO    385.12             NaN        NaN   \n",
       "2           Portales Sur      CASA       207           230.0        4.0   \n",
       "3  Jardines de CoyoacÃ¡n      CASA       482           637.0        4.0   \n",
       "4        Paulino Navarro  EDIFICIO       542           542.0        NaN   \n",
       "\n",
       "   Baños  pisos  precioVenta  \n",
       "0    0.0    NaN     17000000  \n",
       "1    0.0    NaN     17000000  \n",
       "2    2.0    1.0      6000000  \n",
       "3    5.5    3.0     14200000  \n",
       "4    0.0    3.0     62330000  "
      ]
     },
     "execution_count": 29,
     "metadata": {},
     "output_type": "execute_result"
    }
   ],
   "source": [
    "prices_df = prices_df.drop([\"id\", \"entidad\", \"municipio\", \"codigo_postal\", \"estacionamientos\", \"antiguedad\", \"cuotaMantto\", \"banos\", \"medio_bano\", \"precioSalida\"], axis=1)\n",
    "prices_df.head()"
   ]
  },
  {
   "cell_type": "code",
   "execution_count": 30,
   "id": "45d64f90",
   "metadata": {},
   "outputs": [
    {
     "name": "stdout",
     "output_type": "stream",
     "text": [
      "Column colonia has 1 null values\n",
      "Column tipo has 0 null values\n",
      "Column m2Terreno has 691 null values\n",
      "Column m2Construccion has 90 null values\n",
      "Column recamaras has 171 null values\n",
      "Column Baños has 0 null values\n",
      "Column pisos has 325 null values\n",
      "Column precioVenta has 0 null values\n"
     ]
    }
   ],
   "source": [
    "# Find null values\n",
    "for column in prices_df.columns:\n",
    "    print(f'Column {column} has {prices_df[column].isnull().sum()} null values')"
   ]
  },
  {
   "cell_type": "code",
   "execution_count": 31,
   "id": "9ca1fffa",
   "metadata": {},
   "outputs": [
    {
     "data": {
      "text/plain": [
       "DEPARTAMENTO          660\n",
       "CASA                  494\n",
       "TERRENO                86\n",
       "CASA EN CONDOMINIO     45\n",
       "LOCAL COMERCIAL        28\n",
       "EDIFICIO               23\n",
       "OFICINA                16\n",
       "PENT HOUSE             14\n",
       "CASA DUPLEX            10\n",
       "BODEGA                  8\n",
       "Name: tipo, dtype: int64"
      ]
     },
     "execution_count": 31,
     "metadata": {},
     "output_type": "execute_result"
    }
   ],
   "source": [
    "tipo_counts = prices_df.tipo.value_counts()\n",
    "tipo_counts"
   ]
  },
  {
   "cell_type": "code",
   "execution_count": 32,
   "id": "5b1595ac",
   "metadata": {
    "scrolled": true
   },
   "outputs": [
    {
     "data": {
      "text/plain": [
       "DEPARTAMENTO       674\n",
       "CASA               549\n",
       "TERRENO             86\n",
       "LOCAL COMERCIAL     28\n",
       "EDIFICIO            23\n",
       "OFICINA             16\n",
       "BODEGA               8\n",
       "Name: tipo, dtype: int64"
      ]
     },
     "execution_count": 32,
     "metadata": {},
     "output_type": "execute_result"
    }
   ],
   "source": [
    "# Combine similar terms\n",
    "prices_df = prices_df.replace({\"CASA DUPLEX\": \"CASA\", \"CASA EN CONDOMINIO\": \"CASA\", \"PENT HOUSE\": \"DEPARTAMENTO\"})\n",
    "tipo_counts = prices_df.tipo.value_counts()\n",
    "tipo_counts"
   ]
  },
  {
   "cell_type": "code",
   "execution_count": 25,
   "id": "feb3f5ce",
   "metadata": {},
   "outputs": [
    {
     "data": {
      "text/plain": [
       "1    671\n",
       "0    548\n",
       "3     85\n",
       "2     75\n",
       "Name: tipo, dtype: int64"
      ]
     },
     "execution_count": 25,
     "metadata": {},
     "output_type": "execute_result"
    }
   ],
   "source": [
    "tipo_counts = prices_df.tipo.value_counts()\n",
    "tipo_counts"
   ]
  },
  {
   "cell_type": "code",
   "execution_count": 33,
   "id": "78163171",
   "metadata": {},
   "outputs": [
    {
     "data": {
      "text/plain": [
       "DEPARTAMENTO    674\n",
       "CASA            549\n",
       "TERRENO          86\n",
       "OTRO             75\n",
       "Name: tipo, dtype: int64"
      ]
     },
     "execution_count": 33,
     "metadata": {},
     "output_type": "execute_result"
    }
   ],
   "source": [
    "# Bin data\n",
    "replace_tipo = list(tipo_counts[tipo_counts <50].index)\n",
    "for tipo in replace_tipo:\n",
    "    prices_df.tipo = prices_df.tipo.replace(tipo, \"OTRO\")\n",
    "    \n",
    "prices_df.tipo.value_counts()"
   ]
  },
  {
   "cell_type": "code",
   "execution_count": 34,
   "id": "b0e6e7af",
   "metadata": {
    "scrolled": true
   },
   "outputs": [
    {
     "data": {
      "text/html": [
       "<div>\n",
       "<style scoped>\n",
       "    .dataframe tbody tr th:only-of-type {\n",
       "        vertical-align: middle;\n",
       "    }\n",
       "\n",
       "    .dataframe tbody tr th {\n",
       "        vertical-align: top;\n",
       "    }\n",
       "\n",
       "    .dataframe thead th {\n",
       "        text-align: right;\n",
       "    }\n",
       "</style>\n",
       "<table border=\"1\" class=\"dataframe\">\n",
       "  <thead>\n",
       "    <tr style=\"text-align: right;\">\n",
       "      <th></th>\n",
       "      <th>colonia</th>\n",
       "      <th>tipo</th>\n",
       "      <th>m2Terreno</th>\n",
       "      <th>m2Construccion</th>\n",
       "      <th>recamaras</th>\n",
       "      <th>Baños</th>\n",
       "      <th>pisos</th>\n",
       "      <th>precioVenta</th>\n",
       "    </tr>\n",
       "  </thead>\n",
       "  <tbody>\n",
       "    <tr>\n",
       "      <th>0</th>\n",
       "      <td>Del Valle Norte</td>\n",
       "      <td>TERRENO</td>\n",
       "      <td>421</td>\n",
       "      <td>NaN</td>\n",
       "      <td>NaN</td>\n",
       "      <td>0.0</td>\n",
       "      <td>NaN</td>\n",
       "      <td>17000000</td>\n",
       "    </tr>\n",
       "    <tr>\n",
       "      <th>1</th>\n",
       "      <td>Mixcoac</td>\n",
       "      <td>TERRENO</td>\n",
       "      <td>385.12</td>\n",
       "      <td>NaN</td>\n",
       "      <td>NaN</td>\n",
       "      <td>0.0</td>\n",
       "      <td>NaN</td>\n",
       "      <td>17000000</td>\n",
       "    </tr>\n",
       "    <tr>\n",
       "      <th>2</th>\n",
       "      <td>Portales Sur</td>\n",
       "      <td>CASA</td>\n",
       "      <td>207</td>\n",
       "      <td>230.0</td>\n",
       "      <td>4.0</td>\n",
       "      <td>2.0</td>\n",
       "      <td>1.0</td>\n",
       "      <td>6000000</td>\n",
       "    </tr>\n",
       "    <tr>\n",
       "      <th>3</th>\n",
       "      <td>Jardines de CoyoacÃ¡n</td>\n",
       "      <td>CASA</td>\n",
       "      <td>482</td>\n",
       "      <td>637.0</td>\n",
       "      <td>4.0</td>\n",
       "      <td>5.5</td>\n",
       "      <td>3.0</td>\n",
       "      <td>14200000</td>\n",
       "    </tr>\n",
       "    <tr>\n",
       "      <th>4</th>\n",
       "      <td>Paulino Navarro</td>\n",
       "      <td>OTRO</td>\n",
       "      <td>542</td>\n",
       "      <td>542.0</td>\n",
       "      <td>NaN</td>\n",
       "      <td>0.0</td>\n",
       "      <td>3.0</td>\n",
       "      <td>62330000</td>\n",
       "    </tr>\n",
       "  </tbody>\n",
       "</table>\n",
       "</div>"
      ],
      "text/plain": [
       "                 colonia     tipo m2Terreno  m2Construccion  recamaras  Baños  \\\n",
       "0        Del Valle Norte  TERRENO       421             NaN        NaN    0.0   \n",
       "1                Mixcoac  TERRENO    385.12             NaN        NaN    0.0   \n",
       "2           Portales Sur     CASA       207           230.0        4.0    2.0   \n",
       "3  Jardines de CoyoacÃ¡n     CASA       482           637.0        4.0    5.5   \n",
       "4        Paulino Navarro     OTRO       542           542.0        NaN    0.0   \n",
       "\n",
       "   pisos  precioVenta  \n",
       "0    NaN     17000000  \n",
       "1    NaN     17000000  \n",
       "2    1.0      6000000  \n",
       "3    3.0     14200000  \n",
       "4    3.0     62330000  "
      ]
     },
     "execution_count": 34,
     "metadata": {},
     "output_type": "execute_result"
    }
   ],
   "source": [
    "prices_df.head()"
   ]
  },
  {
   "cell_type": "code",
   "execution_count": 36,
   "id": "a7e3270c",
   "metadata": {},
   "outputs": [
    {
     "data": {
      "text/html": [
       "<div>\n",
       "<style scoped>\n",
       "    .dataframe tbody tr th:only-of-type {\n",
       "        vertical-align: middle;\n",
       "    }\n",
       "\n",
       "    .dataframe tbody tr th {\n",
       "        vertical-align: top;\n",
       "    }\n",
       "\n",
       "    .dataframe thead th {\n",
       "        text-align: right;\n",
       "    }\n",
       "</style>\n",
       "<table border=\"1\" class=\"dataframe\">\n",
       "  <thead>\n",
       "    <tr style=\"text-align: right;\">\n",
       "      <th></th>\n",
       "      <th>colonia</th>\n",
       "      <th>tipo</th>\n",
       "      <th>m2Terreno</th>\n",
       "      <th>m2Construccion</th>\n",
       "      <th>recamaras</th>\n",
       "      <th>Baños</th>\n",
       "      <th>pisos</th>\n",
       "      <th>precioVenta</th>\n",
       "    </tr>\n",
       "  </thead>\n",
       "  <tbody>\n",
       "    <tr>\n",
       "      <th>0</th>\n",
       "      <td>Del Valle Norte</td>\n",
       "      <td>TERRENO</td>\n",
       "      <td>421</td>\n",
       "      <td>NaN</td>\n",
       "      <td>0.0</td>\n",
       "      <td>0.0</td>\n",
       "      <td>1.0</td>\n",
       "      <td>17000000</td>\n",
       "    </tr>\n",
       "    <tr>\n",
       "      <th>1</th>\n",
       "      <td>Mixcoac</td>\n",
       "      <td>TERRENO</td>\n",
       "      <td>385.12</td>\n",
       "      <td>NaN</td>\n",
       "      <td>0.0</td>\n",
       "      <td>0.0</td>\n",
       "      <td>1.0</td>\n",
       "      <td>17000000</td>\n",
       "    </tr>\n",
       "    <tr>\n",
       "      <th>2</th>\n",
       "      <td>Portales Sur</td>\n",
       "      <td>CASA</td>\n",
       "      <td>207</td>\n",
       "      <td>230.0</td>\n",
       "      <td>4.0</td>\n",
       "      <td>2.0</td>\n",
       "      <td>1.0</td>\n",
       "      <td>6000000</td>\n",
       "    </tr>\n",
       "    <tr>\n",
       "      <th>3</th>\n",
       "      <td>Jardines de CoyoacÃ¡n</td>\n",
       "      <td>CASA</td>\n",
       "      <td>482</td>\n",
       "      <td>637.0</td>\n",
       "      <td>4.0</td>\n",
       "      <td>5.5</td>\n",
       "      <td>3.0</td>\n",
       "      <td>14200000</td>\n",
       "    </tr>\n",
       "    <tr>\n",
       "      <th>4</th>\n",
       "      <td>Paulino Navarro</td>\n",
       "      <td>OTRO</td>\n",
       "      <td>542</td>\n",
       "      <td>542.0</td>\n",
       "      <td>0.0</td>\n",
       "      <td>0.0</td>\n",
       "      <td>3.0</td>\n",
       "      <td>62330000</td>\n",
       "    </tr>\n",
       "  </tbody>\n",
       "</table>\n",
       "</div>"
      ],
      "text/plain": [
       "                 colonia     tipo m2Terreno  m2Construccion  recamaras  Baños  \\\n",
       "0        Del Valle Norte  TERRENO       421             NaN        0.0    0.0   \n",
       "1                Mixcoac  TERRENO    385.12             NaN        0.0    0.0   \n",
       "2           Portales Sur     CASA       207           230.0        4.0    2.0   \n",
       "3  Jardines de CoyoacÃ¡n     CASA       482           637.0        4.0    5.5   \n",
       "4        Paulino Navarro     OTRO       542           542.0        0.0    0.0   \n",
       "\n",
       "   pisos  precioVenta  \n",
       "0    1.0     17000000  \n",
       "1    1.0     17000000  \n",
       "2    1.0      6000000  \n",
       "3    3.0     14200000  \n",
       "4    3.0     62330000  "
      ]
     },
     "execution_count": 36,
     "metadata": {},
     "output_type": "execute_result"
    }
   ],
   "source": [
    "# Replace NaN with 0 recámaras\n",
    "prices_df[\"recamaras\"] = prices_df[\"recamaras\"].fillna(0)\n",
    "prices_df[\"pisos\"] = prices_df[\"pisos\"].fillna(1)\n",
    "prices_df.head()"
   ]
  },
  {
   "cell_type": "code",
   "execution_count": 37,
   "id": "b49d42d0",
   "metadata": {},
   "outputs": [
    {
     "name": "stdout",
     "output_type": "stream",
     "text": [
      "Column colonia has 1 null values\n",
      "Column tipo has 0 null values\n",
      "Column m2Terreno has 691 null values\n",
      "Column m2Construccion has 90 null values\n",
      "Column recamaras has 0 null values\n",
      "Column Baños has 0 null values\n",
      "Column pisos has 0 null values\n",
      "Column precioVenta has 0 null values\n"
     ]
    }
   ],
   "source": [
    "# Find null values\n",
    "for column in prices_df.columns:\n",
    "    print(f'Column {column} has {prices_df[column].isnull().sum()} null values')"
   ]
  },
  {
   "cell_type": "code",
   "execution_count": 38,
   "id": "cf1b3ca5",
   "metadata": {},
   "outputs": [
    {
     "data": {
      "text/html": [
       "<div>\n",
       "<style scoped>\n",
       "    .dataframe tbody tr th:only-of-type {\n",
       "        vertical-align: middle;\n",
       "    }\n",
       "\n",
       "    .dataframe tbody tr th {\n",
       "        vertical-align: top;\n",
       "    }\n",
       "\n",
       "    .dataframe thead th {\n",
       "        text-align: right;\n",
       "    }\n",
       "</style>\n",
       "<table border=\"1\" class=\"dataframe\">\n",
       "  <thead>\n",
       "    <tr style=\"text-align: right;\">\n",
       "      <th></th>\n",
       "      <th>colonia</th>\n",
       "      <th>tipo</th>\n",
       "      <th>m2Terreno</th>\n",
       "      <th>m2Construccion</th>\n",
       "      <th>recamaras</th>\n",
       "      <th>Baños</th>\n",
       "      <th>pisos</th>\n",
       "      <th>precioVenta</th>\n",
       "    </tr>\n",
       "  </thead>\n",
       "  <tbody>\n",
       "    <tr>\n",
       "      <th>0</th>\n",
       "      <td>Del Valle Norte</td>\n",
       "      <td>TERRENO</td>\n",
       "      <td>421</td>\n",
       "      <td>421</td>\n",
       "      <td>0.0</td>\n",
       "      <td>0.0</td>\n",
       "      <td>1.0</td>\n",
       "      <td>17000000</td>\n",
       "    </tr>\n",
       "    <tr>\n",
       "      <th>1</th>\n",
       "      <td>Mixcoac</td>\n",
       "      <td>TERRENO</td>\n",
       "      <td>385.12</td>\n",
       "      <td>385.12</td>\n",
       "      <td>0.0</td>\n",
       "      <td>0.0</td>\n",
       "      <td>1.0</td>\n",
       "      <td>17000000</td>\n",
       "    </tr>\n",
       "    <tr>\n",
       "      <th>2</th>\n",
       "      <td>Portales Sur</td>\n",
       "      <td>CASA</td>\n",
       "      <td>207</td>\n",
       "      <td>230.0</td>\n",
       "      <td>4.0</td>\n",
       "      <td>2.0</td>\n",
       "      <td>1.0</td>\n",
       "      <td>6000000</td>\n",
       "    </tr>\n",
       "    <tr>\n",
       "      <th>3</th>\n",
       "      <td>Jardines de CoyoacÃ¡n</td>\n",
       "      <td>CASA</td>\n",
       "      <td>482</td>\n",
       "      <td>637.0</td>\n",
       "      <td>4.0</td>\n",
       "      <td>5.5</td>\n",
       "      <td>3.0</td>\n",
       "      <td>14200000</td>\n",
       "    </tr>\n",
       "    <tr>\n",
       "      <th>4</th>\n",
       "      <td>Paulino Navarro</td>\n",
       "      <td>OTRO</td>\n",
       "      <td>542</td>\n",
       "      <td>542.0</td>\n",
       "      <td>0.0</td>\n",
       "      <td>0.0</td>\n",
       "      <td>3.0</td>\n",
       "      <td>62330000</td>\n",
       "    </tr>\n",
       "  </tbody>\n",
       "</table>\n",
       "</div>"
      ],
      "text/plain": [
       "                 colonia     tipo m2Terreno m2Construccion  recamaras  Baños  \\\n",
       "0        Del Valle Norte  TERRENO       421            421        0.0    0.0   \n",
       "1                Mixcoac  TERRENO    385.12         385.12        0.0    0.0   \n",
       "2           Portales Sur     CASA       207          230.0        4.0    2.0   \n",
       "3  Jardines de CoyoacÃ¡n     CASA       482          637.0        4.0    5.5   \n",
       "4        Paulino Navarro     OTRO       542          542.0        0.0    0.0   \n",
       "\n",
       "   pisos  precioVenta  \n",
       "0    1.0     17000000  \n",
       "1    1.0     17000000  \n",
       "2    1.0      6000000  \n",
       "3    3.0     14200000  \n",
       "4    3.0     62330000  "
      ]
     },
     "execution_count": 38,
     "metadata": {},
     "output_type": "execute_result"
    }
   ],
   "source": [
    "# replace Nan in m2construccion with m2terreno\n",
    "prices_df.m2Construccion.fillna(prices_df.m2Terreno, inplace=True)\n",
    "prices_df.m2Terreno.fillna(prices_df.m2Construccion, inplace=True)\n",
    "prices_df.head()"
   ]
  },
  {
   "cell_type": "code",
   "execution_count": 39,
   "id": "7ef36e8f",
   "metadata": {
    "scrolled": true
   },
   "outputs": [
    {
     "name": "stdout",
     "output_type": "stream",
     "text": [
      "Column colonia has 1 null values\n",
      "Column tipo has 0 null values\n",
      "Column m2Terreno has 4 null values\n",
      "Column m2Construccion has 4 null values\n",
      "Column recamaras has 0 null values\n",
      "Column Baños has 0 null values\n",
      "Column pisos has 0 null values\n",
      "Column precioVenta has 0 null values\n"
     ]
    }
   ],
   "source": [
    "# Find null values\n",
    "for column in prices_df.columns:\n",
    "    print(f'Column {column} has {prices_df[column].isnull().sum()} null values')"
   ]
  },
  {
   "cell_type": "code",
   "execution_count": 40,
   "id": "cc05eb15",
   "metadata": {},
   "outputs": [],
   "source": [
    "prices_df.m2Terreno = pd.to_numeric(prices_df.m2Terreno, 'coerce')\n",
    "prices_df.m2Construccion = pd.to_numeric(prices_df.m2Construccion, 'coerce')"
   ]
  },
  {
   "cell_type": "code",
   "execution_count": 42,
   "id": "7707850a",
   "metadata": {},
   "outputs": [
    {
     "name": "stdout",
     "output_type": "stream",
     "text": [
      "Column colonia has 0 null values\n",
      "Column tipo has 0 null values\n",
      "Column m2Terreno has 0 null values\n",
      "Column m2Construccion has 0 null values\n",
      "Column recamaras has 0 null values\n",
      "Column Baños has 0 null values\n",
      "Column pisos has 0 null values\n",
      "Column precioVenta has 0 null values\n"
     ]
    }
   ],
   "source": [
    "# Find null values\n",
    "for column in prices_df.columns:\n",
    "    print(f'Column {column} has {prices_df[column].isnull().sum()} null values')"
   ]
  },
  {
   "cell_type": "code",
   "execution_count": 41,
   "id": "4120ea9d",
   "metadata": {},
   "outputs": [],
   "source": [
    "# Drop null rows\n",
    "prices_df = prices_df.dropna()"
   ]
  },
  {
   "cell_type": "code",
   "execution_count": 19,
   "id": "56ab7e45",
   "metadata": {
    "scrolled": true
   },
   "outputs": [
    {
     "name": "stdout",
     "output_type": "stream",
     "text": [
      "Column colonia has 0 null values\n",
      "Column tipo has 0 null values\n",
      "Column m2Terreno has 0 null values\n",
      "Column m2Construccion has 0 null values\n",
      "Column recamaras has 0 null values\n",
      "Column Baños has 0 null values\n",
      "Column pisos has 0 null values\n",
      "Column precioVenta has 0 null values\n"
     ]
    }
   ],
   "source": [
    "# Find null values\n",
    "for column in prices_df.columns:\n",
    "    print(f'Column {column} has {prices_df[column].isnull().sum()} null values')"
   ]
  },
  {
   "cell_type": "code",
   "execution_count": 43,
   "id": "0feaea55",
   "metadata": {},
   "outputs": [
    {
     "data": {
      "text/html": [
       "<div>\n",
       "<style scoped>\n",
       "    .dataframe tbody tr th:only-of-type {\n",
       "        vertical-align: middle;\n",
       "    }\n",
       "\n",
       "    .dataframe tbody tr th {\n",
       "        vertical-align: top;\n",
       "    }\n",
       "\n",
       "    .dataframe thead th {\n",
       "        text-align: right;\n",
       "    }\n",
       "</style>\n",
       "<table border=\"1\" class=\"dataframe\">\n",
       "  <thead>\n",
       "    <tr style=\"text-align: right;\">\n",
       "      <th></th>\n",
       "      <th>colonia</th>\n",
       "      <th>tipo</th>\n",
       "      <th>m2Terreno</th>\n",
       "      <th>m2Construccion</th>\n",
       "      <th>recamaras</th>\n",
       "      <th>Baños</th>\n",
       "      <th>pisos</th>\n",
       "      <th>precioVenta</th>\n",
       "    </tr>\n",
       "  </thead>\n",
       "  <tbody>\n",
       "    <tr>\n",
       "      <th>0</th>\n",
       "      <td>79</td>\n",
       "      <td>3</td>\n",
       "      <td>421.00</td>\n",
       "      <td>421.00</td>\n",
       "      <td>0.0</td>\n",
       "      <td>0.0</td>\n",
       "      <td>1.0</td>\n",
       "      <td>17000000</td>\n",
       "    </tr>\n",
       "    <tr>\n",
       "      <th>1</th>\n",
       "      <td>207</td>\n",
       "      <td>3</td>\n",
       "      <td>385.12</td>\n",
       "      <td>385.12</td>\n",
       "      <td>0.0</td>\n",
       "      <td>0.0</td>\n",
       "      <td>1.0</td>\n",
       "      <td>17000000</td>\n",
       "    </tr>\n",
       "    <tr>\n",
       "      <th>2</th>\n",
       "      <td>266</td>\n",
       "      <td>0</td>\n",
       "      <td>207.00</td>\n",
       "      <td>230.00</td>\n",
       "      <td>4.0</td>\n",
       "      <td>2.0</td>\n",
       "      <td>1.0</td>\n",
       "      <td>6000000</td>\n",
       "    </tr>\n",
       "    <tr>\n",
       "      <th>3</th>\n",
       "      <td>151</td>\n",
       "      <td>0</td>\n",
       "      <td>482.00</td>\n",
       "      <td>637.00</td>\n",
       "      <td>4.0</td>\n",
       "      <td>5.5</td>\n",
       "      <td>3.0</td>\n",
       "      <td>14200000</td>\n",
       "    </tr>\n",
       "    <tr>\n",
       "      <th>4</th>\n",
       "      <td>264</td>\n",
       "      <td>2</td>\n",
       "      <td>542.00</td>\n",
       "      <td>542.00</td>\n",
       "      <td>0.0</td>\n",
       "      <td>0.0</td>\n",
       "      <td>3.0</td>\n",
       "      <td>62330000</td>\n",
       "    </tr>\n",
       "  </tbody>\n",
       "</table>\n",
       "</div>"
      ],
      "text/plain": [
       "   colonia  tipo  m2Terreno  m2Construccion  recamaras  Baños  pisos  \\\n",
       "0       79     3     421.00          421.00        0.0    0.0    1.0   \n",
       "1      207     3     385.12          385.12        0.0    0.0    1.0   \n",
       "2      266     0     207.00          230.00        4.0    2.0    1.0   \n",
       "3      151     0     482.00          637.00        4.0    5.5    3.0   \n",
       "4      264     2     542.00          542.00        0.0    0.0    3.0   \n",
       "\n",
       "   precioVenta  \n",
       "0     17000000  \n",
       "1     17000000  \n",
       "2      6000000  \n",
       "3     14200000  \n",
       "4     62330000  "
      ]
     },
     "execution_count": 43,
     "metadata": {},
     "output_type": "execute_result"
    }
   ],
   "source": [
    "from sklearn.preprocessing import LabelEncoder\n",
    "# Use labelencoder to convert tipo into integers\n",
    "prices_df['tipo'] = LabelEncoder().fit_transform(prices_df['tipo'])\n",
    "prices_df['colonia'] = LabelEncoder().fit_transform(prices_df['colonia'])\n",
    "\n",
    "prices_df.head()"
   ]
  },
  {
   "cell_type": "code",
   "execution_count": 46,
   "id": "92687d36",
   "metadata": {},
   "outputs": [],
   "source": [
    "# Define target\n",
    "y = prices_df['precioVenta']\n",
    "# Define features set\n",
    "X = prices_df.drop(columns='precioVenta')"
   ]
  },
  {
   "cell_type": "code",
   "execution_count": 63,
   "id": "93ed2d7e",
   "metadata": {},
   "outputs": [],
   "source": [
    "# Split into train and test sets\n",
    "X_train, X_test, y_train, y_test = train_test_split(X, y, test_size=0.2, random_state=1)"
   ]
  },
  {
   "cell_type": "code",
   "execution_count": 64,
   "id": "fa857008",
   "metadata": {},
   "outputs": [
    {
     "name": "stdout",
     "output_type": "stream",
     "text": [
      "(1088, 7)\n",
      "(273, 7)\n",
      "(1088,)\n",
      "(273,)\n"
     ]
    }
   ],
   "source": [
    "print(X_train.shape)\n",
    "print(X_test.shape)\n",
    "print(y_train.shape)\n",
    "print(y_test.shape)"
   ]
  },
  {
   "cell_type": "code",
   "execution_count": 65,
   "id": "651eab98",
   "metadata": {},
   "outputs": [],
   "source": [
    "# Create StandardScaler instance\n",
    "scaler = StandardScaler()\n",
    "# Fit Standard Scaler\n",
    "X_scaler = scaler.fit(X_train)\n",
    "\n",
    "# Scale the data\n",
    "X_train_scaled = X_scaler.transform(X_train)\n",
    "X_test_scaled = X_scaler.transform(X_test)"
   ]
  },
  {
   "cell_type": "code",
   "execution_count": 66,
   "id": "289baa13",
   "metadata": {},
   "outputs": [],
   "source": [
    "# Creating the decision tree classifier instance\n",
    "model = RandomForestClassifier(n_estimators=500, random_state=1)\n",
    "\n",
    "# Fitting the model\n",
    "model = model.fit(X_train_scaled, y_train)"
   ]
  },
  {
   "cell_type": "code",
   "execution_count": 67,
   "id": "56a0061f",
   "metadata": {},
   "outputs": [],
   "source": [
    "# Making predictions\n",
    "predictions = model.predict(X_test_scaled)"
   ]
  },
  {
   "cell_type": "code",
   "execution_count": 68,
   "id": "f7287fc3",
   "metadata": {},
   "outputs": [
    {
     "data": {
      "text/plain": [
       "0.03296703296703297"
      ]
     },
     "execution_count": 68,
     "metadata": {},
     "output_type": "execute_result"
    }
   ],
   "source": [
    "# Calculating the accuracy score\n",
    "acc_score = accuracy_score(y_test, predictions)\n",
    "acc_score"
   ]
  },
  {
   "cell_type": "code",
   "execution_count": null,
   "id": "3ac63bcc",
   "metadata": {},
   "outputs": [],
   "source": [
    "print(f\"Accuracy Score : {acc_score}\")\n",
    "print(\"Classification Report\")\n",
    "print(classification_report(y_test, predictions))"
   ]
  },
  {
   "cell_type": "code",
   "execution_count": null,
   "id": "502fe3e9",
   "metadata": {},
   "outputs": [],
   "source": []
  }
 ],
 "metadata": {
  "kernelspec": {
   "display_name": "mlenv",
   "language": "python",
   "name": "mlenv"
  },
  "language_info": {
   "codemirror_mode": {
    "name": "ipython",
    "version": 3
   },
   "file_extension": ".py",
   "mimetype": "text/x-python",
   "name": "python",
   "nbconvert_exporter": "python",
   "pygments_lexer": "ipython3",
   "version": "3.7.11"
  }
 },
 "nbformat": 4,
 "nbformat_minor": 5
}
