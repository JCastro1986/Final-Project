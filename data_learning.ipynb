{
 "cells": [
  {
   "cell_type": "code",
   "execution_count": 13,
   "id": "0218d151",
   "metadata": {},
   "outputs": [],
   "source": [
    "# Import dependencies\n",
    "import pandas as pd\n",
    "import numpy as np\n",
    "import sklearn\n",
    "import os\n",
    "import seaborn as sns\n",
    "from path import Path"
   ]
  },
  {
   "cell_type": "code",
   "execution_count": 14,
   "id": "7f6330e5",
   "metadata": {
    "scrolled": true
   },
   "outputs": [
    {
     "data": {
      "text/html": [
       "<div>\n",
       "<style scoped>\n",
       "    .dataframe tbody tr th:only-of-type {\n",
       "        vertical-align: middle;\n",
       "    }\n",
       "\n",
       "    .dataframe tbody tr th {\n",
       "        vertical-align: top;\n",
       "    }\n",
       "\n",
       "    .dataframe thead th {\n",
       "        text-align: right;\n",
       "    }\n",
       "</style>\n",
       "<table border=\"1\" class=\"dataframe\">\n",
       "  <thead>\n",
       "    <tr style=\"text-align: right;\">\n",
       "      <th></th>\n",
       "      <th>ID</th>\n",
       "      <th>entidad</th>\n",
       "      <th>tipo</th>\n",
       "      <th>link</th>\n",
       "      <th>precio</th>\n",
       "      <th>municipio_x</th>\n",
       "      <th>colonia</th>\n",
       "      <th>m2Terreno</th>\n",
       "      <th>m2Construccion</th>\n",
       "      <th>estacionamientos</th>\n",
       "      <th>...</th>\n",
       "      <th>antiguedad</th>\n",
       "      <th>id</th>\n",
       "      <th>nombre</th>\n",
       "      <th>municipio_y</th>\n",
       "      <th>asentamiento</th>\n",
       "      <th>codigo_postal</th>\n",
       "      <th>latitud</th>\n",
       "      <th>longitud</th>\n",
       "      <th>nombreMun</th>\n",
       "      <th>estado</th>\n",
       "    </tr>\n",
       "  </thead>\n",
       "  <tbody>\n",
       "    <tr>\n",
       "      <th>0</th>\n",
       "      <td>1425548080</td>\n",
       "      <td>Aguascalientes</td>\n",
       "      <td>casas</td>\n",
       "      <td>https://casa.metroscubicos.com/MLM-1425548080-...</td>\n",
       "      <td>6500000.0</td>\n",
       "      <td>Aguascalientes</td>\n",
       "      <td>Los Pocitos</td>\n",
       "      <td>320.0</td>\n",
       "      <td>200.0</td>\n",
       "      <td>2.0</td>\n",
       "      <td>...</td>\n",
       "      <td>2.0</td>\n",
       "      <td>1001563.0</td>\n",
       "      <td>Los Pocitos</td>\n",
       "      <td>1001.0</td>\n",
       "      <td>Ejido</td>\n",
       "      <td>20328.0</td>\n",
       "      <td>21.923098</td>\n",
       "      <td>-102.343269</td>\n",
       "      <td>Aguascalientes</td>\n",
       "      <td>Aguascalientes</td>\n",
       "    </tr>\n",
       "    <tr>\n",
       "      <th>1</th>\n",
       "      <td>1397663987</td>\n",
       "      <td>Aguascalientes</td>\n",
       "      <td>casas</td>\n",
       "      <td>https://casa.metroscubicos.com/MLM-1397663987-...</td>\n",
       "      <td>1990000.0</td>\n",
       "      <td>Aguascalientes</td>\n",
       "      <td>Puesta del Sol</td>\n",
       "      <td>119.0</td>\n",
       "      <td>112.0</td>\n",
       "      <td>2.0</td>\n",
       "      <td>...</td>\n",
       "      <td>0.0</td>\n",
       "      <td>1001553.0</td>\n",
       "      <td>Puesta del Sol</td>\n",
       "      <td>1001.0</td>\n",
       "      <td>Fraccionamiento</td>\n",
       "      <td>20326.0</td>\n",
       "      <td>21.877844</td>\n",
       "      <td>-102.332252</td>\n",
       "      <td>Aguascalientes</td>\n",
       "      <td>Aguascalientes</td>\n",
       "    </tr>\n",
       "    <tr>\n",
       "      <th>2</th>\n",
       "      <td>1398422703</td>\n",
       "      <td>Aguascalientes</td>\n",
       "      <td>casas</td>\n",
       "      <td>https://casa.metroscubicos.com/MLM-1398422703-...</td>\n",
       "      <td>2750000.0</td>\n",
       "      <td>Aguascalientes</td>\n",
       "      <td>La Cantera</td>\n",
       "      <td>178.0</td>\n",
       "      <td>163.0</td>\n",
       "      <td>2.0</td>\n",
       "      <td>...</td>\n",
       "      <td>0.0</td>\n",
       "      <td>NaN</td>\n",
       "      <td>NaN</td>\n",
       "      <td>NaN</td>\n",
       "      <td>NaN</td>\n",
       "      <td>NaN</td>\n",
       "      <td>NaN</td>\n",
       "      <td>NaN</td>\n",
       "      <td>NaN</td>\n",
       "      <td>NaN</td>\n",
       "    </tr>\n",
       "    <tr>\n",
       "      <th>3</th>\n",
       "      <td>1413775652</td>\n",
       "      <td>Aguascalientes</td>\n",
       "      <td>casas</td>\n",
       "      <td>https://casa.metroscubicos.com/MLM-1413775652-...</td>\n",
       "      <td>3000000.0</td>\n",
       "      <td>Aguascalientes</td>\n",
       "      <td>Ejido El Refugio de Peñuelas</td>\n",
       "      <td>640.0</td>\n",
       "      <td>150.0</td>\n",
       "      <td>3.0</td>\n",
       "      <td>...</td>\n",
       "      <td>NaN</td>\n",
       "      <td>NaN</td>\n",
       "      <td>NaN</td>\n",
       "      <td>NaN</td>\n",
       "      <td>NaN</td>\n",
       "      <td>NaN</td>\n",
       "      <td>NaN</td>\n",
       "      <td>NaN</td>\n",
       "      <td>NaN</td>\n",
       "      <td>NaN</td>\n",
       "    </tr>\n",
       "    <tr>\n",
       "      <th>4</th>\n",
       "      <td>1411133552</td>\n",
       "      <td>Aguascalientes</td>\n",
       "      <td>casas</td>\n",
       "      <td>https://casa.metroscubicos.com/MLM-1411133552-...</td>\n",
       "      <td>1280000.0</td>\n",
       "      <td>Aguascalientes</td>\n",
       "      <td>Real De Haciendas</td>\n",
       "      <td>75.0</td>\n",
       "      <td>135.0</td>\n",
       "      <td>1.0</td>\n",
       "      <td>...</td>\n",
       "      <td>6.0</td>\n",
       "      <td>NaN</td>\n",
       "      <td>NaN</td>\n",
       "      <td>NaN</td>\n",
       "      <td>NaN</td>\n",
       "      <td>NaN</td>\n",
       "      <td>NaN</td>\n",
       "      <td>NaN</td>\n",
       "      <td>NaN</td>\n",
       "      <td>NaN</td>\n",
       "    </tr>\n",
       "  </tbody>\n",
       "</table>\n",
       "<p>5 rows × 24 columns</p>\n",
       "</div>"
      ],
      "text/plain": [
       "           ID          entidad   tipo  \\\n",
       "0  1425548080   Aguascalientes  casas   \n",
       "1  1397663987   Aguascalientes  casas   \n",
       "2  1398422703   Aguascalientes  casas   \n",
       "3  1413775652   Aguascalientes  casas   \n",
       "4  1411133552   Aguascalientes  casas   \n",
       "\n",
       "                                                link     precio  \\\n",
       "0  https://casa.metroscubicos.com/MLM-1425548080-...  6500000.0   \n",
       "1  https://casa.metroscubicos.com/MLM-1397663987-...  1990000.0   \n",
       "2  https://casa.metroscubicos.com/MLM-1398422703-...  2750000.0   \n",
       "3  https://casa.metroscubicos.com/MLM-1413775652-...  3000000.0   \n",
       "4  https://casa.metroscubicos.com/MLM-1411133552-...  1280000.0   \n",
       "\n",
       "      municipio_x                       colonia  m2Terreno  m2Construccion  \\\n",
       "0  Aguascalientes                   Los Pocitos      320.0           200.0   \n",
       "1  Aguascalientes                Puesta del Sol      119.0           112.0   \n",
       "2  Aguascalientes                    La Cantera      178.0           163.0   \n",
       "3  Aguascalientes  Ejido El Refugio de Peñuelas      640.0           150.0   \n",
       "4  Aguascalientes             Real De Haciendas       75.0           135.0   \n",
       "\n",
       "   estacionamientos  ...  antiguedad         id          nombre  municipio_y  \\\n",
       "0               2.0  ...         2.0  1001563.0     Los Pocitos       1001.0   \n",
       "1               2.0  ...         0.0  1001553.0  Puesta del Sol       1001.0   \n",
       "2               2.0  ...         0.0        NaN             NaN          NaN   \n",
       "3               3.0  ...         NaN        NaN             NaN          NaN   \n",
       "4               1.0  ...         6.0        NaN             NaN          NaN   \n",
       "\n",
       "      asentamiento  codigo_postal    latitud    longitud        nombreMun  \\\n",
       "0            Ejido        20328.0  21.923098 -102.343269   Aguascalientes   \n",
       "1  Fraccionamiento        20326.0  21.877844 -102.332252   Aguascalientes   \n",
       "2              NaN            NaN        NaN         NaN              NaN   \n",
       "3              NaN            NaN        NaN         NaN              NaN   \n",
       "4              NaN            NaN        NaN         NaN              NaN   \n",
       "\n",
       "            estado  \n",
       "0   Aguascalientes  \n",
       "1   Aguascalientes  \n",
       "2              NaN  \n",
       "3              NaN  \n",
       "4              NaN  \n",
       "\n",
       "[5 rows x 24 columns]"
      ]
     },
     "execution_count": 14,
     "metadata": {},
     "output_type": "execute_result"
    }
   ],
   "source": [
    "# Load data CSV\n",
    "file_path = Path('Resources/merged.csv')\n",
    "data_df = pd.read_csv(file_path, encoding=\"utf-8-sig\")\n",
    "data_df.head()"
   ]
  },
  {
   "cell_type": "code",
   "execution_count": 15,
   "id": "0a132a5e",
   "metadata": {},
   "outputs": [],
   "source": [
    "data_df = data_df.drop(['ID', 'link', 'colonia', 'mantenimiento', 'symbol', 'id', 'nombre', 'municipio_y', 'asentamiento', 'codigo_postal', 'nombre', 'nombreMun', 'estado'], axis=1)"
   ]
  },
  {
   "cell_type": "code",
   "execution_count": 16,
   "id": "622fb895",
   "metadata": {},
   "outputs": [],
   "source": [
    "casas_df = data_df.loc[(data_df['tipo'] == 'casas')]"
   ]
  },
  {
   "cell_type": "code",
   "execution_count": 17,
   "id": "4ca9b0db",
   "metadata": {
    "scrolled": true
   },
   "outputs": [
    {
     "name": "stdout",
     "output_type": "stream",
     "text": [
      "<class 'pandas.core.frame.DataFrame'>\n",
      "Int64Index: 120278 entries, 0 to 124175\n",
      "Data columns (total 11 columns):\n",
      " #   Column            Non-Null Count   Dtype  \n",
      "---  ------            --------------   -----  \n",
      " 0   entidad           120278 non-null  object \n",
      " 1   precio            120278 non-null  float64\n",
      " 2   municipio_x       120278 non-null  object \n",
      " 3   m2Terreno         112912 non-null  float64\n",
      " 4   m2Construccion    75241 non-null   float64\n",
      " 5   estacionamientos  52779 non-null   float64\n",
      " 6   Recamaras         77437 non-null   float64\n",
      " 7   Banos             78264 non-null   float64\n",
      " 8   antiguedad        60111 non-null   float64\n",
      " 9   latitud           42502 non-null   float64\n",
      " 10  longitud          42502 non-null   float64\n",
      "dtypes: float64(9), object(2)\n",
      "memory usage: 11.0+ MB\n"
     ]
    }
   ],
   "source": [
    "casas_df = casas_df.drop(['tipo'], axis=1)\n",
    "casas_df.info()"
   ]
  },
  {
   "cell_type": "code",
   "execution_count": 18,
   "id": "7a7ac263",
   "metadata": {},
   "outputs": [
    {
     "name": "stdout",
     "output_type": "stream",
     "text": [
      "<class 'pandas.core.frame.DataFrame'>\n",
      "Int64Index: 120278 entries, 0 to 124175\n",
      "Data columns (total 10 columns):\n",
      " #   Column            Non-Null Count   Dtype  \n",
      "---  ------            --------------   -----  \n",
      " 0   entidad           120278 non-null  object \n",
      " 1   precio            120278 non-null  float64\n",
      " 2   m2Terreno         112912 non-null  float64\n",
      " 3   m2Construccion    75241 non-null   float64\n",
      " 4   estacionamientos  52779 non-null   float64\n",
      " 5   Recamaras         77437 non-null   float64\n",
      " 6   Banos             78264 non-null   float64\n",
      " 7   antiguedad        60111 non-null   float64\n",
      " 8   latitud           42502 non-null   float64\n",
      " 9   longitud          42502 non-null   float64\n",
      "dtypes: float64(9), object(1)\n",
      "memory usage: 10.1+ MB\n"
     ]
    }
   ],
   "source": [
    "casas_df = casas_df.drop(['municipio_x'], axis=1)\n",
    "casas_df.info()"
   ]
  },
  {
   "cell_type": "code",
   "execution_count": 21,
   "id": "aa29ecbe",
   "metadata": {},
   "outputs": [
    {
     "data": {
      "text/plain": [
       " 2.0      25996\n",
       " 1.0      14396\n",
       " 3.0       5489\n",
       " 4.0       3663\n",
       " 6.0       1081\n",
       " 5.0        862\n",
       " 8.0        356\n",
       " 10.0       337\n",
       " 7.0        192\n",
       " 12.0        82\n",
       " 15.0        81\n",
       " 9.0         60\n",
       " 20.0        37\n",
       " 13.0        17\n",
       " 50.0        15\n",
       " 11.0        12\n",
       " 30.0        12\n",
       " 16.0        11\n",
       " 18.0        10\n",
       " 14.0         9\n",
       " 734.0        7\n",
       " 40.0         7\n",
       " 95.0         4\n",
       " 17.0         3\n",
       " 33.0         3\n",
       " 100.0        3\n",
       " 22.0         2\n",
       " 25.0         2\n",
       " 0.0          2\n",
       " 60.0         2\n",
       " 72.0         2\n",
       " 35.0         2\n",
       " 126.0        1\n",
       " 24.0         1\n",
       " 150.0        1\n",
       " 48.0         1\n",
       " 64.0         1\n",
       " 32.0         1\n",
       " 140.0        1\n",
       " 250.0        1\n",
       " 27.0         1\n",
       " 70.0         1\n",
       " 45.0         1\n",
       " 55.0         1\n",
       " 110.0        1\n",
       " 146.0        1\n",
       "-5.0          1\n",
       " 28.0         1\n",
       "-2.0          1\n",
       " 410.0        1\n",
       " 80.0         1\n",
       " 19.0         1\n",
       " 43.0         1\n",
       " 200.0        1\n",
       "Name: estacionamientos, dtype: int64"
      ]
     },
     "execution_count": 21,
     "metadata": {},
     "output_type": "execute_result"
    }
   ],
   "source": [
    "casas_df.estacionamientos.value_counts()"
   ]
  },
  {
   "cell_type": "code",
   "execution_count": null,
   "id": "72315845",
   "metadata": {},
   "outputs": [],
   "source": []
  },
  {
   "cell_type": "code",
   "execution_count": null,
   "id": "289d67f0",
   "metadata": {},
   "outputs": [],
   "source": []
  },
  {
   "cell_type": "code",
   "execution_count": 10,
   "id": "0d58ff6e",
   "metadata": {},
   "outputs": [],
   "source": [
    "casas_df = casas_df.replace({1994.0:28, 2010:12, 1982.0:40, 1981.0:41, 1962.0:60, 1971.0:51, 2020.0:2, 2021.0:1, 1985.0:37, 1996.0:26, 2014.0:8,\n",
    "                            2009.0:13, 2012:10, 2000.0:22, 1992.0:30, 1987.0:35, 2022.0:0, 2001.0:21, 1997.0:25, 2013.0:9, 2019.0:3, 2007.0:15,\n",
    "                            2005.0:17, 2017.0:5, 1990.0:32, 2004.0:18, 2002.0:20, 1972.0:50, 2018.0:4, 2016.0:6, 2015.0:7, 2006.0:16, 2008.0:14,\n",
    "                            1984.0:38, 2011.0:11, 2023.0:0})"
   ]
  },
  {
   "cell_type": "code",
   "execution_count": 12,
   "id": "dbad22d6",
   "metadata": {},
   "outputs": [
    {
     "data": {
      "text/plain": [
       "entidad          32\n",
       "municipio_x    1011\n",
       "dtype: int64"
      ]
     },
     "execution_count": 12,
     "metadata": {},
     "output_type": "execute_result"
    }
   ],
   "source": [
    "# Generate categorical list\n",
    "casas_cat = casas_df.dtypes[casas_df.dtypes == 'object'].index.tolist()\n",
    "\n",
    "# Check the number of unique values in each column\n",
    "casas_df[casas_cat].nunique()"
   ]
  },
  {
   "cell_type": "code",
   "execution_count": 11,
   "id": "f0ac23e5",
   "metadata": {},
   "outputs": [
    {
     "data": {
      "text/plain": [
       "0.0      36104\n",
       "1.0       3308\n",
       "12.0      1880\n",
       "2.0       1820\n",
       "10.0      1778\n",
       "         ...  \n",
       "202.0        1\n",
       "483.0        1\n",
       "90.0         1\n",
       "92.0         1\n",
       "250.0        1\n",
       "Name: antiguedad, Length: 102, dtype: int64"
      ]
     },
     "execution_count": 11,
     "metadata": {},
     "output_type": "execute_result"
    }
   ],
   "source": [
    "casas_df.antiguedad.value_counts()"
   ]
  },
  {
   "cell_type": "code",
   "execution_count": null,
   "id": "f803c388",
   "metadata": {},
   "outputs": [],
   "source": []
  },
  {
   "cell_type": "code",
   "execution_count": null,
   "id": "63ebab69",
   "metadata": {},
   "outputs": [],
   "source": []
  },
  {
   "cell_type": "code",
   "execution_count": null,
   "id": "5471ffd6",
   "metadata": {},
   "outputs": [],
   "source": []
  },
  {
   "cell_type": "code",
   "execution_count": null,
   "id": "b139429f",
   "metadata": {},
   "outputs": [],
   "source": []
  },
  {
   "cell_type": "code",
   "execution_count": 6,
   "id": "4cc7bcde",
   "metadata": {},
   "outputs": [
    {
     "name": "stdout",
     "output_type": "stream",
     "text": [
      "<class 'pandas.core.frame.DataFrame'>\n",
      "Int64Index: 120179 entries, 0 to 124175\n",
      "Data columns (total 11 columns):\n",
      " #   Column            Non-Null Count   Dtype  \n",
      "---  ------            --------------   -----  \n",
      " 0   entidad           120179 non-null  object \n",
      " 1   precio            120179 non-null  float64\n",
      " 2   municipio_x       120179 non-null  object \n",
      " 3   m2Terreno         112818 non-null  float64\n",
      " 4   m2Construccion    75146 non-null   float64\n",
      " 5   estacionamientos  52714 non-null   float64\n",
      " 6   Recamaras         77346 non-null   float64\n",
      " 7   Banos             78177 non-null   float64\n",
      " 8   antiguedad        60028 non-null   float64\n",
      " 9   latitud           42465 non-null   float64\n",
      " 10  longitud          42465 non-null   float64\n",
      "dtypes: float64(9), object(2)\n",
      "memory usage: 11.0+ MB\n"
     ]
    }
   ],
   "source": [
    "casas_df.drop(casas_df[casas_df['estacionamientos'] >= 70].index, inplace=True)\n",
    "casas_df.drop(casas_df[casas_df['estacionamientos'] < 0].index, inplace=True)\n",
    "casas_df.drop(casas_df[casas_df['Recamaras'] >= 30].index, inplace=True)\n",
    "casas_df.drop(casas_df[casas_df['Banos'] >= 20].index, inplace=True)\n",
    "casas_df.info()"
   ]
  },
  {
   "cell_type": "code",
   "execution_count": 7,
   "id": "daa2d16d",
   "metadata": {},
   "outputs": [],
   "source": [
    "casas_df = casas_df.replace({1994.0:28, 2010:12, 1982.0:40, 1981.0:41, 1962.0:60, 1971.0:51, 2020.0:2, 2021.0:1, 1985.0:37, 1996.0:26, 2014.0:8,\n",
    "                            2009.0:13, 2012:10, 2000.0:22, 1992.0:30, 1987.0:35, 2022.0:0, 2001.0:21, 1997.0:25, 2013.0:9, 2019.0:3, 2007.0:15,\n",
    "                            2005.0:17, 2017.0:5, 1990.0:32, 2004.0:18, 2002.0:20, 1972.0:50, 2018.0:4, 2016.0:6, 2015.0:7, 2006.0:16, 2008.0:14,\n",
    "                            1984.0:38, 2011.0:11, 2023.0:0})"
   ]
  },
  {
   "cell_type": "code",
   "execution_count": 8,
   "id": "5ec70e3d",
   "metadata": {},
   "outputs": [],
   "source": [
    "casas_df['Banos'] = casas_df['Banos'].fillna(0)\n",
    "casas_df['estacionamientos'] = casas_df['estacionamientos'].fillna(0)\n",
    "casas_df['Recamaras'] = casas_df['Recamaras'].fillna(0)"
   ]
  },
  {
   "cell_type": "code",
   "execution_count": 9,
   "id": "2e323ac6",
   "metadata": {},
   "outputs": [
    {
     "name": "stdout",
     "output_type": "stream",
     "text": [
      "<class 'pandas.core.frame.DataFrame'>\n",
      "Int64Index: 17675 entries, 0 to 124031\n",
      "Data columns (total 11 columns):\n",
      " #   Column            Non-Null Count  Dtype  \n",
      "---  ------            --------------  -----  \n",
      " 0   entidad           17675 non-null  object \n",
      " 1   precio            17675 non-null  float64\n",
      " 2   municipio_x       17675 non-null  object \n",
      " 3   m2Terreno         17675 non-null  float64\n",
      " 4   m2Construccion    17675 non-null  float64\n",
      " 5   estacionamientos  17675 non-null  float64\n",
      " 6   Recamaras         17675 non-null  float64\n",
      " 7   Banos             17675 non-null  float64\n",
      " 8   antiguedad        17675 non-null  float64\n",
      " 9   latitud           17675 non-null  float64\n",
      " 10  longitud          17675 non-null  float64\n",
      "dtypes: float64(9), object(2)\n",
      "memory usage: 1.6+ MB\n"
     ]
    }
   ],
   "source": [
    "casas_df = casas_df.dropna()\n",
    "casas_df.info()"
   ]
  },
  {
   "cell_type": "code",
   "execution_count": 10,
   "id": "771c21e4",
   "metadata": {},
   "outputs": [
    {
     "name": "stdout",
     "output_type": "stream",
     "text": [
      "<class 'pandas.core.frame.DataFrame'>\n",
      "Int64Index: 17675 entries, 0 to 124031\n",
      "Data columns (total 10 columns):\n",
      " #   Column            Non-Null Count  Dtype  \n",
      "---  ------            --------------  -----  \n",
      " 0   entidad           17675 non-null  object \n",
      " 1   precio            17675 non-null  float64\n",
      " 2   m2Terreno         17675 non-null  float64\n",
      " 3   m2Construccion    17675 non-null  float64\n",
      " 4   estacionamientos  17675 non-null  float64\n",
      " 5   Recamaras         17675 non-null  float64\n",
      " 6   Banos             17675 non-null  float64\n",
      " 7   antiguedad        17675 non-null  float64\n",
      " 8   latitud           17675 non-null  float64\n",
      " 9   longitud          17675 non-null  float64\n",
      "dtypes: float64(9), object(1)\n",
      "memory usage: 1.5+ MB\n"
     ]
    }
   ],
   "source": [
    "casas_df = casas_df.drop(['municipio_x'], axis=1)\n",
    "casas_df.info()"
   ]
  },
  {
   "cell_type": "code",
   "execution_count": 11,
   "id": "e738412d",
   "metadata": {},
   "outputs": [],
   "source": [
    "from sklearn.preprocessing import LabelEncoder\n",
    "# Use labelencoder to convert tipo into integers\n",
    "casas_df['entidad'] = LabelEncoder().fit_transform(casas_df['entidad'])"
   ]
  },
  {
   "cell_type": "code",
   "execution_count": 12,
   "id": "696049e4",
   "metadata": {},
   "outputs": [
    {
     "name": "stdout",
     "output_type": "stream",
     "text": [
      "<class 'pandas.core.frame.DataFrame'>\n",
      "Int64Index: 17675 entries, 0 to 124031\n",
      "Data columns (total 8 columns):\n",
      " #   Column            Non-Null Count  Dtype  \n",
      "---  ------            --------------  -----  \n",
      " 0   entidad           17675 non-null  int32  \n",
      " 1   precio            17675 non-null  float64\n",
      " 2   m2Terreno         17675 non-null  float64\n",
      " 3   m2Construccion    17675 non-null  float64\n",
      " 4   estacionamientos  17675 non-null  float64\n",
      " 5   Recamaras         17675 non-null  float64\n",
      " 6   Banos             17675 non-null  float64\n",
      " 7   antiguedad        17675 non-null  float64\n",
      "dtypes: float64(7), int32(1)\n",
      "memory usage: 1.1 MB\n"
     ]
    }
   ],
   "source": [
    "casas_df = casas_df.drop(['latitud', 'longitud'], axis=1)\n",
    "casas_df.info()"
   ]
  },
  {
   "cell_type": "code",
   "execution_count": 13,
   "id": "053dc18f",
   "metadata": {},
   "outputs": [
    {
     "name": "stdout",
     "output_type": "stream",
     "text": [
      "<class 'pandas.core.frame.DataFrame'>\n",
      "Int64Index: 17675 entries, 0 to 124031\n",
      "Data columns (total 7 columns):\n",
      " #   Column            Non-Null Count  Dtype  \n",
      "---  ------            --------------  -----  \n",
      " 0   entidad           17675 non-null  int32  \n",
      " 1   precio            17675 non-null  float64\n",
      " 2   m2Construccion    17675 non-null  float64\n",
      " 3   estacionamientos  17675 non-null  float64\n",
      " 4   Recamaras         17675 non-null  float64\n",
      " 5   Banos             17675 non-null  float64\n",
      " 6   antiguedad        17675 non-null  float64\n",
      "dtypes: float64(6), int32(1)\n",
      "memory usage: 1.0 MB\n"
     ]
    }
   ],
   "source": [
    "casas_df = casas_df.drop(['m2Terreno'], axis=1)\n",
    "casas_df.info()"
   ]
  },
  {
   "cell_type": "code",
   "execution_count": 14,
   "id": "216ab71b",
   "metadata": {
    "scrolled": true
   },
   "outputs": [
    {
     "data": {
      "text/plain": [
       "precio              1.000000\n",
       "Banos               0.054888\n",
       "estacionamientos    0.049071\n",
       "Recamaras           0.030934\n",
       "m2Construccion      0.002020\n",
       "antiguedad          0.001730\n",
       "entidad            -0.010523\n",
       "Name: precio, dtype: float64"
      ]
     },
     "execution_count": 14,
     "metadata": {},
     "output_type": "execute_result"
    }
   ],
   "source": [
    "corr_matrix = casas_df.corr()\n",
    "corr_matrix['precio'].sort_values(ascending=False)"
   ]
  },
  {
   "cell_type": "code",
   "execution_count": 15,
   "id": "a6cef02e",
   "metadata": {},
   "outputs": [
    {
     "data": {
      "text/plain": [
       "StandardScaler()"
      ]
     },
     "execution_count": 15,
     "metadata": {},
     "output_type": "execute_result"
    }
   ],
   "source": [
    "from sklearn.preprocessing import StandardScaler\n",
    "scaler = StandardScaler()\n",
    "scaler.fit(casas_df)"
   ]
  },
  {
   "cell_type": "code",
   "execution_count": 16,
   "id": "ff8c5fbc",
   "metadata": {},
   "outputs": [
    {
     "data": {
      "text/html": [
       "<div>\n",
       "<style scoped>\n",
       "    .dataframe tbody tr th:only-of-type {\n",
       "        vertical-align: middle;\n",
       "    }\n",
       "\n",
       "    .dataframe tbody tr th {\n",
       "        vertical-align: top;\n",
       "    }\n",
       "\n",
       "    .dataframe thead th {\n",
       "        text-align: right;\n",
       "    }\n",
       "</style>\n",
       "<table border=\"1\" class=\"dataframe\">\n",
       "  <thead>\n",
       "    <tr style=\"text-align: right;\">\n",
       "      <th></th>\n",
       "      <th>entidad</th>\n",
       "      <th>precio</th>\n",
       "      <th>m2Construccion</th>\n",
       "      <th>estacionamientos</th>\n",
       "      <th>Recamaras</th>\n",
       "      <th>Banos</th>\n",
       "      <th>antiguedad</th>\n",
       "    </tr>\n",
       "  </thead>\n",
       "  <tbody>\n",
       "    <tr>\n",
       "      <th>0</th>\n",
       "      <td>-1.540257</td>\n",
       "      <td>0.008967</td>\n",
       "      <td>-0.056853</td>\n",
       "      <td>0.253729</td>\n",
       "      <td>-0.013991</td>\n",
       "      <td>0.875204</td>\n",
       "      <td>-0.278955</td>\n",
       "    </tr>\n",
       "    <tr>\n",
       "      <th>1</th>\n",
       "      <td>-1.540257</td>\n",
       "      <td>-0.067353</td>\n",
       "      <td>-0.064573</td>\n",
       "      <td>0.253729</td>\n",
       "      <td>-0.013991</td>\n",
       "      <td>0.184644</td>\n",
       "      <td>-0.439112</td>\n",
       "    </tr>\n",
       "    <tr>\n",
       "      <th>2</th>\n",
       "      <td>-1.540257</td>\n",
       "      <td>-0.061431</td>\n",
       "      <td>-0.055976</td>\n",
       "      <td>-0.713105</td>\n",
       "      <td>-0.013991</td>\n",
       "      <td>0.184644</td>\n",
       "      <td>-0.278955</td>\n",
       "    </tr>\n",
       "    <tr>\n",
       "      <th>3</th>\n",
       "      <td>-1.540257</td>\n",
       "      <td>-0.085647</td>\n",
       "      <td>-0.065626</td>\n",
       "      <td>0.253729</td>\n",
       "      <td>-0.013991</td>\n",
       "      <td>-0.505916</td>\n",
       "      <td>-0.359034</td>\n",
       "    </tr>\n",
       "    <tr>\n",
       "      <th>4</th>\n",
       "      <td>-1.540257</td>\n",
       "      <td>-0.085647</td>\n",
       "      <td>-0.065626</td>\n",
       "      <td>0.253729</td>\n",
       "      <td>-0.013991</td>\n",
       "      <td>-0.505916</td>\n",
       "      <td>-0.359034</td>\n",
       "    </tr>\n",
       "  </tbody>\n",
       "</table>\n",
       "</div>"
      ],
      "text/plain": [
       "    entidad    precio  m2Construccion  estacionamientos  Recamaras     Banos  \\\n",
       "0 -1.540257  0.008967       -0.056853          0.253729  -0.013991  0.875204   \n",
       "1 -1.540257 -0.067353       -0.064573          0.253729  -0.013991  0.184644   \n",
       "2 -1.540257 -0.061431       -0.055976         -0.713105  -0.013991  0.184644   \n",
       "3 -1.540257 -0.085647       -0.065626          0.253729  -0.013991 -0.505916   \n",
       "4 -1.540257 -0.085647       -0.065626          0.253729  -0.013991 -0.505916   \n",
       "\n",
       "   antiguedad  \n",
       "0   -0.278955  \n",
       "1   -0.439112  \n",
       "2   -0.278955  \n",
       "3   -0.359034  \n",
       "4   -0.359034  "
      ]
     },
     "execution_count": 16,
     "metadata": {},
     "output_type": "execute_result"
    }
   ],
   "source": [
    "scaled_data = scaler.transform(casas_df)\n",
    "transformed_scaled_data = pd.DataFrame(scaled_data, columns=casas_df.columns)\n",
    "transformed_scaled_data.head()"
   ]
  },
  {
   "cell_type": "code",
   "execution_count": 17,
   "id": "85a0b482",
   "metadata": {},
   "outputs": [
    {
     "data": {
      "text/plain": [
       "precio              1.000000\n",
       "Banos               0.054888\n",
       "estacionamientos    0.049071\n",
       "Recamaras           0.030934\n",
       "m2Construccion      0.002020\n",
       "antiguedad          0.001730\n",
       "entidad            -0.010523\n",
       "Name: precio, dtype: float64"
      ]
     },
     "execution_count": 17,
     "metadata": {},
     "output_type": "execute_result"
    }
   ],
   "source": [
    "corr_matrix = transformed_scaled_data.corr()\n",
    "corr_matrix['precio'].sort_values(ascending=False)"
   ]
  },
  {
   "cell_type": "code",
   "execution_count": 18,
   "id": "0d4ba748",
   "metadata": {},
   "outputs": [],
   "source": [
    "# Define target\n",
    "y = transformed_scaled_data['precio']\n",
    "X = transformed_scaled_data.drop(columns='precio')"
   ]
  },
  {
   "cell_type": "code",
   "execution_count": 19,
   "id": "c3645396",
   "metadata": {},
   "outputs": [],
   "source": [
    "from sklearn import preprocessing\n",
    "lab = preprocessing.LabelEncoder()\n",
    "y_transformed = lab.fit_transform(y)"
   ]
  },
  {
   "cell_type": "code",
   "execution_count": 20,
   "id": "e75050ad",
   "metadata": {},
   "outputs": [],
   "source": [
    "from sklearn.model_selection import train_test_split\n",
    "# Split into train and test sets\n",
    "X_train, X_test, y_train, y_test = train_test_split(X, y_transformed, test_size=0.2, random_state=1)"
   ]
  },
  {
   "cell_type": "code",
   "execution_count": 21,
   "id": "ab2ff956",
   "metadata": {},
   "outputs": [],
   "source": [
    "from sklearn.preprocessing import StandardScaler\n",
    "# Create StandardScaler instance\n",
    "scaler = StandardScaler()\n",
    "# Fit Standard Scaler\n",
    "X_scaler = scaler.fit(X_train)\n",
    "\n",
    "# Scale the data\n",
    "X_train_scaled = X_scaler.transform(X_train)\n",
    "X_test_scaled = X_scaler.transform(X_test)"
   ]
  },
  {
   "cell_type": "code",
   "execution_count": 22,
   "id": "adc00888",
   "metadata": {},
   "outputs": [
    {
     "ename": "MemoryError",
     "evalue": "could not allocate 391905280 bytes",
     "output_type": "error",
     "traceback": [
      "\u001b[1;31m---------------------------------------------------------------------------\u001b[0m",
      "\u001b[1;31mMemoryError\u001b[0m                               Traceback (most recent call last)",
      "\u001b[1;32m~\\AppData\\Local\\Temp/ipykernel_13772/3662731541.py\u001b[0m in \u001b[0;36m<module>\u001b[1;34m\u001b[0m\n\u001b[0;32m      4\u001b[0m \u001b[1;33m\u001b[0m\u001b[0m\n\u001b[0;32m      5\u001b[0m \u001b[1;31m# Fitting the model\u001b[0m\u001b[1;33m\u001b[0m\u001b[1;33m\u001b[0m\u001b[1;33m\u001b[0m\u001b[0m\n\u001b[1;32m----> 6\u001b[1;33m \u001b[0mmodel\u001b[0m \u001b[1;33m=\u001b[0m \u001b[0mmodel\u001b[0m\u001b[1;33m.\u001b[0m\u001b[0mfit\u001b[0m\u001b[1;33m(\u001b[0m\u001b[0mX_train_scaled\u001b[0m\u001b[1;33m,\u001b[0m \u001b[0my_train\u001b[0m\u001b[1;33m)\u001b[0m\u001b[1;33m\u001b[0m\u001b[1;33m\u001b[0m\u001b[0m\n\u001b[0m",
      "\u001b[1;32m~\\anaconda3\\envs\\mlenv\\lib\\site-packages\\sklearn\\ensemble\\_forest.py\u001b[0m in \u001b[0;36mfit\u001b[1;34m(self, X, y, sample_weight)\u001b[0m\n\u001b[0;32m    391\u001b[0m                     \u001b[0mverbose\u001b[0m\u001b[1;33m=\u001b[0m\u001b[0mself\u001b[0m\u001b[1;33m.\u001b[0m\u001b[0mverbose\u001b[0m\u001b[1;33m,\u001b[0m \u001b[0mclass_weight\u001b[0m\u001b[1;33m=\u001b[0m\u001b[0mself\u001b[0m\u001b[1;33m.\u001b[0m\u001b[0mclass_weight\u001b[0m\u001b[1;33m,\u001b[0m\u001b[1;33m\u001b[0m\u001b[1;33m\u001b[0m\u001b[0m\n\u001b[0;32m    392\u001b[0m                     n_samples_bootstrap=n_samples_bootstrap)\n\u001b[1;32m--> 393\u001b[1;33m                 for i, t in enumerate(trees))\n\u001b[0m\u001b[0;32m    394\u001b[0m \u001b[1;33m\u001b[0m\u001b[0m\n\u001b[0;32m    395\u001b[0m             \u001b[1;31m# Collect newly grown trees\u001b[0m\u001b[1;33m\u001b[0m\u001b[1;33m\u001b[0m\u001b[1;33m\u001b[0m\u001b[0m\n",
      "\u001b[1;32m~\\anaconda3\\envs\\mlenv\\lib\\site-packages\\joblib\\parallel.py\u001b[0m in \u001b[0;36m__call__\u001b[1;34m(self, iterable)\u001b[0m\n\u001b[0;32m   1044\u001b[0m                 \u001b[0mself\u001b[0m\u001b[1;33m.\u001b[0m\u001b[0m_iterating\u001b[0m \u001b[1;33m=\u001b[0m \u001b[0mself\u001b[0m\u001b[1;33m.\u001b[0m\u001b[0m_original_iterator\u001b[0m \u001b[1;32mis\u001b[0m \u001b[1;32mnot\u001b[0m \u001b[1;32mNone\u001b[0m\u001b[1;33m\u001b[0m\u001b[1;33m\u001b[0m\u001b[0m\n\u001b[0;32m   1045\u001b[0m \u001b[1;33m\u001b[0m\u001b[0m\n\u001b[1;32m-> 1046\u001b[1;33m             \u001b[1;32mwhile\u001b[0m \u001b[0mself\u001b[0m\u001b[1;33m.\u001b[0m\u001b[0mdispatch_one_batch\u001b[0m\u001b[1;33m(\u001b[0m\u001b[0miterator\u001b[0m\u001b[1;33m)\u001b[0m\u001b[1;33m:\u001b[0m\u001b[1;33m\u001b[0m\u001b[1;33m\u001b[0m\u001b[0m\n\u001b[0m\u001b[0;32m   1047\u001b[0m                 \u001b[1;32mpass\u001b[0m\u001b[1;33m\u001b[0m\u001b[1;33m\u001b[0m\u001b[0m\n\u001b[0;32m   1048\u001b[0m \u001b[1;33m\u001b[0m\u001b[0m\n",
      "\u001b[1;32m~\\anaconda3\\envs\\mlenv\\lib\\site-packages\\joblib\\parallel.py\u001b[0m in \u001b[0;36mdispatch_one_batch\u001b[1;34m(self, iterator)\u001b[0m\n\u001b[0;32m    859\u001b[0m                 \u001b[1;32mreturn\u001b[0m \u001b[1;32mFalse\u001b[0m\u001b[1;33m\u001b[0m\u001b[1;33m\u001b[0m\u001b[0m\n\u001b[0;32m    860\u001b[0m             \u001b[1;32melse\u001b[0m\u001b[1;33m:\u001b[0m\u001b[1;33m\u001b[0m\u001b[1;33m\u001b[0m\u001b[0m\n\u001b[1;32m--> 861\u001b[1;33m                 \u001b[0mself\u001b[0m\u001b[1;33m.\u001b[0m\u001b[0m_dispatch\u001b[0m\u001b[1;33m(\u001b[0m\u001b[0mtasks\u001b[0m\u001b[1;33m)\u001b[0m\u001b[1;33m\u001b[0m\u001b[1;33m\u001b[0m\u001b[0m\n\u001b[0m\u001b[0;32m    862\u001b[0m                 \u001b[1;32mreturn\u001b[0m \u001b[1;32mTrue\u001b[0m\u001b[1;33m\u001b[0m\u001b[1;33m\u001b[0m\u001b[0m\n\u001b[0;32m    863\u001b[0m \u001b[1;33m\u001b[0m\u001b[0m\n",
      "\u001b[1;32m~\\anaconda3\\envs\\mlenv\\lib\\site-packages\\joblib\\parallel.py\u001b[0m in \u001b[0;36m_dispatch\u001b[1;34m(self, batch)\u001b[0m\n\u001b[0;32m    777\u001b[0m         \u001b[1;32mwith\u001b[0m \u001b[0mself\u001b[0m\u001b[1;33m.\u001b[0m\u001b[0m_lock\u001b[0m\u001b[1;33m:\u001b[0m\u001b[1;33m\u001b[0m\u001b[1;33m\u001b[0m\u001b[0m\n\u001b[0;32m    778\u001b[0m             \u001b[0mjob_idx\u001b[0m \u001b[1;33m=\u001b[0m \u001b[0mlen\u001b[0m\u001b[1;33m(\u001b[0m\u001b[0mself\u001b[0m\u001b[1;33m.\u001b[0m\u001b[0m_jobs\u001b[0m\u001b[1;33m)\u001b[0m\u001b[1;33m\u001b[0m\u001b[1;33m\u001b[0m\u001b[0m\n\u001b[1;32m--> 779\u001b[1;33m             \u001b[0mjob\u001b[0m \u001b[1;33m=\u001b[0m \u001b[0mself\u001b[0m\u001b[1;33m.\u001b[0m\u001b[0m_backend\u001b[0m\u001b[1;33m.\u001b[0m\u001b[0mapply_async\u001b[0m\u001b[1;33m(\u001b[0m\u001b[0mbatch\u001b[0m\u001b[1;33m,\u001b[0m \u001b[0mcallback\u001b[0m\u001b[1;33m=\u001b[0m\u001b[0mcb\u001b[0m\u001b[1;33m)\u001b[0m\u001b[1;33m\u001b[0m\u001b[1;33m\u001b[0m\u001b[0m\n\u001b[0m\u001b[0;32m    780\u001b[0m             \u001b[1;31m# A job can complete so quickly than its callback is\u001b[0m\u001b[1;33m\u001b[0m\u001b[1;33m\u001b[0m\u001b[1;33m\u001b[0m\u001b[0m\n\u001b[0;32m    781\u001b[0m             \u001b[1;31m# called before we get here, causing self._jobs to\u001b[0m\u001b[1;33m\u001b[0m\u001b[1;33m\u001b[0m\u001b[1;33m\u001b[0m\u001b[0m\n",
      "\u001b[1;32m~\\anaconda3\\envs\\mlenv\\lib\\site-packages\\joblib\\_parallel_backends.py\u001b[0m in \u001b[0;36mapply_async\u001b[1;34m(self, func, callback)\u001b[0m\n\u001b[0;32m    206\u001b[0m     \u001b[1;32mdef\u001b[0m \u001b[0mapply_async\u001b[0m\u001b[1;33m(\u001b[0m\u001b[0mself\u001b[0m\u001b[1;33m,\u001b[0m \u001b[0mfunc\u001b[0m\u001b[1;33m,\u001b[0m \u001b[0mcallback\u001b[0m\u001b[1;33m=\u001b[0m\u001b[1;32mNone\u001b[0m\u001b[1;33m)\u001b[0m\u001b[1;33m:\u001b[0m\u001b[1;33m\u001b[0m\u001b[1;33m\u001b[0m\u001b[0m\n\u001b[0;32m    207\u001b[0m         \u001b[1;34m\"\"\"Schedule a func to be run\"\"\"\u001b[0m\u001b[1;33m\u001b[0m\u001b[1;33m\u001b[0m\u001b[0m\n\u001b[1;32m--> 208\u001b[1;33m         \u001b[0mresult\u001b[0m \u001b[1;33m=\u001b[0m \u001b[0mImmediateResult\u001b[0m\u001b[1;33m(\u001b[0m\u001b[0mfunc\u001b[0m\u001b[1;33m)\u001b[0m\u001b[1;33m\u001b[0m\u001b[1;33m\u001b[0m\u001b[0m\n\u001b[0m\u001b[0;32m    209\u001b[0m         \u001b[1;32mif\u001b[0m \u001b[0mcallback\u001b[0m\u001b[1;33m:\u001b[0m\u001b[1;33m\u001b[0m\u001b[1;33m\u001b[0m\u001b[0m\n\u001b[0;32m    210\u001b[0m             \u001b[0mcallback\u001b[0m\u001b[1;33m(\u001b[0m\u001b[0mresult\u001b[0m\u001b[1;33m)\u001b[0m\u001b[1;33m\u001b[0m\u001b[1;33m\u001b[0m\u001b[0m\n",
      "\u001b[1;32m~\\anaconda3\\envs\\mlenv\\lib\\site-packages\\joblib\\_parallel_backends.py\u001b[0m in \u001b[0;36m__init__\u001b[1;34m(self, batch)\u001b[0m\n\u001b[0;32m    570\u001b[0m         \u001b[1;31m# Don't delay the application, to avoid keeping the input\u001b[0m\u001b[1;33m\u001b[0m\u001b[1;33m\u001b[0m\u001b[1;33m\u001b[0m\u001b[0m\n\u001b[0;32m    571\u001b[0m         \u001b[1;31m# arguments in memory\u001b[0m\u001b[1;33m\u001b[0m\u001b[1;33m\u001b[0m\u001b[1;33m\u001b[0m\u001b[0m\n\u001b[1;32m--> 572\u001b[1;33m         \u001b[0mself\u001b[0m\u001b[1;33m.\u001b[0m\u001b[0mresults\u001b[0m \u001b[1;33m=\u001b[0m \u001b[0mbatch\u001b[0m\u001b[1;33m(\u001b[0m\u001b[1;33m)\u001b[0m\u001b[1;33m\u001b[0m\u001b[1;33m\u001b[0m\u001b[0m\n\u001b[0m\u001b[0;32m    573\u001b[0m \u001b[1;33m\u001b[0m\u001b[0m\n\u001b[0;32m    574\u001b[0m     \u001b[1;32mdef\u001b[0m \u001b[0mget\u001b[0m\u001b[1;33m(\u001b[0m\u001b[0mself\u001b[0m\u001b[1;33m)\u001b[0m\u001b[1;33m:\u001b[0m\u001b[1;33m\u001b[0m\u001b[1;33m\u001b[0m\u001b[0m\n",
      "\u001b[1;32m~\\anaconda3\\envs\\mlenv\\lib\\site-packages\\joblib\\parallel.py\u001b[0m in \u001b[0;36m__call__\u001b[1;34m(self)\u001b[0m\n\u001b[0;32m    261\u001b[0m         \u001b[1;32mwith\u001b[0m \u001b[0mparallel_backend\u001b[0m\u001b[1;33m(\u001b[0m\u001b[0mself\u001b[0m\u001b[1;33m.\u001b[0m\u001b[0m_backend\u001b[0m\u001b[1;33m,\u001b[0m \u001b[0mn_jobs\u001b[0m\u001b[1;33m=\u001b[0m\u001b[0mself\u001b[0m\u001b[1;33m.\u001b[0m\u001b[0m_n_jobs\u001b[0m\u001b[1;33m)\u001b[0m\u001b[1;33m:\u001b[0m\u001b[1;33m\u001b[0m\u001b[1;33m\u001b[0m\u001b[0m\n\u001b[0;32m    262\u001b[0m             return [func(*args, **kwargs)\n\u001b[1;32m--> 263\u001b[1;33m                     for func, args, kwargs in self.items]\n\u001b[0m\u001b[0;32m    264\u001b[0m \u001b[1;33m\u001b[0m\u001b[0m\n\u001b[0;32m    265\u001b[0m     \u001b[1;32mdef\u001b[0m \u001b[0m__reduce__\u001b[0m\u001b[1;33m(\u001b[0m\u001b[0mself\u001b[0m\u001b[1;33m)\u001b[0m\u001b[1;33m:\u001b[0m\u001b[1;33m\u001b[0m\u001b[1;33m\u001b[0m\u001b[0m\n",
      "\u001b[1;32m~\\anaconda3\\envs\\mlenv\\lib\\site-packages\\joblib\\parallel.py\u001b[0m in \u001b[0;36m<listcomp>\u001b[1;34m(.0)\u001b[0m\n\u001b[0;32m    261\u001b[0m         \u001b[1;32mwith\u001b[0m \u001b[0mparallel_backend\u001b[0m\u001b[1;33m(\u001b[0m\u001b[0mself\u001b[0m\u001b[1;33m.\u001b[0m\u001b[0m_backend\u001b[0m\u001b[1;33m,\u001b[0m \u001b[0mn_jobs\u001b[0m\u001b[1;33m=\u001b[0m\u001b[0mself\u001b[0m\u001b[1;33m.\u001b[0m\u001b[0m_n_jobs\u001b[0m\u001b[1;33m)\u001b[0m\u001b[1;33m:\u001b[0m\u001b[1;33m\u001b[0m\u001b[1;33m\u001b[0m\u001b[0m\n\u001b[0;32m    262\u001b[0m             return [func(*args, **kwargs)\n\u001b[1;32m--> 263\u001b[1;33m                     for func, args, kwargs in self.items]\n\u001b[0m\u001b[0;32m    264\u001b[0m \u001b[1;33m\u001b[0m\u001b[0m\n\u001b[0;32m    265\u001b[0m     \u001b[1;32mdef\u001b[0m \u001b[0m__reduce__\u001b[0m\u001b[1;33m(\u001b[0m\u001b[0mself\u001b[0m\u001b[1;33m)\u001b[0m\u001b[1;33m:\u001b[0m\u001b[1;33m\u001b[0m\u001b[1;33m\u001b[0m\u001b[0m\n",
      "\u001b[1;32m~\\anaconda3\\envs\\mlenv\\lib\\site-packages\\sklearn\\utils\\fixes.py\u001b[0m in \u001b[0;36m__call__\u001b[1;34m(self, *args, **kwargs)\u001b[0m\n\u001b[0;32m    220\u001b[0m     \u001b[1;32mdef\u001b[0m \u001b[0m__call__\u001b[0m\u001b[1;33m(\u001b[0m\u001b[0mself\u001b[0m\u001b[1;33m,\u001b[0m \u001b[1;33m*\u001b[0m\u001b[0margs\u001b[0m\u001b[1;33m,\u001b[0m \u001b[1;33m**\u001b[0m\u001b[0mkwargs\u001b[0m\u001b[1;33m)\u001b[0m\u001b[1;33m:\u001b[0m\u001b[1;33m\u001b[0m\u001b[1;33m\u001b[0m\u001b[0m\n\u001b[0;32m    221\u001b[0m         \u001b[1;32mwith\u001b[0m \u001b[0mconfig_context\u001b[0m\u001b[1;33m(\u001b[0m\u001b[1;33m**\u001b[0m\u001b[0mself\u001b[0m\u001b[1;33m.\u001b[0m\u001b[0mconfig\u001b[0m\u001b[1;33m)\u001b[0m\u001b[1;33m:\u001b[0m\u001b[1;33m\u001b[0m\u001b[1;33m\u001b[0m\u001b[0m\n\u001b[1;32m--> 222\u001b[1;33m             \u001b[1;32mreturn\u001b[0m \u001b[0mself\u001b[0m\u001b[1;33m.\u001b[0m\u001b[0mfunction\u001b[0m\u001b[1;33m(\u001b[0m\u001b[1;33m*\u001b[0m\u001b[0margs\u001b[0m\u001b[1;33m,\u001b[0m \u001b[1;33m**\u001b[0m\u001b[0mkwargs\u001b[0m\u001b[1;33m)\u001b[0m\u001b[1;33m\u001b[0m\u001b[1;33m\u001b[0m\u001b[0m\n\u001b[0m",
      "\u001b[1;32m~\\anaconda3\\envs\\mlenv\\lib\\site-packages\\sklearn\\ensemble\\_forest.py\u001b[0m in \u001b[0;36m_parallel_build_trees\u001b[1;34m(tree, forest, X, y, sample_weight, tree_idx, n_trees, verbose, class_weight, n_samples_bootstrap)\u001b[0m\n\u001b[0;32m    167\u001b[0m                                                         indices=indices)\n\u001b[0;32m    168\u001b[0m \u001b[1;33m\u001b[0m\u001b[0m\n\u001b[1;32m--> 169\u001b[1;33m         \u001b[0mtree\u001b[0m\u001b[1;33m.\u001b[0m\u001b[0mfit\u001b[0m\u001b[1;33m(\u001b[0m\u001b[0mX\u001b[0m\u001b[1;33m,\u001b[0m \u001b[0my\u001b[0m\u001b[1;33m,\u001b[0m \u001b[0msample_weight\u001b[0m\u001b[1;33m=\u001b[0m\u001b[0mcurr_sample_weight\u001b[0m\u001b[1;33m,\u001b[0m \u001b[0mcheck_input\u001b[0m\u001b[1;33m=\u001b[0m\u001b[1;32mFalse\u001b[0m\u001b[1;33m)\u001b[0m\u001b[1;33m\u001b[0m\u001b[1;33m\u001b[0m\u001b[0m\n\u001b[0m\u001b[0;32m    170\u001b[0m     \u001b[1;32melse\u001b[0m\u001b[1;33m:\u001b[0m\u001b[1;33m\u001b[0m\u001b[1;33m\u001b[0m\u001b[0m\n\u001b[0;32m    171\u001b[0m         \u001b[0mtree\u001b[0m\u001b[1;33m.\u001b[0m\u001b[0mfit\u001b[0m\u001b[1;33m(\u001b[0m\u001b[0mX\u001b[0m\u001b[1;33m,\u001b[0m \u001b[0my\u001b[0m\u001b[1;33m,\u001b[0m \u001b[0msample_weight\u001b[0m\u001b[1;33m=\u001b[0m\u001b[0msample_weight\u001b[0m\u001b[1;33m,\u001b[0m \u001b[0mcheck_input\u001b[0m\u001b[1;33m=\u001b[0m\u001b[1;32mFalse\u001b[0m\u001b[1;33m)\u001b[0m\u001b[1;33m\u001b[0m\u001b[1;33m\u001b[0m\u001b[0m\n",
      "\u001b[1;32m~\\anaconda3\\envs\\mlenv\\lib\\site-packages\\sklearn\\tree\\_classes.py\u001b[0m in \u001b[0;36mfit\u001b[1;34m(self, X, y, sample_weight, check_input, X_idx_sorted)\u001b[0m\n\u001b[0;32m    905\u001b[0m             \u001b[0msample_weight\u001b[0m\u001b[1;33m=\u001b[0m\u001b[0msample_weight\u001b[0m\u001b[1;33m,\u001b[0m\u001b[1;33m\u001b[0m\u001b[1;33m\u001b[0m\u001b[0m\n\u001b[0;32m    906\u001b[0m             \u001b[0mcheck_input\u001b[0m\u001b[1;33m=\u001b[0m\u001b[0mcheck_input\u001b[0m\u001b[1;33m,\u001b[0m\u001b[1;33m\u001b[0m\u001b[1;33m\u001b[0m\u001b[0m\n\u001b[1;32m--> 907\u001b[1;33m             X_idx_sorted=X_idx_sorted)\n\u001b[0m\u001b[0;32m    908\u001b[0m         \u001b[1;32mreturn\u001b[0m \u001b[0mself\u001b[0m\u001b[1;33m\u001b[0m\u001b[1;33m\u001b[0m\u001b[0m\n\u001b[0;32m    909\u001b[0m \u001b[1;33m\u001b[0m\u001b[0m\n",
      "\u001b[1;32m~\\anaconda3\\envs\\mlenv\\lib\\site-packages\\sklearn\\tree\\_classes.py\u001b[0m in \u001b[0;36mfit\u001b[1;34m(self, X, y, sample_weight, check_input, X_idx_sorted)\u001b[0m\n\u001b[0;32m    392\u001b[0m                                            min_impurity_split)\n\u001b[0;32m    393\u001b[0m \u001b[1;33m\u001b[0m\u001b[0m\n\u001b[1;32m--> 394\u001b[1;33m         \u001b[0mbuilder\u001b[0m\u001b[1;33m.\u001b[0m\u001b[0mbuild\u001b[0m\u001b[1;33m(\u001b[0m\u001b[0mself\u001b[0m\u001b[1;33m.\u001b[0m\u001b[0mtree_\u001b[0m\u001b[1;33m,\u001b[0m \u001b[0mX\u001b[0m\u001b[1;33m,\u001b[0m \u001b[0my\u001b[0m\u001b[1;33m,\u001b[0m \u001b[0msample_weight\u001b[0m\u001b[1;33m)\u001b[0m\u001b[1;33m\u001b[0m\u001b[1;33m\u001b[0m\u001b[0m\n\u001b[0m\u001b[0;32m    395\u001b[0m \u001b[1;33m\u001b[0m\u001b[0m\n\u001b[0;32m    396\u001b[0m         \u001b[1;32mif\u001b[0m \u001b[0mself\u001b[0m\u001b[1;33m.\u001b[0m\u001b[0mn_outputs_\u001b[0m \u001b[1;33m==\u001b[0m \u001b[1;36m1\u001b[0m \u001b[1;32mand\u001b[0m \u001b[0mis_classifier\u001b[0m\u001b[1;33m(\u001b[0m\u001b[0mself\u001b[0m\u001b[1;33m)\u001b[0m\u001b[1;33m:\u001b[0m\u001b[1;33m\u001b[0m\u001b[1;33m\u001b[0m\u001b[0m\n",
      "\u001b[1;32msklearn\\tree\\_tree.pyx\u001b[0m in \u001b[0;36msklearn.tree._tree.DepthFirstTreeBuilder.build\u001b[1;34m()\u001b[0m\n",
      "\u001b[1;32msklearn\\tree\\_tree.pyx\u001b[0m in \u001b[0;36msklearn.tree._tree.DepthFirstTreeBuilder.build\u001b[1;34m()\u001b[0m\n",
      "\u001b[1;32msklearn\\tree\\_tree.pyx\u001b[0m in \u001b[0;36msklearn.tree._tree.Tree._add_node\u001b[1;34m()\u001b[0m\n",
      "\u001b[1;32msklearn\\tree\\_tree.pyx\u001b[0m in \u001b[0;36msklearn.tree._tree.Tree._resize_c\u001b[1;34m()\u001b[0m\n",
      "\u001b[1;32msklearn\\tree\\_utils.pyx\u001b[0m in \u001b[0;36msklearn.tree._utils.safe_realloc\u001b[1;34m()\u001b[0m\n",
      "\u001b[1;31mMemoryError\u001b[0m: could not allocate 391905280 bytes"
     ]
    }
   ],
   "source": [
    "from sklearn.ensemble import RandomForestClassifier\n",
    "# Creating the decision tree classifier instance\n",
    "model = RandomForestClassifier(n_estimators=100, random_state=1)\n",
    "\n",
    "# Fitting the model\n",
    "model = model.fit(X_train_scaled, y_train)"
   ]
  },
  {
   "cell_type": "code",
   "execution_count": null,
   "id": "3a5c81b2",
   "metadata": {},
   "outputs": [],
   "source": [
    "# Making predictions\n",
    "predictions = model.predict(X_test_scaled)"
   ]
  },
  {
   "cell_type": "code",
   "execution_count": null,
   "id": "f7d4e4d7",
   "metadata": {},
   "outputs": [],
   "source": [
    "from sklearn.metrics import accuracy_score\n",
    "# Calculating the accuracy score\n",
    "acc_score = accuracy_score(y_test, predictions)\n",
    "acc_score"
   ]
  }
 ],
 "metadata": {
  "kernelspec": {
   "display_name": "mlenv",
   "language": "python",
   "name": "mlenv"
  },
  "language_info": {
   "codemirror_mode": {
    "name": "ipython",
    "version": 3
   },
   "file_extension": ".py",
   "mimetype": "text/x-python",
   "name": "python",
   "nbconvert_exporter": "python",
   "pygments_lexer": "ipython3",
   "version": "3.7.11"
  }
 },
 "nbformat": 4,
 "nbformat_minor": 5
}
