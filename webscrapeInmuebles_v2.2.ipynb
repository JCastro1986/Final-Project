{
 "cells": [
  {
   "cell_type": "markdown",
   "id": "d7a27dbe",
   "metadata": {},
   "source": [
    "## Webscrapping from metroscubicos.com"
   ]
  },
  {
   "cell_type": "code",
   "execution_count": 1,
   "id": "85fd59ba",
   "metadata": {},
   "outputs": [],
   "source": [
    "# import instances and libraries\n",
    "from splinter import Browser\n",
    "from bs4 import BeautifulSoup as soup\n",
    "from webdriver_manager.chrome import ChromeDriverManager\n",
    "import requests\n",
    "import re\n",
    "import pandas as pd\n",
    "# To show a progess bar in loops:\n",
    "from tqdm import tqdm_notebook as tqdm\n",
    "import csv"
   ]
  },
  {
   "cell_type": "code",
   "execution_count": 2,
   "id": "87dc794d",
   "metadata": {},
   "outputs": [],
   "source": [
    "# List all entities available in metroscubicos.com\n",
    "\n",
    "entidades = ['Aguascalientes', 'Baja California', 'Baja California Sur', 'Campeche', 'Chiapas', 'Chihuahua', 'Coahuila', 'Colima',\n",
    "            'Distrito Federal', 'Durango', 'Estado De México', 'Guanajuato', 'Guerrero', 'Hidalgo', 'Jalisco', 'Michoacán',\n",
    "             'Morelos', 'Nayarit', 'Nuevo León', 'Oaxaca', 'Puebla', 'Querétaro', 'Quintana Roo', 'San Luis Potosí',\n",
    "             'Sinaloa', 'Sonora', 'Tabasco', 'Tamaulipas', 'Tlaxcala', 'Veracruz', 'Yucatán', 'Zacatecas']"
   ]
  },
  {
   "cell_type": "code",
   "execution_count": 3,
   "id": "2636927e",
   "metadata": {},
   "outputs": [],
   "source": [
    "# make smallcaps and change spaces for dashes, and select which entities\n",
    "entidadesLower = [x.lower().replace(' ', '-') for x in entidades[3:]]"
   ]
  },
  {
   "cell_type": "code",
   "execution_count": 4,
   "id": "a366f7b8",
   "metadata": {},
   "outputs": [
    {
     "data": {
      "text/plain": [
       "['campeche',\n",
       " 'chiapas',\n",
       " 'chihuahua',\n",
       " 'coahuila',\n",
       " 'colima',\n",
       " 'distrito-federal',\n",
       " 'durango',\n",
       " 'estado-de-méxico',\n",
       " 'guanajuato',\n",
       " 'guerrero',\n",
       " 'hidalgo',\n",
       " 'jalisco',\n",
       " 'michoacán',\n",
       " 'morelos',\n",
       " 'nayarit',\n",
       " 'nuevo-león',\n",
       " 'oaxaca',\n",
       " 'puebla',\n",
       " 'querétaro',\n",
       " 'quintana-roo',\n",
       " 'san-luis-potosí',\n",
       " 'sinaloa',\n",
       " 'sonora',\n",
       " 'tabasco',\n",
       " 'tamaulipas',\n",
       " 'tlaxcala',\n",
       " 'veracruz',\n",
       " 'yucatán',\n",
       " 'zacatecas']"
      ]
     },
     "execution_count": 4,
     "metadata": {},
     "output_type": "execute_result"
    }
   ],
   "source": [
    "entidadesLower"
   ]
  },
  {
   "cell_type": "code",
   "execution_count": 5,
   "id": "2e62faaa",
   "metadata": {},
   "outputs": [],
   "source": [
    "# Initialize variables\n",
    "cityList = []\n",
    "listLinks = []\n",
    "tipos = ['casas', 'departamentos', 'terrenos']\n",
    "baseUrl = 'https://inmuebles.metroscubicos.com/'\n",
    "csvPath = './Resources/'"
   ]
  },
  {
   "cell_type": "markdown",
   "id": "a61d249d",
   "metadata": {},
   "source": [
    "### Script para hacer el webscrapping por ciudad"
   ]
  },
  {
   "cell_type": "code",
   "execution_count": null,
   "id": "a6722a41",
   "metadata": {},
   "outputs": [],
   "source": [
    "## Read file by city\n",
    "ciudad = entidadesLower[0]\n",
    "csvfile = csvPath+ciudad+\".csv\"\n",
    "data= pd.read_csv(csvfile)\n",
    "data.head()"
   ]
  },
  {
   "cell_type": "code",
   "execution_count": null,
   "id": "e2d3cf95",
   "metadata": {},
   "outputs": [],
   "source": [
    "# Select which city\n",
    "ciudades = entidadesLower[0:2]\n",
    "ciudades"
   ]
  },
  {
   "cell_type": "code",
   "execution_count": null,
   "id": "921c9775",
   "metadata": {},
   "outputs": [
    {
     "name": "stderr",
     "output_type": "stream",
     "text": [
      "C:\\Users\\CAC\\anaconda3\\envs\\PythonData\\lib\\site-packages\\ipykernel_launcher.py:1: TqdmDeprecationWarning: This function will be removed in tqdm==5.0.0\n",
      "Please use `tqdm.notebook.tqdm` instead of `tqdm.tqdm_notebook`\n",
      "  \"\"\"Entry point for launching an IPython kernel.\n"
     ]
    },
    {
     "data": {
      "application/vnd.jupyter.widget-view+json": {
       "model_id": "0acc270b206f4a94bec4d21b8e926a1a",
       "version_major": 2,
       "version_minor": 0
      },
      "text/plain": [
       "  0%|          | 0/29 [00:00<?, ?it/s]"
      ]
     },
     "metadata": {},
     "output_type": "display_data"
    },
    {
     "name": "stderr",
     "output_type": "stream",
     "text": [
      "C:\\Users\\CAC\\anaconda3\\envs\\PythonData\\lib\\site-packages\\ipykernel_launcher.py:8: TqdmDeprecationWarning: This function will be removed in tqdm==5.0.0\n",
      "Please use `tqdm.notebook.tqdm` instead of `tqdm.tqdm_notebook`\n",
      "  \n"
     ]
    },
    {
     "data": {
      "application/vnd.jupyter.widget-view+json": {
       "model_id": "214d6d7f4d6d486d9e3458ecf1b7848e",
       "version_major": 2,
       "version_minor": 0
      },
      "text/plain": [
       "  0%|          | 0/440 [00:00<?, ?it/s]"
      ]
     },
     "metadata": {},
     "output_type": "display_data"
    },
    {
     "data": {
      "application/vnd.jupyter.widget-view+json": {
       "model_id": "4e57c95248cb4120a3deb6df7cdda32b",
       "version_major": 2,
       "version_minor": 0
      },
      "text/plain": [
       "  0%|          | 0/2998 [00:00<?, ?it/s]"
      ]
     },
     "metadata": {},
     "output_type": "display_data"
    },
    {
     "name": "stdout",
     "output_type": "stream",
     "text": [
      "Cannot retrieve https://casa.metroscubicos.com/MLM-1399783437-vn-hermosa-casa-en-venta-ubicada-en-tapachula-chiapas-_JM ... passing\n",
      "Cannot retrieve https://casa.metroscubicos.com/MLM-1399913257-vn-hermosa-casa-en-venta-ubicada-en-tapachula-chiapas-_JM ... passing\n",
      "Cannot retrieve https://casa.metroscubicos.com/MLM-1388768819-casa-sola-en-venta-paseo-del-bosque-_JM ... passing\n",
      "Cannot retrieve https://casa.metroscubicos.com/MLM-1365304031-casa-sola-en-venta-estrella-de-oriente-_JM ... passing\n",
      "Cannot retrieve https://casa.metroscubicos.com/MLM-952438252-casa-en-venta-fracc-san-fernando-_JM ... passing\n",
      "Cannot retrieve https://casa.metroscubicos.com/MLM-936377365-casa-sola-en-venta-las-granjas-_JM ... passing\n",
      "Cannot retrieve https://casa.metroscubicos.com/MLM-1406071681-sc-cv-420-copoya-casa-en-venta-_JM ... passing\n",
      "Cannot retrieve https://casa.metroscubicos.com/MLM-1403519315-casa-sola-en-venta-san-jose-teran-_JM ... passing\n",
      "Cannot retrieve https://casa.metroscubicos.com/MLM-1399770451-vn-hermosa-casa-en-venta-ubicada-en-tapachula-chiapas-_JM ... passing\n",
      "Cannot retrieve https://casa.metroscubicos.com/MLM-1399913261-vn-hermosa-casa-en-venta-ubicada-en-tapachula-chiapas-_JM ... passing\n",
      "Cannot retrieve https://casa.metroscubicos.com/MLM-962975181-casa-sola-en-venta-barrio-santa-cruz-_JM ... passing\n",
      "Cannot retrieve https://casa.metroscubicos.com/MLM-1410773298-casa-sola-en-venta-valle-dorado-_JM ... passing\n",
      "Cannot retrieve https://casa.metroscubicos.com/MLM-962968169-casa-sola-en-venta-barrio-santa-cruz-_JM ... passing\n",
      "Cannot retrieve https://casa.metroscubicos.com/MLM-1414122561-casa-sola-en-venta-renovacion-_JM ... passing\n",
      "Cannot retrieve https://casa.metroscubicos.com/MLM-1408760315-sc-cv-508-fracc-sabines-casa-en-venta-_JM ... passing\n",
      "Cannot retrieve https://casa.metroscubicos.com/MLM-1393684801-casa-sola-en-venta-nueva-reforma-_JM ... passing\n",
      "Cannot retrieve https://casa.metroscubicos.com/MLM-936380448-casa-sola-en-venta-las-rosas-centro-_JM ... passing\n",
      "Cannot retrieve https://casa.metroscubicos.com/MLM-1416895412-sc-cv-466-bellavista-casa-en-venta-_JM ... passing\n",
      "Cannot retrieve https://casa.metroscubicos.com/MLM-1414167724-casa-sola-en-venta-renovacion-_JM ... passing\n",
      "Cannot retrieve https://casa.metroscubicos.com/MLM-1416233682-venta-de-casa-en-san-nicolas-san-cristobal-de-las-casas-chiapas-_JM ... passing\n",
      "Cannot retrieve https://casa.metroscubicos.com/MLM-1353075803-sccv339-se-vende-bonita-casa-en-plan-de-ayala-_JM ... passing\n",
      "Cannot retrieve https://casa.metroscubicos.com/MLM-1390861327-casa-en-remate-bancario-en-los-laguitos-tuxtla-gtz-jls-_JM ... passing\n",
      "Cannot retrieve https://casa.metroscubicos.com/MLM-948438773-2-recamaras-_JM ... passing\n",
      "Cannot retrieve https://casa.metroscubicos.com/MLM-1337538074-casa-sola-en-venta-club-residencial-lomas-verdes-_JM ... passing\n",
      "Cannot retrieve https://casa.metroscubicos.com/MLM-1393171704-rtc-venta-de-casa-remate-bancario-fracc-los-tulipanes-_JM ... passing\n",
      "Cannot retrieve https://casa.metroscubicos.com/MLM-1317015504-casa-sola-en-venta-comitan-de-dominguez-centro-_JM ... passing\n",
      "Cannot retrieve https://casa.metroscubicos.com/MLM-1344656868-casa-en-la-arbolada-huixtla-chiapas-barata-jtp-_JM ... passing\n",
      "Cannot retrieve https://casa.metroscubicos.com/MLM-1408169685-casa-en-remate-bancario-en-tonala-chiapas-jls-_JM ... passing\n",
      "Cannot retrieve https://casa.metroscubicos.com/MLM-1326718545-casa-nueva-chiapas-solidario-_JM ... passing\n",
      "Cannot retrieve https://casa.metroscubicos.com/MLM-1333906146-casa-sola-en-venta-frac-jardines-del-grijalva-_JM ... passing\n",
      "Cannot retrieve https://casa.metroscubicos.com/MLM-947205925-casa-de-dos-plantas-en-tuxtla-gutierrez-_JM ... passing\n",
      "Cannot retrieve https://casa.metroscubicos.com/MLM-1399204065-casa-en-venta-fracclomas-del-sauce-tuxtla-gtz-chiapas-gjs-_JM ... passing\n",
      "Cannot retrieve https://casa.metroscubicos.com/MLM-1303047838-vendo-casa-en-real-del-bosque-_JM ... passing\n",
      "Cannot retrieve https://casa.metroscubicos.com/MLM-1401879842-sc-cv-504-ampliacion-cocal-sur-poniente-_JM ... passing\n",
      "Cannot retrieve https://casa.metroscubicos.com/MLM-1323976499-casa-en-venta-en-suchiapa-a-una-cuadra-del-mercado-y-zona-comercial-_JM ... passing\n",
      "Cannot retrieve https://casa.metroscubicos.com/MLM-1303945260-san-cristobal-de-las-casas-centro-terreno-ubicado-en-el-centro-de-la-ciudad-_JM ... passing\n",
      "Cannot retrieve https://casa.metroscubicos.com/MLM-1308606515-casa-sola-en-venta-bosques-del-sayab-_JM ... passing\n",
      "Cannot retrieve https://casa.metroscubicos.com/MLM-1414970702-casa-en-remate-bancario-en-los-tulipanes-tapachula-jls-_JM ... passing\n",
      "Cannot retrieve https://casa.metroscubicos.com/MLM-1353595202-sccv419-se-vende-casa-en-jardines-de-grijalva-_JM ... passing\n",
      "Cannot retrieve https://casa.metroscubicos.com/MLM-946983393-casa-en-tuxtla-gutierrez-lado-poniente-de-la-ciudad-_JM ... passing\n",
      "Cannot retrieve https://casa.metroscubicos.com/MLM-1411559217-sc-cv-512-los-laguitos-casa-en-preventa-_JM ... passing\n",
      "Cannot retrieve https://casa.metroscubicos.com/MLM-1400793135-sc-cv-489-nuevo-mirador-_JM ... passing\n",
      "Cannot retrieve https://casa.metroscubicos.com/MLM-952465085-casa-en-residencial-hacienda-_JM ... passing\n",
      "Cannot retrieve https://casa.metroscubicos.com/MLM-1420059997-sc-cv-440-fracc-el-diamante-_JM ... passing\n",
      "Cannot retrieve https://casa.metroscubicos.com/MLM-1313278558-barrio-nino-de-atocha-casa-venta-tuxtla-gutierrez-chiapa-_JM ... passing\n",
      "Cannot retrieve https://casa.metroscubicos.com/MLM-1419047864-dm-casa-en-venta-de-recuperacion-bacaria-excelente-oportunidad-en-modesto-carrera-cardo-santo-domingo-pichucalco-chiapas-_JM ... passing\n",
      "Cannot retrieve https://casa.metroscubicos.com/MLM-1406088269-sc-cv-172-la-magdalena-berriozabal-casa-en-venta-_JM ... passing\n",
      "Cannot retrieve https://casa.metroscubicos.com/MLM-1406515397-sc-cv-407-las-granjas-casa-en-venta-_JM ... passing\n",
      "Cannot retrieve https://casa.metroscubicos.com/MLM-962975176-casa-sola-en-venta-las-americas-_JM ... passing\n",
      "Cannot retrieve https://casa.metroscubicos.com/MLM-1414564580-casa-sola-en-venta-berriozabal-centro-_JM ... passing\n",
      "Cannot retrieve https://casa.metroscubicos.com/MLM-1413470618-casa-sola-en-venta-candelaria-_JM ... passing\n",
      "Cannot retrieve https://casa.metroscubicos.com/MLM-936380472-casa-sola-en-venta-el-magueyito-_JM ... passing\n",
      "Cannot retrieve https://casa.metroscubicos.com/MLM-1347684631-casa-sola-en-venta-fracc-el-diamante-_JM ... passing\n",
      "Cannot retrieve https://casa.metroscubicos.com/MLM-949255250-casa-en-col-benito-juarez-1-cuadra-antes-de-lib-sur-_JM ... passing\n",
      "Cannot retrieve https://casa.metroscubicos.com/MLM-1420707150-casa-sola-en-venta-santa-fe-_JM ... passing\n",
      "Cannot retrieve https://casa.metroscubicos.com/MLM-1416246051-casa-en-venta-en-la-pradera-san-cristobal-de-las-casas-_JM ... passing\n",
      "Cannot retrieve https://casa.metroscubicos.com/MLM-1355049246-casa-sola-en-venta-modulo-ii-_JM ... passing\n",
      "Cannot retrieve https://casa.metroscubicos.com/MLM-1384391755-casa-sola-en-venta-los-laguitos-infonavit-_JM ... passing\n",
      "Cannot retrieve https://casa.metroscubicos.com/MLM-1384391715-casa-sola-en-venta-fracc-las-aguilas-_JM ... passing\n",
      "Cannot retrieve https://casa.metroscubicos.com/MLM-1384385261-casa-sola-en-venta-pomarrosa-_JM ... passing\n",
      "Cannot retrieve https://casa.metroscubicos.com/MLM-1353070607-sccv377-se-vende-casa-en-san-andres-tuxtla-gutierrez-_JM ... passing\n",
      "Cannot retrieve https://casa.metroscubicos.com/MLM-1393213263-rtc-venta-casa-remate-bancario-argentina-_JM ... passing\n",
      "Cannot retrieve https://casa.metroscubicos.com/MLM-1404696874-casa-sola-en-venta-chichima-concepcion-_JM ... passing\n",
      "Cannot retrieve https://casa.metroscubicos.com/MLM-953818150-vr-venta-casa-patria-nuevatuxtla-gutierrez-chiapas-_JM ... passing\n",
      "Cannot retrieve https://casa.metroscubicos.com/MLM-1338755394-chiapas-fracc-lomas-de-vista-hermosa-cuernavaca-morelos-_JM ... passing\n",
      "Cannot retrieve https://casa.metroscubicos.com/MLM-1408205356-casaremate-bancario-montes-azules-tuxtla-gtz-jls-_JM ... passing\n",
      "Cannot retrieve https://casa.metroscubicos.com/MLM-1384391747-casa-sola-en-venta-centro-_JM ... passing\n",
      "Cannot retrieve https://casa.metroscubicos.com/MLM-1403124132-sc-cv-473-plan-de-ayala-casa-_JM ... passing\n",
      "Cannot retrieve https://casa.metroscubicos.com/MLM-1313246426-barrio-hidalgo-casa-venta-tuxtla-gutierrez-chiapas-_JM ... passing\n",
      "Cannot retrieve https://casa.metroscubicos.com/MLM-1384411243-casa-sola-en-venta-barrio-cristobal-colon-_JM ... passing\n",
      "Cannot retrieve https://casa.metroscubicos.com/MLM-1397178113-casa-sola-en-venta-los-tulipanes-_JM ... passing\n",
      "Cannot retrieve https://casa.metroscubicos.com/MLM-1391643563-er-residencial-las-flores-chiapas-_JM ... passing\n",
      "Cannot retrieve https://casa.metroscubicos.com/MLM-1384411342-casa-sola-en-venta-centro-_JM ... passing\n",
      "Cannot retrieve https://casa.metroscubicos.com/MLM-1416690779-hermosa-casa-en-laguna-de-montebello-chiapas-lm-_JM ... passing\n",
      "Cannot retrieve https://casa.metroscubicos.com/MLM-1416689107-amplia-casa-en-residencial-bonanza-chiapas-lm-_JM ... passing\n",
      "Cannot retrieve https://casa.metroscubicos.com/MLM-1401313428-sc-cv-493-las-aguilas-casa-duplex-_JM ... passing\n",
      "Cannot retrieve https://casa.metroscubicos.com/MLM-1384417650-casa-sola-en-venta-la-ilusion-_JM ... passing\n",
      "Cannot retrieve https://casa.metroscubicos.com/MLM-1398680763-casa-sola-en-venta-villas-montes-azules-_JM ... passing\n",
      "Cannot retrieve https://casa.metroscubicos.com/MLM-1313284920-la-herradura-casa-venta-tuxtla-gutierrez-chiapas-_JM ... passing\n",
      "Cannot retrieve https://casa.metroscubicos.com/MLM-949418480-se-vende-casa-duplex-_JM ... passing\n",
      "Cannot retrieve https://casa.metroscubicos.com/MLM-1420724350-casa-en-venta-en-el-coyol-a-5-min-de-prepa-3-_JM ... passing\n",
      "Cannot retrieve https://casa.metroscubicos.com/MLM-1402004892-sc-cv-507-loma-bonita-norte-oriente-_JM ... passing\n",
      "Cannot retrieve https://casa.metroscubicos.com/MLM-1391222656-casa-sola-en-venta-plan-de-ayala-_JM ... passing\n",
      "Cannot retrieve https://casa.metroscubicos.com/MLM-1389566891-casa-sola-en-venta-sahop-_JM ... passing\n"
     ]
    },
    {
     "name": "stdout",
     "output_type": "stream",
     "text": [
      "Cannot retrieve https://casa.metroscubicos.com/MLM-1410737155-sc-cv-510-castillo-tielmans-casa-en-venta-_JM ... passing\n",
      "Cannot retrieve https://casa.metroscubicos.com/MLM-1392405828-casa-sola-en-venta-campanario-_JM ... passing\n",
      "Cannot retrieve https://casa.metroscubicos.com/MLM-1384424162-casa-sola-en-venta-colinas-del-sur-_JM ... passing\n",
      "Cannot retrieve https://casa.metroscubicos.com/MLM-1384398251-casa-sola-en-venta-barrio-colon-_JM ... passing\n",
      "Cannot retrieve https://casa.metroscubicos.com/MLM-1384398252-casa-sola-en-venta-barrio-santo-tomas-_JM ... passing\n",
      "Cannot retrieve https://casa.metroscubicos.com/MLM-1353240146-sccv455-se-vende-casa-en-plan-ayala-_JM ... passing\n",
      "Cannot retrieve https://casa.metroscubicos.com/MLM-1390451533-casa-sola-en-venta-el-retiro-_JM ... passing\n",
      "Cannot retrieve https://casa.metroscubicos.com/MLM-1384385402-casa-sola-en-venta-teran-_JM ... passing\n",
      "Cannot retrieve https://casa.metroscubicos.com/MLM-1353723692-sccv457-se-vende-casa-en-san-jose-teran-_JM ... passing\n",
      "Cannot retrieve https://casa.metroscubicos.com/MLM-1353685453-sccv438-se-vende-casa-en-njardin-las-flores-_JM ... passing\n",
      "Cannot retrieve https://casa.metroscubicos.com/MLM-1391974812-casa-uso-de-suelo-en-venta-plan-de-ayala-_JM ... passing\n",
      "Cannot retrieve https://casa.metroscubicos.com/MLM-1412335774-sc-cv-513-el-recuero-chiapa-de-corzo-_JM ... passing\n",
      "Cannot retrieve https://casa.metroscubicos.com/MLM-962971598-casa-sola-en-venta-las-americas-_JM ... passing\n",
      "Cannot retrieve https://casa.metroscubicos.com/MLM-1403550176-casa-sola-en-venta-modulo-ii-_JM ... passing\n",
      "Cannot retrieve https://casa.metroscubicos.com/MLM-924006406-venta-de-casa-en-fracc-los-palacios-al-sur-de-tapachula-_JM ... passing\n",
      "Cannot retrieve https://casa.metroscubicos.com/MLM-1393705478-mh-venta-de-departamento-no-creditos-ultimo-remate-bancario-tuxtla-gutierrez-_JM ... passing\n",
      "Cannot retrieve https://casa.metroscubicos.com/MLM-950761331-casanueva-en-col-los-pajaros-apta-para-creditos-_JM ... passing\n",
      "Cannot retrieve https://casa.metroscubicos.com/MLM-921975609-casa-venta-col-13-de-sept-al-sur-de-tapachula-_JM ... passing\n",
      "Cannot retrieve https://casa.metroscubicos.com/MLM-1353735762-sccv445-se-vende-casa-en-la-santina-chiapa-de-corzo-_JM ... passing\n",
      "Cannot retrieve https://casa.metroscubicos.com/MLM-1416681243-amplia-casa-en-remate-tonala-chiapas-lm-_JM ... passing\n",
      "Cannot retrieve https://casa.metroscubicos.com/MLM-1408231891-casa-en-remate-bancario-en-tuxtla-gtz-jls-_JM ... passing\n",
      "Cannot retrieve https://casa.metroscubicos.com/MLM-936380364-casa-sola-en-venta-ciudad-maya-_JM ... passing\n",
      "Cannot retrieve https://casa.metroscubicos.com/MLM-1401130241-casa-en-preventa-fracc-villa-tziscao-_JM ... passing\n",
      "Cannot retrieve https://casa.metroscubicos.com/MLM-1358766230-sc-cv-430-casa-en-venta-en-la-mision-_JM ... passing\n",
      "Cannot retrieve https://casa.metroscubicos.com/MLM-1391493363-er-casa-en-cristobal-colon-comitan-chiapas-_JM ... passing\n",
      "Cannot retrieve https://casa.metroscubicos.com/MLM-1353476436-sccv406-se-vende-casa-en-barrio-san-francisco-tuxtla-gtz-_JM ... passing\n",
      "Cannot retrieve https://casa.metroscubicos.com/MLM-1401881473-sc-cv-505-flor-de-mayo-casa-amplia-_JM ... passing\n",
      "Cannot retrieve https://casa.metroscubicos.com/MLM-1353736118-sccv450-se-vende-casa-en-absalon-castellanos-suchiapa-_JM ... passing\n",
      "Cannot retrieve https://casa.metroscubicos.com/MLM-1353703639-sccv448-se-vende-casa-en-chiapoa-solidario-_JM ... passing\n",
      "Cannot retrieve https://casa.metroscubicos.com/MLM-950761010-casanueva-en-col-los-pajaros-_JM ... passing\n",
      "Cannot retrieve https://casa.metroscubicos.com/MLM-922363580-casa-sola-en-venta-fracc-arboledas-_JM ... passing\n",
      "Cannot retrieve https://casa.metroscubicos.com/MLM-1353538267-sccv440-se-vende-casa-en-el-fraccinamiento-el-diamante-_JM ... passing\n",
      "Cannot retrieve https://casa.metroscubicos.com/MLM-1402614241-sc-cv-316-3-de-marzo-preventa-de-casa-_JM ... passing\n",
      "Cannot retrieve https://casa.metroscubicos.com/MLM-1353703885-sccv451-se-vende-casa-en-suchiapa-_JM ... passing\n",
      "Cannot retrieve https://casa.metroscubicos.com/MLM-1353601811-sccv422-se-vende-casa-cerro-hueco-tuxtla-_JM ... passing\n",
      "Cannot retrieve https://casa.metroscubicos.com/MLM-1412043251-sc-cv-468-valle-dorado-preventa-de-casa-_JM ... passing\n",
      "Cannot retrieve https://casa.metroscubicos.com/MLM-1314221471-casa-en-venta-en-la-col-nino-de-atocha-_JM ... passing\n",
      "Cannot retrieve https://casa.metroscubicos.com/MLM-1416910192-amplia-casa-en-remate-tuxtla-gutierrez-lm-_JM ... passing\n",
      "Cannot retrieve https://casa.metroscubicos.com/MLM-1396169885-tad95114-remate-bancario-en-tulipanes-chiapas-dm-_JM ... passing\n",
      "Cannot retrieve https://casa.metroscubicos.com/MLM-1408176612-gran-oportunidad-en-tuxtla-gtz-chiapas-jls-_JM ... passing\n",
      "Cannot retrieve https://casa.metroscubicos.com/MLM-1401314164-sc-cv-491-aires-del-oriente-_JM ... passing\n",
      "Cannot retrieve https://casa.metroscubicos.com/MLM-1412343444-casa-en-venta-en-excelente-barrio-_JM ... passing\n",
      "Cannot retrieve https://casa.metroscubicos.com/MLM-949931917-fraccionamiento-molino-de-santo-domingo-en-san-cristobal-de-_JM ... passing\n",
      "Cannot retrieve https://casa.metroscubicos.com/MLM-948434984-fraccionamiento-molino-de-santo-domingo-en-periferico-norte-_JM ... passing\n",
      "Cannot retrieve https://casa.metroscubicos.com/MLM-1356466290-calle-chiapas-el-gigante-san-francisco-coaocalco-estado-d-_JM ... passing\n",
      "Cannot retrieve https://casa.metroscubicos.com/MLM-1388968796-dm1-casa-de-remate-bancario-en-tomas-cuesta-chiapas-_JM ... passing\n",
      "Cannot retrieve https://casa.metroscubicos.com/MLM-938157758-venta-casa-para-estrenar-en-fraccionamiento-privado-_JM ... passing\n",
      "Cannot retrieve https://casa.metroscubicos.com/MLM-1372743558--excelente-oportunidad-en-las-aguilas-tuxtla-gtzchis-_JM ... passing\n",
      "Cannot retrieve https://casa.metroscubicos.com/MLM-1412297239-casa-2-pisos-3-recamaras-y-3-banos-completos-_JM ... passing\n",
      "Cannot retrieve https://casa.metroscubicos.com/MLM-1399087078-casa-en-playa-linda-con-alberca--_JM ... passing\n",
      "Cannot retrieve https://casa.metroscubicos.com/MLM-1418968744-bonita-residencia-permuto-por-casa-campestre-en-clima-frio-_JM ... passing\n",
      "Cannot retrieve https://casa.metroscubicos.com/MLM-1397445776-se-vende-casa-nueva-economica-_JM ... passing\n",
      "Cannot retrieve https://casa.metroscubicos.com/MLM-1397435962-en-venta-casa-bastante-amplia-en-cacahoatan-chiapas-_JM ... passing\n",
      "Cannot retrieve https://casa.metroscubicos.com/MLM-1425327014-bonita-casa-en-venta-de-2-plantas-en-col-teran-tuxtla-gtz-_JM ... passing\n",
      "Cannot retrieve https://casa.metroscubicos.com/MLM-1416941801-casa-nueva-3-recamaras-2-12-banos-_JM ... passing\n",
      "Cannot retrieve https://casa.metroscubicos.com/MLM-1419873999-casa-para-habitacion-o-negocio-zona-comercial-_JM ... passing\n",
      "Cannot retrieve https://casa.metroscubicos.com/MLM-1414448627-casa-familiar-con-excelente-ubicacion-_JM ... passing\n",
      "Cannot retrieve https://casa.metroscubicos.com/MLM-1405906151-casa-de-2-pisos-3-recamaras-25-banos-garage-para-2-autos-_JM ... passing\n",
      "Cannot retrieve https://casa.metroscubicos.com/MLM-1405477912-casa-en-fraccionamiento-bonanza-_JM ... passing\n",
      "Cannot retrieve https://casa.metroscubicos.com/MLM-1411360002-casa-con-2-recamaras-y-3-banos-_JM ... passing\n",
      "Cannot retrieve https://casa.metroscubicos.com/MLM-1411565732-casa-de-un-nivel-dos-recamarasun-bano-en-comitan-_JM ... passing\n",
      "Cannot retrieve https://casa.metroscubicos.com/MLM-1416580321-casa-en-venta-2-pisos-amplia-trato-directo-fco-y-madero-_JM ... passing\n",
      "Cannot retrieve https://casa.metroscubicos.com/MLM-1413074190-casa-nueva-en-venta-_JM ... passing\n",
      "Cannot retrieve https://casa.metroscubicos.com/MLM-1400388927-casa-palenque-chiapas-tren-maya-_JM ... passing\n",
      "Cannot retrieve https://casa.metroscubicos.com/MLM-1404266662-estrena-bonita-casa-en-la-21-oriente-tapachula-_JM ... passing\n",
      "Cannot retrieve https://casa.metroscubicos.com/MLM-1399561561-casa-en-venta-tuxtla-gutierrez-chiapas-_JM ... passing\n",
      "Cannot retrieve https://casa.metroscubicos.com/MLM-1405661596-casa-nueva-excelente-ubicacion-con-escritura-publica-_JM ... passing\n",
      "Cannot retrieve https://casa.metroscubicos.com/MLM-1425062710-se-vende-casa-en-sexta-norte-poniente-358-_JM ... passing\n",
      "Cannot retrieve https://casa.metroscubicos.com/MLM-1400509945-casa-en-excelente-ubicacion-_JM ... passing\n",
      "Cannot retrieve https://casa.metroscubicos.com/MLM-1405633801-casa-de-2-recargas-y-1-bano-sala-comedor-_JM ... passing\n",
      "Cannot retrieve https://casa.metroscubicos.com/MLM-1399089330-propiedad-en-zona-comercial-tuxtla-gutierrez-_JM ... passing\n",
      "Cannot retrieve https://casa.metroscubicos.com/MLM-1396128353-casa-en-monterreal-_JM ... passing\n",
      "Cannot retrieve https://casa.metroscubicos.com/MLM-1415421647-casa-y-locales-para-negocio-_JM ... passing\n",
      "Cannot retrieve https://casa.metroscubicos.com/MLM-1399774823-casa-en-tonala-chiapas-_JM ... passing\n",
      "Cannot retrieve https://casa.metroscubicos.com/MLM-1398179350-casa-plan-de-ayala-_JM ... passing\n",
      "Cannot retrieve https://casa.metroscubicos.com/MLM-1414574940-casa-centrica-ubicada-cerca-de-calle-central-lado-sur-_JM ... passing\n",
      "Cannot retrieve https://casa.metroscubicos.com/MLM-1418284264-casa-bien-ubicada-_JM ... passing\n"
     ]
    },
    {
     "data": {
      "application/vnd.jupyter.widget-view+json": {
       "model_id": "e022cdc5923447189d3230042b1a37e1",
       "version_major": 2,
       "version_minor": 0
      },
      "text/plain": [
       "  0%|          | 0/3613 [00:00<?, ?it/s]"
      ]
     },
     "metadata": {},
     "output_type": "display_data"
    }
   ],
   "source": [
    "for ciudad in tqdm(entidadesLower):\n",
    "    # Read csv file and get links\n",
    "    csvfile = csvPath+ciudad+\".csv\"\n",
    "    data= pd.read_csv(csvfile)\n",
    "    links = data[\"link\"].tolist()\n",
    "    \n",
    "    # Loop through all links and webscrape info. Info is stores in a dictionary\n",
    "    for link in tqdm(links):\n",
    "        # Clean dictionary for each link\n",
    "        dict = {}\n",
    "        dict[\"link\"] = link\n",
    "        try: \n",
    "            asset_soup = soup(requests.get(link).content, 'html.parser')\n",
    "        except:\n",
    "            print(f\"Cannot retrieve {link} ... passing\")\n",
    "            continue\n",
    "        # Get price and currency symbol\n",
    "        if asset_soup.find('span', class_=\"andes-money-amount__currency-symbol\") != None:\n",
    "            simbolo = asset_soup.find('span', class_=\"andes-money-amount__currency-symbol\").get_text()\n",
    "        else:\n",
    "            simbolo = \"\"\n",
    "        if asset_soup.find('span', class_=\"andes-money-amount__fraction\") != None:\n",
    "            monto = asset_soup.find('span', class_=\"andes-money-amount__fraction\").get_text()\n",
    "        else:\n",
    "            monto = \"\"\n",
    "        precio = simbolo+monto\n",
    "        dict[\"precio\"] = precio\n",
    "        if asset_soup.find('ol', class_=\"andes-breadcrumb\") != None:\n",
    "            divBreadcrumbs = asset_soup.find('ol', class_=\"andes-breadcrumb\")\n",
    "            aBreadcrumbs = divBreadcrumbs.find_all('a')\n",
    "            if len(aBreadcrumbs) > 1:\n",
    "                dict['municipio'] = aBreadcrumbs[-2].get_text()\n",
    "                dict['colonia'] = aBreadcrumbs[-1].get_text()\n",
    "            elif len(aBreadcrumbs) == 1:\n",
    "                dict['municipio'] = \"\"\n",
    "                dict['colonia'] = aBreadcrumbs[-1].get_text()\n",
    "            else:\n",
    "                dict['municipio'] = \"\"\n",
    "                dict['colonia'] = \"\"\n",
    "        # Find table and process columns and rows\n",
    "        if asset_soup.find('tbody', class_=\"andes-table__body\") == None:\n",
    "            tabla = \"\"\n",
    "            pass\n",
    "        else:\n",
    "            tabla = asset_soup.find('tbody', class_=\"andes-table__body\")\n",
    "            tablaDatos = asset_soup.find('table', class_=\"andes-table\") \n",
    "            nombreDatos = tablaDatos.find_all('th')\n",
    "            dataDatos = tablaDatos.find_all('td')\n",
    "            for i in range(len(nombreDatos)):\n",
    "                dict[nombreDatos[i].get_text()] = dataDatos[i].get_text()\n",
    "        \n",
    "        # Add dictionary values to global list\n",
    "        if dict not in cityList:\n",
    "            cityList.append(dict)\n",
    "\n",
    "    results_df = pd.DataFrame(cityList)\n",
    "    final_df = pd.merge(data, results_df, on=\"link\")\n",
    "    file = csvPath+ciudad+\"-webscrapeResults.csv\"\n",
    "    final_df.to_csv(file, index=False)\n",
    "            "
   ]
  },
  {
   "cell_type": "code",
   "execution_count": null,
   "id": "29f609a5",
   "metadata": {},
   "outputs": [],
   "source": []
  },
  {
   "cell_type": "markdown",
   "id": "df5bd139",
   "metadata": {},
   "source": [
    "### Multithreading"
   ]
  },
  {
   "cell_type": "code",
   "execution_count": null,
   "id": "f34b2c2a",
   "metadata": {},
   "outputs": [],
   "source": [
    "from multiprocessing.dummy import Pool  # This is a thread-based Pool\n",
    "from multiprocessing import cpu_count"
   ]
  },
  {
   "cell_type": "code",
   "execution_count": null,
   "id": "b499d3ee",
   "metadata": {},
   "outputs": [],
   "source": []
  },
  {
   "cell_type": "code",
   "execution_count": null,
   "id": "80ead8ae",
   "metadata": {},
   "outputs": [],
   "source": [
    "def parseWeb(url):\n",
    "    dict = {}\n",
    "    try: \n",
    "        asset_soup = soup(requests.get(url).content, 'html.parser')\n",
    "    except:\n",
    "        print(f\"Cannot retrieve {url} ... passing\")\n",
    "        return dict\n",
    "    # Get price and currency symbol\n",
    "    if asset_soup.find('span', class_=\"andes-money-amount__currency-symbol\") != None:\n",
    "        simbolo = asset_soup.find('span', class_=\"andes-money-amount__currency-symbol\").get_text()\n",
    "    else:\n",
    "        simbolo = \"\"\n",
    "    if asset_soup.find('span', class_=\"andes-money-amount__fraction\") != None:\n",
    "        monto = asset_soup.find('span', class_=\"andes-money-amount__fraction\").get_text()\n",
    "    else:\n",
    "        monto = \"\"\n",
    "    precio = simbolo+monto\n",
    "    dict[\"precio\"] = precio\n",
    "    if asset_soup.find('ol', class_=\"andes-breadcrumb\") != None:\n",
    "        divBreadcrumbs = asset_soup.find('ol', class_=\"andes-breadcrumb\")\n",
    "        aBreadcrumbs = divBreadcrumbs.find_all('a')\n",
    "        dict['colonia'] = aBreadcrumbs[-1].get_text()\n",
    "        dict['municipio'] = aBreadcrumbs[-2].get_text()\n",
    "    # Find table and process columns and rows\n",
    "    if asset_soup.find('tbody', class_=\"andes-table__body\") == None:\n",
    "        tabla = \"\"\n",
    "        pass\n",
    "    else:\n",
    "        tabla = asset_soup.find('tbody', class_=\"andes-table__body\")\n",
    "        tablaDatos = asset_soup.find('table', class_=\"andes-table\") \n",
    "        nombreDatos = tablaDatos.find_all('th')\n",
    "        dataDatos = tablaDatos.find_all('td')\n",
    "        for i in range(len(nombreDatos)):\n",
    "            dict[nombreDatos[i].get_text()] = dataDatos[i].get_text()\n",
    "    #if dict not in cityList:\n",
    "    #    cityList.append(dict)\n",
    "    return dict"
   ]
  },
  {
   "cell_type": "code",
   "execution_count": null,
   "id": "67343eb9",
   "metadata": {},
   "outputs": [],
   "source": [
    "if __name__ == '__main__':\n",
    "    ciudad = entidadesLower[0]\n",
    "    csvfile = csvPath+ciudad+\".csv\"\n",
    "    data= pd.read_csv(csvfile)\n",
    "    links = data[\"link\"].tolist()\n",
    "    pool = Pool(cpu_count() * 200)\n",
    "    results = pool.map(parseWeb, links)\n",
    "    if results not in cityList and len(results) != 0:\n",
    "        cityList.append(results)\n",
    "        print(f\"Processed {len(results)} links\")"
   ]
  },
  {
   "cell_type": "code",
   "execution_count": null,
   "id": "f2ccab93",
   "metadata": {},
   "outputs": [],
   "source": []
  },
  {
   "cell_type": "code",
   "execution_count": null,
   "id": "78aacdeb",
   "metadata": {},
   "outputs": [],
   "source": []
  },
  {
   "cell_type": "code",
   "execution_count": null,
   "id": "f61a3d7e",
   "metadata": {},
   "outputs": [],
   "source": []
  }
 ],
 "metadata": {
  "kernelspec": {
   "display_name": "PythonData",
   "language": "python",
   "name": "pythondata"
  },
  "language_info": {
   "codemirror_mode": {
    "name": "ipython",
    "version": 3
   },
   "file_extension": ".py",
   "mimetype": "text/x-python",
   "name": "python",
   "nbconvert_exporter": "python",
   "pygments_lexer": "ipython3",
   "version": "3.7.11"
  }
 },
 "nbformat": 4,
 "nbformat_minor": 5
}
