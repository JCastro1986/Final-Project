{
 "cells": [
  {
   "cell_type": "markdown",
   "id": "d7a27dbe",
   "metadata": {},
   "source": [
    "## Webscrapping from metroscubicos.com"
   ]
  },
  {
   "cell_type": "code",
   "execution_count": 1,
   "id": "85fd59ba",
   "metadata": {},
   "outputs": [],
   "source": [
    "# import instances and libraries\n",
    "from splinter import Browser\n",
    "from bs4 import BeautifulSoup as soup\n",
    "from webdriver_manager.chrome import ChromeDriverManager\n",
    "import requests\n",
    "import re\n",
    "import pandas as pd\n",
    "# To show a progess bar in loops:\n",
    "from tqdm import tqdm_notebook as tqdm\n",
    "import csv"
   ]
  },
  {
   "cell_type": "code",
   "execution_count": 2,
   "id": "87dc794d",
   "metadata": {},
   "outputs": [],
   "source": [
    "# List all entities available in metroscubicos.com\n",
    "\n",
    "entidades = ['Aguascalientes', 'Baja California', 'Baja California Sur', 'Campeche', 'Chiapas', 'Chihuahua', 'Coahuila', 'Colima',\n",
    "            'Distrito Federal', 'Durango', 'Estado De México', 'Guanajuato', 'Guerrero', 'Hidalgo', 'Jalisco', 'Michoacán',\n",
    "             'Morelos', 'Nayarit', 'Nuevo León', 'Oaxaca', 'Puebla', 'Querétaro', 'Quintana Roo', 'San Luis Potosí',\n",
    "             'Sinaloa', 'Sonora', 'Tabasco', 'Tamaulipas', 'Tlaxcala', 'Veracruz', 'Yucatán', 'Zacatecas']"
   ]
  },
  {
   "cell_type": "code",
   "execution_count": 3,
   "id": "2636927e",
   "metadata": {},
   "outputs": [],
   "source": [
    "# make smallcaps and change spaces for dashes, and select which entities\n",
    "entidadesLower = [x.lower().replace(' ', '-') for x in entidades[26:27]]"
   ]
  },
  {
   "cell_type": "code",
   "execution_count": 4,
   "id": "a366f7b8",
   "metadata": {},
   "outputs": [
    {
     "data": {
      "text/plain": [
       "['tabasco']"
      ]
     },
     "execution_count": 4,
     "metadata": {},
     "output_type": "execute_result"
    }
   ],
   "source": [
    "entidadesLower"
   ]
  },
  {
   "cell_type": "code",
   "execution_count": 5,
   "id": "2e62faaa",
   "metadata": {},
   "outputs": [],
   "source": [
    "# Initialize variables\n",
    "cityList = []\n",
    "listLinks = []\n",
    "tipos = ['casas', 'departamentos', 'terrenos']\n",
    "baseUrl = 'https://inmuebles.metroscubicos.com/'\n",
    "csvPath = './Resources/'"
   ]
  },
  {
   "cell_type": "markdown",
   "id": "a61d249d",
   "metadata": {},
   "source": [
    "### Script para hacer el webscrapping por ciudad"
   ]
  },
  {
   "cell_type": "code",
   "execution_count": 6,
   "id": "a6722a41",
   "metadata": {},
   "outputs": [
    {
     "data": {
      "text/html": [
       "<div>\n",
       "<style scoped>\n",
       "    .dataframe tbody tr th:only-of-type {\n",
       "        vertical-align: middle;\n",
       "    }\n",
       "\n",
       "    .dataframe tbody tr th {\n",
       "        vertical-align: top;\n",
       "    }\n",
       "\n",
       "    .dataframe thead th {\n",
       "        text-align: right;\n",
       "    }\n",
       "</style>\n",
       "<table border=\"1\" class=\"dataframe\">\n",
       "  <thead>\n",
       "    <tr style=\"text-align: right;\">\n",
       "      <th></th>\n",
       "      <th>ID</th>\n",
       "      <th>entidad</th>\n",
       "      <th>tipo</th>\n",
       "      <th>link</th>\n",
       "    </tr>\n",
       "  </thead>\n",
       "  <tbody>\n",
       "    <tr>\n",
       "      <th>0</th>\n",
       "      <td>1423747872</td>\n",
       "      <td>tabasco</td>\n",
       "      <td>casa</td>\n",
       "      <td>https://casa.metroscubicos.com/MLM-1423747872-...</td>\n",
       "    </tr>\n",
       "    <tr>\n",
       "      <th>1</th>\n",
       "      <td>1423696758</td>\n",
       "      <td>tabasco</td>\n",
       "      <td>venta</td>\n",
       "      <td>https://casa.metroscubicos.com/MLM-1423696758-...</td>\n",
       "    </tr>\n",
       "    <tr>\n",
       "      <th>2</th>\n",
       "      <td>1424176251</td>\n",
       "      <td>tabasco</td>\n",
       "      <td>casa</td>\n",
       "      <td>https://casa.metroscubicos.com/MLM-1424176251-...</td>\n",
       "    </tr>\n",
       "    <tr>\n",
       "      <th>3</th>\n",
       "      <td>1423690954</td>\n",
       "      <td>tabasco</td>\n",
       "      <td>casa</td>\n",
       "      <td>https://casa.metroscubicos.com/MLM-1423690954-...</td>\n",
       "    </tr>\n",
       "    <tr>\n",
       "      <th>4</th>\n",
       "      <td>1423722482</td>\n",
       "      <td>tabasco</td>\n",
       "      <td>casa</td>\n",
       "      <td>https://casa.metroscubicos.com/MLM-1423722482-...</td>\n",
       "    </tr>\n",
       "  </tbody>\n",
       "</table>\n",
       "</div>"
      ],
      "text/plain": [
       "           ID  entidad   tipo  \\\n",
       "0  1423747872  tabasco   casa   \n",
       "1  1423696758  tabasco  venta   \n",
       "2  1424176251  tabasco   casa   \n",
       "3  1423690954  tabasco   casa   \n",
       "4  1423722482  tabasco   casa   \n",
       "\n",
       "                                                link  \n",
       "0  https://casa.metroscubicos.com/MLM-1423747872-...  \n",
       "1  https://casa.metroscubicos.com/MLM-1423696758-...  \n",
       "2  https://casa.metroscubicos.com/MLM-1424176251-...  \n",
       "3  https://casa.metroscubicos.com/MLM-1423690954-...  \n",
       "4  https://casa.metroscubicos.com/MLM-1423722482-...  "
      ]
     },
     "execution_count": 6,
     "metadata": {},
     "output_type": "execute_result"
    }
   ],
   "source": [
    "## Read file by city\n",
    "ciudad = entidadesLower[0]\n",
    "csvfile = csvPath+ciudad+\".csv\"\n",
    "data= pd.read_csv(csvfile)\n",
    "data.head()"
   ]
  },
  {
   "cell_type": "code",
   "execution_count": 7,
   "id": "e2d3cf95",
   "metadata": {},
   "outputs": [
    {
     "data": {
      "text/plain": [
       "['tabasco']"
      ]
     },
     "execution_count": 7,
     "metadata": {},
     "output_type": "execute_result"
    }
   ],
   "source": [
    "# Select which city\n",
    "ciudades = entidadesLower[0:2]\n",
    "ciudades"
   ]
  },
  {
   "cell_type": "code",
   "execution_count": 8,
   "id": "921c9775",
   "metadata": {},
   "outputs": [
    {
     "name": "stderr",
     "output_type": "stream",
     "text": [
      "C:\\Users\\Personal\\anaconda3\\envs\\PythonData\\lib\\site-packages\\ipykernel_launcher.py:1: TqdmDeprecationWarning: This function will be removed in tqdm==5.0.0\n",
      "Please use `tqdm.notebook.tqdm` instead of `tqdm.tqdm_notebook`\n",
      "  \"\"\"Entry point for launching an IPython kernel.\n"
     ]
    },
    {
     "data": {
      "application/vnd.jupyter.widget-view+json": {
       "model_id": "ffec214676384461af18d682e9b89f51",
       "version_major": 2,
       "version_minor": 0
      },
      "text/plain": [
       "  0%|          | 0/1 [00:00<?, ?it/s]"
      ]
     },
     "metadata": {},
     "output_type": "display_data"
    },
    {
     "name": "stderr",
     "output_type": "stream",
     "text": [
      "C:\\Users\\Personal\\anaconda3\\envs\\PythonData\\lib\\site-packages\\ipykernel_launcher.py:8: TqdmDeprecationWarning: This function will be removed in tqdm==5.0.0\n",
      "Please use `tqdm.notebook.tqdm` instead of `tqdm.tqdm_notebook`\n",
      "  \n"
     ]
    },
    {
     "data": {
      "application/vnd.jupyter.widget-view+json": {
       "model_id": "e4fdfd88695249559cbd14db90470cee",
       "version_major": 2,
       "version_minor": 0
      },
      "text/plain": [
       "  0%|          | 0/1882 [00:00<?, ?it/s]"
      ]
     },
     "metadata": {},
     "output_type": "display_data"
    }
   ],
   "source": [
    "for ciudad in tqdm(entidadesLower):\n",
    "    # Read csv file and get links\n",
    "    csvfile = csvPath+ciudad+\".csv\"\n",
    "    data= pd.read_csv(csvfile)\n",
    "    links = data[\"link\"].tolist()\n",
    "    \n",
    "    # Loop through all links and webscrape info. Info is stores in a dictionary\n",
    "    for link in tqdm(links):\n",
    "        # Clean dictionary for each link\n",
    "        dict = {}\n",
    "        dict[\"link\"] = link\n",
    "        try: \n",
    "            asset_soup = soup(requests.get(link).content, 'html.parser')\n",
    "        except:\n",
    "            print(f\"Cannot retrieve {link} ... passing\")\n",
    "            continue\n",
    "        # Get price and currency symbol\n",
    "        if asset_soup.find('span', class_=\"andes-money-amount__currency-symbol\") != None:\n",
    "            simbolo = asset_soup.find('span', class_=\"andes-money-amount__currency-symbol\").get_text()\n",
    "        else:\n",
    "            simbolo = \"\"\n",
    "        if asset_soup.find('span', class_=\"andes-money-amount__fraction\") != None:\n",
    "            monto = asset_soup.find('span', class_=\"andes-money-amount__fraction\").get_text()\n",
    "        else:\n",
    "            monto = \"\"\n",
    "        precio = simbolo+monto\n",
    "        dict[\"precio\"] = precio\n",
    "        if asset_soup.find('ol', class_=\"andes-breadcrumb\") != None:\n",
    "            divBreadcrumbs = asset_soup.find('ol', class_=\"andes-breadcrumb\")\n",
    "            aBreadcrumbs = divBreadcrumbs.find_all('a')\n",
    "            if len(aBreadcrumbs) > 1:\n",
    "                dict['municipio'] = aBreadcrumbs[-2].get_text()\n",
    "                dict['colonia'] = aBreadcrumbs[-1].get_text()\n",
    "            elif len(aBreadcrumbs) == 1:\n",
    "                dict['municipio'] = \"\"\n",
    "                dict['colonia'] = aBreadcrumbs[-1].get_text()\n",
    "            else:\n",
    "                dict['municipio'] = \"\"\n",
    "                dict['colonia'] = \"\"\n",
    "        # Find table and process columns and rows\n",
    "        if asset_soup.find('tbody', class_=\"andes-table__body\") == None:\n",
    "            tabla = \"\"\n",
    "            pass\n",
    "        else:\n",
    "            tabla = asset_soup.find('tbody', class_=\"andes-table__body\")\n",
    "            tablaDatos = asset_soup.find('table', class_=\"andes-table\") \n",
    "            nombreDatos = tablaDatos.find_all('th')\n",
    "            dataDatos = tablaDatos.find_all('td')\n",
    "            for i in range(len(nombreDatos)):\n",
    "                dict[nombreDatos[i].get_text()] = dataDatos[i].get_text()\n",
    "        \n",
    "        # Add dictionary values to global list\n",
    "        if dict not in cityList:\n",
    "            cityList.append(dict)\n",
    "\n",
    "    results_df = pd.DataFrame(cityList)\n",
    "    final_df = pd.merge(data, results_df, on=\"link\")\n",
    "    file = csvPath+ciudad+\"-webscrapeResults.csv\"\n",
    "    final_df.to_csv(file, index=False)\n",
    "            "
   ]
  },
  {
   "cell_type": "code",
   "execution_count": null,
   "id": "29f609a5",
   "metadata": {},
   "outputs": [],
   "source": []
  },
  {
   "cell_type": "markdown",
   "id": "df5bd139",
   "metadata": {},
   "source": [
    "### Multithreading"
   ]
  },
  {
   "cell_type": "code",
   "execution_count": null,
   "id": "f34b2c2a",
   "metadata": {},
   "outputs": [],
   "source": [
    "from multiprocessing.dummy import Pool  # This is a thread-based Pool\n",
    "from multiprocessing import cpu_count"
   ]
  },
  {
   "cell_type": "code",
   "execution_count": null,
   "id": "b499d3ee",
   "metadata": {},
   "outputs": [],
   "source": []
  },
  {
   "cell_type": "code",
   "execution_count": null,
   "id": "80ead8ae",
   "metadata": {},
   "outputs": [],
   "source": [
    "def parseWeb(url):\n",
    "    dict = {}\n",
    "    try: \n",
    "        asset_soup = soup(requests.get(url).content, 'html.parser')\n",
    "    except:\n",
    "        print(f\"Cannot retrieve {url} ... passing\")\n",
    "        return dict\n",
    "    # Get price and currency symbol\n",
    "    if asset_soup.find('span', class_=\"andes-money-amount__currency-symbol\") != None:\n",
    "        simbolo = asset_soup.find('span', class_=\"andes-money-amount__currency-symbol\").get_text()\n",
    "    else:\n",
    "        simbolo = \"\"\n",
    "    if asset_soup.find('span', class_=\"andes-money-amount__fraction\") != None:\n",
    "        monto = asset_soup.find('span', class_=\"andes-money-amount__fraction\").get_text()\n",
    "    else:\n",
    "        monto = \"\"\n",
    "    precio = simbolo+monto\n",
    "    dict[\"precio\"] = precio\n",
    "    if asset_soup.find('ol', class_=\"andes-breadcrumb\") != None:\n",
    "        divBreadcrumbs = asset_soup.find('ol', class_=\"andes-breadcrumb\")\n",
    "        aBreadcrumbs = divBreadcrumbs.find_all('a')\n",
    "        dict['colonia'] = aBreadcrumbs[-1].get_text()\n",
    "        dict['municipio'] = aBreadcrumbs[-2].get_text()\n",
    "    # Find table and process columns and rows\n",
    "    if asset_soup.find('tbody', class_=\"andes-table__body\") == None:\n",
    "        tabla = \"\"\n",
    "        pass\n",
    "    else:\n",
    "        tabla = asset_soup.find('tbody', class_=\"andes-table__body\")\n",
    "        tablaDatos = asset_soup.find('table', class_=\"andes-table\") \n",
    "        nombreDatos = tablaDatos.find_all('th')\n",
    "        dataDatos = tablaDatos.find_all('td')\n",
    "        for i in range(len(nombreDatos)):\n",
    "            dict[nombreDatos[i].get_text()] = dataDatos[i].get_text()\n",
    "    #if dict not in cityList:\n",
    "    #    cityList.append(dict)\n",
    "    return dict"
   ]
  },
  {
   "cell_type": "code",
   "execution_count": null,
   "id": "67343eb9",
   "metadata": {},
   "outputs": [],
   "source": [
    "if __name__ == '__main__':\n",
    "    ciudad = entidadesLower[0]\n",
    "    csvfile = csvPath+ciudad+\".csv\"\n",
    "    data= pd.read_csv(csvfile)\n",
    "    links = data[\"link\"].tolist()\n",
    "    pool = Pool(cpu_count() * 200)\n",
    "    results = pool.map(parseWeb, links)\n",
    "    if results not in cityList and len(results) != 0:\n",
    "        cityList.append(results)\n",
    "        print(f\"Processed {len(results)} links\")"
   ]
  },
  {
   "cell_type": "code",
   "execution_count": null,
   "id": "f2ccab93",
   "metadata": {},
   "outputs": [],
   "source": []
  },
  {
   "cell_type": "code",
   "execution_count": null,
   "id": "78aacdeb",
   "metadata": {},
   "outputs": [],
   "source": []
  },
  {
   "cell_type": "code",
   "execution_count": null,
   "id": "f61a3d7e",
   "metadata": {},
   "outputs": [],
   "source": []
  }
 ],
 "metadata": {
  "kernelspec": {
   "display_name": "PythonData",
   "language": "python",
   "name": "pythondata"
  },
  "language_info": {
   "codemirror_mode": {
    "name": "ipython",
    "version": 3
   },
   "file_extension": ".py",
   "mimetype": "text/x-python",
   "name": "python",
   "nbconvert_exporter": "python",
   "pygments_lexer": "ipython3",
   "version": "3.7.11"
  }
 },
 "nbformat": 4,
 "nbformat_minor": 5
}
