{
 "cells": [
  {
   "cell_type": "code",
   "execution_count": 1,
   "id": "948be85a",
   "metadata": {},
   "outputs": [],
   "source": [
    "# Import dependencies\n",
    "import pandas as pd\n",
    "import numpy as np\n",
    "import sklearn\n",
    "import os\n",
    "import seaborn as sns\n",
    "from path import Path\n",
    "\n",
    "import matplotlib as mpl\n",
    "import matplotlib.pyplot as plt"
   ]
  },
  {
   "cell_type": "code",
   "execution_count": 2,
   "id": "0a18078b",
   "metadata": {},
   "outputs": [
    {
     "data": {
      "text/html": [
       "<div>\n",
       "<style scoped>\n",
       "    .dataframe tbody tr th:only-of-type {\n",
       "        vertical-align: middle;\n",
       "    }\n",
       "\n",
       "    .dataframe tbody tr th {\n",
       "        vertical-align: top;\n",
       "    }\n",
       "\n",
       "    .dataframe thead th {\n",
       "        text-align: right;\n",
       "    }\n",
       "</style>\n",
       "<table border=\"1\" class=\"dataframe\">\n",
       "  <thead>\n",
       "    <tr style=\"text-align: right;\">\n",
       "      <th></th>\n",
       "      <th>ID</th>\n",
       "      <th>entidad</th>\n",
       "      <th>tipo</th>\n",
       "      <th>link</th>\n",
       "      <th>precio</th>\n",
       "      <th>municipio_x</th>\n",
       "      <th>colonia</th>\n",
       "      <th>m2Terreno</th>\n",
       "      <th>m2Construccion</th>\n",
       "      <th>estacionamientos</th>\n",
       "      <th>...</th>\n",
       "      <th>antiguedad</th>\n",
       "      <th>id</th>\n",
       "      <th>nombre</th>\n",
       "      <th>municipio_y</th>\n",
       "      <th>asentamiento</th>\n",
       "      <th>codigo_postal</th>\n",
       "      <th>latitud</th>\n",
       "      <th>longitud</th>\n",
       "      <th>nombreMun</th>\n",
       "      <th>estado</th>\n",
       "    </tr>\n",
       "  </thead>\n",
       "  <tbody>\n",
       "    <tr>\n",
       "      <th>0</th>\n",
       "      <td>1425548080</td>\n",
       "      <td>Aguascalientes</td>\n",
       "      <td>casas</td>\n",
       "      <td>https://casa.metroscubicos.com/MLM-1425548080-...</td>\n",
       "      <td>6500000.0</td>\n",
       "      <td>Aguascalientes</td>\n",
       "      <td>Los Pocitos</td>\n",
       "      <td>320.0</td>\n",
       "      <td>200.0</td>\n",
       "      <td>2.0</td>\n",
       "      <td>...</td>\n",
       "      <td>2.0</td>\n",
       "      <td>1001563.0</td>\n",
       "      <td>Los Pocitos</td>\n",
       "      <td>1001.0</td>\n",
       "      <td>Ejido</td>\n",
       "      <td>20328.0</td>\n",
       "      <td>21.923098</td>\n",
       "      <td>-102.343269</td>\n",
       "      <td>Aguascalientes</td>\n",
       "      <td>Aguascalientes</td>\n",
       "    </tr>\n",
       "    <tr>\n",
       "      <th>1</th>\n",
       "      <td>1397663987</td>\n",
       "      <td>Aguascalientes</td>\n",
       "      <td>casas</td>\n",
       "      <td>https://casa.metroscubicos.com/MLM-1397663987-...</td>\n",
       "      <td>1990000.0</td>\n",
       "      <td>Aguascalientes</td>\n",
       "      <td>Puesta del Sol</td>\n",
       "      <td>119.0</td>\n",
       "      <td>112.0</td>\n",
       "      <td>2.0</td>\n",
       "      <td>...</td>\n",
       "      <td>0.0</td>\n",
       "      <td>1001553.0</td>\n",
       "      <td>Puesta del Sol</td>\n",
       "      <td>1001.0</td>\n",
       "      <td>Fraccionamiento</td>\n",
       "      <td>20326.0</td>\n",
       "      <td>21.877844</td>\n",
       "      <td>-102.332252</td>\n",
       "      <td>Aguascalientes</td>\n",
       "      <td>Aguascalientes</td>\n",
       "    </tr>\n",
       "    <tr>\n",
       "      <th>2</th>\n",
       "      <td>1398422703</td>\n",
       "      <td>Aguascalientes</td>\n",
       "      <td>casas</td>\n",
       "      <td>https://casa.metroscubicos.com/MLM-1398422703-...</td>\n",
       "      <td>2750000.0</td>\n",
       "      <td>Aguascalientes</td>\n",
       "      <td>La Cantera</td>\n",
       "      <td>178.0</td>\n",
       "      <td>163.0</td>\n",
       "      <td>2.0</td>\n",
       "      <td>...</td>\n",
       "      <td>0.0</td>\n",
       "      <td>NaN</td>\n",
       "      <td>NaN</td>\n",
       "      <td>NaN</td>\n",
       "      <td>NaN</td>\n",
       "      <td>NaN</td>\n",
       "      <td>NaN</td>\n",
       "      <td>NaN</td>\n",
       "      <td>NaN</td>\n",
       "      <td>NaN</td>\n",
       "    </tr>\n",
       "    <tr>\n",
       "      <th>3</th>\n",
       "      <td>1413775652</td>\n",
       "      <td>Aguascalientes</td>\n",
       "      <td>casas</td>\n",
       "      <td>https://casa.metroscubicos.com/MLM-1413775652-...</td>\n",
       "      <td>3000000.0</td>\n",
       "      <td>Aguascalientes</td>\n",
       "      <td>Ejido El Refugio de Peñuelas</td>\n",
       "      <td>640.0</td>\n",
       "      <td>150.0</td>\n",
       "      <td>3.0</td>\n",
       "      <td>...</td>\n",
       "      <td>NaN</td>\n",
       "      <td>NaN</td>\n",
       "      <td>NaN</td>\n",
       "      <td>NaN</td>\n",
       "      <td>NaN</td>\n",
       "      <td>NaN</td>\n",
       "      <td>NaN</td>\n",
       "      <td>NaN</td>\n",
       "      <td>NaN</td>\n",
       "      <td>NaN</td>\n",
       "    </tr>\n",
       "    <tr>\n",
       "      <th>4</th>\n",
       "      <td>1411133552</td>\n",
       "      <td>Aguascalientes</td>\n",
       "      <td>casas</td>\n",
       "      <td>https://casa.metroscubicos.com/MLM-1411133552-...</td>\n",
       "      <td>1280000.0</td>\n",
       "      <td>Aguascalientes</td>\n",
       "      <td>Real De Haciendas</td>\n",
       "      <td>75.0</td>\n",
       "      <td>135.0</td>\n",
       "      <td>1.0</td>\n",
       "      <td>...</td>\n",
       "      <td>6.0</td>\n",
       "      <td>NaN</td>\n",
       "      <td>NaN</td>\n",
       "      <td>NaN</td>\n",
       "      <td>NaN</td>\n",
       "      <td>NaN</td>\n",
       "      <td>NaN</td>\n",
       "      <td>NaN</td>\n",
       "      <td>NaN</td>\n",
       "      <td>NaN</td>\n",
       "    </tr>\n",
       "  </tbody>\n",
       "</table>\n",
       "<p>5 rows × 24 columns</p>\n",
       "</div>"
      ],
      "text/plain": [
       "           ID          entidad   tipo  \\\n",
       "0  1425548080   Aguascalientes  casas   \n",
       "1  1397663987   Aguascalientes  casas   \n",
       "2  1398422703   Aguascalientes  casas   \n",
       "3  1413775652   Aguascalientes  casas   \n",
       "4  1411133552   Aguascalientes  casas   \n",
       "\n",
       "                                                link     precio  \\\n",
       "0  https://casa.metroscubicos.com/MLM-1425548080-...  6500000.0   \n",
       "1  https://casa.metroscubicos.com/MLM-1397663987-...  1990000.0   \n",
       "2  https://casa.metroscubicos.com/MLM-1398422703-...  2750000.0   \n",
       "3  https://casa.metroscubicos.com/MLM-1413775652-...  3000000.0   \n",
       "4  https://casa.metroscubicos.com/MLM-1411133552-...  1280000.0   \n",
       "\n",
       "      municipio_x                       colonia  m2Terreno  m2Construccion  \\\n",
       "0  Aguascalientes                   Los Pocitos      320.0           200.0   \n",
       "1  Aguascalientes                Puesta del Sol      119.0           112.0   \n",
       "2  Aguascalientes                    La Cantera      178.0           163.0   \n",
       "3  Aguascalientes  Ejido El Refugio de Peñuelas      640.0           150.0   \n",
       "4  Aguascalientes             Real De Haciendas       75.0           135.0   \n",
       "\n",
       "   estacionamientos  ...  antiguedad         id          nombre  municipio_y  \\\n",
       "0               2.0  ...         2.0  1001563.0     Los Pocitos       1001.0   \n",
       "1               2.0  ...         0.0  1001553.0  Puesta del Sol       1001.0   \n",
       "2               2.0  ...         0.0        NaN             NaN          NaN   \n",
       "3               3.0  ...         NaN        NaN             NaN          NaN   \n",
       "4               1.0  ...         6.0        NaN             NaN          NaN   \n",
       "\n",
       "      asentamiento  codigo_postal    latitud    longitud        nombreMun  \\\n",
       "0            Ejido        20328.0  21.923098 -102.343269   Aguascalientes   \n",
       "1  Fraccionamiento        20326.0  21.877844 -102.332252   Aguascalientes   \n",
       "2              NaN            NaN        NaN         NaN              NaN   \n",
       "3              NaN            NaN        NaN         NaN              NaN   \n",
       "4              NaN            NaN        NaN         NaN              NaN   \n",
       "\n",
       "            estado  \n",
       "0   Aguascalientes  \n",
       "1   Aguascalientes  \n",
       "2              NaN  \n",
       "3              NaN  \n",
       "4              NaN  \n",
       "\n",
       "[5 rows x 24 columns]"
      ]
     },
     "execution_count": 2,
     "metadata": {},
     "output_type": "execute_result"
    }
   ],
   "source": [
    "# Load data CSV\n",
    "file_path = Path('Resources/merged.csv')\n",
    "data_df = pd.read_csv(file_path, encoding=\"utf-8-sig\")\n",
    "data_df.head()"
   ]
  },
  {
   "cell_type": "code",
   "execution_count": 3,
   "id": "0c36c527",
   "metadata": {},
   "outputs": [
    {
     "name": "stdout",
     "output_type": "stream",
     "text": [
      "<class 'pandas.core.frame.DataFrame'>\n",
      "RangeIndex: 124176 entries, 0 to 124175\n",
      "Data columns (total 24 columns):\n",
      " #   Column            Non-Null Count   Dtype  \n",
      "---  ------            --------------   -----  \n",
      " 0   ID                124176 non-null  int64  \n",
      " 1   entidad           124176 non-null  object \n",
      " 2   tipo              124176 non-null  object \n",
      " 3   link              124176 non-null  object \n",
      " 4   precio            124176 non-null  float64\n",
      " 5   municipio_x       124176 non-null  object \n",
      " 6   colonia           124176 non-null  object \n",
      " 7   m2Terreno         116698 non-null  float64\n",
      " 8   m2Construccion    77064 non-null   float64\n",
      " 9   estacionamientos  53889 non-null   float64\n",
      " 10  mantenimiento     19815 non-null   float64\n",
      " 11  Recamaras         79177 non-null   float64\n",
      " 12  symbol            124176 non-null  object \n",
      " 13  Banos             80071 non-null   float64\n",
      " 14  antiguedad        61115 non-null   float64\n",
      " 15  id                43918 non-null   float64\n",
      " 16  nombre            43918 non-null   object \n",
      " 17  municipio_y       43918 non-null   float64\n",
      " 18  asentamiento      43918 non-null   object \n",
      " 19  codigo_postal     43918 non-null   float64\n",
      " 20  latitud           43918 non-null   float64\n",
      " 21  longitud          43918 non-null   float64\n",
      " 22  nombreMun         43918 non-null   object \n",
      " 23  estado            43918 non-null   object \n",
      "dtypes: float64(13), int64(1), object(10)\n",
      "memory usage: 22.7+ MB\n"
     ]
    }
   ],
   "source": [
    "data_df.info()"
   ]
  },
  {
   "cell_type": "code",
   "execution_count": 4,
   "id": "d2438350",
   "metadata": {},
   "outputs": [
    {
     "name": "stdout",
     "output_type": "stream",
     "text": [
      "<class 'pandas.core.frame.DataFrame'>\n",
      "RangeIndex: 124176 entries, 0 to 124175\n",
      "Data columns (total 12 columns):\n",
      " #   Column            Non-Null Count   Dtype  \n",
      "---  ------            --------------   -----  \n",
      " 0   entidad           124176 non-null  object \n",
      " 1   tipo              124176 non-null  object \n",
      " 2   precio            124176 non-null  float64\n",
      " 3   municipio_x       124176 non-null  object \n",
      " 4   m2Terreno         116698 non-null  float64\n",
      " 5   m2Construccion    77064 non-null   float64\n",
      " 6   estacionamientos  53889 non-null   float64\n",
      " 7   Recamaras         79177 non-null   float64\n",
      " 8   Banos             80071 non-null   float64\n",
      " 9   antiguedad        61115 non-null   float64\n",
      " 10  latitud           43918 non-null   float64\n",
      " 11  longitud          43918 non-null   float64\n",
      "dtypes: float64(9), object(3)\n",
      "memory usage: 11.4+ MB\n"
     ]
    }
   ],
   "source": [
    "data_df = data_df.drop(['ID', 'link', 'colonia', 'mantenimiento', 'symbol', 'id', 'nombre', 'municipio_y', 'asentamiento', 'codigo_postal', 'nombre', 'nombreMun', 'estado'], axis=1)\n",
    "data_df.info()"
   ]
  },
  {
   "cell_type": "code",
   "execution_count": 5,
   "id": "1adab9de",
   "metadata": {
    "scrolled": true
   },
   "outputs": [
    {
     "name": "stdout",
     "output_type": "stream",
     "text": [
      "<class 'pandas.core.frame.DataFrame'>\n",
      "Int64Index: 120278 entries, 0 to 124175\n",
      "Data columns (total 12 columns):\n",
      " #   Column            Non-Null Count   Dtype  \n",
      "---  ------            --------------   -----  \n",
      " 0   entidad           120278 non-null  object \n",
      " 1   tipo              120278 non-null  object \n",
      " 2   precio            120278 non-null  float64\n",
      " 3   municipio_x       120278 non-null  object \n",
      " 4   m2Terreno         112912 non-null  float64\n",
      " 5   m2Construccion    75241 non-null   float64\n",
      " 6   estacionamientos  52779 non-null   float64\n",
      " 7   Recamaras         77437 non-null   float64\n",
      " 8   Banos             78264 non-null   float64\n",
      " 9   antiguedad        60111 non-null   float64\n",
      " 10  latitud           42502 non-null   float64\n",
      " 11  longitud          42502 non-null   float64\n",
      "dtypes: float64(9), object(3)\n",
      "memory usage: 11.9+ MB\n"
     ]
    }
   ],
   "source": [
    "casas_df = data_df.loc[(data_df['tipo'] == 'casas')]\n",
    "casas_df.info()"
   ]
  },
  {
   "cell_type": "code",
   "execution_count": 6,
   "id": "58237e29",
   "metadata": {},
   "outputs": [
    {
     "name": "stdout",
     "output_type": "stream",
     "text": [
      "<class 'pandas.core.frame.DataFrame'>\n",
      "Int64Index: 120278 entries, 0 to 124175\n",
      "Data columns (total 11 columns):\n",
      " #   Column            Non-Null Count   Dtype  \n",
      "---  ------            --------------   -----  \n",
      " 0   entidad           120278 non-null  object \n",
      " 1   precio            120278 non-null  float64\n",
      " 2   municipio_x       120278 non-null  object \n",
      " 3   m2Terreno         112912 non-null  float64\n",
      " 4   m2Construccion    75241 non-null   float64\n",
      " 5   estacionamientos  52779 non-null   float64\n",
      " 6   Recamaras         77437 non-null   float64\n",
      " 7   Banos             78264 non-null   float64\n",
      " 8   antiguedad        60111 non-null   float64\n",
      " 9   latitud           42502 non-null   float64\n",
      " 10  longitud          42502 non-null   float64\n",
      "dtypes: float64(9), object(2)\n",
      "memory usage: 11.0+ MB\n"
     ]
    }
   ],
   "source": [
    "casas_df = casas_df.drop(['tipo'], axis=1)\n",
    "casas_df.info()"
   ]
  },
  {
   "cell_type": "code",
   "execution_count": 7,
   "id": "fdeedc1f",
   "metadata": {
    "scrolled": true
   },
   "outputs": [
    {
     "data": {
      "text/plain": [
       " 2.0      25996\n",
       " 1.0      14396\n",
       " 3.0       5489\n",
       " 4.0       3663\n",
       " 6.0       1081\n",
       " 5.0        862\n",
       " 8.0        356\n",
       " 10.0       337\n",
       " 7.0        192\n",
       " 12.0        82\n",
       " 15.0        81\n",
       " 9.0         60\n",
       " 20.0        37\n",
       " 13.0        17\n",
       " 50.0        15\n",
       " 11.0        12\n",
       " 30.0        12\n",
       " 16.0        11\n",
       " 18.0        10\n",
       " 14.0         9\n",
       " 734.0        7\n",
       " 40.0         7\n",
       " 95.0         4\n",
       " 17.0         3\n",
       " 33.0         3\n",
       " 100.0        3\n",
       " 22.0         2\n",
       " 25.0         2\n",
       " 0.0          2\n",
       " 60.0         2\n",
       " 72.0         2\n",
       " 35.0         2\n",
       " 126.0        1\n",
       " 24.0         1\n",
       " 150.0        1\n",
       " 48.0         1\n",
       " 64.0         1\n",
       " 32.0         1\n",
       " 140.0        1\n",
       " 250.0        1\n",
       " 27.0         1\n",
       " 70.0         1\n",
       " 45.0         1\n",
       " 55.0         1\n",
       " 110.0        1\n",
       " 146.0        1\n",
       "-5.0          1\n",
       " 28.0         1\n",
       "-2.0          1\n",
       " 410.0        1\n",
       " 80.0         1\n",
       " 19.0         1\n",
       " 43.0         1\n",
       " 200.0        1\n",
       "Name: estacionamientos, dtype: int64"
      ]
     },
     "execution_count": 7,
     "metadata": {},
     "output_type": "execute_result"
    }
   ],
   "source": [
    "casas_df.estacionamientos.value_counts()"
   ]
  },
  {
   "cell_type": "code",
   "execution_count": 8,
   "id": "53e8c11d",
   "metadata": {},
   "outputs": [
    {
     "name": "stdout",
     "output_type": "stream",
     "text": [
      "<class 'pandas.core.frame.DataFrame'>\n",
      "Int64Index: 120253 entries, 0 to 124175\n",
      "Data columns (total 11 columns):\n",
      " #   Column            Non-Null Count   Dtype  \n",
      "---  ------            --------------   -----  \n",
      " 0   entidad           120253 non-null  object \n",
      " 1   precio            120253 non-null  float64\n",
      " 2   municipio_x       120253 non-null  object \n",
      " 3   m2Terreno         112887 non-null  float64\n",
      " 4   m2Construccion    75216 non-null   float64\n",
      " 5   estacionamientos  52754 non-null   float64\n",
      " 6   Recamaras         77417 non-null   float64\n",
      " 7   Banos             78247 non-null   float64\n",
      " 8   antiguedad        60087 non-null   float64\n",
      " 9   latitud           42490 non-null   float64\n",
      " 10  longitud          42490 non-null   float64\n",
      "dtypes: float64(9), object(2)\n",
      "memory usage: 11.0+ MB\n"
     ]
    }
   ],
   "source": [
    "casas_df.drop(casas_df[casas_df['estacionamientos'] >= 80].index, inplace=True)\n",
    "casas_df.drop(casas_df[casas_df['estacionamientos'] < 0].index, inplace=True)\n",
    "casas_df.info()"
   ]
  },
  {
   "cell_type": "code",
   "execution_count": 9,
   "id": "48e0d215",
   "metadata": {},
   "outputs": [
    {
     "data": {
      "text/plain": [
       "3.0        37237\n",
       "2.0        19460\n",
       "4.0        12254\n",
       "1.0         3549\n",
       "5.0         2883\n",
       "6.0          994\n",
       "7.0          375\n",
       "8.0          248\n",
       "9.0          111\n",
       "10.0          87\n",
       "11.0          50\n",
       "12.0          39\n",
       "15.0          19\n",
       "14.0          18\n",
       "20.0          10\n",
       "13.0          10\n",
       "21.0           8\n",
       "18.0           8\n",
       "26.0           6\n",
       "24.0           5\n",
       "16.0           5\n",
       "17.0           4\n",
       "30.0           4\n",
       "33.0           3\n",
       "34.0           3\n",
       "38.0           3\n",
       "27.0           3\n",
       "512.0          2\n",
       "32.0           2\n",
       "28.0           2\n",
       "55.0           1\n",
       "51.0           1\n",
       "46.0           1\n",
       "49.0           1\n",
       "74.0           1\n",
       "300.0          1\n",
       "39.0           1\n",
       "64.0           1\n",
       "152.0          1\n",
       "90.0           1\n",
       "110.0          1\n",
       "21111.0        1\n",
       "37.0           1\n",
       "23.0           1\n",
       "22.0           1\n",
       "Name: Recamaras, dtype: int64"
      ]
     },
     "execution_count": 9,
     "metadata": {},
     "output_type": "execute_result"
    }
   ],
   "source": [
    "casas_df.Recamaras.value_counts()"
   ]
  },
  {
   "cell_type": "code",
   "execution_count": 10,
   "id": "38b8afe2",
   "metadata": {},
   "outputs": [
    {
     "name": "stdout",
     "output_type": "stream",
     "text": [
      "<class 'pandas.core.frame.DataFrame'>\n",
      "Int64Index: 120223 entries, 0 to 124175\n",
      "Data columns (total 11 columns):\n",
      " #   Column            Non-Null Count   Dtype  \n",
      "---  ------            --------------   -----  \n",
      " 0   entidad           120223 non-null  object \n",
      " 1   precio            120223 non-null  float64\n",
      " 2   municipio_x       120223 non-null  object \n",
      " 3   m2Terreno         112860 non-null  float64\n",
      " 4   m2Construccion    75187 non-null   float64\n",
      " 5   estacionamientos  52740 non-null   float64\n",
      " 6   Recamaras         77387 non-null   float64\n",
      " 7   Banos             78219 non-null   float64\n",
      " 8   antiguedad        60064 non-null   float64\n",
      " 9   latitud           42478 non-null   float64\n",
      " 10  longitud          42478 non-null   float64\n",
      "dtypes: float64(9), object(2)\n",
      "memory usage: 11.0+ MB\n"
     ]
    }
   ],
   "source": [
    "casas_df.drop(casas_df[casas_df['Recamaras'] >= 30].index, inplace=True)\n",
    "casas_df.info()"
   ]
  },
  {
   "cell_type": "code",
   "execution_count": 11,
   "id": "4dca424f",
   "metadata": {},
   "outputs": [
    {
     "data": {
      "text/plain": [
       "2.0       28658\n",
       "3.0       20685\n",
       "1.0       11724\n",
       "4.0       10645\n",
       "5.0        3956\n",
       "6.0        1426\n",
       "7.0         567\n",
       "8.0         236\n",
       "9.0          93\n",
       "10.0         73\n",
       "11.0         42\n",
       "12.0         24\n",
       "15.0         14\n",
       "14.0         11\n",
       "35.0          8\n",
       "13.0          8\n",
       "20.0          8\n",
       "18.0          7\n",
       "16.0          4\n",
       "22.0          4\n",
       "25.0          4\n",
       "17.0          3\n",
       "28.0          3\n",
       "27.0          3\n",
       "24.0          3\n",
       "23.0          2\n",
       "21.0          2\n",
       "3220.0        1\n",
       "125.0         1\n",
       "19.0          1\n",
       "45.0          1\n",
       "212.0         1\n",
       "30.0          1\n",
       "Name: Banos, dtype: int64"
      ]
     },
     "execution_count": 11,
     "metadata": {},
     "output_type": "execute_result"
    }
   ],
   "source": [
    "casas_df.Banos.value_counts()"
   ]
  },
  {
   "cell_type": "code",
   "execution_count": 12,
   "id": "be334511",
   "metadata": {},
   "outputs": [
    {
     "name": "stdout",
     "output_type": "stream",
     "text": [
      "<class 'pandas.core.frame.DataFrame'>\n",
      "Int64Index: 120210 entries, 0 to 124175\n",
      "Data columns (total 11 columns):\n",
      " #   Column            Non-Null Count   Dtype  \n",
      "---  ------            --------------   -----  \n",
      " 0   entidad           120210 non-null  object \n",
      " 1   precio            120210 non-null  float64\n",
      " 2   municipio_x       120210 non-null  object \n",
      " 3   m2Terreno         112849 non-null  float64\n",
      " 4   m2Construccion    75175 non-null   float64\n",
      " 5   estacionamientos  52730 non-null   float64\n",
      " 6   Recamaras         77374 non-null   float64\n",
      " 7   Banos             78206 non-null   float64\n",
      " 8   antiguedad        60052 non-null   float64\n",
      " 9   latitud           42474 non-null   float64\n",
      " 10  longitud          42474 non-null   float64\n",
      "dtypes: float64(9), object(2)\n",
      "memory usage: 11.0+ MB\n"
     ]
    }
   ],
   "source": [
    "casas_df.drop(casas_df[casas_df['Banos'] >= 30].index, inplace=True)\n",
    "casas_df.info()"
   ]
  },
  {
   "cell_type": "code",
   "execution_count": 13,
   "id": "13f92a36",
   "metadata": {},
   "outputs": [
    {
     "data": {
      "text/plain": [
       "0.0       36071\n",
       "1.0        3296\n",
       "12.0       1879\n",
       "2.0        1760\n",
       "10.0       1755\n",
       "          ...  \n",
       "2010.0        1\n",
       "90.0          1\n",
       "92.0          1\n",
       "1994.0        1\n",
       "250.0         1\n",
       "Name: antiguedad, Length: 138, dtype: int64"
      ]
     },
     "execution_count": 13,
     "metadata": {},
     "output_type": "execute_result"
    }
   ],
   "source": [
    "casas_df.antiguedad.value_counts()"
   ]
  },
  {
   "cell_type": "code",
   "execution_count": 14,
   "id": "817623fb",
   "metadata": {
    "scrolled": true
   },
   "outputs": [
    {
     "data": {
      "text/plain": [
       "0.0      36079\n",
       "1.0       3307\n",
       "12.0      1880\n",
       "2.0       1818\n",
       "10.0      1775\n",
       "         ...  \n",
       "202.0        1\n",
       "483.0        1\n",
       "90.0         1\n",
       "92.0         1\n",
       "250.0        1\n",
       "Name: antiguedad, Length: 102, dtype: int64"
      ]
     },
     "execution_count": 14,
     "metadata": {},
     "output_type": "execute_result"
    }
   ],
   "source": [
    "casas_df = casas_df.replace({1994.0:28, 2010:12, 1982.0:40, 1981.0:41, 1962.0:60, 1971.0:51, 2020.0:2, 2021.0:1, 1985.0:37, 1996.0:26, 2014.0:8,\n",
    "                            2009.0:13, 2012:10, 2000.0:22, 1992.0:30, 1987.0:35, 2022.0:0, 2001.0:21, 1997.0:25, 2013.0:9, 2019.0:3, 2007.0:15,\n",
    "                            2005.0:17, 2017.0:5, 1990.0:32, 2004.0:18, 2002.0:20, 1972.0:50, 2018.0:4, 2016.0:6, 2015.0:7, 2006.0:16, 2008.0:14,\n",
    "                            1984.0:38, 2011.0:11, 2023.0:0})\n",
    "casas_df.antiguedad.value_counts()"
   ]
  },
  {
   "cell_type": "code",
   "execution_count": 15,
   "id": "98c3421b",
   "metadata": {},
   "outputs": [
    {
     "name": "stdout",
     "output_type": "stream",
     "text": [
      "<class 'pandas.core.frame.DataFrame'>\n",
      "Int64Index: 120210 entries, 0 to 124175\n",
      "Data columns (total 11 columns):\n",
      " #   Column            Non-Null Count   Dtype  \n",
      "---  ------            --------------   -----  \n",
      " 0   entidad           120210 non-null  object \n",
      " 1   precio            120210 non-null  float64\n",
      " 2   municipio_x       120210 non-null  object \n",
      " 3   m2Terreno         112849 non-null  float64\n",
      " 4   m2Construccion    75175 non-null   float64\n",
      " 5   estacionamientos  52730 non-null   float64\n",
      " 6   Recamaras         77374 non-null   float64\n",
      " 7   Banos             78206 non-null   float64\n",
      " 8   antiguedad        60052 non-null   float64\n",
      " 9   latitud           42474 non-null   float64\n",
      " 10  longitud          42474 non-null   float64\n",
      "dtypes: float64(9), object(2)\n",
      "memory usage: 11.0+ MB\n"
     ]
    }
   ],
   "source": [
    "casas_df.info()"
   ]
  },
  {
   "cell_type": "code",
   "execution_count": 16,
   "id": "942e3853",
   "metadata": {},
   "outputs": [
    {
     "name": "stdout",
     "output_type": "stream",
     "text": [
      "<class 'pandas.core.frame.DataFrame'>\n",
      "Int64Index: 120210 entries, 0 to 124175\n",
      "Data columns (total 11 columns):\n",
      " #   Column            Non-Null Count   Dtype  \n",
      "---  ------            --------------   -----  \n",
      " 0   entidad           120210 non-null  object \n",
      " 1   precio            120210 non-null  float64\n",
      " 2   municipio_x       120210 non-null  object \n",
      " 3   m2Terreno         112849 non-null  float64\n",
      " 4   m2Construccion    75175 non-null   float64\n",
      " 5   estacionamientos  120210 non-null  float64\n",
      " 6   Recamaras         120210 non-null  float64\n",
      " 7   Banos             120210 non-null  float64\n",
      " 8   antiguedad        120210 non-null  float64\n",
      " 9   latitud           42474 non-null   float64\n",
      " 10  longitud          42474 non-null   float64\n",
      "dtypes: float64(9), object(2)\n",
      "memory usage: 11.0+ MB\n"
     ]
    }
   ],
   "source": [
    "casas_df['Banos'] = casas_df['Banos'].fillna(0)\n",
    "casas_df['estacionamientos'] = casas_df['estacionamientos'].fillna(0)\n",
    "casas_df['Recamaras'] = casas_df['Recamaras'].fillna(0)\n",
    "casas_df['antiguedad'] = casas_df['antiguedad'].fillna(0)\n",
    "casas_df.info()"
   ]
  },
  {
   "cell_type": "code",
   "execution_count": 17,
   "id": "5ed99f32",
   "metadata": {},
   "outputs": [
    {
     "name": "stdout",
     "output_type": "stream",
     "text": [
      "<class 'pandas.core.frame.DataFrame'>\n",
      "Int64Index: 120210 entries, 0 to 124175\n",
      "Data columns (total 11 columns):\n",
      " #   Column            Non-Null Count   Dtype  \n",
      "---  ------            --------------   -----  \n",
      " 0   entidad           120210 non-null  object \n",
      " 1   precio            120210 non-null  float64\n",
      " 2   municipio_x       120210 non-null  object \n",
      " 3   m2Terreno         112849 non-null  float64\n",
      " 4   m2Construccion    119819 non-null  float64\n",
      " 5   estacionamientos  120210 non-null  float64\n",
      " 6   Recamaras         120210 non-null  float64\n",
      " 7   Banos             120210 non-null  float64\n",
      " 8   antiguedad        120210 non-null  float64\n",
      " 9   latitud           42474 non-null   float64\n",
      " 10  longitud          42474 non-null   float64\n",
      "dtypes: float64(9), object(2)\n",
      "memory usage: 11.0+ MB\n"
     ]
    }
   ],
   "source": [
    "casas_df.m2Construccion.fillna(casas_df.m2Terreno, inplace=True)\n",
    "casas_df.info()"
   ]
  },
  {
   "cell_type": "code",
   "execution_count": 18,
   "id": "d3173ff2",
   "metadata": {},
   "outputs": [],
   "source": [
    "casas_df = casas_df.dropna()"
   ]
  },
  {
   "cell_type": "code",
   "execution_count": 19,
   "id": "8e41ffce",
   "metadata": {
    "scrolled": true
   },
   "outputs": [
    {
     "name": "stdout",
     "output_type": "stream",
     "text": [
      "<class 'pandas.core.frame.DataFrame'>\n",
      "Int64Index: 40193 entries, 0 to 124174\n",
      "Data columns (total 11 columns):\n",
      " #   Column            Non-Null Count  Dtype  \n",
      "---  ------            --------------  -----  \n",
      " 0   entidad           40193 non-null  object \n",
      " 1   precio            40193 non-null  float64\n",
      " 2   municipio_x       40193 non-null  object \n",
      " 3   m2Terreno         40193 non-null  float64\n",
      " 4   m2Construccion    40193 non-null  float64\n",
      " 5   estacionamientos  40193 non-null  float64\n",
      " 6   Recamaras         40193 non-null  float64\n",
      " 7   Banos             40193 non-null  float64\n",
      " 8   antiguedad        40193 non-null  float64\n",
      " 9   latitud           40193 non-null  float64\n",
      " 10  longitud          40193 non-null  float64\n",
      "dtypes: float64(9), object(2)\n",
      "memory usage: 3.7+ MB\n"
     ]
    }
   ],
   "source": [
    "casas_df.info()"
   ]
  },
  {
   "cell_type": "code",
   "execution_count": 20,
   "id": "d5472683",
   "metadata": {},
   "outputs": [
    {
     "name": "stdout",
     "output_type": "stream",
     "text": [
      "<class 'pandas.core.frame.DataFrame'>\n",
      "Int64Index: 40193 entries, 0 to 124174\n",
      "Data columns (total 11 columns):\n",
      " #   Column            Non-Null Count  Dtype  \n",
      "---  ------            --------------  -----  \n",
      " 0   entidad           40193 non-null  int32  \n",
      " 1   precio            40193 non-null  float64\n",
      " 2   municipio_x       40193 non-null  int32  \n",
      " 3   m2Terreno         40193 non-null  float64\n",
      " 4   m2Construccion    40193 non-null  float64\n",
      " 5   estacionamientos  40193 non-null  float64\n",
      " 6   Recamaras         40193 non-null  float64\n",
      " 7   Banos             40193 non-null  float64\n",
      " 8   antiguedad        40193 non-null  float64\n",
      " 9   latitud           40193 non-null  float64\n",
      " 10  longitud          40193 non-null  float64\n",
      "dtypes: float64(9), int32(2)\n",
      "memory usage: 3.4 MB\n"
     ]
    }
   ],
   "source": [
    "from sklearn.preprocessing import LabelEncoder\n",
    "# Use labelencoder to convert tipo into integers\n",
    "casas_df['entidad'] = LabelEncoder().fit_transform(casas_df['entidad'])\n",
    "casas_df['municipio_x'] = LabelEncoder().fit_transform(casas_df['municipio_x'])\n",
    "casas_df.info()"
   ]
  },
  {
   "cell_type": "code",
   "execution_count": 21,
   "id": "56044fd4",
   "metadata": {},
   "outputs": [
    {
     "data": {
      "text/plain": [
       "precio              1.000000\n",
       "latitud             0.007251\n",
       "longitud            0.004074\n",
       "m2Terreno           0.002741\n",
       "m2Construccion      0.002722\n",
       "estacionamientos   -0.005788\n",
       "entidad            -0.009209\n",
       "antiguedad         -0.011154\n",
       "municipio_x        -0.011803\n",
       "Banos              -0.026397\n",
       "Recamaras          -0.039356\n",
       "Name: precio, dtype: float64"
      ]
     },
     "execution_count": 21,
     "metadata": {},
     "output_type": "execute_result"
    }
   ],
   "source": [
    "corr_matrix = casas_df.corr()\n",
    "corr_matrix['precio'].sort_values(ascending=False)"
   ]
  },
  {
   "cell_type": "code",
   "execution_count": 22,
   "id": "60db4272",
   "metadata": {},
   "outputs": [],
   "source": [
    "# Define target\n",
    "y = casas_df['precio']\n",
    "X = casas_df.drop(columns='precio')"
   ]
  },
  {
   "cell_type": "code",
   "execution_count": 23,
   "id": "8eda65f5",
   "metadata": {},
   "outputs": [],
   "source": [
    "from sklearn import preprocessing\n",
    "lab = preprocessing.LabelEncoder()\n",
    "y_transformed = lab.fit_transform(y)"
   ]
  },
  {
   "cell_type": "code",
   "execution_count": 24,
   "id": "006a4cf4",
   "metadata": {},
   "outputs": [],
   "source": [
    "from sklearn.model_selection import train_test_split\n",
    "# Split into train and test sets\n",
    "X_train, X_test, y_train, y_test = train_test_split(X, y_transformed, test_size=0.2, random_state=1)"
   ]
  },
  {
   "cell_type": "code",
   "execution_count": 25,
   "id": "6dc50ec3",
   "metadata": {},
   "outputs": [
    {
     "name": "stdout",
     "output_type": "stream",
     "text": [
      "(32154, 10)\n",
      "(8039, 10)\n",
      "(32154,)\n",
      "(8039,)\n"
     ]
    }
   ],
   "source": [
    "print(X_train.shape)\n",
    "print(X_test.shape)\n",
    "print(y_train.shape)\n",
    "print(y_test.shape)"
   ]
  },
  {
   "cell_type": "code",
   "execution_count": 26,
   "id": "4c7ae222",
   "metadata": {},
   "outputs": [],
   "source": [
    "from sklearn.preprocessing import StandardScaler\n",
    "# Create StandardScaler instance\n",
    "scaler = StandardScaler()\n",
    "# Fit Standard Scaler\n",
    "X_scaler = scaler.fit(X_train)\n",
    "\n",
    "# Scale the data\n",
    "X_train_scaled = X_scaler.transform(X_train)\n",
    "X_test_scaled = X_scaler.transform(X_test)"
   ]
  },
  {
   "cell_type": "code",
   "execution_count": 27,
   "id": "012f8865",
   "metadata": {},
   "outputs": [
    {
     "ename": "MemoryError",
     "evalue": "could not allocate 947912704 bytes",
     "output_type": "error",
     "traceback": [
      "\u001b[1;31m---------------------------------------------------------------------------\u001b[0m",
      "\u001b[1;31mMemoryError\u001b[0m                               Traceback (most recent call last)",
      "\u001b[1;32m~\\AppData\\Local\\Temp/ipykernel_9828/3648544279.py\u001b[0m in \u001b[0;36m<module>\u001b[1;34m\u001b[0m\n\u001b[0;32m      4\u001b[0m \u001b[1;33m\u001b[0m\u001b[0m\n\u001b[0;32m      5\u001b[0m \u001b[1;31m# Fitting the model\u001b[0m\u001b[1;33m\u001b[0m\u001b[1;33m\u001b[0m\u001b[1;33m\u001b[0m\u001b[0m\n\u001b[1;32m----> 6\u001b[1;33m \u001b[0mmodel\u001b[0m \u001b[1;33m=\u001b[0m \u001b[0mmodel\u001b[0m\u001b[1;33m.\u001b[0m\u001b[0mfit\u001b[0m\u001b[1;33m(\u001b[0m\u001b[0mX_train_scaled\u001b[0m\u001b[1;33m,\u001b[0m \u001b[0my_train\u001b[0m\u001b[1;33m)\u001b[0m\u001b[1;33m\u001b[0m\u001b[1;33m\u001b[0m\u001b[0m\n\u001b[0m",
      "\u001b[1;32m~\\anaconda3\\envs\\mlenv\\lib\\site-packages\\sklearn\\ensemble\\_forest.py\u001b[0m in \u001b[0;36mfit\u001b[1;34m(self, X, y, sample_weight)\u001b[0m\n\u001b[0;32m    391\u001b[0m                     \u001b[0mverbose\u001b[0m\u001b[1;33m=\u001b[0m\u001b[0mself\u001b[0m\u001b[1;33m.\u001b[0m\u001b[0mverbose\u001b[0m\u001b[1;33m,\u001b[0m \u001b[0mclass_weight\u001b[0m\u001b[1;33m=\u001b[0m\u001b[0mself\u001b[0m\u001b[1;33m.\u001b[0m\u001b[0mclass_weight\u001b[0m\u001b[1;33m,\u001b[0m\u001b[1;33m\u001b[0m\u001b[1;33m\u001b[0m\u001b[0m\n\u001b[0;32m    392\u001b[0m                     n_samples_bootstrap=n_samples_bootstrap)\n\u001b[1;32m--> 393\u001b[1;33m                 for i, t in enumerate(trees))\n\u001b[0m\u001b[0;32m    394\u001b[0m \u001b[1;33m\u001b[0m\u001b[0m\n\u001b[0;32m    395\u001b[0m             \u001b[1;31m# Collect newly grown trees\u001b[0m\u001b[1;33m\u001b[0m\u001b[1;33m\u001b[0m\u001b[1;33m\u001b[0m\u001b[0m\n",
      "\u001b[1;32m~\\anaconda3\\envs\\mlenv\\lib\\site-packages\\joblib\\parallel.py\u001b[0m in \u001b[0;36m__call__\u001b[1;34m(self, iterable)\u001b[0m\n\u001b[0;32m   1044\u001b[0m                 \u001b[0mself\u001b[0m\u001b[1;33m.\u001b[0m\u001b[0m_iterating\u001b[0m \u001b[1;33m=\u001b[0m \u001b[0mself\u001b[0m\u001b[1;33m.\u001b[0m\u001b[0m_original_iterator\u001b[0m \u001b[1;32mis\u001b[0m \u001b[1;32mnot\u001b[0m \u001b[1;32mNone\u001b[0m\u001b[1;33m\u001b[0m\u001b[1;33m\u001b[0m\u001b[0m\n\u001b[0;32m   1045\u001b[0m \u001b[1;33m\u001b[0m\u001b[0m\n\u001b[1;32m-> 1046\u001b[1;33m             \u001b[1;32mwhile\u001b[0m \u001b[0mself\u001b[0m\u001b[1;33m.\u001b[0m\u001b[0mdispatch_one_batch\u001b[0m\u001b[1;33m(\u001b[0m\u001b[0miterator\u001b[0m\u001b[1;33m)\u001b[0m\u001b[1;33m:\u001b[0m\u001b[1;33m\u001b[0m\u001b[1;33m\u001b[0m\u001b[0m\n\u001b[0m\u001b[0;32m   1047\u001b[0m                 \u001b[1;32mpass\u001b[0m\u001b[1;33m\u001b[0m\u001b[1;33m\u001b[0m\u001b[0m\n\u001b[0;32m   1048\u001b[0m \u001b[1;33m\u001b[0m\u001b[0m\n",
      "\u001b[1;32m~\\anaconda3\\envs\\mlenv\\lib\\site-packages\\joblib\\parallel.py\u001b[0m in \u001b[0;36mdispatch_one_batch\u001b[1;34m(self, iterator)\u001b[0m\n\u001b[0;32m    859\u001b[0m                 \u001b[1;32mreturn\u001b[0m \u001b[1;32mFalse\u001b[0m\u001b[1;33m\u001b[0m\u001b[1;33m\u001b[0m\u001b[0m\n\u001b[0;32m    860\u001b[0m             \u001b[1;32melse\u001b[0m\u001b[1;33m:\u001b[0m\u001b[1;33m\u001b[0m\u001b[1;33m\u001b[0m\u001b[0m\n\u001b[1;32m--> 861\u001b[1;33m                 \u001b[0mself\u001b[0m\u001b[1;33m.\u001b[0m\u001b[0m_dispatch\u001b[0m\u001b[1;33m(\u001b[0m\u001b[0mtasks\u001b[0m\u001b[1;33m)\u001b[0m\u001b[1;33m\u001b[0m\u001b[1;33m\u001b[0m\u001b[0m\n\u001b[0m\u001b[0;32m    862\u001b[0m                 \u001b[1;32mreturn\u001b[0m \u001b[1;32mTrue\u001b[0m\u001b[1;33m\u001b[0m\u001b[1;33m\u001b[0m\u001b[0m\n\u001b[0;32m    863\u001b[0m \u001b[1;33m\u001b[0m\u001b[0m\n",
      "\u001b[1;32m~\\anaconda3\\envs\\mlenv\\lib\\site-packages\\joblib\\parallel.py\u001b[0m in \u001b[0;36m_dispatch\u001b[1;34m(self, batch)\u001b[0m\n\u001b[0;32m    777\u001b[0m         \u001b[1;32mwith\u001b[0m \u001b[0mself\u001b[0m\u001b[1;33m.\u001b[0m\u001b[0m_lock\u001b[0m\u001b[1;33m:\u001b[0m\u001b[1;33m\u001b[0m\u001b[1;33m\u001b[0m\u001b[0m\n\u001b[0;32m    778\u001b[0m             \u001b[0mjob_idx\u001b[0m \u001b[1;33m=\u001b[0m \u001b[0mlen\u001b[0m\u001b[1;33m(\u001b[0m\u001b[0mself\u001b[0m\u001b[1;33m.\u001b[0m\u001b[0m_jobs\u001b[0m\u001b[1;33m)\u001b[0m\u001b[1;33m\u001b[0m\u001b[1;33m\u001b[0m\u001b[0m\n\u001b[1;32m--> 779\u001b[1;33m             \u001b[0mjob\u001b[0m \u001b[1;33m=\u001b[0m \u001b[0mself\u001b[0m\u001b[1;33m.\u001b[0m\u001b[0m_backend\u001b[0m\u001b[1;33m.\u001b[0m\u001b[0mapply_async\u001b[0m\u001b[1;33m(\u001b[0m\u001b[0mbatch\u001b[0m\u001b[1;33m,\u001b[0m \u001b[0mcallback\u001b[0m\u001b[1;33m=\u001b[0m\u001b[0mcb\u001b[0m\u001b[1;33m)\u001b[0m\u001b[1;33m\u001b[0m\u001b[1;33m\u001b[0m\u001b[0m\n\u001b[0m\u001b[0;32m    780\u001b[0m             \u001b[1;31m# A job can complete so quickly than its callback is\u001b[0m\u001b[1;33m\u001b[0m\u001b[1;33m\u001b[0m\u001b[1;33m\u001b[0m\u001b[0m\n\u001b[0;32m    781\u001b[0m             \u001b[1;31m# called before we get here, causing self._jobs to\u001b[0m\u001b[1;33m\u001b[0m\u001b[1;33m\u001b[0m\u001b[1;33m\u001b[0m\u001b[0m\n",
      "\u001b[1;32m~\\anaconda3\\envs\\mlenv\\lib\\site-packages\\joblib\\_parallel_backends.py\u001b[0m in \u001b[0;36mapply_async\u001b[1;34m(self, func, callback)\u001b[0m\n\u001b[0;32m    206\u001b[0m     \u001b[1;32mdef\u001b[0m \u001b[0mapply_async\u001b[0m\u001b[1;33m(\u001b[0m\u001b[0mself\u001b[0m\u001b[1;33m,\u001b[0m \u001b[0mfunc\u001b[0m\u001b[1;33m,\u001b[0m \u001b[0mcallback\u001b[0m\u001b[1;33m=\u001b[0m\u001b[1;32mNone\u001b[0m\u001b[1;33m)\u001b[0m\u001b[1;33m:\u001b[0m\u001b[1;33m\u001b[0m\u001b[1;33m\u001b[0m\u001b[0m\n\u001b[0;32m    207\u001b[0m         \u001b[1;34m\"\"\"Schedule a func to be run\"\"\"\u001b[0m\u001b[1;33m\u001b[0m\u001b[1;33m\u001b[0m\u001b[0m\n\u001b[1;32m--> 208\u001b[1;33m         \u001b[0mresult\u001b[0m \u001b[1;33m=\u001b[0m \u001b[0mImmediateResult\u001b[0m\u001b[1;33m(\u001b[0m\u001b[0mfunc\u001b[0m\u001b[1;33m)\u001b[0m\u001b[1;33m\u001b[0m\u001b[1;33m\u001b[0m\u001b[0m\n\u001b[0m\u001b[0;32m    209\u001b[0m         \u001b[1;32mif\u001b[0m \u001b[0mcallback\u001b[0m\u001b[1;33m:\u001b[0m\u001b[1;33m\u001b[0m\u001b[1;33m\u001b[0m\u001b[0m\n\u001b[0;32m    210\u001b[0m             \u001b[0mcallback\u001b[0m\u001b[1;33m(\u001b[0m\u001b[0mresult\u001b[0m\u001b[1;33m)\u001b[0m\u001b[1;33m\u001b[0m\u001b[1;33m\u001b[0m\u001b[0m\n",
      "\u001b[1;32m~\\anaconda3\\envs\\mlenv\\lib\\site-packages\\joblib\\_parallel_backends.py\u001b[0m in \u001b[0;36m__init__\u001b[1;34m(self, batch)\u001b[0m\n\u001b[0;32m    570\u001b[0m         \u001b[1;31m# Don't delay the application, to avoid keeping the input\u001b[0m\u001b[1;33m\u001b[0m\u001b[1;33m\u001b[0m\u001b[1;33m\u001b[0m\u001b[0m\n\u001b[0;32m    571\u001b[0m         \u001b[1;31m# arguments in memory\u001b[0m\u001b[1;33m\u001b[0m\u001b[1;33m\u001b[0m\u001b[1;33m\u001b[0m\u001b[0m\n\u001b[1;32m--> 572\u001b[1;33m         \u001b[0mself\u001b[0m\u001b[1;33m.\u001b[0m\u001b[0mresults\u001b[0m \u001b[1;33m=\u001b[0m \u001b[0mbatch\u001b[0m\u001b[1;33m(\u001b[0m\u001b[1;33m)\u001b[0m\u001b[1;33m\u001b[0m\u001b[1;33m\u001b[0m\u001b[0m\n\u001b[0m\u001b[0;32m    573\u001b[0m \u001b[1;33m\u001b[0m\u001b[0m\n\u001b[0;32m    574\u001b[0m     \u001b[1;32mdef\u001b[0m \u001b[0mget\u001b[0m\u001b[1;33m(\u001b[0m\u001b[0mself\u001b[0m\u001b[1;33m)\u001b[0m\u001b[1;33m:\u001b[0m\u001b[1;33m\u001b[0m\u001b[1;33m\u001b[0m\u001b[0m\n",
      "\u001b[1;32m~\\anaconda3\\envs\\mlenv\\lib\\site-packages\\joblib\\parallel.py\u001b[0m in \u001b[0;36m__call__\u001b[1;34m(self)\u001b[0m\n\u001b[0;32m    261\u001b[0m         \u001b[1;32mwith\u001b[0m \u001b[0mparallel_backend\u001b[0m\u001b[1;33m(\u001b[0m\u001b[0mself\u001b[0m\u001b[1;33m.\u001b[0m\u001b[0m_backend\u001b[0m\u001b[1;33m,\u001b[0m \u001b[0mn_jobs\u001b[0m\u001b[1;33m=\u001b[0m\u001b[0mself\u001b[0m\u001b[1;33m.\u001b[0m\u001b[0m_n_jobs\u001b[0m\u001b[1;33m)\u001b[0m\u001b[1;33m:\u001b[0m\u001b[1;33m\u001b[0m\u001b[1;33m\u001b[0m\u001b[0m\n\u001b[0;32m    262\u001b[0m             return [func(*args, **kwargs)\n\u001b[1;32m--> 263\u001b[1;33m                     for func, args, kwargs in self.items]\n\u001b[0m\u001b[0;32m    264\u001b[0m \u001b[1;33m\u001b[0m\u001b[0m\n\u001b[0;32m    265\u001b[0m     \u001b[1;32mdef\u001b[0m \u001b[0m__reduce__\u001b[0m\u001b[1;33m(\u001b[0m\u001b[0mself\u001b[0m\u001b[1;33m)\u001b[0m\u001b[1;33m:\u001b[0m\u001b[1;33m\u001b[0m\u001b[1;33m\u001b[0m\u001b[0m\n",
      "\u001b[1;32m~\\anaconda3\\envs\\mlenv\\lib\\site-packages\\joblib\\parallel.py\u001b[0m in \u001b[0;36m<listcomp>\u001b[1;34m(.0)\u001b[0m\n\u001b[0;32m    261\u001b[0m         \u001b[1;32mwith\u001b[0m \u001b[0mparallel_backend\u001b[0m\u001b[1;33m(\u001b[0m\u001b[0mself\u001b[0m\u001b[1;33m.\u001b[0m\u001b[0m_backend\u001b[0m\u001b[1;33m,\u001b[0m \u001b[0mn_jobs\u001b[0m\u001b[1;33m=\u001b[0m\u001b[0mself\u001b[0m\u001b[1;33m.\u001b[0m\u001b[0m_n_jobs\u001b[0m\u001b[1;33m)\u001b[0m\u001b[1;33m:\u001b[0m\u001b[1;33m\u001b[0m\u001b[1;33m\u001b[0m\u001b[0m\n\u001b[0;32m    262\u001b[0m             return [func(*args, **kwargs)\n\u001b[1;32m--> 263\u001b[1;33m                     for func, args, kwargs in self.items]\n\u001b[0m\u001b[0;32m    264\u001b[0m \u001b[1;33m\u001b[0m\u001b[0m\n\u001b[0;32m    265\u001b[0m     \u001b[1;32mdef\u001b[0m \u001b[0m__reduce__\u001b[0m\u001b[1;33m(\u001b[0m\u001b[0mself\u001b[0m\u001b[1;33m)\u001b[0m\u001b[1;33m:\u001b[0m\u001b[1;33m\u001b[0m\u001b[1;33m\u001b[0m\u001b[0m\n",
      "\u001b[1;32m~\\anaconda3\\envs\\mlenv\\lib\\site-packages\\sklearn\\utils\\fixes.py\u001b[0m in \u001b[0;36m__call__\u001b[1;34m(self, *args, **kwargs)\u001b[0m\n\u001b[0;32m    220\u001b[0m     \u001b[1;32mdef\u001b[0m \u001b[0m__call__\u001b[0m\u001b[1;33m(\u001b[0m\u001b[0mself\u001b[0m\u001b[1;33m,\u001b[0m \u001b[1;33m*\u001b[0m\u001b[0margs\u001b[0m\u001b[1;33m,\u001b[0m \u001b[1;33m**\u001b[0m\u001b[0mkwargs\u001b[0m\u001b[1;33m)\u001b[0m\u001b[1;33m:\u001b[0m\u001b[1;33m\u001b[0m\u001b[1;33m\u001b[0m\u001b[0m\n\u001b[0;32m    221\u001b[0m         \u001b[1;32mwith\u001b[0m \u001b[0mconfig_context\u001b[0m\u001b[1;33m(\u001b[0m\u001b[1;33m**\u001b[0m\u001b[0mself\u001b[0m\u001b[1;33m.\u001b[0m\u001b[0mconfig\u001b[0m\u001b[1;33m)\u001b[0m\u001b[1;33m:\u001b[0m\u001b[1;33m\u001b[0m\u001b[1;33m\u001b[0m\u001b[0m\n\u001b[1;32m--> 222\u001b[1;33m             \u001b[1;32mreturn\u001b[0m \u001b[0mself\u001b[0m\u001b[1;33m.\u001b[0m\u001b[0mfunction\u001b[0m\u001b[1;33m(\u001b[0m\u001b[1;33m*\u001b[0m\u001b[0margs\u001b[0m\u001b[1;33m,\u001b[0m \u001b[1;33m**\u001b[0m\u001b[0mkwargs\u001b[0m\u001b[1;33m)\u001b[0m\u001b[1;33m\u001b[0m\u001b[1;33m\u001b[0m\u001b[0m\n\u001b[0m",
      "\u001b[1;32m~\\anaconda3\\envs\\mlenv\\lib\\site-packages\\sklearn\\ensemble\\_forest.py\u001b[0m in \u001b[0;36m_parallel_build_trees\u001b[1;34m(tree, forest, X, y, sample_weight, tree_idx, n_trees, verbose, class_weight, n_samples_bootstrap)\u001b[0m\n\u001b[0;32m    167\u001b[0m                                                         indices=indices)\n\u001b[0;32m    168\u001b[0m \u001b[1;33m\u001b[0m\u001b[0m\n\u001b[1;32m--> 169\u001b[1;33m         \u001b[0mtree\u001b[0m\u001b[1;33m.\u001b[0m\u001b[0mfit\u001b[0m\u001b[1;33m(\u001b[0m\u001b[0mX\u001b[0m\u001b[1;33m,\u001b[0m \u001b[0my\u001b[0m\u001b[1;33m,\u001b[0m \u001b[0msample_weight\u001b[0m\u001b[1;33m=\u001b[0m\u001b[0mcurr_sample_weight\u001b[0m\u001b[1;33m,\u001b[0m \u001b[0mcheck_input\u001b[0m\u001b[1;33m=\u001b[0m\u001b[1;32mFalse\u001b[0m\u001b[1;33m)\u001b[0m\u001b[1;33m\u001b[0m\u001b[1;33m\u001b[0m\u001b[0m\n\u001b[0m\u001b[0;32m    170\u001b[0m     \u001b[1;32melse\u001b[0m\u001b[1;33m:\u001b[0m\u001b[1;33m\u001b[0m\u001b[1;33m\u001b[0m\u001b[0m\n\u001b[0;32m    171\u001b[0m         \u001b[0mtree\u001b[0m\u001b[1;33m.\u001b[0m\u001b[0mfit\u001b[0m\u001b[1;33m(\u001b[0m\u001b[0mX\u001b[0m\u001b[1;33m,\u001b[0m \u001b[0my\u001b[0m\u001b[1;33m,\u001b[0m \u001b[0msample_weight\u001b[0m\u001b[1;33m=\u001b[0m\u001b[0msample_weight\u001b[0m\u001b[1;33m,\u001b[0m \u001b[0mcheck_input\u001b[0m\u001b[1;33m=\u001b[0m\u001b[1;32mFalse\u001b[0m\u001b[1;33m)\u001b[0m\u001b[1;33m\u001b[0m\u001b[1;33m\u001b[0m\u001b[0m\n",
      "\u001b[1;32m~\\anaconda3\\envs\\mlenv\\lib\\site-packages\\sklearn\\tree\\_classes.py\u001b[0m in \u001b[0;36mfit\u001b[1;34m(self, X, y, sample_weight, check_input, X_idx_sorted)\u001b[0m\n\u001b[0;32m    905\u001b[0m             \u001b[0msample_weight\u001b[0m\u001b[1;33m=\u001b[0m\u001b[0msample_weight\u001b[0m\u001b[1;33m,\u001b[0m\u001b[1;33m\u001b[0m\u001b[1;33m\u001b[0m\u001b[0m\n\u001b[0;32m    906\u001b[0m             \u001b[0mcheck_input\u001b[0m\u001b[1;33m=\u001b[0m\u001b[0mcheck_input\u001b[0m\u001b[1;33m,\u001b[0m\u001b[1;33m\u001b[0m\u001b[1;33m\u001b[0m\u001b[0m\n\u001b[1;32m--> 907\u001b[1;33m             X_idx_sorted=X_idx_sorted)\n\u001b[0m\u001b[0;32m    908\u001b[0m         \u001b[1;32mreturn\u001b[0m \u001b[0mself\u001b[0m\u001b[1;33m\u001b[0m\u001b[1;33m\u001b[0m\u001b[0m\n\u001b[0;32m    909\u001b[0m \u001b[1;33m\u001b[0m\u001b[0m\n",
      "\u001b[1;32m~\\anaconda3\\envs\\mlenv\\lib\\site-packages\\sklearn\\tree\\_classes.py\u001b[0m in \u001b[0;36mfit\u001b[1;34m(self, X, y, sample_weight, check_input, X_idx_sorted)\u001b[0m\n\u001b[0;32m    392\u001b[0m                                            min_impurity_split)\n\u001b[0;32m    393\u001b[0m \u001b[1;33m\u001b[0m\u001b[0m\n\u001b[1;32m--> 394\u001b[1;33m         \u001b[0mbuilder\u001b[0m\u001b[1;33m.\u001b[0m\u001b[0mbuild\u001b[0m\u001b[1;33m(\u001b[0m\u001b[0mself\u001b[0m\u001b[1;33m.\u001b[0m\u001b[0mtree_\u001b[0m\u001b[1;33m,\u001b[0m \u001b[0mX\u001b[0m\u001b[1;33m,\u001b[0m \u001b[0my\u001b[0m\u001b[1;33m,\u001b[0m \u001b[0msample_weight\u001b[0m\u001b[1;33m)\u001b[0m\u001b[1;33m\u001b[0m\u001b[1;33m\u001b[0m\u001b[0m\n\u001b[0m\u001b[0;32m    395\u001b[0m \u001b[1;33m\u001b[0m\u001b[0m\n\u001b[0;32m    396\u001b[0m         \u001b[1;32mif\u001b[0m \u001b[0mself\u001b[0m\u001b[1;33m.\u001b[0m\u001b[0mn_outputs_\u001b[0m \u001b[1;33m==\u001b[0m \u001b[1;36m1\u001b[0m \u001b[1;32mand\u001b[0m \u001b[0mis_classifier\u001b[0m\u001b[1;33m(\u001b[0m\u001b[0mself\u001b[0m\u001b[1;33m)\u001b[0m\u001b[1;33m:\u001b[0m\u001b[1;33m\u001b[0m\u001b[1;33m\u001b[0m\u001b[0m\n",
      "\u001b[1;32msklearn\\tree\\_tree.pyx\u001b[0m in \u001b[0;36msklearn.tree._tree.DepthFirstTreeBuilder.build\u001b[1;34m()\u001b[0m\n",
      "\u001b[1;32msklearn\\tree\\_tree.pyx\u001b[0m in \u001b[0;36msklearn.tree._tree.DepthFirstTreeBuilder.build\u001b[1;34m()\u001b[0m\n",
      "\u001b[1;32msklearn\\tree\\_tree.pyx\u001b[0m in \u001b[0;36msklearn.tree._tree.Tree._add_node\u001b[1;34m()\u001b[0m\n",
      "\u001b[1;32msklearn\\tree\\_tree.pyx\u001b[0m in \u001b[0;36msklearn.tree._tree.Tree._resize_c\u001b[1;34m()\u001b[0m\n",
      "\u001b[1;32msklearn\\tree\\_utils.pyx\u001b[0m in \u001b[0;36msklearn.tree._utils.safe_realloc\u001b[1;34m()\u001b[0m\n",
      "\u001b[1;31mMemoryError\u001b[0m: could not allocate 947912704 bytes"
     ]
    }
   ],
   "source": [
    "from sklearn.ensemble import RandomForestClassifier\n",
    "# Creating the decision tree classifier instance\n",
    "model = RandomForestClassifier(n_estimators=200, random_state=1)\n",
    "\n",
    "# Fitting the model\n",
    "model = model.fit(X_train_scaled, y_train)"
   ]
  },
  {
   "cell_type": "code",
   "execution_count": null,
   "id": "9f46ef25",
   "metadata": {},
   "outputs": [],
   "source": [
    "# Making predictions\n",
    "predictions = model.predict(X_test_scaled)"
   ]
  },
  {
   "cell_type": "code",
   "execution_count": null,
   "id": "fa27f2f0",
   "metadata": {},
   "outputs": [],
   "source": [
    "from sklearn.metrics import accuracy_score\n",
    "# Calculating the accuracy score\n",
    "acc_score = accuracy_score(y_test, predictions)\n",
    "acc_score"
   ]
  },
  {
   "cell_type": "code",
   "execution_count": null,
   "id": "bdddbe76",
   "metadata": {},
   "outputs": [],
   "source": []
  },
  {
   "cell_type": "code",
   "execution_count": 6,
   "id": "0a99ab6b",
   "metadata": {},
   "outputs": [
    {
     "data": {
      "text/plain": [
       " Chiapas                            8072\n",
       " Veracruz de Ignacio de la Llave    6913\n",
       " Baja California                    6647\n",
       " Yucatán                            6156\n",
       " Nuevo León                         6127\n",
       " Quintana Roo                       6023\n",
       " Jalisco                            5990\n",
       " México                             5894\n",
       " Morelos                            5820\n",
       " Puebla                             5516\n",
       " San Luis Potosí                    5395\n",
       " Guanajuato                         5056\n",
       " Ciudad de México                   4835\n",
       " Durango                            4348\n",
       " Coahuila de Zaragoza               4125\n",
       " Querétaro                          4047\n",
       " Sinaloa                            3990\n",
       " Colima                             3775\n",
       " Guerrero                           3472\n",
       " Hidalgo                            3327\n",
       " Tamaulipas                         2923\n",
       " Michoacán de Ocampo                2688\n",
       " Aguascalientes                     2052\n",
       " Chihuahua                          1978\n",
       " Tabasco                            1969\n",
       " Baja California-sur                1773\n",
       " Oaxaca                             1431\n",
       " Nayarit                            1334\n",
       " Sonora                              944\n",
       " Tlaxcala                            696\n",
       " Campeche                            566\n",
       " Zacatecas                           294\n",
       "Name: entidad, dtype: int64"
      ]
     },
     "execution_count": 6,
     "metadata": {},
     "output_type": "execute_result"
    }
   ],
   "source": [
    "data_df['entidad'].value_counts()"
   ]
  },
  {
   "cell_type": "code",
   "execution_count": 7,
   "id": "0dfbad72",
   "metadata": {},
   "outputs": [
    {
     "data": {
      "text/plain": [
       "casas            120278\n",
       "terrenos           2005\n",
       "departamentos      1893\n",
       "Name: tipo, dtype: int64"
      ]
     },
     "execution_count": 7,
     "metadata": {},
     "output_type": "execute_result"
    }
   ],
   "source": [
    "data_df['tipo'].value_counts()"
   ]
  },
  {
   "cell_type": "code",
   "execution_count": 8,
   "id": "94c0f763",
   "metadata": {
    "scrolled": true
   },
   "outputs": [
    {
     "name": "stdout",
     "output_type": "stream",
     "text": [
      "<class 'pandas.core.frame.DataFrame'>\n",
      "RangeIndex: 124176 entries, 0 to 124175\n",
      "Data columns (total 20 columns):\n",
      " #   Column            Non-Null Count   Dtype  \n",
      "---  ------            --------------   -----  \n",
      " 0   entidad           124176 non-null  object \n",
      " 1   tipo              124176 non-null  object \n",
      " 2   precio            124176 non-null  float64\n",
      " 3   colonia           124176 non-null  object \n",
      " 4   m2Terreno         116698 non-null  float64\n",
      " 5   m2Construccion    77064 non-null   float64\n",
      " 6   estacionamientos  53889 non-null   float64\n",
      " 7   Recamaras         79177 non-null   float64\n",
      " 8   symbol            124176 non-null  object \n",
      " 9   Banos             80071 non-null   float64\n",
      " 10  antiguedad        61115 non-null   float64\n",
      " 11  id                43918 non-null   float64\n",
      " 12  nombre            43918 non-null   object \n",
      " 13  municipio_y       43918 non-null   float64\n",
      " 14  asentamiento      43918 non-null   object \n",
      " 15  codigo_postal     43918 non-null   float64\n",
      " 16  latitud           43918 non-null   float64\n",
      " 17  longitud          43918 non-null   float64\n",
      " 18  nombreMun         43918 non-null   object \n",
      " 19  estado            43918 non-null   object \n",
      "dtypes: float64(12), object(8)\n",
      "memory usage: 18.9+ MB\n"
     ]
    }
   ],
   "source": [
    "data_df = data_df.drop(['municipio_x'], axis=1)\n",
    "data_df.info()"
   ]
  },
  {
   "cell_type": "code",
   "execution_count": 9,
   "id": "17354a24",
   "metadata": {
    "scrolled": true
   },
   "outputs": [
    {
     "name": "stdout",
     "output_type": "stream",
     "text": [
      "<class 'pandas.core.frame.DataFrame'>\n",
      "RangeIndex: 124176 entries, 0 to 124175\n",
      "Data columns (total 19 columns):\n",
      " #   Column            Non-Null Count   Dtype  \n",
      "---  ------            --------------   -----  \n",
      " 0   entidad           124176 non-null  object \n",
      " 1   tipo              124176 non-null  object \n",
      " 2   precio            124176 non-null  float64\n",
      " 3   m2Terreno         116698 non-null  float64\n",
      " 4   m2Construccion    77064 non-null   float64\n",
      " 5   estacionamientos  53889 non-null   float64\n",
      " 6   Recamaras         79177 non-null   float64\n",
      " 7   symbol            124176 non-null  object \n",
      " 8   Banos             80071 non-null   float64\n",
      " 9   antiguedad        61115 non-null   float64\n",
      " 10  id                43918 non-null   float64\n",
      " 11  nombre            43918 non-null   object \n",
      " 12  municipio_y       43918 non-null   float64\n",
      " 13  asentamiento      43918 non-null   object \n",
      " 14  codigo_postal     43918 non-null   float64\n",
      " 15  latitud           43918 non-null   float64\n",
      " 16  longitud          43918 non-null   float64\n",
      " 17  nombreMun         43918 non-null   object \n",
      " 18  estado            43918 non-null   object \n",
      "dtypes: float64(12), object(7)\n",
      "memory usage: 18.0+ MB\n"
     ]
    }
   ],
   "source": [
    "data_df = data_df.drop(['colonia'], axis=1)\n",
    "data_df.info()"
   ]
  },
  {
   "cell_type": "code",
   "execution_count": 10,
   "id": "75ffd516",
   "metadata": {},
   "outputs": [
    {
     "name": "stdout",
     "output_type": "stream",
     "text": [
      "<class 'pandas.core.frame.DataFrame'>\n",
      "RangeIndex: 124176 entries, 0 to 124175\n",
      "Data columns (total 19 columns):\n",
      " #   Column            Non-Null Count   Dtype  \n",
      "---  ------            --------------   -----  \n",
      " 0   entidad           124176 non-null  object \n",
      " 1   tipo              124176 non-null  object \n",
      " 2   precio            124176 non-null  float64\n",
      " 3   m2Terreno         123770 non-null  float64\n",
      " 4   m2Construccion    123770 non-null  float64\n",
      " 5   estacionamientos  53889 non-null   float64\n",
      " 6   Recamaras         79177 non-null   float64\n",
      " 7   symbol            124176 non-null  object \n",
      " 8   Banos             80071 non-null   float64\n",
      " 9   antiguedad        61115 non-null   float64\n",
      " 10  id                43918 non-null   float64\n",
      " 11  nombre            43918 non-null   object \n",
      " 12  municipio_y       43918 non-null   float64\n",
      " 13  asentamiento      43918 non-null   object \n",
      " 14  codigo_postal     43918 non-null   float64\n",
      " 15  latitud           43918 non-null   float64\n",
      " 16  longitud          43918 non-null   float64\n",
      " 17  nombreMun         43918 non-null   object \n",
      " 18  estado            43918 non-null   object \n",
      "dtypes: float64(12), object(7)\n",
      "memory usage: 18.0+ MB\n"
     ]
    }
   ],
   "source": [
    "# replace Nan in m2construccion with m2terreno\n",
    "data_df.m2Construccion.fillna(data_df.m2Terreno, inplace=True)\n",
    "data_df.m2Terreno.fillna(data_df.m2Construccion, inplace=True)\n",
    "data_df.info()"
   ]
  },
  {
   "cell_type": "code",
   "execution_count": 11,
   "id": "be0b9cf9",
   "metadata": {},
   "outputs": [
    {
     "name": "stdout",
     "output_type": "stream",
     "text": [
      "<class 'pandas.core.frame.DataFrame'>\n",
      "RangeIndex: 124176 entries, 0 to 124175\n",
      "Data columns (total 19 columns):\n",
      " #   Column            Non-Null Count   Dtype  \n",
      "---  ------            --------------   -----  \n",
      " 0   entidad           124176 non-null  object \n",
      " 1   tipo              124176 non-null  object \n",
      " 2   precio            124176 non-null  float64\n",
      " 3   m2Terreno         123770 non-null  float64\n",
      " 4   m2Construccion    123770 non-null  float64\n",
      " 5   estacionamientos  124176 non-null  float64\n",
      " 6   Recamaras         124176 non-null  float64\n",
      " 7   symbol            124176 non-null  object \n",
      " 8   Banos             80071 non-null   float64\n",
      " 9   antiguedad        61115 non-null   float64\n",
      " 10  id                43918 non-null   float64\n",
      " 11  nombre            43918 non-null   object \n",
      " 12  municipio_y       43918 non-null   float64\n",
      " 13  asentamiento      43918 non-null   object \n",
      " 14  codigo_postal     43918 non-null   float64\n",
      " 15  latitud           43918 non-null   float64\n",
      " 16  longitud          43918 non-null   float64\n",
      " 17  nombreMun         43918 non-null   object \n",
      " 18  estado            43918 non-null   object \n",
      "dtypes: float64(12), object(7)\n",
      "memory usage: 18.0+ MB\n"
     ]
    }
   ],
   "source": [
    "# Replace NaN with 0 recámaras\n",
    "data_df[\"Recamaras\"] = data_df[\"Recamaras\"].fillna(0)\n",
    "data_df['estacionamientos'] = data_df['estacionamientos'].fillna(0)\n",
    "data_df.info()"
   ]
  },
  {
   "cell_type": "code",
   "execution_count": 12,
   "id": "18c06232",
   "metadata": {
    "scrolled": true
   },
   "outputs": [
    {
     "name": "stdout",
     "output_type": "stream",
     "text": [
      "<class 'pandas.core.frame.DataFrame'>\n",
      "RangeIndex: 124176 entries, 0 to 124175\n",
      "Data columns (total 19 columns):\n",
      " #   Column            Non-Null Count   Dtype  \n",
      "---  ------            --------------   -----  \n",
      " 0   entidad           124176 non-null  object \n",
      " 1   tipo              124176 non-null  object \n",
      " 2   precio            124176 non-null  float64\n",
      " 3   m2Terreno         123770 non-null  float64\n",
      " 4   m2Construccion    123770 non-null  float64\n",
      " 5   estacionamientos  124176 non-null  float64\n",
      " 6   Recamaras         124176 non-null  float64\n",
      " 7   symbol            124176 non-null  object \n",
      " 8   Banos             80071 non-null   float64\n",
      " 9   antiguedad        61115 non-null   float64\n",
      " 10  id                43918 non-null   float64\n",
      " 11  nombre            43918 non-null   object \n",
      " 12  municipio_y       43918 non-null   float64\n",
      " 13  asentamiento      43918 non-null   object \n",
      " 14  codigo_postal     43918 non-null   float64\n",
      " 15  latitud           43918 non-null   float64\n",
      " 16  longitud          43918 non-null   float64\n",
      " 17  nombreMun         43918 non-null   object \n",
      " 18  estado            43918 non-null   object \n",
      "dtypes: float64(12), object(7)\n",
      "memory usage: 18.0+ MB\n"
     ]
    }
   ],
   "source": [
    "data_df.info()"
   ]
  },
  {
   "cell_type": "code",
   "execution_count": 13,
   "id": "ac699f2f",
   "metadata": {},
   "outputs": [
    {
     "data": {
      "text/plain": [
       "San José                       1123\n",
       "Emiliano Zapata                 851\n",
       "San Isidro                      847\n",
       "Benito Juárez                   652\n",
       "Centro                          546\n",
       "                               ... \n",
       "Las Américas San Pablo            1\n",
       "Colinas de la Piedad              1\n",
       "La Cañada Juriquilla              1\n",
       "Centro Universitario U.A.Q.       1\n",
       "La Encantada                      1\n",
       "Name: nombre, Length: 3181, dtype: int64"
      ]
     },
     "execution_count": 13,
     "metadata": {},
     "output_type": "execute_result"
    }
   ],
   "source": [
    "data_df['nombre'].value_counts()"
   ]
  },
  {
   "cell_type": "code",
   "execution_count": 14,
   "id": "1d2cadc2",
   "metadata": {},
   "outputs": [
    {
     "name": "stdout",
     "output_type": "stream",
     "text": [
      "<class 'pandas.core.frame.DataFrame'>\n",
      "RangeIndex: 124176 entries, 0 to 124175\n",
      "Data columns (total 18 columns):\n",
      " #   Column            Non-Null Count   Dtype  \n",
      "---  ------            --------------   -----  \n",
      " 0   entidad           124176 non-null  object \n",
      " 1   tipo              124176 non-null  object \n",
      " 2   precio            124176 non-null  float64\n",
      " 3   m2Terreno         123770 non-null  float64\n",
      " 4   m2Construccion    123770 non-null  float64\n",
      " 5   estacionamientos  124176 non-null  float64\n",
      " 6   Recamaras         124176 non-null  float64\n",
      " 7   symbol            124176 non-null  object \n",
      " 8   Banos             80071 non-null   float64\n",
      " 9   antiguedad        61115 non-null   float64\n",
      " 10  id                43918 non-null   float64\n",
      " 11  municipio_y       43918 non-null   float64\n",
      " 12  asentamiento      43918 non-null   object \n",
      " 13  codigo_postal     43918 non-null   float64\n",
      " 14  latitud           43918 non-null   float64\n",
      " 15  longitud          43918 non-null   float64\n",
      " 16  nombreMun         43918 non-null   object \n",
      " 17  estado            43918 non-null   object \n",
      "dtypes: float64(12), object(6)\n",
      "memory usage: 17.1+ MB\n"
     ]
    }
   ],
   "source": [
    "data_df = data_df.drop(['nombre'], axis=1)\n",
    "data_df.info()"
   ]
  },
  {
   "cell_type": "code",
   "execution_count": 15,
   "id": "f8e562be",
   "metadata": {},
   "outputs": [
    {
     "data": {
      "text/plain": [
       "Colonia                  21647\n",
       "Fraccionamiento           9049\n",
       "Pueblo                    4072\n",
       "Ranchería                 2882\n",
       "Ejido                     1588\n",
       "Barrio                    1534\n",
       "Unidad habitacional        575\n",
       "Residencial                564\n",
       "Condominio                 455\n",
       "Zona comercial             253\n",
       "Poblado comunal            239\n",
       "Conjunto habitacional      215\n",
       "Rancho                     148\n",
       "Parque industrial          121\n",
       "Zona industrial            113\n",
       "Congregación               106\n",
       "Villa                       69\n",
       "Hacienda                    54\n",
       "Finca                       53\n",
       "Zona federal                50\n",
       "Equipamiento                35\n",
       "Ampliación                  32\n",
       "Puerto                      24\n",
       "Club de golf                12\n",
       "Gran usuario                10\n",
       "Aeropuerto                   9\n",
       "Granja                       5\n",
       "Estación                     3\n",
       "Paraje                       1\n",
       "Name: asentamiento, dtype: int64"
      ]
     },
     "execution_count": 15,
     "metadata": {},
     "output_type": "execute_result"
    }
   ],
   "source": [
    "data_df['asentamiento'].value_counts()"
   ]
  },
  {
   "cell_type": "code",
   "execution_count": 16,
   "id": "a272a314",
   "metadata": {},
   "outputs": [
    {
     "name": "stdout",
     "output_type": "stream",
     "text": [
      "<class 'pandas.core.frame.DataFrame'>\n",
      "RangeIndex: 124176 entries, 0 to 124175\n",
      "Data columns (total 17 columns):\n",
      " #   Column            Non-Null Count   Dtype  \n",
      "---  ------            --------------   -----  \n",
      " 0   entidad           124176 non-null  object \n",
      " 1   tipo              124176 non-null  object \n",
      " 2   precio            124176 non-null  float64\n",
      " 3   m2Terreno         123770 non-null  float64\n",
      " 4   m2Construccion    123770 non-null  float64\n",
      " 5   estacionamientos  124176 non-null  float64\n",
      " 6   Recamaras         124176 non-null  float64\n",
      " 7   symbol            124176 non-null  object \n",
      " 8   Banos             80071 non-null   float64\n",
      " 9   antiguedad        61115 non-null   float64\n",
      " 10  id                43918 non-null   float64\n",
      " 11  municipio_y       43918 non-null   float64\n",
      " 12  codigo_postal     43918 non-null   float64\n",
      " 13  latitud           43918 non-null   float64\n",
      " 14  longitud          43918 non-null   float64\n",
      " 15  nombreMun         43918 non-null   object \n",
      " 16  estado            43918 non-null   object \n",
      "dtypes: float64(12), object(5)\n",
      "memory usage: 16.1+ MB\n"
     ]
    }
   ],
   "source": [
    "data_df = data_df.drop(['asentamiento'], axis=1)\n",
    "data_df.info()"
   ]
  },
  {
   "cell_type": "code",
   "execution_count": 17,
   "id": "01517750",
   "metadata": {},
   "outputs": [
    {
     "name": "stdout",
     "output_type": "stream",
     "text": [
      "<class 'pandas.core.frame.DataFrame'>\n",
      "RangeIndex: 124176 entries, 0 to 124175\n",
      "Data columns (total 16 columns):\n",
      " #   Column            Non-Null Count   Dtype  \n",
      "---  ------            --------------   -----  \n",
      " 0   entidad           124176 non-null  object \n",
      " 1   tipo              124176 non-null  object \n",
      " 2   precio            124176 non-null  float64\n",
      " 3   m2Terreno         123770 non-null  float64\n",
      " 4   m2Construccion    123770 non-null  float64\n",
      " 5   estacionamientos  124176 non-null  float64\n",
      " 6   Recamaras         124176 non-null  float64\n",
      " 7   symbol            124176 non-null  object \n",
      " 8   Banos             80071 non-null   float64\n",
      " 9   antiguedad        61115 non-null   float64\n",
      " 10  municipio_y       43918 non-null   float64\n",
      " 11  codigo_postal     43918 non-null   float64\n",
      " 12  latitud           43918 non-null   float64\n",
      " 13  longitud          43918 non-null   float64\n",
      " 14  nombreMun         43918 non-null   object \n",
      " 15  estado            43918 non-null   object \n",
      "dtypes: float64(11), object(5)\n",
      "memory usage: 15.2+ MB\n"
     ]
    }
   ],
   "source": [
    "data_df = data_df.drop(['id'], axis=1)\n",
    "data_df.info()"
   ]
  },
  {
   "cell_type": "code",
   "execution_count": 18,
   "id": "2c80e473",
   "metadata": {},
   "outputs": [
    {
     "name": "stdout",
     "output_type": "stream",
     "text": [
      "<class 'pandas.core.frame.DataFrame'>\n",
      "RangeIndex: 124176 entries, 0 to 124175\n",
      "Data columns (total 15 columns):\n",
      " #   Column            Non-Null Count   Dtype  \n",
      "---  ------            --------------   -----  \n",
      " 0   entidad           124176 non-null  object \n",
      " 1   tipo              124176 non-null  object \n",
      " 2   precio            124176 non-null  float64\n",
      " 3   m2Terreno         123770 non-null  float64\n",
      " 4   m2Construccion    123770 non-null  float64\n",
      " 5   estacionamientos  124176 non-null  float64\n",
      " 6   Recamaras         124176 non-null  float64\n",
      " 7   Banos             80071 non-null   float64\n",
      " 8   antiguedad        61115 non-null   float64\n",
      " 9   municipio_y       43918 non-null   float64\n",
      " 10  codigo_postal     43918 non-null   float64\n",
      " 11  latitud           43918 non-null   float64\n",
      " 12  longitud          43918 non-null   float64\n",
      " 13  nombreMun         43918 non-null   object \n",
      " 14  estado            43918 non-null   object \n",
      "dtypes: float64(11), object(4)\n",
      "memory usage: 14.2+ MB\n"
     ]
    }
   ],
   "source": [
    "data_df = data_df.drop(['symbol'], axis=1)\n",
    "data_df.info()"
   ]
  },
  {
   "cell_type": "code",
   "execution_count": 19,
   "id": "b40cc431",
   "metadata": {},
   "outputs": [
    {
     "data": {
      "text/plain": [
       " San Luis Potosí    2739\n",
       " Mérida             1783\n",
       " Benito Juárez      1742\n",
       " Monterrey          1705\n",
       " Culiacán           1535\n",
       "                    ... \n",
       " Homún                 1\n",
       " El Porvenir           1\n",
       " Huajicori             1\n",
       " Cansahcab             1\n",
       " Luis Moya             1\n",
       "Name: nombreMun, Length: 366, dtype: int64"
      ]
     },
     "execution_count": 19,
     "metadata": {},
     "output_type": "execute_result"
    }
   ],
   "source": [
    "data_df['nombreMun'].value_counts()"
   ]
  },
  {
   "cell_type": "code",
   "execution_count": 20,
   "id": "c93d7924",
   "metadata": {},
   "outputs": [
    {
     "name": "stdout",
     "output_type": "stream",
     "text": [
      "<class 'pandas.core.frame.DataFrame'>\n",
      "RangeIndex: 124176 entries, 0 to 124175\n",
      "Data columns (total 14 columns):\n",
      " #   Column            Non-Null Count   Dtype  \n",
      "---  ------            --------------   -----  \n",
      " 0   entidad           124176 non-null  object \n",
      " 1   tipo              124176 non-null  object \n",
      " 2   precio            124176 non-null  float64\n",
      " 3   m2Terreno         123770 non-null  float64\n",
      " 4   m2Construccion    123770 non-null  float64\n",
      " 5   estacionamientos  124176 non-null  float64\n",
      " 6   Recamaras         124176 non-null  float64\n",
      " 7   Banos             80071 non-null   float64\n",
      " 8   antiguedad        61115 non-null   float64\n",
      " 9   municipio_y       43918 non-null   float64\n",
      " 10  codigo_postal     43918 non-null   float64\n",
      " 11  latitud           43918 non-null   float64\n",
      " 12  longitud          43918 non-null   float64\n",
      " 13  estado            43918 non-null   object \n",
      "dtypes: float64(11), object(3)\n",
      "memory usage: 13.3+ MB\n"
     ]
    }
   ],
   "source": [
    "data_df = data_df.drop(['nombreMun'], axis=1)\n",
    "data_df.info()"
   ]
  },
  {
   "cell_type": "code",
   "execution_count": 21,
   "id": "0abbec63",
   "metadata": {
    "scrolled": true
   },
   "outputs": [
    {
     "name": "stdout",
     "output_type": "stream",
     "text": [
      "<class 'pandas.core.frame.DataFrame'>\n",
      "RangeIndex: 124176 entries, 0 to 124175\n",
      "Data columns (total 13 columns):\n",
      " #   Column            Non-Null Count   Dtype  \n",
      "---  ------            --------------   -----  \n",
      " 0   tipo              124176 non-null  object \n",
      " 1   precio            124176 non-null  float64\n",
      " 2   m2Terreno         123770 non-null  float64\n",
      " 3   m2Construccion    123770 non-null  float64\n",
      " 4   estacionamientos  124176 non-null  float64\n",
      " 5   Recamaras         124176 non-null  float64\n",
      " 6   Banos             80071 non-null   float64\n",
      " 7   antiguedad        61115 non-null   float64\n",
      " 8   municipio_y       43918 non-null   float64\n",
      " 9   codigo_postal     43918 non-null   float64\n",
      " 10  latitud           43918 non-null   float64\n",
      " 11  longitud          43918 non-null   float64\n",
      " 12  estado            43918 non-null   object \n",
      "dtypes: float64(11), object(2)\n",
      "memory usage: 12.3+ MB\n"
     ]
    }
   ],
   "source": [
    "data_df = data_df.drop(['entidad'], axis=1)\n",
    "data_df.info()"
   ]
  },
  {
   "cell_type": "code",
   "execution_count": 22,
   "id": "9cf35e5c",
   "metadata": {
    "scrolled": true
   },
   "outputs": [
    {
     "name": "stdout",
     "output_type": "stream",
     "text": [
      "<class 'pandas.core.frame.DataFrame'>\n",
      "RangeIndex: 124176 entries, 0 to 124175\n",
      "Data columns (total 12 columns):\n",
      " #   Column            Non-Null Count   Dtype  \n",
      "---  ------            --------------   -----  \n",
      " 0   tipo              124176 non-null  object \n",
      " 1   precio            124176 non-null  float64\n",
      " 2   m2Terreno         123770 non-null  float64\n",
      " 3   m2Construccion    123770 non-null  float64\n",
      " 4   estacionamientos  124176 non-null  float64\n",
      " 5   Recamaras         124176 non-null  float64\n",
      " 6   Banos             80071 non-null   float64\n",
      " 7   antiguedad        61115 non-null   float64\n",
      " 8   municipio_y       43918 non-null   float64\n",
      " 9   latitud           43918 non-null   float64\n",
      " 10  longitud          43918 non-null   float64\n",
      " 11  estado            43918 non-null   object \n",
      "dtypes: float64(10), object(2)\n",
      "memory usage: 11.4+ MB\n"
     ]
    }
   ],
   "source": [
    "data_df = data_df.drop(['codigo_postal'], axis=1)\n",
    "data_df.info()"
   ]
  },
  {
   "cell_type": "code",
   "execution_count": 23,
   "id": "85412f63",
   "metadata": {},
   "outputs": [
    {
     "name": "stdout",
     "output_type": "stream",
     "text": [
      "<class 'pandas.core.frame.DataFrame'>\n",
      "RangeIndex: 124176 entries, 0 to 124175\n",
      "Data columns (total 11 columns):\n",
      " #   Column            Non-Null Count   Dtype  \n",
      "---  ------            --------------   -----  \n",
      " 0   tipo              124176 non-null  object \n",
      " 1   precio            124176 non-null  float64\n",
      " 2   m2Terreno         123770 non-null  float64\n",
      " 3   estacionamientos  124176 non-null  float64\n",
      " 4   Recamaras         124176 non-null  float64\n",
      " 5   Banos             80071 non-null   float64\n",
      " 6   antiguedad        61115 non-null   float64\n",
      " 7   municipio_y       43918 non-null   float64\n",
      " 8   latitud           43918 non-null   float64\n",
      " 9   longitud          43918 non-null   float64\n",
      " 10  estado            43918 non-null   object \n",
      "dtypes: float64(9), object(2)\n",
      "memory usage: 10.4+ MB\n"
     ]
    }
   ],
   "source": [
    "data_df = data_df.drop(['m2Construccion'], axis=1)\n",
    "data_df.info()"
   ]
  },
  {
   "cell_type": "code",
   "execution_count": 24,
   "id": "d518f5d2",
   "metadata": {},
   "outputs": [
    {
     "name": "stdout",
     "output_type": "stream",
     "text": [
      "<class 'pandas.core.frame.DataFrame'>\n",
      "RangeIndex: 124176 entries, 0 to 124175\n",
      "Data columns (total 10 columns):\n",
      " #   Column            Non-Null Count   Dtype  \n",
      "---  ------            --------------   -----  \n",
      " 0   tipo              124176 non-null  object \n",
      " 1   precio            124176 non-null  float64\n",
      " 2   m2Terreno         123770 non-null  float64\n",
      " 3   estacionamientos  124176 non-null  float64\n",
      " 4   Recamaras         124176 non-null  float64\n",
      " 5   Banos             80071 non-null   float64\n",
      " 6   antiguedad        61115 non-null   float64\n",
      " 7   latitud           43918 non-null   float64\n",
      " 8   longitud          43918 non-null   float64\n",
      " 9   estado            43918 non-null   object \n",
      "dtypes: float64(8), object(2)\n",
      "memory usage: 9.5+ MB\n"
     ]
    }
   ],
   "source": [
    "data_df = data_df.drop(['municipio_y'], axis=1)\n",
    "data_df.info()"
   ]
  },
  {
   "cell_type": "code",
   "execution_count": 25,
   "id": "b08f2ed3",
   "metadata": {},
   "outputs": [],
   "source": [
    "data_df = data_df.dropna()"
   ]
  },
  {
   "cell_type": "code",
   "execution_count": 26,
   "id": "5a91ccd7",
   "metadata": {},
   "outputs": [
    {
     "name": "stdout",
     "output_type": "stream",
     "text": [
      "<class 'pandas.core.frame.DataFrame'>\n",
      "Int64Index: 20325 entries, 0 to 124031\n",
      "Data columns (total 10 columns):\n",
      " #   Column            Non-Null Count  Dtype  \n",
      "---  ------            --------------  -----  \n",
      " 0   tipo              20325 non-null  object \n",
      " 1   precio            20325 non-null  float64\n",
      " 2   m2Terreno         20325 non-null  float64\n",
      " 3   estacionamientos  20325 non-null  float64\n",
      " 4   Recamaras         20325 non-null  float64\n",
      " 5   Banos             20325 non-null  float64\n",
      " 6   antiguedad        20325 non-null  float64\n",
      " 7   latitud           20325 non-null  float64\n",
      " 8   longitud          20325 non-null  float64\n",
      " 9   estado            20325 non-null  object \n",
      "dtypes: float64(8), object(2)\n",
      "memory usage: 1.7+ MB\n"
     ]
    }
   ],
   "source": [
    "data_df.info()"
   ]
  },
  {
   "cell_type": "code",
   "execution_count": 27,
   "id": "85f6bb8c",
   "metadata": {},
   "outputs": [
    {
     "name": "stdout",
     "output_type": "stream",
     "text": [
      "<class 'pandas.core.frame.DataFrame'>\n",
      "Int64Index: 20325 entries, 0 to 124031\n",
      "Data columns (total 10 columns):\n",
      " #   Column            Non-Null Count  Dtype  \n",
      "---  ------            --------------  -----  \n",
      " 0   tipo              20325 non-null  int32  \n",
      " 1   precio            20325 non-null  float64\n",
      " 2   m2Terreno         20325 non-null  float64\n",
      " 3   estacionamientos  20325 non-null  float64\n",
      " 4   Recamaras         20325 non-null  float64\n",
      " 5   Banos             20325 non-null  float64\n",
      " 6   antiguedad        20325 non-null  float64\n",
      " 7   latitud           20325 non-null  float64\n",
      " 8   longitud          20325 non-null  float64\n",
      " 9   estado            20325 non-null  int32  \n",
      "dtypes: float64(8), int32(2)\n",
      "memory usage: 1.6 MB\n"
     ]
    }
   ],
   "source": [
    "from sklearn.preprocessing import LabelEncoder\n",
    "# Use labelencoder to convert tipo into integers\n",
    "data_df['tipo'] = LabelEncoder().fit_transform(data_df['tipo'])\n",
    "data_df['estado'] = LabelEncoder().fit_transform(data_df['estado'])\n",
    "data_df.info()"
   ]
  },
  {
   "cell_type": "code",
   "execution_count": 28,
   "id": "76b4a464",
   "metadata": {},
   "outputs": [
    {
     "data": {
      "text/html": [
       "<div>\n",
       "<style scoped>\n",
       "    .dataframe tbody tr th:only-of-type {\n",
       "        vertical-align: middle;\n",
       "    }\n",
       "\n",
       "    .dataframe tbody tr th {\n",
       "        vertical-align: top;\n",
       "    }\n",
       "\n",
       "    .dataframe thead th {\n",
       "        text-align: right;\n",
       "    }\n",
       "</style>\n",
       "<table border=\"1\" class=\"dataframe\">\n",
       "  <thead>\n",
       "    <tr style=\"text-align: right;\">\n",
       "      <th></th>\n",
       "      <th>tipo</th>\n",
       "      <th>precio</th>\n",
       "      <th>m2Terreno</th>\n",
       "      <th>estacionamientos</th>\n",
       "      <th>Recamaras</th>\n",
       "      <th>Banos</th>\n",
       "      <th>antiguedad</th>\n",
       "      <th>latitud</th>\n",
       "      <th>longitud</th>\n",
       "      <th>estado</th>\n",
       "    </tr>\n",
       "  </thead>\n",
       "  <tbody>\n",
       "    <tr>\n",
       "      <th>count</th>\n",
       "      <td>20325.000000</td>\n",
       "      <td>2.032500e+04</td>\n",
       "      <td>2.032500e+04</td>\n",
       "      <td>20325.000000</td>\n",
       "      <td>20325.000000</td>\n",
       "      <td>20325.000000</td>\n",
       "      <td>20325.000000</td>\n",
       "      <td>20325.000000</td>\n",
       "      <td>20325.000000</td>\n",
       "      <td>20325.000000</td>\n",
       "    </tr>\n",
       "    <tr>\n",
       "      <th>mean</th>\n",
       "      <td>0.017319</td>\n",
       "      <td>5.930777e+06</td>\n",
       "      <td>4.369405e+03</td>\n",
       "      <td>1.437294</td>\n",
       "      <td>3.086298</td>\n",
       "      <td>2.767823</td>\n",
       "      <td>15.636408</td>\n",
       "      <td>21.864112</td>\n",
       "      <td>-99.461205</td>\n",
       "      <td>14.966150</td>\n",
       "    </tr>\n",
       "    <tr>\n",
       "      <th>std</th>\n",
       "      <td>0.130459</td>\n",
       "      <td>6.282417e+07</td>\n",
       "      <td>3.063677e+05</td>\n",
       "      <td>2.984736</td>\n",
       "      <td>5.517469</td>\n",
       "      <td>2.756800</td>\n",
       "      <td>145.979618</td>\n",
       "      <td>4.167180</td>\n",
       "      <td>7.299040</td>\n",
       "      <td>9.343946</td>\n",
       "    </tr>\n",
       "    <tr>\n",
       "      <th>min</th>\n",
       "      <td>0.000000</td>\n",
       "      <td>1.111000e+03</td>\n",
       "      <td>1.000000e+00</td>\n",
       "      <td>0.000000</td>\n",
       "      <td>0.000000</td>\n",
       "      <td>1.000000</td>\n",
       "      <td>0.000000</td>\n",
       "      <td>14.592167</td>\n",
       "      <td>-117.120048</td>\n",
       "      <td>0.000000</td>\n",
       "    </tr>\n",
       "    <tr>\n",
       "      <th>25%</th>\n",
       "      <td>0.000000</td>\n",
       "      <td>1.700000e+06</td>\n",
       "      <td>1.050000e+02</td>\n",
       "      <td>0.000000</td>\n",
       "      <td>2.000000</td>\n",
       "      <td>2.000000</td>\n",
       "      <td>0.000000</td>\n",
       "      <td>19.267313</td>\n",
       "      <td>-102.245232</td>\n",
       "      <td>5.000000</td>\n",
       "    </tr>\n",
       "    <tr>\n",
       "      <th>50%</th>\n",
       "      <td>0.000000</td>\n",
       "      <td>3.099999e+06</td>\n",
       "      <td>1.600000e+02</td>\n",
       "      <td>1.000000</td>\n",
       "      <td>3.000000</td>\n",
       "      <td>2.000000</td>\n",
       "      <td>0.000000</td>\n",
       "      <td>20.730190</td>\n",
       "      <td>-99.248970</td>\n",
       "      <td>17.000000</td>\n",
       "    </tr>\n",
       "    <tr>\n",
       "      <th>75%</th>\n",
       "      <td>0.000000</td>\n",
       "      <td>5.500000e+06</td>\n",
       "      <td>3.000000e+02</td>\n",
       "      <td>2.000000</td>\n",
       "      <td>3.000000</td>\n",
       "      <td>3.000000</td>\n",
       "      <td>6.000000</td>\n",
       "      <td>24.036745</td>\n",
       "      <td>-96.655243</td>\n",
       "      <td>22.000000</td>\n",
       "    </tr>\n",
       "    <tr>\n",
       "      <th>max</th>\n",
       "      <td>1.000000</td>\n",
       "      <td>7.461676e+09</td>\n",
       "      <td>3.821188e+07</td>\n",
       "      <td>235.000000</td>\n",
       "      <td>512.000000</td>\n",
       "      <td>212.000000</td>\n",
       "      <td>2023.000000</td>\n",
       "      <td>38.973278</td>\n",
       "      <td>-77.036278</td>\n",
       "      <td>30.000000</td>\n",
       "    </tr>\n",
       "  </tbody>\n",
       "</table>\n",
       "</div>"
      ],
      "text/plain": [
       "               tipo        precio     m2Terreno  estacionamientos  \\\n",
       "count  20325.000000  2.032500e+04  2.032500e+04      20325.000000   \n",
       "mean       0.017319  5.930777e+06  4.369405e+03          1.437294   \n",
       "std        0.130459  6.282417e+07  3.063677e+05          2.984736   \n",
       "min        0.000000  1.111000e+03  1.000000e+00          0.000000   \n",
       "25%        0.000000  1.700000e+06  1.050000e+02          0.000000   \n",
       "50%        0.000000  3.099999e+06  1.600000e+02          1.000000   \n",
       "75%        0.000000  5.500000e+06  3.000000e+02          2.000000   \n",
       "max        1.000000  7.461676e+09  3.821188e+07        235.000000   \n",
       "\n",
       "          Recamaras         Banos    antiguedad       latitud      longitud  \\\n",
       "count  20325.000000  20325.000000  20325.000000  20325.000000  20325.000000   \n",
       "mean       3.086298      2.767823     15.636408     21.864112    -99.461205   \n",
       "std        5.517469      2.756800    145.979618      4.167180      7.299040   \n",
       "min        0.000000      1.000000      0.000000     14.592167   -117.120048   \n",
       "25%        2.000000      2.000000      0.000000     19.267313   -102.245232   \n",
       "50%        3.000000      2.000000      0.000000     20.730190    -99.248970   \n",
       "75%        3.000000      3.000000      6.000000     24.036745    -96.655243   \n",
       "max      512.000000    212.000000   2023.000000     38.973278    -77.036278   \n",
       "\n",
       "             estado  \n",
       "count  20325.000000  \n",
       "mean      14.966150  \n",
       "std        9.343946  \n",
       "min        0.000000  \n",
       "25%        5.000000  \n",
       "50%       17.000000  \n",
       "75%       22.000000  \n",
       "max       30.000000  "
      ]
     },
     "execution_count": 28,
     "metadata": {},
     "output_type": "execute_result"
    }
   ],
   "source": [
    "data_df.describe()"
   ]
  },
  {
   "cell_type": "code",
   "execution_count": 29,
   "id": "feded46f",
   "metadata": {},
   "outputs": [
    {
     "data": {
      "image/png": "[encoded data removed]",
      "text/plain": [
       "<Figure size 1440x1080 with 12 Axes>"
      ]
     },
     "metadata": {
      "needs_background": "light"
     },
     "output_type": "display_data"
    }
   ],
   "source": [
    "import matplotlib as mpl\n",
    "import matplotlib.pyplot as plt\n",
    "data_df.hist(bins=20, figsize=(20,15))\n",
    "plt.show()"
   ]
  },
  {
   "cell_type": "code",
   "execution_count": 30,
   "id": "527d9064",
   "metadata": {},
   "outputs": [
    {
     "data": {
      "text/plain": [
       "precio              1.000000\n",
       "Banos               0.096878\n",
       "estacionamientos    0.050003\n",
       "Recamaras           0.041449\n",
       "tipo                0.021042\n",
       "longitud            0.007508\n",
       "antiguedad          0.003896\n",
       "m2Terreno           0.001197\n",
       "latitud            -0.002810\n",
       "estado             -0.006647\n",
       "Name: precio, dtype: float64"
      ]
     },
     "execution_count": 30,
     "metadata": {},
     "output_type": "execute_result"
    }
   ],
   "source": [
    "corr_matrix = data_df.corr()\n",
    "corr_matrix['precio'].sort_values(ascending=False)"
   ]
  },
  {
   "cell_type": "code",
   "execution_count": 31,
   "id": "be69e587",
   "metadata": {},
   "outputs": [],
   "source": [
    "# Define target\n",
    "y = data_df['precio']\n",
    "# Define features set\n",
    "X = data_df.drop(columns='precio')"
   ]
  },
  {
   "cell_type": "code",
   "execution_count": 32,
   "id": "cd51bd57",
   "metadata": {},
   "outputs": [],
   "source": [
    "from sklearn import preprocessing\n",
    "\n",
    "lab = preprocessing.LabelEncoder()\n",
    "y_transformed = lab.fit_transform(y)"
   ]
  },
  {
   "cell_type": "code",
   "execution_count": 33,
   "id": "7a34f4dc",
   "metadata": {},
   "outputs": [],
   "source": [
    "from sklearn.model_selection import train_test_split\n",
    "# Split into train and test sets\n",
    "X_train, X_test, y_train, y_test = train_test_split(X, y_transformed, test_size=0.2, random_state=1)"
   ]
  },
  {
   "cell_type": "code",
   "execution_count": 34,
   "id": "e5cf3a67",
   "metadata": {},
   "outputs": [
    {
     "name": "stdout",
     "output_type": "stream",
     "text": [
      "(16260, 9)\n",
      "(4065, 9)\n",
      "(16260,)\n",
      "(4065,)\n"
     ]
    }
   ],
   "source": [
    "print(X_train.shape)\n",
    "print(X_test.shape)\n",
    "print(y_train.shape)\n",
    "print(y_test.shape)"
   ]
  },
  {
   "cell_type": "code",
   "execution_count": 35,
   "id": "d32cb085",
   "metadata": {},
   "outputs": [],
   "source": [
    "from sklearn.preprocessing import StandardScaler\n",
    "# Create StandardScaler instance\n",
    "scaler = StandardScaler()\n",
    "# Fit Standard Scaler\n",
    "X_scaler = scaler.fit(X_train)\n",
    "\n",
    "# Scale the data\n",
    "X_train_scaled = X_scaler.transform(X_train)\n",
    "X_test_scaled = X_scaler.transform(X_test)"
   ]
  },
  {
   "cell_type": "code",
   "execution_count": 36,
   "id": "60091ef1",
   "metadata": {},
   "outputs": [],
   "source": [
    "from sklearn.ensemble import RandomForestClassifier\n",
    "# Creating the decision tree classifier instance\n",
    "model = RandomForestClassifier(n_estimators=20, random_state=1)\n",
    "\n",
    "# Fitting the model\n",
    "model = model.fit(X_train_scaled, y_train)"
   ]
  },
  {
   "cell_type": "code",
   "execution_count": 37,
   "id": "9055e6e1",
   "metadata": {},
   "outputs": [],
   "source": [
    "# Making predictions\n",
    "predictions = model.predict(X_test_scaled)"
   ]
  },
  {
   "cell_type": "code",
   "execution_count": 38,
   "id": "691782c4",
   "metadata": {},
   "outputs": [
    {
     "data": {
      "text/plain": [
       "0.3549815498154982"
      ]
     },
     "execution_count": 38,
     "metadata": {},
     "output_type": "execute_result"
    }
   ],
   "source": [
    "from sklearn.metrics import accuracy_score\n",
    "# Calculating the accuracy score\n",
    "acc_score = accuracy_score(y_test, predictions)\n",
    "acc_score"
   ]
  },
  {
   "cell_type": "code",
   "execution_count": 39,
   "id": "27af4b62",
   "metadata": {},
   "outputs": [
    {
     "name": "stdout",
     "output_type": "stream",
     "text": [
      "Training Score: 0.1836940192061215\n",
      "Testing Score: -2.4066285088121786\n"
     ]
    }
   ],
   "source": [
    " # Create the model and fit the model to the data\n",
    "from sklearn.linear_model import LinearRegression\n",
    "model = LinearRegression()\n",
    "\n",
    "model.fit(X_train, y_train)\n",
    "training_score = model.score(X_train, y_train)\n",
    "testing_score = model.score(X_test, y_test)\n",
    "print(f\"Training Score: {training_score}\")\n",
    "print(f\"Testing Score: {testing_score}\")\n"
   ]
  },
  {
   "cell_type": "code",
   "execution_count": 40,
   "id": "eb2c6ab8",
   "metadata": {},
   "outputs": [
    {
     "ename": "KeyboardInterrupt",
     "evalue": "",
     "output_type": "error",
     "traceback": [
      "\u001b[1;31m---------------------------------------------------------------------------\u001b[0m",
      "\u001b[1;31mKeyboardInterrupt\u001b[0m                         Traceback (most recent call last)",
      "\u001b[1;32m~\\AppData\\Local\\Temp/ipykernel_5232/1249229752.py\u001b[0m in \u001b[0;36m<module>\u001b[1;34m\u001b[0m\n\u001b[0;32m      3\u001b[0m                                \u001b[0mmax_iter\u001b[0m\u001b[1;33m=\u001b[0m\u001b[1;36m500\u001b[0m\u001b[1;33m,\u001b[0m\u001b[1;33m\u001b[0m\u001b[1;33m\u001b[0m\u001b[0m\n\u001b[0;32m      4\u001b[0m                                random_state=1)\n\u001b[1;32m----> 5\u001b[1;33m \u001b[0mclassifier\u001b[0m\u001b[1;33m.\u001b[0m\u001b[0mfit\u001b[0m\u001b[1;33m(\u001b[0m\u001b[0mX_train_scaled\u001b[0m\u001b[1;33m,\u001b[0m \u001b[0my_train\u001b[0m\u001b[1;33m)\u001b[0m\u001b[1;33m\u001b[0m\u001b[1;33m\u001b[0m\u001b[0m\n\u001b[0m\u001b[0;32m      6\u001b[0m \u001b[0my_pred\u001b[0m \u001b[1;33m=\u001b[0m \u001b[0mclassifier\u001b[0m\u001b[1;33m.\u001b[0m\u001b[0mpredict\u001b[0m\u001b[1;33m(\u001b[0m\u001b[0mX_test_scaled\u001b[0m\u001b[1;33m)\u001b[0m\u001b[1;33m\u001b[0m\u001b[1;33m\u001b[0m\u001b[0m\n\u001b[0;32m      7\u001b[0m \u001b[1;33m\u001b[0m\u001b[0m\n",
      "\u001b[1;32m~\\anaconda3\\envs\\mlenv\\lib\\site-packages\\sklearn\\linear_model\\_logistic.py\u001b[0m in \u001b[0;36mfit\u001b[1;34m(self, X, y, sample_weight)\u001b[0m\n\u001b[0;32m   1414\u001b[0m                       \u001b[0mpenalty\u001b[0m\u001b[1;33m=\u001b[0m\u001b[0mpenalty\u001b[0m\u001b[1;33m,\u001b[0m \u001b[0mmax_squared_sum\u001b[0m\u001b[1;33m=\u001b[0m\u001b[0mmax_squared_sum\u001b[0m\u001b[1;33m,\u001b[0m\u001b[1;33m\u001b[0m\u001b[1;33m\u001b[0m\u001b[0m\n\u001b[0;32m   1415\u001b[0m                       sample_weight=sample_weight)\n\u001b[1;32m-> 1416\u001b[1;33m             for class_, warm_start_coef_ in zip(classes_, warm_start_coef))\n\u001b[0m\u001b[0;32m   1417\u001b[0m \u001b[1;33m\u001b[0m\u001b[0m\n\u001b[0;32m   1418\u001b[0m         \u001b[0mfold_coefs_\u001b[0m\u001b[1;33m,\u001b[0m \u001b[0m_\u001b[0m\u001b[1;33m,\u001b[0m \u001b[0mn_iter_\u001b[0m \u001b[1;33m=\u001b[0m \u001b[0mzip\u001b[0m\u001b[1;33m(\u001b[0m\u001b[1;33m*\u001b[0m\u001b[0mfold_coefs_\u001b[0m\u001b[1;33m)\u001b[0m\u001b[1;33m\u001b[0m\u001b[1;33m\u001b[0m\u001b[0m\n",
      "\u001b[1;32m~\\anaconda3\\envs\\mlenv\\lib\\site-packages\\joblib\\parallel.py\u001b[0m in \u001b[0;36m__call__\u001b[1;34m(self, iterable)\u001b[0m\n\u001b[0;32m   1041\u001b[0m             \u001b[1;31m# remaining jobs.\u001b[0m\u001b[1;33m\u001b[0m\u001b[1;33m\u001b[0m\u001b[1;33m\u001b[0m\u001b[0m\n\u001b[0;32m   1042\u001b[0m             \u001b[0mself\u001b[0m\u001b[1;33m.\u001b[0m\u001b[0m_iterating\u001b[0m \u001b[1;33m=\u001b[0m \u001b[1;32mFalse\u001b[0m\u001b[1;33m\u001b[0m\u001b[1;33m\u001b[0m\u001b[0m\n\u001b[1;32m-> 1043\u001b[1;33m             \u001b[1;32mif\u001b[0m \u001b[0mself\u001b[0m\u001b[1;33m.\u001b[0m\u001b[0mdispatch_one_batch\u001b[0m\u001b[1;33m(\u001b[0m\u001b[0miterator\u001b[0m\u001b[1;33m)\u001b[0m\u001b[1;33m:\u001b[0m\u001b[1;33m\u001b[0m\u001b[1;33m\u001b[0m\u001b[0m\n\u001b[0m\u001b[0;32m   1044\u001b[0m                 \u001b[0mself\u001b[0m\u001b[1;33m.\u001b[0m\u001b[0m_iterating\u001b[0m \u001b[1;33m=\u001b[0m \u001b[0mself\u001b[0m\u001b[1;33m.\u001b[0m\u001b[0m_original_iterator\u001b[0m \u001b[1;32mis\u001b[0m \u001b[1;32mnot\u001b[0m \u001b[1;32mNone\u001b[0m\u001b[1;33m\u001b[0m\u001b[1;33m\u001b[0m\u001b[0m\n\u001b[0;32m   1045\u001b[0m \u001b[1;33m\u001b[0m\u001b[0m\n",
      "\u001b[1;32m~\\anaconda3\\envs\\mlenv\\lib\\site-packages\\joblib\\parallel.py\u001b[0m in \u001b[0;36mdispatch_one_batch\u001b[1;34m(self, iterator)\u001b[0m\n\u001b[0;32m    859\u001b[0m                 \u001b[1;32mreturn\u001b[0m \u001b[1;32mFalse\u001b[0m\u001b[1;33m\u001b[0m\u001b[1;33m\u001b[0m\u001b[0m\n\u001b[0;32m    860\u001b[0m             \u001b[1;32melse\u001b[0m\u001b[1;33m:\u001b[0m\u001b[1;33m\u001b[0m\u001b[1;33m\u001b[0m\u001b[0m\n\u001b[1;32m--> 861\u001b[1;33m                 \u001b[0mself\u001b[0m\u001b[1;33m.\u001b[0m\u001b[0m_dispatch\u001b[0m\u001b[1;33m(\u001b[0m\u001b[0mtasks\u001b[0m\u001b[1;33m)\u001b[0m\u001b[1;33m\u001b[0m\u001b[1;33m\u001b[0m\u001b[0m\n\u001b[0m\u001b[0;32m    862\u001b[0m                 \u001b[1;32mreturn\u001b[0m \u001b[1;32mTrue\u001b[0m\u001b[1;33m\u001b[0m\u001b[1;33m\u001b[0m\u001b[0m\n\u001b[0;32m    863\u001b[0m \u001b[1;33m\u001b[0m\u001b[0m\n",
      "\u001b[1;32m~\\anaconda3\\envs\\mlenv\\lib\\site-packages\\joblib\\parallel.py\u001b[0m in \u001b[0;36m_dispatch\u001b[1;34m(self, batch)\u001b[0m\n\u001b[0;32m    777\u001b[0m         \u001b[1;32mwith\u001b[0m \u001b[0mself\u001b[0m\u001b[1;33m.\u001b[0m\u001b[0m_lock\u001b[0m\u001b[1;33m:\u001b[0m\u001b[1;33m\u001b[0m\u001b[1;33m\u001b[0m\u001b[0m\n\u001b[0;32m    778\u001b[0m             \u001b[0mjob_idx\u001b[0m \u001b[1;33m=\u001b[0m \u001b[0mlen\u001b[0m\u001b[1;33m(\u001b[0m\u001b[0mself\u001b[0m\u001b[1;33m.\u001b[0m\u001b[0m_jobs\u001b[0m\u001b[1;33m)\u001b[0m\u001b[1;33m\u001b[0m\u001b[1;33m\u001b[0m\u001b[0m\n\u001b[1;32m--> 779\u001b[1;33m             \u001b[0mjob\u001b[0m \u001b[1;33m=\u001b[0m \u001b[0mself\u001b[0m\u001b[1;33m.\u001b[0m\u001b[0m_backend\u001b[0m\u001b[1;33m.\u001b[0m\u001b[0mapply_async\u001b[0m\u001b[1;33m(\u001b[0m\u001b[0mbatch\u001b[0m\u001b[1;33m,\u001b[0m \u001b[0mcallback\u001b[0m\u001b[1;33m=\u001b[0m\u001b[0mcb\u001b[0m\u001b[1;33m)\u001b[0m\u001b[1;33m\u001b[0m\u001b[1;33m\u001b[0m\u001b[0m\n\u001b[0m\u001b[0;32m    780\u001b[0m             \u001b[1;31m# A job can complete so quickly than its callback is\u001b[0m\u001b[1;33m\u001b[0m\u001b[1;33m\u001b[0m\u001b[1;33m\u001b[0m\u001b[0m\n\u001b[0;32m    781\u001b[0m             \u001b[1;31m# called before we get here, causing self._jobs to\u001b[0m\u001b[1;33m\u001b[0m\u001b[1;33m\u001b[0m\u001b[1;33m\u001b[0m\u001b[0m\n",
      "\u001b[1;32m~\\anaconda3\\envs\\mlenv\\lib\\site-packages\\joblib\\_parallel_backends.py\u001b[0m in \u001b[0;36mapply_async\u001b[1;34m(self, func, callback)\u001b[0m\n\u001b[0;32m    206\u001b[0m     \u001b[1;32mdef\u001b[0m \u001b[0mapply_async\u001b[0m\u001b[1;33m(\u001b[0m\u001b[0mself\u001b[0m\u001b[1;33m,\u001b[0m \u001b[0mfunc\u001b[0m\u001b[1;33m,\u001b[0m \u001b[0mcallback\u001b[0m\u001b[1;33m=\u001b[0m\u001b[1;32mNone\u001b[0m\u001b[1;33m)\u001b[0m\u001b[1;33m:\u001b[0m\u001b[1;33m\u001b[0m\u001b[1;33m\u001b[0m\u001b[0m\n\u001b[0;32m    207\u001b[0m         \u001b[1;34m\"\"\"Schedule a func to be run\"\"\"\u001b[0m\u001b[1;33m\u001b[0m\u001b[1;33m\u001b[0m\u001b[0m\n\u001b[1;32m--> 208\u001b[1;33m         \u001b[0mresult\u001b[0m \u001b[1;33m=\u001b[0m \u001b[0mImmediateResult\u001b[0m\u001b[1;33m(\u001b[0m\u001b[0mfunc\u001b[0m\u001b[1;33m)\u001b[0m\u001b[1;33m\u001b[0m\u001b[1;33m\u001b[0m\u001b[0m\n\u001b[0m\u001b[0;32m    209\u001b[0m         \u001b[1;32mif\u001b[0m \u001b[0mcallback\u001b[0m\u001b[1;33m:\u001b[0m\u001b[1;33m\u001b[0m\u001b[1;33m\u001b[0m\u001b[0m\n\u001b[0;32m    210\u001b[0m             \u001b[0mcallback\u001b[0m\u001b[1;33m(\u001b[0m\u001b[0mresult\u001b[0m\u001b[1;33m)\u001b[0m\u001b[1;33m\u001b[0m\u001b[1;33m\u001b[0m\u001b[0m\n",
      "\u001b[1;32m~\\anaconda3\\envs\\mlenv\\lib\\site-packages\\joblib\\_parallel_backends.py\u001b[0m in \u001b[0;36m__init__\u001b[1;34m(self, batch)\u001b[0m\n\u001b[0;32m    570\u001b[0m         \u001b[1;31m# Don't delay the application, to avoid keeping the input\u001b[0m\u001b[1;33m\u001b[0m\u001b[1;33m\u001b[0m\u001b[1;33m\u001b[0m\u001b[0m\n\u001b[0;32m    571\u001b[0m         \u001b[1;31m# arguments in memory\u001b[0m\u001b[1;33m\u001b[0m\u001b[1;33m\u001b[0m\u001b[1;33m\u001b[0m\u001b[0m\n\u001b[1;32m--> 572\u001b[1;33m         \u001b[0mself\u001b[0m\u001b[1;33m.\u001b[0m\u001b[0mresults\u001b[0m \u001b[1;33m=\u001b[0m \u001b[0mbatch\u001b[0m\u001b[1;33m(\u001b[0m\u001b[1;33m)\u001b[0m\u001b[1;33m\u001b[0m\u001b[1;33m\u001b[0m\u001b[0m\n\u001b[0m\u001b[0;32m    573\u001b[0m \u001b[1;33m\u001b[0m\u001b[0m\n\u001b[0;32m    574\u001b[0m     \u001b[1;32mdef\u001b[0m \u001b[0mget\u001b[0m\u001b[1;33m(\u001b[0m\u001b[0mself\u001b[0m\u001b[1;33m)\u001b[0m\u001b[1;33m:\u001b[0m\u001b[1;33m\u001b[0m\u001b[1;33m\u001b[0m\u001b[0m\n",
      "\u001b[1;32m~\\anaconda3\\envs\\mlenv\\lib\\site-packages\\joblib\\parallel.py\u001b[0m in \u001b[0;36m__call__\u001b[1;34m(self)\u001b[0m\n\u001b[0;32m    261\u001b[0m         \u001b[1;32mwith\u001b[0m \u001b[0mparallel_backend\u001b[0m\u001b[1;33m(\u001b[0m\u001b[0mself\u001b[0m\u001b[1;33m.\u001b[0m\u001b[0m_backend\u001b[0m\u001b[1;33m,\u001b[0m \u001b[0mn_jobs\u001b[0m\u001b[1;33m=\u001b[0m\u001b[0mself\u001b[0m\u001b[1;33m.\u001b[0m\u001b[0m_n_jobs\u001b[0m\u001b[1;33m)\u001b[0m\u001b[1;33m:\u001b[0m\u001b[1;33m\u001b[0m\u001b[1;33m\u001b[0m\u001b[0m\n\u001b[0;32m    262\u001b[0m             return [func(*args, **kwargs)\n\u001b[1;32m--> 263\u001b[1;33m                     for func, args, kwargs in self.items]\n\u001b[0m\u001b[0;32m    264\u001b[0m \u001b[1;33m\u001b[0m\u001b[0m\n\u001b[0;32m    265\u001b[0m     \u001b[1;32mdef\u001b[0m \u001b[0m__reduce__\u001b[0m\u001b[1;33m(\u001b[0m\u001b[0mself\u001b[0m\u001b[1;33m)\u001b[0m\u001b[1;33m:\u001b[0m\u001b[1;33m\u001b[0m\u001b[1;33m\u001b[0m\u001b[0m\n",
      "\u001b[1;32m~\\anaconda3\\envs\\mlenv\\lib\\site-packages\\joblib\\parallel.py\u001b[0m in \u001b[0;36m<listcomp>\u001b[1;34m(.0)\u001b[0m\n\u001b[0;32m    261\u001b[0m         \u001b[1;32mwith\u001b[0m \u001b[0mparallel_backend\u001b[0m\u001b[1;33m(\u001b[0m\u001b[0mself\u001b[0m\u001b[1;33m.\u001b[0m\u001b[0m_backend\u001b[0m\u001b[1;33m,\u001b[0m \u001b[0mn_jobs\u001b[0m\u001b[1;33m=\u001b[0m\u001b[0mself\u001b[0m\u001b[1;33m.\u001b[0m\u001b[0m_n_jobs\u001b[0m\u001b[1;33m)\u001b[0m\u001b[1;33m:\u001b[0m\u001b[1;33m\u001b[0m\u001b[1;33m\u001b[0m\u001b[0m\n\u001b[0;32m    262\u001b[0m             return [func(*args, **kwargs)\n\u001b[1;32m--> 263\u001b[1;33m                     for func, args, kwargs in self.items]\n\u001b[0m\u001b[0;32m    264\u001b[0m \u001b[1;33m\u001b[0m\u001b[0m\n\u001b[0;32m    265\u001b[0m     \u001b[1;32mdef\u001b[0m \u001b[0m__reduce__\u001b[0m\u001b[1;33m(\u001b[0m\u001b[0mself\u001b[0m\u001b[1;33m)\u001b[0m\u001b[1;33m:\u001b[0m\u001b[1;33m\u001b[0m\u001b[1;33m\u001b[0m\u001b[0m\n",
      "\u001b[1;32m~\\anaconda3\\envs\\mlenv\\lib\\site-packages\\sklearn\\utils\\fixes.py\u001b[0m in \u001b[0;36m__call__\u001b[1;34m(self, *args, **kwargs)\u001b[0m\n\u001b[0;32m    220\u001b[0m     \u001b[1;32mdef\u001b[0m \u001b[0m__call__\u001b[0m\u001b[1;33m(\u001b[0m\u001b[0mself\u001b[0m\u001b[1;33m,\u001b[0m \u001b[1;33m*\u001b[0m\u001b[0margs\u001b[0m\u001b[1;33m,\u001b[0m \u001b[1;33m**\u001b[0m\u001b[0mkwargs\u001b[0m\u001b[1;33m)\u001b[0m\u001b[1;33m:\u001b[0m\u001b[1;33m\u001b[0m\u001b[1;33m\u001b[0m\u001b[0m\n\u001b[0;32m    221\u001b[0m         \u001b[1;32mwith\u001b[0m \u001b[0mconfig_context\u001b[0m\u001b[1;33m(\u001b[0m\u001b[1;33m**\u001b[0m\u001b[0mself\u001b[0m\u001b[1;33m.\u001b[0m\u001b[0mconfig\u001b[0m\u001b[1;33m)\u001b[0m\u001b[1;33m:\u001b[0m\u001b[1;33m\u001b[0m\u001b[1;33m\u001b[0m\u001b[0m\n\u001b[1;32m--> 222\u001b[1;33m             \u001b[1;32mreturn\u001b[0m \u001b[0mself\u001b[0m\u001b[1;33m.\u001b[0m\u001b[0mfunction\u001b[0m\u001b[1;33m(\u001b[0m\u001b[1;33m*\u001b[0m\u001b[0margs\u001b[0m\u001b[1;33m,\u001b[0m \u001b[1;33m**\u001b[0m\u001b[0mkwargs\u001b[0m\u001b[1;33m)\u001b[0m\u001b[1;33m\u001b[0m\u001b[1;33m\u001b[0m\u001b[0m\n\u001b[0m",
      "\u001b[1;32m~\\anaconda3\\envs\\mlenv\\lib\\site-packages\\sklearn\\linear_model\\_logistic.py\u001b[0m in \u001b[0;36m_logistic_regression_path\u001b[1;34m(X, y, pos_class, Cs, fit_intercept, max_iter, tol, verbose, solver, coef, class_weight, dual, penalty, intercept_scaling, multi_class, random_state, check_input, max_squared_sum, sample_weight, l1_ratio)\u001b[0m\n\u001b[0;32m    759\u001b[0m                 \u001b[0mfunc\u001b[0m\u001b[1;33m,\u001b[0m \u001b[0mw0\u001b[0m\u001b[1;33m,\u001b[0m \u001b[0mmethod\u001b[0m\u001b[1;33m=\u001b[0m\u001b[1;34m\"L-BFGS-B\"\u001b[0m\u001b[1;33m,\u001b[0m \u001b[0mjac\u001b[0m\u001b[1;33m=\u001b[0m\u001b[1;32mTrue\u001b[0m\u001b[1;33m,\u001b[0m\u001b[1;33m\u001b[0m\u001b[1;33m\u001b[0m\u001b[0m\n\u001b[0;32m    760\u001b[0m                 \u001b[0margs\u001b[0m\u001b[1;33m=\u001b[0m\u001b[1;33m(\u001b[0m\u001b[0mX\u001b[0m\u001b[1;33m,\u001b[0m \u001b[0mtarget\u001b[0m\u001b[1;33m,\u001b[0m \u001b[1;36m1.\u001b[0m \u001b[1;33m/\u001b[0m \u001b[0mC\u001b[0m\u001b[1;33m,\u001b[0m \u001b[0msample_weight\u001b[0m\u001b[1;33m)\u001b[0m\u001b[1;33m,\u001b[0m\u001b[1;33m\u001b[0m\u001b[1;33m\u001b[0m\u001b[0m\n\u001b[1;32m--> 761\u001b[1;33m                 \u001b[0moptions\u001b[0m\u001b[1;33m=\u001b[0m\u001b[1;33m{\u001b[0m\u001b[1;34m\"iprint\"\u001b[0m\u001b[1;33m:\u001b[0m \u001b[0miprint\u001b[0m\u001b[1;33m,\u001b[0m \u001b[1;34m\"gtol\"\u001b[0m\u001b[1;33m:\u001b[0m \u001b[0mtol\u001b[0m\u001b[1;33m,\u001b[0m \u001b[1;34m\"maxiter\"\u001b[0m\u001b[1;33m:\u001b[0m \u001b[0mmax_iter\u001b[0m\u001b[1;33m}\u001b[0m\u001b[1;33m\u001b[0m\u001b[1;33m\u001b[0m\u001b[0m\n\u001b[0m\u001b[0;32m    762\u001b[0m             )\n\u001b[0;32m    763\u001b[0m             n_iter_i = _check_optimize_result(\n",
      "\u001b[1;32m~\\anaconda3\\envs\\mlenv\\lib\\site-packages\\scipy\\optimize\\_minimize.py\u001b[0m in \u001b[0;36mminimize\u001b[1;34m(fun, x0, args, method, jac, hess, hessp, bounds, constraints, tol, callback, options)\u001b[0m\n\u001b[0;32m    622\u001b[0m     \u001b[1;32melif\u001b[0m \u001b[0mmeth\u001b[0m \u001b[1;33m==\u001b[0m \u001b[1;34m'l-bfgs-b'\u001b[0m\u001b[1;33m:\u001b[0m\u001b[1;33m\u001b[0m\u001b[1;33m\u001b[0m\u001b[0m\n\u001b[0;32m    623\u001b[0m         return _minimize_lbfgsb(fun, x0, args, jac, bounds,\n\u001b[1;32m--> 624\u001b[1;33m                                 callback=callback, **options)\n\u001b[0m\u001b[0;32m    625\u001b[0m     \u001b[1;32melif\u001b[0m \u001b[0mmeth\u001b[0m \u001b[1;33m==\u001b[0m \u001b[1;34m'tnc'\u001b[0m\u001b[1;33m:\u001b[0m\u001b[1;33m\u001b[0m\u001b[1;33m\u001b[0m\u001b[0m\n\u001b[0;32m    626\u001b[0m         return _minimize_tnc(fun, x0, args, jac, bounds, callback=callback,\n",
      "\u001b[1;32m~\\anaconda3\\envs\\mlenv\\lib\\site-packages\\scipy\\optimize\\lbfgsb.py\u001b[0m in \u001b[0;36m_minimize_lbfgsb\u001b[1;34m(fun, x0, args, jac, bounds, disp, maxcor, ftol, gtol, eps, maxfun, maxiter, iprint, callback, maxls, finite_diff_rel_step, **unknown_options)\u001b[0m\n\u001b[0;32m    358\u001b[0m             \u001b[1;31m# until the completion of the current minimization iteration.\u001b[0m\u001b[1;33m\u001b[0m\u001b[1;33m\u001b[0m\u001b[1;33m\u001b[0m\u001b[0m\n\u001b[0;32m    359\u001b[0m             \u001b[1;31m# Overwrite f and g:\u001b[0m\u001b[1;33m\u001b[0m\u001b[1;33m\u001b[0m\u001b[1;33m\u001b[0m\u001b[0m\n\u001b[1;32m--> 360\u001b[1;33m             \u001b[0mf\u001b[0m\u001b[1;33m,\u001b[0m \u001b[0mg\u001b[0m \u001b[1;33m=\u001b[0m \u001b[0mfunc_and_grad\u001b[0m\u001b[1;33m(\u001b[0m\u001b[0mx\u001b[0m\u001b[1;33m)\u001b[0m\u001b[1;33m\u001b[0m\u001b[1;33m\u001b[0m\u001b[0m\n\u001b[0m\u001b[0;32m    361\u001b[0m         \u001b[1;32melif\u001b[0m \u001b[0mtask_str\u001b[0m\u001b[1;33m.\u001b[0m\u001b[0mstartswith\u001b[0m\u001b[1;33m(\u001b[0m\u001b[1;34mb'NEW_X'\u001b[0m\u001b[1;33m)\u001b[0m\u001b[1;33m:\u001b[0m\u001b[1;33m\u001b[0m\u001b[1;33m\u001b[0m\u001b[0m\n\u001b[0;32m    362\u001b[0m             \u001b[1;31m# new iteration\u001b[0m\u001b[1;33m\u001b[0m\u001b[1;33m\u001b[0m\u001b[1;33m\u001b[0m\u001b[0m\n",
      "\u001b[1;32m~\\anaconda3\\envs\\mlenv\\lib\\site-packages\\scipy\\optimize\\_differentiable_functions.py\u001b[0m in \u001b[0;36mfun_and_grad\u001b[1;34m(self, x)\u001b[0m\n\u001b[0;32m    265\u001b[0m         \u001b[1;32mif\u001b[0m \u001b[1;32mnot\u001b[0m \u001b[0mnp\u001b[0m\u001b[1;33m.\u001b[0m\u001b[0marray_equal\u001b[0m\u001b[1;33m(\u001b[0m\u001b[0mx\u001b[0m\u001b[1;33m,\u001b[0m \u001b[0mself\u001b[0m\u001b[1;33m.\u001b[0m\u001b[0mx\u001b[0m\u001b[1;33m)\u001b[0m\u001b[1;33m:\u001b[0m\u001b[1;33m\u001b[0m\u001b[1;33m\u001b[0m\u001b[0m\n\u001b[0;32m    266\u001b[0m             \u001b[0mself\u001b[0m\u001b[1;33m.\u001b[0m\u001b[0m_update_x_impl\u001b[0m\u001b[1;33m(\u001b[0m\u001b[0mx\u001b[0m\u001b[1;33m)\u001b[0m\u001b[1;33m\u001b[0m\u001b[1;33m\u001b[0m\u001b[0m\n\u001b[1;32m--> 267\u001b[1;33m         \u001b[0mself\u001b[0m\u001b[1;33m.\u001b[0m\u001b[0m_update_fun\u001b[0m\u001b[1;33m(\u001b[0m\u001b[1;33m)\u001b[0m\u001b[1;33m\u001b[0m\u001b[1;33m\u001b[0m\u001b[0m\n\u001b[0m\u001b[0;32m    268\u001b[0m         \u001b[0mself\u001b[0m\u001b[1;33m.\u001b[0m\u001b[0m_update_grad\u001b[0m\u001b[1;33m(\u001b[0m\u001b[1;33m)\u001b[0m\u001b[1;33m\u001b[0m\u001b[1;33m\u001b[0m\u001b[0m\n\u001b[0;32m    269\u001b[0m         \u001b[1;32mreturn\u001b[0m \u001b[0mself\u001b[0m\u001b[1;33m.\u001b[0m\u001b[0mf\u001b[0m\u001b[1;33m,\u001b[0m \u001b[0mself\u001b[0m\u001b[1;33m.\u001b[0m\u001b[0mg\u001b[0m\u001b[1;33m\u001b[0m\u001b[1;33m\u001b[0m\u001b[0m\n",
      "\u001b[1;32m~\\anaconda3\\envs\\mlenv\\lib\\site-packages\\scipy\\optimize\\_differentiable_functions.py\u001b[0m in \u001b[0;36m_update_fun\u001b[1;34m(self)\u001b[0m\n\u001b[0;32m    231\u001b[0m     \u001b[1;32mdef\u001b[0m \u001b[0m_update_fun\u001b[0m\u001b[1;33m(\u001b[0m\u001b[0mself\u001b[0m\u001b[1;33m)\u001b[0m\u001b[1;33m:\u001b[0m\u001b[1;33m\u001b[0m\u001b[1;33m\u001b[0m\u001b[0m\n\u001b[0;32m    232\u001b[0m         \u001b[1;32mif\u001b[0m \u001b[1;32mnot\u001b[0m \u001b[0mself\u001b[0m\u001b[1;33m.\u001b[0m\u001b[0mf_updated\u001b[0m\u001b[1;33m:\u001b[0m\u001b[1;33m\u001b[0m\u001b[1;33m\u001b[0m\u001b[0m\n\u001b[1;32m--> 233\u001b[1;33m             \u001b[0mself\u001b[0m\u001b[1;33m.\u001b[0m\u001b[0m_update_fun_impl\u001b[0m\u001b[1;33m(\u001b[0m\u001b[1;33m)\u001b[0m\u001b[1;33m\u001b[0m\u001b[1;33m\u001b[0m\u001b[0m\n\u001b[0m\u001b[0;32m    234\u001b[0m             \u001b[0mself\u001b[0m\u001b[1;33m.\u001b[0m\u001b[0mf_updated\u001b[0m \u001b[1;33m=\u001b[0m \u001b[1;32mTrue\u001b[0m\u001b[1;33m\u001b[0m\u001b[1;33m\u001b[0m\u001b[0m\n\u001b[0;32m    235\u001b[0m \u001b[1;33m\u001b[0m\u001b[0m\n",
      "\u001b[1;32m~\\anaconda3\\envs\\mlenv\\lib\\site-packages\\scipy\\optimize\\_differentiable_functions.py\u001b[0m in \u001b[0;36mupdate_fun\u001b[1;34m()\u001b[0m\n\u001b[0;32m    135\u001b[0m \u001b[1;33m\u001b[0m\u001b[0m\n\u001b[0;32m    136\u001b[0m         \u001b[1;32mdef\u001b[0m \u001b[0mupdate_fun\u001b[0m\u001b[1;33m(\u001b[0m\u001b[1;33m)\u001b[0m\u001b[1;33m:\u001b[0m\u001b[1;33m\u001b[0m\u001b[1;33m\u001b[0m\u001b[0m\n\u001b[1;32m--> 137\u001b[1;33m             \u001b[0mself\u001b[0m\u001b[1;33m.\u001b[0m\u001b[0mf\u001b[0m \u001b[1;33m=\u001b[0m \u001b[0mfun_wrapped\u001b[0m\u001b[1;33m(\u001b[0m\u001b[0mself\u001b[0m\u001b[1;33m.\u001b[0m\u001b[0mx\u001b[0m\u001b[1;33m)\u001b[0m\u001b[1;33m\u001b[0m\u001b[1;33m\u001b[0m\u001b[0m\n\u001b[0m\u001b[0;32m    138\u001b[0m \u001b[1;33m\u001b[0m\u001b[0m\n\u001b[0;32m    139\u001b[0m         \u001b[0mself\u001b[0m\u001b[1;33m.\u001b[0m\u001b[0m_update_fun_impl\u001b[0m \u001b[1;33m=\u001b[0m \u001b[0mupdate_fun\u001b[0m\u001b[1;33m\u001b[0m\u001b[1;33m\u001b[0m\u001b[0m\n",
      "\u001b[1;32m~\\anaconda3\\envs\\mlenv\\lib\\site-packages\\scipy\\optimize\\_differentiable_functions.py\u001b[0m in \u001b[0;36mfun_wrapped\u001b[1;34m(x)\u001b[0m\n\u001b[0;32m    132\u001b[0m             \u001b[1;31m# Overwriting results in undefined behaviour because\u001b[0m\u001b[1;33m\u001b[0m\u001b[1;33m\u001b[0m\u001b[1;33m\u001b[0m\u001b[0m\n\u001b[0;32m    133\u001b[0m             \u001b[1;31m# fun(self.x) will change self.x, with the two no longer linked.\u001b[0m\u001b[1;33m\u001b[0m\u001b[1;33m\u001b[0m\u001b[1;33m\u001b[0m\u001b[0m\n\u001b[1;32m--> 134\u001b[1;33m             \u001b[1;32mreturn\u001b[0m \u001b[0mfun\u001b[0m\u001b[1;33m(\u001b[0m\u001b[0mnp\u001b[0m\u001b[1;33m.\u001b[0m\u001b[0mcopy\u001b[0m\u001b[1;33m(\u001b[0m\u001b[0mx\u001b[0m\u001b[1;33m)\u001b[0m\u001b[1;33m,\u001b[0m \u001b[1;33m*\u001b[0m\u001b[0margs\u001b[0m\u001b[1;33m)\u001b[0m\u001b[1;33m\u001b[0m\u001b[1;33m\u001b[0m\u001b[0m\n\u001b[0m\u001b[0;32m    135\u001b[0m \u001b[1;33m\u001b[0m\u001b[0m\n\u001b[0;32m    136\u001b[0m         \u001b[1;32mdef\u001b[0m \u001b[0mupdate_fun\u001b[0m\u001b[1;33m(\u001b[0m\u001b[1;33m)\u001b[0m\u001b[1;33m:\u001b[0m\u001b[1;33m\u001b[0m\u001b[1;33m\u001b[0m\u001b[0m\n",
      "\u001b[1;32m~\\anaconda3\\envs\\mlenv\\lib\\site-packages\\scipy\\optimize\\optimize.py\u001b[0m in \u001b[0;36m__call__\u001b[1;34m(self, x, *args)\u001b[0m\n\u001b[0;32m     72\u001b[0m     \u001b[1;32mdef\u001b[0m \u001b[0m__call__\u001b[0m\u001b[1;33m(\u001b[0m\u001b[0mself\u001b[0m\u001b[1;33m,\u001b[0m \u001b[0mx\u001b[0m\u001b[1;33m,\u001b[0m \u001b[1;33m*\u001b[0m\u001b[0margs\u001b[0m\u001b[1;33m)\u001b[0m\u001b[1;33m:\u001b[0m\u001b[1;33m\u001b[0m\u001b[1;33m\u001b[0m\u001b[0m\n\u001b[0;32m     73\u001b[0m         \u001b[1;34m\"\"\" returns the the function value \"\"\"\u001b[0m\u001b[1;33m\u001b[0m\u001b[1;33m\u001b[0m\u001b[0m\n\u001b[1;32m---> 74\u001b[1;33m         \u001b[0mself\u001b[0m\u001b[1;33m.\u001b[0m\u001b[0m_compute_if_needed\u001b[0m\u001b[1;33m(\u001b[0m\u001b[0mx\u001b[0m\u001b[1;33m,\u001b[0m \u001b[1;33m*\u001b[0m\u001b[0margs\u001b[0m\u001b[1;33m)\u001b[0m\u001b[1;33m\u001b[0m\u001b[1;33m\u001b[0m\u001b[0m\n\u001b[0m\u001b[0;32m     75\u001b[0m         \u001b[1;32mreturn\u001b[0m \u001b[0mself\u001b[0m\u001b[1;33m.\u001b[0m\u001b[0m_value\u001b[0m\u001b[1;33m\u001b[0m\u001b[1;33m\u001b[0m\u001b[0m\n\u001b[0;32m     76\u001b[0m \u001b[1;33m\u001b[0m\u001b[0m\n",
      "\u001b[1;32m~\\anaconda3\\envs\\mlenv\\lib\\site-packages\\scipy\\optimize\\optimize.py\u001b[0m in \u001b[0;36m_compute_if_needed\u001b[1;34m(self, x, *args)\u001b[0m\n\u001b[0;32m     66\u001b[0m         \u001b[1;32mif\u001b[0m \u001b[1;32mnot\u001b[0m \u001b[0mnp\u001b[0m\u001b[1;33m.\u001b[0m\u001b[0mall\u001b[0m\u001b[1;33m(\u001b[0m\u001b[0mx\u001b[0m \u001b[1;33m==\u001b[0m \u001b[0mself\u001b[0m\u001b[1;33m.\u001b[0m\u001b[0mx\u001b[0m\u001b[1;33m)\u001b[0m \u001b[1;32mor\u001b[0m \u001b[0mself\u001b[0m\u001b[1;33m.\u001b[0m\u001b[0m_value\u001b[0m \u001b[1;32mis\u001b[0m \u001b[1;32mNone\u001b[0m \u001b[1;32mor\u001b[0m \u001b[0mself\u001b[0m\u001b[1;33m.\u001b[0m\u001b[0mjac\u001b[0m \u001b[1;32mis\u001b[0m \u001b[1;32mNone\u001b[0m\u001b[1;33m:\u001b[0m\u001b[1;33m\u001b[0m\u001b[1;33m\u001b[0m\u001b[0m\n\u001b[0;32m     67\u001b[0m             \u001b[0mself\u001b[0m\u001b[1;33m.\u001b[0m\u001b[0mx\u001b[0m \u001b[1;33m=\u001b[0m \u001b[0mnp\u001b[0m\u001b[1;33m.\u001b[0m\u001b[0masarray\u001b[0m\u001b[1;33m(\u001b[0m\u001b[0mx\u001b[0m\u001b[1;33m)\u001b[0m\u001b[1;33m.\u001b[0m\u001b[0mcopy\u001b[0m\u001b[1;33m(\u001b[0m\u001b[1;33m)\u001b[0m\u001b[1;33m\u001b[0m\u001b[1;33m\u001b[0m\u001b[0m\n\u001b[1;32m---> 68\u001b[1;33m             \u001b[0mfg\u001b[0m \u001b[1;33m=\u001b[0m \u001b[0mself\u001b[0m\u001b[1;33m.\u001b[0m\u001b[0mfun\u001b[0m\u001b[1;33m(\u001b[0m\u001b[0mx\u001b[0m\u001b[1;33m,\u001b[0m \u001b[1;33m*\u001b[0m\u001b[0margs\u001b[0m\u001b[1;33m)\u001b[0m\u001b[1;33m\u001b[0m\u001b[1;33m\u001b[0m\u001b[0m\n\u001b[0m\u001b[0;32m     69\u001b[0m             \u001b[0mself\u001b[0m\u001b[1;33m.\u001b[0m\u001b[0mjac\u001b[0m \u001b[1;33m=\u001b[0m \u001b[0mfg\u001b[0m\u001b[1;33m[\u001b[0m\u001b[1;36m1\u001b[0m\u001b[1;33m]\u001b[0m\u001b[1;33m\u001b[0m\u001b[1;33m\u001b[0m\u001b[0m\n\u001b[0;32m     70\u001b[0m             \u001b[0mself\u001b[0m\u001b[1;33m.\u001b[0m\u001b[0m_value\u001b[0m \u001b[1;33m=\u001b[0m \u001b[0mfg\u001b[0m\u001b[1;33m[\u001b[0m\u001b[1;36m0\u001b[0m\u001b[1;33m]\u001b[0m\u001b[1;33m\u001b[0m\u001b[1;33m\u001b[0m\u001b[0m\n",
      "\u001b[1;32m~\\anaconda3\\envs\\mlenv\\lib\\site-packages\\sklearn\\linear_model\\_logistic.py\u001b[0m in \u001b[0;36mfunc\u001b[1;34m(x, *args)\u001b[0m\n\u001b[0;32m    734\u001b[0m         \u001b[0mtarget\u001b[0m \u001b[1;33m=\u001b[0m \u001b[0mY_multi\u001b[0m\u001b[1;33m\u001b[0m\u001b[1;33m\u001b[0m\u001b[0m\n\u001b[0;32m    735\u001b[0m         \u001b[1;32mif\u001b[0m \u001b[0msolver\u001b[0m \u001b[1;33m==\u001b[0m \u001b[1;34m'lbfgs'\u001b[0m\u001b[1;33m:\u001b[0m\u001b[1;33m\u001b[0m\u001b[1;33m\u001b[0m\u001b[0m\n\u001b[1;32m--> 736\u001b[1;33m             \u001b[1;32mdef\u001b[0m \u001b[0mfunc\u001b[0m\u001b[1;33m(\u001b[0m\u001b[0mx\u001b[0m\u001b[1;33m,\u001b[0m \u001b[1;33m*\u001b[0m\u001b[0margs\u001b[0m\u001b[1;33m)\u001b[0m\u001b[1;33m:\u001b[0m \u001b[1;32mreturn\u001b[0m \u001b[0m_multinomial_loss_grad\u001b[0m\u001b[1;33m(\u001b[0m\u001b[0mx\u001b[0m\u001b[1;33m,\u001b[0m \u001b[1;33m*\u001b[0m\u001b[0margs\u001b[0m\u001b[1;33m)\u001b[0m\u001b[1;33m[\u001b[0m\u001b[1;36m0\u001b[0m\u001b[1;33m:\u001b[0m\u001b[1;36m2\u001b[0m\u001b[1;33m]\u001b[0m\u001b[1;33m\u001b[0m\u001b[1;33m\u001b[0m\u001b[0m\n\u001b[0m\u001b[0;32m    737\u001b[0m         \u001b[1;32melif\u001b[0m \u001b[0msolver\u001b[0m \u001b[1;33m==\u001b[0m \u001b[1;34m'newton-cg'\u001b[0m\u001b[1;33m:\u001b[0m\u001b[1;33m\u001b[0m\u001b[1;33m\u001b[0m\u001b[0m\n\u001b[0;32m    738\u001b[0m             \u001b[1;32mdef\u001b[0m \u001b[0mfunc\u001b[0m\u001b[1;33m(\u001b[0m\u001b[0mx\u001b[0m\u001b[1;33m,\u001b[0m \u001b[1;33m*\u001b[0m\u001b[0margs\u001b[0m\u001b[1;33m)\u001b[0m\u001b[1;33m:\u001b[0m \u001b[1;32mreturn\u001b[0m \u001b[0m_multinomial_loss\u001b[0m\u001b[1;33m(\u001b[0m\u001b[0mx\u001b[0m\u001b[1;33m,\u001b[0m \u001b[1;33m*\u001b[0m\u001b[0margs\u001b[0m\u001b[1;33m)\u001b[0m\u001b[1;33m[\u001b[0m\u001b[1;36m0\u001b[0m\u001b[1;33m]\u001b[0m\u001b[1;33m\u001b[0m\u001b[1;33m\u001b[0m\u001b[0m\n",
      "\u001b[1;32m~\\anaconda3\\envs\\mlenv\\lib\\site-packages\\sklearn\\linear_model\\_logistic.py\u001b[0m in \u001b[0;36m_multinomial_loss_grad\u001b[1;34m(w, X, Y, alpha, sample_weight)\u001b[0m\n\u001b[0;32m    346\u001b[0m     grad = np.zeros((n_classes, n_features + bool(fit_intercept)),\n\u001b[0;32m    347\u001b[0m                     dtype=X.dtype)\n\u001b[1;32m--> 348\u001b[1;33m     \u001b[0mloss\u001b[0m\u001b[1;33m,\u001b[0m \u001b[0mp\u001b[0m\u001b[1;33m,\u001b[0m \u001b[0mw\u001b[0m \u001b[1;33m=\u001b[0m \u001b[0m_multinomial_loss\u001b[0m\u001b[1;33m(\u001b[0m\u001b[0mw\u001b[0m\u001b[1;33m,\u001b[0m \u001b[0mX\u001b[0m\u001b[1;33m,\u001b[0m \u001b[0mY\u001b[0m\u001b[1;33m,\u001b[0m \u001b[0malpha\u001b[0m\u001b[1;33m,\u001b[0m \u001b[0msample_weight\u001b[0m\u001b[1;33m)\u001b[0m\u001b[1;33m\u001b[0m\u001b[1;33m\u001b[0m\u001b[0m\n\u001b[0m\u001b[0;32m    349\u001b[0m     \u001b[0msample_weight\u001b[0m \u001b[1;33m=\u001b[0m \u001b[0msample_weight\u001b[0m\u001b[1;33m[\u001b[0m\u001b[1;33m:\u001b[0m\u001b[1;33m,\u001b[0m \u001b[0mnp\u001b[0m\u001b[1;33m.\u001b[0m\u001b[0mnewaxis\u001b[0m\u001b[1;33m]\u001b[0m\u001b[1;33m\u001b[0m\u001b[1;33m\u001b[0m\u001b[0m\n\u001b[0;32m    350\u001b[0m     \u001b[0mdiff\u001b[0m \u001b[1;33m=\u001b[0m \u001b[0msample_weight\u001b[0m \u001b[1;33m*\u001b[0m \u001b[1;33m(\u001b[0m\u001b[0mp\u001b[0m \u001b[1;33m-\u001b[0m \u001b[0mY\u001b[0m\u001b[1;33m)\u001b[0m\u001b[1;33m\u001b[0m\u001b[1;33m\u001b[0m\u001b[0m\n",
      "\u001b[1;32m~\\anaconda3\\envs\\mlenv\\lib\\site-packages\\sklearn\\linear_model\\_logistic.py\u001b[0m in \u001b[0;36m_multinomial_loss\u001b[1;34m(w, X, Y, alpha, sample_weight)\u001b[0m\n\u001b[0;32m    299\u001b[0m     \u001b[0mloss\u001b[0m \u001b[1;33m=\u001b[0m \u001b[1;33m-\u001b[0m\u001b[1;33m(\u001b[0m\u001b[0msample_weight\u001b[0m \u001b[1;33m*\u001b[0m \u001b[0mY\u001b[0m \u001b[1;33m*\u001b[0m \u001b[0mp\u001b[0m\u001b[1;33m)\u001b[0m\u001b[1;33m.\u001b[0m\u001b[0msum\u001b[0m\u001b[1;33m(\u001b[0m\u001b[1;33m)\u001b[0m\u001b[1;33m\u001b[0m\u001b[1;33m\u001b[0m\u001b[0m\n\u001b[0;32m    300\u001b[0m     \u001b[0mloss\u001b[0m \u001b[1;33m+=\u001b[0m \u001b[1;36m0.5\u001b[0m \u001b[1;33m*\u001b[0m \u001b[0malpha\u001b[0m \u001b[1;33m*\u001b[0m \u001b[0msquared_norm\u001b[0m\u001b[1;33m(\u001b[0m\u001b[0mw\u001b[0m\u001b[1;33m)\u001b[0m\u001b[1;33m\u001b[0m\u001b[1;33m\u001b[0m\u001b[0m\n\u001b[1;32m--> 301\u001b[1;33m     \u001b[0mp\u001b[0m \u001b[1;33m=\u001b[0m \u001b[0mnp\u001b[0m\u001b[1;33m.\u001b[0m\u001b[0mexp\u001b[0m\u001b[1;33m(\u001b[0m\u001b[0mp\u001b[0m\u001b[1;33m,\u001b[0m \u001b[0mp\u001b[0m\u001b[1;33m)\u001b[0m\u001b[1;33m\u001b[0m\u001b[1;33m\u001b[0m\u001b[0m\n\u001b[0m\u001b[0;32m    302\u001b[0m     \u001b[1;32mreturn\u001b[0m \u001b[0mloss\u001b[0m\u001b[1;33m,\u001b[0m \u001b[0mp\u001b[0m\u001b[1;33m,\u001b[0m \u001b[0mw\u001b[0m\u001b[1;33m\u001b[0m\u001b[1;33m\u001b[0m\u001b[0m\n\u001b[0;32m    303\u001b[0m \u001b[1;33m\u001b[0m\u001b[0m\n",
      "\u001b[1;31mKeyboardInterrupt\u001b[0m: "
     ]
    }
   ],
   "source": [
    "from sklearn.linear_model import LogisticRegression\n",
    "classifier = LogisticRegression(solver='lbfgs',\n",
    "                               max_iter=500,\n",
    "                               random_state=1)\n",
    "classifier.fit(X_train_scaled, y_train)\n",
    "y_pred = classifier.predict(X_test_scaled)\n",
    "\n",
    "print(accuracy_score(y_test, y_pred))"
   ]
  },
  {
   "cell_type": "code",
   "execution_count": null,
   "id": "4121db43",
   "metadata": {},
   "outputs": [],
   "source": []
  }
 ],
 "metadata": {
  "kernelspec": {
   "display_name": "mlenv",
   "language": "python",
   "name": "mlenv"
  },
  "language_info": {
   "codemirror_mode": {
    "name": "ipython",
    "version": 3
   },
   "file_extension": ".py",
   "mimetype": "text/x-python",
   "name": "python",
   "nbconvert_exporter": "python",
   "pygments_lexer": "ipython3",
   "version": "3.7.11"
  }
 },
 "nbformat": 4,
 "nbformat_minor": 5
}
