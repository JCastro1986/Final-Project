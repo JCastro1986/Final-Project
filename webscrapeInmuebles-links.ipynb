{
 "cells": [
  {
   "cell_type": "markdown",
   "id": "d7a27dbe",
   "metadata": {},
   "source": [
    "## Webscrapping from metroscubicos.com"
   ]
  },
  {
   "cell_type": "code",
   "execution_count": null,
   "id": "85fd59ba",
   "metadata": {},
   "outputs": [],
   "source": [
    "# import instances and libraries\n",
    "from splinter import Browser\n",
    "from bs4 import BeautifulSoup as soup\n",
    "from webdriver_manager.chrome import ChromeDriverManager\n",
    "import requests\n",
    "import re\n",
    "import pandas as pd\n",
    "# To show a progess bar in loops:\n",
    "from tqdm import tqdm_notebook as tqdm\n",
    "import csv"
   ]
  },
  {
   "cell_type": "code",
   "execution_count": null,
   "id": "5af6f630",
   "metadata": {
    "scrolled": true
   },
   "outputs": [],
   "source": [
    "# Set up Splinter\n",
    "executable_path = {'executable_path': ChromeDriverManager().install()}\n",
    "browser = Browser('chrome', **executable_path, headless=False)"
   ]
  },
  {
   "cell_type": "code",
   "execution_count": null,
   "id": "87dc794d",
   "metadata": {},
   "outputs": [],
   "source": [
    "# List all entities available in metroscubicos.com\n",
    "\n",
    "entidades = ['Aguascalientes', 'Baja California', 'Baja California Sur', 'Campeche', 'Chiapas', 'Chihuahua', 'Coahuila', 'Colima',\n",
    "            'Distrito Federal', 'Durango', 'Estado De México', 'Guanajuato', 'Guerrero', 'Hidalgo', 'Jalisco', 'Michoacán',\n",
    "             'Morelos', 'Nayarit', 'Nuevo León', 'Oaxaca', 'Puebla', 'Querétaro', 'Quintana Roo', 'San Luis Potosí',\n",
    "             'Sinaloa', 'Sonora', 'Tabasco', 'Tamaulipas', 'Tlaxcala', 'Veracruz', 'Yucatán', 'Zacatecas']"
   ]
  },
  {
   "cell_type": "code",
   "execution_count": null,
   "id": "2636927e",
   "metadata": {},
   "outputs": [],
   "source": [
    "# make smallcaps and change spaces for dashes, and select which entities\n",
    "entidadesLower = [x.lower().replace(' ', '-') for x in entidades]"
   ]
  },
  {
   "cell_type": "code",
   "execution_count": null,
   "id": "a366f7b8",
   "metadata": {},
   "outputs": [],
   "source": [
    "entidadesLower"
   ]
  },
  {
   "cell_type": "code",
   "execution_count": null,
   "id": "2e62faaa",
   "metadata": {},
   "outputs": [],
   "source": [
    "# Initialize variables\n",
    "cityList = []\n",
    "listLinks = []\n",
    "tipos = ['casas', 'departamentos', 'terrenos']\n",
    "baseUrl = 'https://inmuebles.metroscubicos.com/'\n",
    "csvPath = './Resources/'"
   ]
  },
  {
   "cell_type": "markdown",
   "id": "a513e001",
   "metadata": {},
   "source": [
    "### Script para obtener links y guardarlos en csv por ciudad"
   ]
  },
  {
   "cell_type": "code",
   "execution_count": null,
   "id": "1d689408",
   "metadata": {},
   "outputs": [],
   "source": [
    "# PRIMERO OBTENER TODOS LOS LINKS\n",
    "\n",
    "# Loop para navegar en cada ciudad\n",
    "for ciudad in tqdm(entidadesLower):\n",
    "    # initialize counter for ciudad\n",
    "    counter = 0\n",
    "    links = []\n",
    "    #cityDict = {}\n",
    "    #browser = Browser('chrome', **executable_path, headless=False)\n",
    "    for tipo in tqdm(tipos):\n",
    "        browseUrl = baseUrl+tipo+\"/venta/\"+ciudad\n",
    "        # visit results for ciudad\n",
    "        browser.visit(browseUrl)\n",
    "        html = browser.html\n",
    "        html_soup = soup(html, 'html.parser')\n",
    "        # Get number of pages for results\n",
    "        paginas = html_soup.find('li', class_=re.compile('page-count'))\n",
    "        if paginas != None:\n",
    "            numPaginas = [int(s) for s in paginas.get_text().split() if s.isdigit()][0]\n",
    "        else:\n",
    "            numPaginas = 1\n",
    "        if browser.is_element_present_by_id('newCookieDisclaimerButton'):\n",
    "            browser.find_by_css('button[id=\"newCookieDisclaimerButton\"]').click()\n",
    "        \n",
    "        \n",
    "\n",
    "        # Browse in each page\n",
    "        for pagina in tqdm(range(numPaginas)):\n",
    "            # Get all links\n",
    "            htmlNew = browser.html\n",
    "            new_soup = soup(htmlNew, 'html.parser')\n",
    "            resultados = new_soup.find_all('a', class_=\"ui-search-link\")\n",
    "            link=\"\"\n",
    "            for resultado in resultados:\n",
    "                cityDict = {}\n",
    "                if \"MLM-\" in resultado['href']:\n",
    "                    if resultado['href'] != \"\" and re.search('[^#]*',resultado['href']) != None:\n",
    "                        link = re.search('[^#]*',resultado['href']).group(0)\n",
    "                    else:\n",
    "                        continue\n",
    "                else:\n",
    "                    continue\n",
    "                if re.search('(?<=MLM-)\\d+',link) != None:\n",
    "                    ID = re.search('(?<=MLM-)\\d+',link).group(0)\n",
    "                else:\n",
    "                    continue\n",
    "                if re.search('(?:MLM-\\d+-)(\\w+)',link) != None:\n",
    "                    tipo = re.search('(?:MLM-\\d+-)(\\w+)',link)[1]\n",
    "                else:\n",
    "                    tipo = \"\"\n",
    "                cityDict[\"ID\"] = ID\n",
    "                cityDict[\"entidad\"] = ciudad\n",
    "                cityDict[\"tipo\"] = tipo\n",
    "                cityDict[\"link\"] = link\n",
    "                if cityDict not in links:\n",
    "                    links.append(cityDict)\n",
    "\n",
    "            # Change page if hasn't reach final\n",
    "            if (pagina+1) != numPaginas and browser.find_by_css('li[class=\"andes-pagination__button andes-pagination__button--next\"] a') != None:\n",
    "                browser.find_by_css('li[class=\"andes-pagination__button andes-pagination__button--next\"] a').first.click()\n",
    "            \n",
    "    # save links to csv per city\n",
    "    file = csvPath+ciudad+\".csv\"\n",
    "    df = pd.DataFrame(links)\n",
    "    df.to_csv(file, index=False)\n",
    "    print(f'Total links for {ciudad}:{len(links)}')    \n",
    "\n",
    "browser.quit()\n",
    "\n"
   ]
  }
 ],
 "metadata": {
  "kernelspec": {
   "display_name": "PythonData",
   "language": "python",
   "name": "pythondata"
  },
  "language_info": {
   "codemirror_mode": {
    "name": "ipython",
    "version": 3
   },
   "file_extension": ".py",
   "mimetype": "text/x-python",
   "name": "python",
   "nbconvert_exporter": "python",
   "pygments_lexer": "ipython3",
   "version": "3.7.11"
  }
 },
 "nbformat": 4,
 "nbformat_minor": 5
}
