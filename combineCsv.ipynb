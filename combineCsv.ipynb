{
 "cells": [
  {
   "cell_type": "code",
   "execution_count": 1,
   "id": "d5dbfb32",
   "metadata": {},
   "outputs": [],
   "source": [
    "import csv\n",
    "import pandas as pd\n",
    "import os.path"
   ]
  },
  {
   "cell_type": "code",
   "execution_count": 2,
   "id": "f3a16a42",
   "metadata": {},
   "outputs": [],
   "source": [
    "# List all entities available in metroscubicos.com\n",
    "\n",
    "entidades = ['Aguascalientes', 'Baja California', 'Baja California Sur', 'Campeche', 'Chiapas', 'Chihuahua', 'Coahuila', 'Colima',\n",
    "            'Distrito Federal', 'Durango', 'Estado De México', 'Guanajuato', 'Guerrero', 'Hidalgo', 'Jalisco', 'Michoacán',\n",
    "             'Morelos', 'Nayarit', 'Nuevo León', 'Oaxaca', 'Puebla', 'Querétaro', 'Quintana Roo', 'San Luis Potosí',\n",
    "             'Sinaloa', 'Sonora', 'Tabasco', 'Tamaulipas', 'Tlaxcala', 'Veracruz', 'Yucatán', 'Zacatecas']"
   ]
  },
  {
   "cell_type": "code",
   "execution_count": 3,
   "id": "be6856fb",
   "metadata": {},
   "outputs": [],
   "source": [
    "# make smallcaps and change spaces for dashes, and select which entities\n",
    "entidadesLower = [x.lower().replace(' ', '-') for x in entidades]"
   ]
  },
  {
   "cell_type": "code",
   "execution_count": 4,
   "id": "0e69971d",
   "metadata": {},
   "outputs": [],
   "source": [
    "# define path\n",
    "path = \"./Resources/\""
   ]
  },
  {
   "cell_type": "markdown",
   "id": "33697a33",
   "metadata": {},
   "source": [
    "### Process for csv with links"
   ]
  },
  {
   "cell_type": "code",
   "execution_count": 5,
   "id": "e339dc68",
   "metadata": {},
   "outputs": [],
   "source": [
    "# file inputs for links\n",
    "inputs = [path+x+\".csv\" for x in entidadesLower]"
   ]
  },
  {
   "cell_type": "code",
   "execution_count": 6,
   "id": "22bb1e32",
   "metadata": {},
   "outputs": [],
   "source": [
    "# output file for links\n",
    "links_output = path+\"combinedLinks.csv\""
   ]
  },
  {
   "cell_type": "code",
   "execution_count": 7,
   "id": "ff19f30e",
   "metadata": {},
   "outputs": [
    {
     "data": {
      "text/plain": [
       "['ID', 'entidad', 'tipo', 'link']"
      ]
     },
     "execution_count": 7,
     "metadata": {},
     "output_type": "execute_result"
    }
   ],
   "source": [
    "# Get all column names from files if there are different columns\n",
    "columnNames = []\n",
    "for filename in inputs:\n",
    "  with open(filename, \"r\", newline=\"\", encoding=\"utf8\") as f_in:\n",
    "    reader = csv.reader(f_in)\n",
    "    headers = next(reader)\n",
    "    for h in headers:\n",
    "      if h not in columnNames:\n",
    "        columnNames.append(h)\n",
    "\n",
    "columnNames"
   ]
  },
  {
   "cell_type": "code",
   "execution_count": 8,
   "id": "a7af8f5e",
   "metadata": {},
   "outputs": [],
   "source": [
    "combined_csv = pd.concat([pd.read_csv(f) for f in inputs])"
   ]
  },
  {
   "cell_type": "code",
   "execution_count": 9,
   "id": "b3f5d707",
   "metadata": {},
   "outputs": [
    {
     "data": {
      "text/html": [
       "<div>\n",
       "<style scoped>\n",
       "    .dataframe tbody tr th:only-of-type {\n",
       "        vertical-align: middle;\n",
       "    }\n",
       "\n",
       "    .dataframe tbody tr th {\n",
       "        vertical-align: top;\n",
       "    }\n",
       "\n",
       "    .dataframe thead th {\n",
       "        text-align: right;\n",
       "    }\n",
       "</style>\n",
       "<table border=\"1\" class=\"dataframe\">\n",
       "  <thead>\n",
       "    <tr style=\"text-align: right;\">\n",
       "      <th></th>\n",
       "      <th>ID</th>\n",
       "      <th>entidad</th>\n",
       "      <th>tipo</th>\n",
       "      <th>link</th>\n",
       "    </tr>\n",
       "  </thead>\n",
       "  <tbody>\n",
       "    <tr>\n",
       "      <th>0</th>\n",
       "      <td>1425548080</td>\n",
       "      <td>aguascalientes</td>\n",
       "      <td>venta</td>\n",
       "      <td>https://casa.metroscubicos.com/MLM-1425548080-...</td>\n",
       "    </tr>\n",
       "    <tr>\n",
       "      <th>1</th>\n",
       "      <td>1397663987</td>\n",
       "      <td>aguascalientes</td>\n",
       "      <td>casa</td>\n",
       "      <td>https://casa.metroscubicos.com/MLM-1397663987-...</td>\n",
       "    </tr>\n",
       "    <tr>\n",
       "      <th>2</th>\n",
       "      <td>1398422703</td>\n",
       "      <td>aguascalientes</td>\n",
       "      <td>casa</td>\n",
       "      <td>https://casa.metroscubicos.com/MLM-1398422703-...</td>\n",
       "    </tr>\n",
       "    <tr>\n",
       "      <th>3</th>\n",
       "      <td>1413775652</td>\n",
       "      <td>aguascalientes</td>\n",
       "      <td>bonita</td>\n",
       "      <td>https://casa.metroscubicos.com/MLM-1413775652-...</td>\n",
       "    </tr>\n",
       "    <tr>\n",
       "      <th>4</th>\n",
       "      <td>1411133552</td>\n",
       "      <td>aguascalientes</td>\n",
       "      <td>casa</td>\n",
       "      <td>https://casa.metroscubicos.com/MLM-1411133552-...</td>\n",
       "    </tr>\n",
       "  </tbody>\n",
       "</table>\n",
       "</div>"
      ],
      "text/plain": [
       "           ID         entidad    tipo  \\\n",
       "0  1425548080  aguascalientes   venta   \n",
       "1  1397663987  aguascalientes    casa   \n",
       "2  1398422703  aguascalientes    casa   \n",
       "3  1413775652  aguascalientes  bonita   \n",
       "4  1411133552  aguascalientes    casa   \n",
       "\n",
       "                                                link  \n",
       "0  https://casa.metroscubicos.com/MLM-1425548080-...  \n",
       "1  https://casa.metroscubicos.com/MLM-1397663987-...  \n",
       "2  https://casa.metroscubicos.com/MLM-1398422703-...  \n",
       "3  https://casa.metroscubicos.com/MLM-1413775652-...  \n",
       "4  https://casa.metroscubicos.com/MLM-1411133552-...  "
      ]
     },
     "execution_count": 9,
     "metadata": {},
     "output_type": "execute_result"
    }
   ],
   "source": [
    "combined_csv[combined_csv]"
   ]
  },
  {
   "cell_type": "code",
   "execution_count": 13,
   "id": "561f0ef6",
   "metadata": {},
   "outputs": [],
   "source": [
    "#combine all files in the list\n",
    "combined_csv = pd.concat([pd.read_csv(f) for f in inputs])\n",
    "#export to csv\n",
    "combined_csv.to_csv(links_output, index=False)"
   ]
  },
  {
   "cell_type": "markdown",
   "id": "6119dcde",
   "metadata": {},
   "source": [
    "### Process for webscraped files"
   ]
  },
  {
   "cell_type": "code",
   "execution_count": 5,
   "id": "2f4902d3",
   "metadata": {},
   "outputs": [],
   "source": [
    "# file inputs for links and checks if file exists\n",
    "inputsW = [path+x+\"-webscrapeResults.csv\" for x in entidadesLower]\n",
    "inputsExist = [x for x in inputsW if os.path.exists(x)]"
   ]
  },
  {
   "cell_type": "code",
   "execution_count": 6,
   "id": "2c2b7ead",
   "metadata": {},
   "outputs": [],
   "source": [
    "# output file\n",
    "results_output = path+\"combinedResults.csv\""
   ]
  },
  {
   "cell_type": "code",
   "execution_count": 7,
   "id": "dddc5e25",
   "metadata": {},
   "outputs": [],
   "source": [
    "# Get all column names from files if there are different columns\n",
    "columnNames = []\n",
    "for filename in inputsExist:\n",
    "  with open(filename, \"r\", newline=\"\", encoding=\"utf8\") as f_in:\n",
    "    reader = csv.reader(f_in)\n",
    "    headers = next(reader)\n",
    "    for h in headers:\n",
    "      if h not in columnNames:\n",
    "        columnNames.append(h)"
   ]
  },
  {
   "cell_type": "code",
   "execution_count": 8,
   "id": "a9064950",
   "metadata": {},
   "outputs": [],
   "source": [
    "# Copy data to new file\n",
    "with open(results_output, \"w\", newline=\"\", encoding=\"utf8\") as f_out:\n",
    "    writer = csv.DictWriter(f_out, fieldnames=columnNames)\n",
    "    writer.writeheader()\n",
    "    for filename in inputsExist:\n",
    "        with open(filename, \"r\", newline=\"\", encoding=\"utf8\") as f_in:\n",
    "            reader = csv.DictReader(f_in)  # Uses the field names in this file\n",
    "            for line in reader:\n",
    "                writer.writerow(line)"
   ]
  },
  {
   "cell_type": "code",
   "execution_count": null,
   "id": "45eec0c0",
   "metadata": {},
   "outputs": [],
   "source": []
  }
 ],
 "metadata": {
  "kernelspec": {
   "display_name": "PythonData",
   "language": "python",
   "name": "pythondata"
  },
  "language_info": {
   "codemirror_mode": {
    "name": "ipython",
    "version": 3
   },
   "file_extension": ".py",
   "mimetype": "text/x-python",
   "name": "python",
   "nbconvert_exporter": "python",
   "pygments_lexer": "ipython3",
   "version": "3.7.11"
  }
 },
 "nbformat": 4,
 "nbformat_minor": 5
}
