{
 "cells": [
  {
   "cell_type": "code",
   "execution_count": 16,
   "id": "d5dbfb32",
   "metadata": {},
   "outputs": [],
   "source": [
    "import csv\n",
    "import pandas as pd\n",
    "import os.path"
   ]
  },
  {
   "cell_type": "code",
   "execution_count": 2,
   "id": "f3a16a42",
   "metadata": {},
   "outputs": [],
   "source": [
    "# List all entities available in metroscubicos.com\n",
    "\n",
    "entidades = ['Aguascalientes', 'Baja California', 'Baja California Sur', 'Campeche', 'Chiapas', 'Chihuahua', 'Coahuila', 'Colima',\n",
    "            'Distrito Federal', 'Durango', 'Estado De México', 'Guanajuato', 'Guerrero', 'Hidalgo', 'Jalisco', 'Michoacán',\n",
    "             'Morelos', 'Nayarit', 'Nuevo León', 'Oaxaca', 'Puebla', 'Querétaro', 'Quintana Roo', 'San Luis Potosí',\n",
    "             'Sinaloa', 'Sonora', 'Tabasco', 'Tamaulipas', 'Tlaxcala', 'Veracruz', 'Yucatán', 'Zacatecas']"
   ]
  },
  {
   "cell_type": "code",
   "execution_count": 3,
   "id": "be6856fb",
   "metadata": {},
   "outputs": [],
   "source": [
    "# make smallcaps and change spaces for dashes, and select which entities\n",
    "entidadesLower = [x.lower().replace(' ', '-') for x in entidades]"
   ]
  },
  {
   "cell_type": "code",
   "execution_count": null,
   "id": "0e69971d",
   "metadata": {},
   "outputs": [],
   "source": [
    "# define path\n",
    "path = \"./Resources/\""
   ]
  },
  {
   "cell_type": "markdown",
   "id": "33697a33",
   "metadata": {},
   "source": [
    "### Process for csv with links"
   ]
  },
  {
   "cell_type": "code",
   "execution_count": 8,
   "id": "e339dc68",
   "metadata": {},
   "outputs": [],
   "source": [
    "# file inputs for links\n",
    "inputs = [path+x+\".csv\" for x in entidadesLower]"
   ]
  },
  {
   "cell_type": "code",
   "execution_count": null,
   "id": "22bb1e32",
   "metadata": {},
   "outputs": [],
   "source": [
    "# output file for links\n",
    "links_output = path+\"combinedLinks.csv\""
   ]
  },
  {
   "cell_type": "code",
   "execution_count": 9,
   "id": "ff19f30e",
   "metadata": {},
   "outputs": [
    {
     "data": {
      "text/plain": [
       "['ID', 'entidad', 'tipo', 'link']"
      ]
     },
     "execution_count": 9,
     "metadata": {},
     "output_type": "execute_result"
    }
   ],
   "source": [
    "# Get all column names from files if there are different columns\n",
    "columnNames = []\n",
    "for filename in inputs:\n",
    "  with open(filename, \"r\", newline=\"\", encoding=\"utf8\") as f_in:\n",
    "    reader = csv.reader(f_in)\n",
    "    headers = next(reader)\n",
    "    for h in headers:\n",
    "      if h not in columnNames:\n",
    "        columnNames.append(h)\n",
    "\n",
    "columnNames"
   ]
  },
  {
   "cell_type": "code",
   "execution_count": 13,
   "id": "561f0ef6",
   "metadata": {},
   "outputs": [],
   "source": [
    "#combine all files in the list\n",
    "combined_csv = pd.concat([pd.read_csv(f) for f in inputs])\n",
    "#export to csv\n",
    "combined_csv.to_csv(links_output, index=False)"
   ]
  },
  {
   "cell_type": "markdown",
   "id": "6119dcde",
   "metadata": {},
   "source": [
    "### Process for webscraped files"
   ]
  },
  {
   "cell_type": "code",
   "execution_count": 19,
   "id": "2f4902d3",
   "metadata": {},
   "outputs": [],
   "source": [
    "# file inputs for links and checks if file exists\n",
    "inputsW = [path+x+\"-webscrapeResults.csv\" for x in entidadesLower]\n",
    "inputsExist = [x for x in inputsW if os.path.exists(x)]"
   ]
  },
  {
   "cell_type": "code",
   "execution_count": 25,
   "id": "2c2b7ead",
   "metadata": {},
   "outputs": [],
   "source": [
    "# output file\n",
    "results_output = path+\"combinedResults.csv\""
   ]
  },
  {
   "cell_type": "code",
   "execution_count": 23,
   "id": "dddc5e25",
   "metadata": {},
   "outputs": [],
   "source": [
    "# Get all column names from files if there are different columns\n",
    "columnNames = []\n",
    "for filename in inputsExist:\n",
    "  with open(filename, \"r\", newline=\"\", encoding=\"utf8\") as f_in:\n",
    "    reader = csv.reader(f_in)\n",
    "    headers = next(reader)\n",
    "    for h in headers:\n",
    "      if h not in columnNames:\n",
    "        columnNames.append(h)"
   ]
  },
  {
   "cell_type": "code",
   "execution_count": 26,
   "id": "a9064950",
   "metadata": {},
   "outputs": [],
   "source": [
    "# Copy data to new file\n",
    "with open(results_output, \"w\", newline=\"\", encoding=\"utf8\") as f_out:\n",
    "    writer = csv.DictWriter(f_out, fieldnames=columnNames)\n",
    "    writer.writeheader()\n",
    "    for filename in inputsExist:\n",
    "        with open(filename, \"r\", newline=\"\", encoding=\"utf8\") as f_in:\n",
    "            reader = csv.DictReader(f_in)  # Uses the field names in this file\n",
    "            for line in reader:\n",
    "                writer.writerow(line)"
   ]
  },
  {
   "cell_type": "code",
   "execution_count": null,
   "id": "45eec0c0",
   "metadata": {},
   "outputs": [],
   "source": []
  }
 ],
 "metadata": {
  "kernelspec": {
   "display_name": "PythonData",
   "language": "python",
   "name": "pythondata"
  },
  "language_info": {
   "codemirror_mode": {
    "name": "ipython",
    "version": 3
   },
   "file_extension": ".py",
   "mimetype": "text/x-python",
   "name": "python",
   "nbconvert_exporter": "python",
   "pygments_lexer": "ipython3",
   "version": "3.7.11"
  }
 },
 "nbformat": 4,
 "nbformat_minor": 5
}
