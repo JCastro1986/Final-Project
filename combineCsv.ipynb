{
 "cells": [
  {
   "cell_type": "code",
   "execution_count": 1,
   "id": "d5dbfb32",
   "metadata": {},
   "outputs": [],
   "source": [
    "import csv\n",
    "import pandas as pd\n",
    "import os.path"
   ]
  },
  {
   "cell_type": "code",
   "execution_count": 2,
   "id": "f3a16a42",
   "metadata": {},
   "outputs": [],
   "source": [
    "# List all entities available in metroscubicos.com\n",
    "\n",
    "entidades = ['Aguascalientes', 'Baja California', 'Baja California Sur', 'Campeche', 'Chiapas', 'Chihuahua', 'Coahuila', 'Colima',\n",
    "            'Distrito Federal', 'Durango', 'Estado De México', 'Guanajuato', 'Guerrero', 'Hidalgo', 'Jalisco', 'Michoacán',\n",
    "             'Morelos', 'Nayarit', 'Nuevo León', 'Oaxaca', 'Puebla', 'Querétaro', 'Quintana Roo', 'San Luis Potosí',\n",
    "             'Sinaloa', 'Sonora', 'Tabasco', 'Tamaulipas', 'Tlaxcala', 'Veracruz', 'Yucatán', 'Zacatecas']"
   ]
  },
  {
   "cell_type": "code",
   "execution_count": 3,
   "id": "be6856fb",
   "metadata": {},
   "outputs": [],
   "source": [
    "# make smallcaps and change spaces for dashes, and select which entities\n",
    "entidadesLower = [x.lower().replace(' ', '-') for x in entidades]"
   ]
  },
  {
   "cell_type": "code",
   "execution_count": 2,
   "id": "0e69971d",
   "metadata": {},
   "outputs": [],
   "source": [
    "# define path\n",
    "path = \"./Resources/\""
   ]
  },
  {
   "cell_type": "markdown",
   "id": "33697a33",
   "metadata": {},
   "source": [
    "### Process for csv with links"
   ]
  },
  {
   "cell_type": "code",
   "execution_count": 5,
   "id": "e339dc68",
   "metadata": {},
   "outputs": [],
   "source": [
    "# file inputs for links\n",
    "inputs = [path+x+\".csv\" for x in entidadesLower]"
   ]
  },
  {
   "cell_type": "code",
   "execution_count": 6,
   "id": "22bb1e32",
   "metadata": {},
   "outputs": [],
   "source": [
    "# output file for links\n",
    "links_output = path+\"combinedLinks.csv\""
   ]
  },
  {
   "cell_type": "code",
   "execution_count": 7,
   "id": "ff19f30e",
   "metadata": {},
   "outputs": [
    {
     "data": {
      "text/plain": [
       "['ID', 'entidad', 'tipo', 'link']"
      ]
     },
     "execution_count": 7,
     "metadata": {},
     "output_type": "execute_result"
    }
   ],
   "source": [
    "# Get all column names from files if there are different columns\n",
    "columnNames = []\n",
    "for filename in inputs:\n",
    "  with open(filename, \"r\", newline=\"\", encoding=\"utf8\") as f_in:\n",
    "    reader = csv.reader(f_in)\n",
    "    headers = next(reader)\n",
    "    for h in headers:\n",
    "      if h not in columnNames:\n",
    "        columnNames.append(h)\n",
    "\n",
    "columnNames"
   ]
  },
  {
   "cell_type": "code",
   "execution_count": 8,
   "id": "a7af8f5e",
   "metadata": {},
   "outputs": [],
   "source": [
    "combined_csv = pd.concat([pd.read_csv(f) for f in inputs])"
   ]
  },
  {
   "cell_type": "code",
   "execution_count": 9,
   "id": "b3f5d707",
   "metadata": {},
   "outputs": [
    {
     "data": {
      "text/html": [
       "<div>\n",
       "<style scoped>\n",
       "    .dataframe tbody tr th:only-of-type {\n",
       "        vertical-align: middle;\n",
       "    }\n",
       "\n",
       "    .dataframe tbody tr th {\n",
       "        vertical-align: top;\n",
       "    }\n",
       "\n",
       "    .dataframe thead th {\n",
       "        text-align: right;\n",
       "    }\n",
       "</style>\n",
       "<table border=\"1\" class=\"dataframe\">\n",
       "  <thead>\n",
       "    <tr style=\"text-align: right;\">\n",
       "      <th></th>\n",
       "      <th>ID</th>\n",
       "      <th>entidad</th>\n",
       "      <th>tipo</th>\n",
       "      <th>link</th>\n",
       "    </tr>\n",
       "  </thead>\n",
       "  <tbody>\n",
       "    <tr>\n",
       "      <th>0</th>\n",
       "      <td>1425548080</td>\n",
       "      <td>aguascalientes</td>\n",
       "      <td>venta</td>\n",
       "      <td>https://casa.metroscubicos.com/MLM-1425548080-...</td>\n",
       "    </tr>\n",
       "    <tr>\n",
       "      <th>1</th>\n",
       "      <td>1397663987</td>\n",
       "      <td>aguascalientes</td>\n",
       "      <td>casa</td>\n",
       "      <td>https://casa.metroscubicos.com/MLM-1397663987-...</td>\n",
       "    </tr>\n",
       "    <tr>\n",
       "      <th>2</th>\n",
       "      <td>1398422703</td>\n",
       "      <td>aguascalientes</td>\n",
       "      <td>casa</td>\n",
       "      <td>https://casa.metroscubicos.com/MLM-1398422703-...</td>\n",
       "    </tr>\n",
       "    <tr>\n",
       "      <th>3</th>\n",
       "      <td>1413775652</td>\n",
       "      <td>aguascalientes</td>\n",
       "      <td>bonita</td>\n",
       "      <td>https://casa.metroscubicos.com/MLM-1413775652-...</td>\n",
       "    </tr>\n",
       "    <tr>\n",
       "      <th>4</th>\n",
       "      <td>1411133552</td>\n",
       "      <td>aguascalientes</td>\n",
       "      <td>casa</td>\n",
       "      <td>https://casa.metroscubicos.com/MLM-1411133552-...</td>\n",
       "    </tr>\n",
       "  </tbody>\n",
       "</table>\n",
       "</div>"
      ],
      "text/plain": [
       "           ID         entidad    tipo  \\\n",
       "0  1425548080  aguascalientes   venta   \n",
       "1  1397663987  aguascalientes    casa   \n",
       "2  1398422703  aguascalientes    casa   \n",
       "3  1413775652  aguascalientes  bonita   \n",
       "4  1411133552  aguascalientes    casa   \n",
       "\n",
       "                                                link  \n",
       "0  https://casa.metroscubicos.com/MLM-1425548080-...  \n",
       "1  https://casa.metroscubicos.com/MLM-1397663987-...  \n",
       "2  https://casa.metroscubicos.com/MLM-1398422703-...  \n",
       "3  https://casa.metroscubicos.com/MLM-1413775652-...  \n",
       "4  https://casa.metroscubicos.com/MLM-1411133552-...  "
      ]
     },
     "execution_count": 9,
     "metadata": {},
     "output_type": "execute_result"
    }
   ],
   "source": [
    "combined_csv[combined_csv]"
   ]
  },
  {
   "cell_type": "code",
   "execution_count": 13,
   "id": "561f0ef6",
   "metadata": {},
   "outputs": [],
   "source": [
    "#combine all files in the list\n",
    "combined_csv = pd.concat([pd.read_csv(f) for f in inputs])\n",
    "#export to csv\n",
    "combined_csv.to_csv(links_output, index=False)"
   ]
  },
  {
   "cell_type": "markdown",
   "id": "6119dcde",
   "metadata": {},
   "source": [
    "### Process for webscraped files"
   ]
  },
  {
   "cell_type": "code",
   "execution_count": 5,
   "id": "2f4902d3",
   "metadata": {},
   "outputs": [],
   "source": [
    "# file inputs for links and checks if file exists\n",
    "inputsW = [path+x+\"-webscrapeResults.csv\" for x in entidadesLower]\n",
    "inputsExist = [x for x in inputsW if os.path.exists(x)]"
   ]
  },
  {
   "cell_type": "code",
   "execution_count": 6,
   "id": "2c2b7ead",
   "metadata": {},
   "outputs": [],
   "source": [
    "# output file\n",
    "results_output = path+\"combinedResults.csv\""
   ]
  },
  {
   "cell_type": "code",
   "execution_count": 7,
   "id": "dddc5e25",
   "metadata": {},
   "outputs": [],
   "source": [
    "# Get all column names from files if there are different columns\n",
    "columnNames = []\n",
    "for filename in inputsExist:\n",
    "  with open(filename, \"r\", newline=\"\", encoding=\"utf8\") as f_in:\n",
    "    reader = csv.reader(f_in)\n",
    "    headers = next(reader)\n",
    "    for h in headers:\n",
    "      if h not in columnNames:\n",
    "        columnNames.append(h)"
   ]
  },
  {
   "cell_type": "code",
   "execution_count": 8,
   "id": "a9064950",
   "metadata": {},
   "outputs": [],
   "source": [
    "# Copy data to new file\n",
    "with open(results_output, \"w\", newline=\"\", encoding=\"utf8\") as f_out:\n",
    "    writer = csv.DictWriter(f_out, fieldnames=columnNames)\n",
    "    writer.writeheader()\n",
    "    for filename in inputsExist:\n",
    "        with open(filename, \"r\", newline=\"\", encoding=\"utf8\") as f_in:\n",
    "            reader = csv.DictReader(f_in)  # Uses the field names in this file\n",
    "            for line in reader:\n",
    "                writer.writerow(line)"
   ]
  },
  {
   "cell_type": "markdown",
   "id": "82dfa71e",
   "metadata": {},
   "source": [
    "### Combine FinalData csvs"
   ]
  },
  {
   "cell_type": "code",
   "execution_count": 5,
   "id": "c0f2efa0",
   "metadata": {},
   "outputs": [
    {
     "data": {
      "text/plain": [
       "['./Resources/casasFinalData.csv',\n",
       " './Resources/depasFinalData.csv',\n",
       " './Resources/terrenosFinalData.csv']"
      ]
     },
     "execution_count": 5,
     "metadata": {},
     "output_type": "execute_result"
    }
   ],
   "source": [
    "types = ['casas', 'depas', 'terrenos']\n",
    "inputs = [path+x+'FinalData.csv' for x in types]\n",
    "inputs"
   ]
  },
  {
   "cell_type": "code",
   "execution_count": 7,
   "id": "decdbdda",
   "metadata": {},
   "outputs": [
    {
     "data": {
      "text/plain": [
       "['tipo',\n",
       " 'precio',\n",
       " 'predPrices',\n",
       " 'diffPrices',\n",
       " 'm2Terreno',\n",
       " 'm2Construccion',\n",
       " 'estacionamientos',\n",
       " 'Banos',\n",
       " 'antiguedad',\n",
       " 'colonia',\n",
       " 'municipio_x',\n",
       " 'entidad',\n",
       " 'codigo_postal',\n",
       " 'latitud',\n",
       " 'longitud',\n",
       " 'percentDiff']"
      ]
     },
     "execution_count": 7,
     "metadata": {},
     "output_type": "execute_result"
    }
   ],
   "source": [
    "# Get all column names from files if there are different columns\n",
    "columnNames = []\n",
    "for filename in inputs:\n",
    "  with open(filename, \"r\", newline=\"\", encoding=\"utf-8-sig\") as f_in:\n",
    "    reader = csv.reader(f_in)\n",
    "    headers = next(reader)\n",
    "    for h in headers:\n",
    "      if h not in columnNames:\n",
    "        columnNames.append(h)\n",
    "\n",
    "columnNames"
   ]
  },
  {
   "cell_type": "code",
   "execution_count": 8,
   "id": "cab1c439",
   "metadata": {},
   "outputs": [],
   "source": [
    "# output file for combined finaldata\n",
    "data_output = path+\"inmueblesFinalData.csv\""
   ]
  },
  {
   "cell_type": "code",
   "execution_count": 11,
   "id": "184accfb",
   "metadata": {},
   "outputs": [],
   "source": [
    "# Copy data to new file\n",
    "with open(data_output, \"w\", newline=\"\", encoding=\"utf-8-sig\") as f_out:\n",
    "    writer = csv.DictWriter(f_out, fieldnames=columnNames)\n",
    "    writer.writeheader()\n",
    "    for filename in inputs:\n",
    "        with open(filename, \"r\", newline=\"\", encoding=\"utf-8-sig\") as f_in:\n",
    "            reader = csv.DictReader(f_in)  # Uses the field names in this file\n",
    "            for line in reader:\n",
    "                writer.writerow(line)"
   ]
  },
  {
   "cell_type": "code",
   "execution_count": 12,
   "id": "7c926949",
   "metadata": {},
   "outputs": [
    {
     "data": {
      "text/html": [
       "<div>\n",
       "<style scoped>\n",
       "    .dataframe tbody tr th:only-of-type {\n",
       "        vertical-align: middle;\n",
       "    }\n",
       "\n",
       "    .dataframe tbody tr th {\n",
       "        vertical-align: top;\n",
       "    }\n",
       "\n",
       "    .dataframe thead th {\n",
       "        text-align: right;\n",
       "    }\n",
       "</style>\n",
       "<table border=\"1\" class=\"dataframe\">\n",
       "  <thead>\n",
       "    <tr style=\"text-align: right;\">\n",
       "      <th></th>\n",
       "      <th>tipo</th>\n",
       "      <th>precio</th>\n",
       "      <th>predPrices</th>\n",
       "      <th>diffPrices</th>\n",
       "      <th>m2Terreno</th>\n",
       "      <th>m2Construccion</th>\n",
       "      <th>estacionamientos</th>\n",
       "      <th>Banos</th>\n",
       "      <th>antiguedad</th>\n",
       "      <th>colonia</th>\n",
       "      <th>municipio_x</th>\n",
       "      <th>entidad</th>\n",
       "      <th>codigo_postal</th>\n",
       "      <th>latitud</th>\n",
       "      <th>longitud</th>\n",
       "      <th>percentDiff</th>\n",
       "    </tr>\n",
       "  </thead>\n",
       "  <tbody>\n",
       "    <tr>\n",
       "      <th>0</th>\n",
       "      <td>casas</td>\n",
       "      <td>6500000.0</td>\n",
       "      <td>5470000.0</td>\n",
       "      <td>-1030000.0</td>\n",
       "      <td>320.0</td>\n",
       "      <td>200.0</td>\n",
       "      <td>2.0</td>\n",
       "      <td>4.0</td>\n",
       "      <td>2.0</td>\n",
       "      <td>Los Pocitos</td>\n",
       "      <td>Aguascalientes</td>\n",
       "      <td>Aguascalientes</td>\n",
       "      <td>20328.0</td>\n",
       "      <td>21.923098</td>\n",
       "      <td>-102.343269</td>\n",
       "      <td>NaN</td>\n",
       "    </tr>\n",
       "    <tr>\n",
       "      <th>1</th>\n",
       "      <td>casas</td>\n",
       "      <td>1990000.0</td>\n",
       "      <td>2050000.0</td>\n",
       "      <td>60000.0</td>\n",
       "      <td>119.0</td>\n",
       "      <td>112.0</td>\n",
       "      <td>2.0</td>\n",
       "      <td>3.0</td>\n",
       "      <td>0.0</td>\n",
       "      <td>Puesta del Sol</td>\n",
       "      <td>Aguascalientes</td>\n",
       "      <td>Aguascalientes</td>\n",
       "      <td>20326.0</td>\n",
       "      <td>21.877844</td>\n",
       "      <td>-102.332253</td>\n",
       "      <td>NaN</td>\n",
       "    </tr>\n",
       "    <tr>\n",
       "      <th>2</th>\n",
       "      <td>casas</td>\n",
       "      <td>2750000.0</td>\n",
       "      <td>3100000.0</td>\n",
       "      <td>350000.0</td>\n",
       "      <td>178.0</td>\n",
       "      <td>163.0</td>\n",
       "      <td>2.0</td>\n",
       "      <td>3.0</td>\n",
       "      <td>0.0</td>\n",
       "      <td>La Cantera</td>\n",
       "      <td>Aguascalientes</td>\n",
       "      <td>Aguascalientes</td>\n",
       "      <td>NaN</td>\n",
       "      <td>NaN</td>\n",
       "      <td>NaN</td>\n",
       "      <td>NaN</td>\n",
       "    </tr>\n",
       "    <tr>\n",
       "      <th>3</th>\n",
       "      <td>casas</td>\n",
       "      <td>1280000.0</td>\n",
       "      <td>1320000.0</td>\n",
       "      <td>40000.0</td>\n",
       "      <td>75.0</td>\n",
       "      <td>135.0</td>\n",
       "      <td>1.0</td>\n",
       "      <td>2.0</td>\n",
       "      <td>6.0</td>\n",
       "      <td>Real De Haciendas</td>\n",
       "      <td>Aguascalientes</td>\n",
       "      <td>Aguascalientes</td>\n",
       "      <td>NaN</td>\n",
       "      <td>NaN</td>\n",
       "      <td>NaN</td>\n",
       "      <td>NaN</td>\n",
       "    </tr>\n",
       "    <tr>\n",
       "      <th>4</th>\n",
       "      <td>casas</td>\n",
       "      <td>810000.0</td>\n",
       "      <td>1440000.0</td>\n",
       "      <td>630000.0</td>\n",
       "      <td>200.0</td>\n",
       "      <td>200.0</td>\n",
       "      <td>2.0</td>\n",
       "      <td>2.0</td>\n",
       "      <td>1.0</td>\n",
       "      <td>Jesús Teran</td>\n",
       "      <td>Aguascalientes</td>\n",
       "      <td>Aguascalientes</td>\n",
       "      <td>NaN</td>\n",
       "      <td>NaN</td>\n",
       "      <td>NaN</td>\n",
       "      <td>NaN</td>\n",
       "    </tr>\n",
       "  </tbody>\n",
       "</table>\n",
       "</div>"
      ],
      "text/plain": [
       "    tipo     precio  predPrices  diffPrices  m2Terreno  m2Construccion  \\\n",
       "0  casas  6500000.0   5470000.0  -1030000.0      320.0           200.0   \n",
       "1  casas  1990000.0   2050000.0     60000.0      119.0           112.0   \n",
       "2  casas  2750000.0   3100000.0    350000.0      178.0           163.0   \n",
       "3  casas  1280000.0   1320000.0     40000.0       75.0           135.0   \n",
       "4  casas   810000.0   1440000.0    630000.0      200.0           200.0   \n",
       "\n",
       "   estacionamientos  Banos  antiguedad            colonia     municipio_x  \\\n",
       "0               2.0    4.0         2.0        Los Pocitos  Aguascalientes   \n",
       "1               2.0    3.0         0.0     Puesta del Sol  Aguascalientes   \n",
       "2               2.0    3.0         0.0         La Cantera  Aguascalientes   \n",
       "3               1.0    2.0         6.0  Real De Haciendas  Aguascalientes   \n",
       "4               2.0    2.0         1.0        Jesús Teran  Aguascalientes   \n",
       "\n",
       "          entidad  codigo_postal    latitud    longitud  percentDiff  \n",
       "0  Aguascalientes        20328.0  21.923098 -102.343269          NaN  \n",
       "1  Aguascalientes        20326.0  21.877844 -102.332253          NaN  \n",
       "2  Aguascalientes            NaN        NaN         NaN          NaN  \n",
       "3  Aguascalientes            NaN        NaN         NaN          NaN  \n",
       "4  Aguascalientes            NaN        NaN         NaN          NaN  "
      ]
     },
     "execution_count": 12,
     "metadata": {},
     "output_type": "execute_result"
    }
   ],
   "source": [
    "#read file to pandas\n",
    "data_df = pd.read_csv(path+\"inmueblesFinalData.csv\")\n",
    "data_df.head()"
   ]
  },
  {
   "cell_type": "code",
   "execution_count": 14,
   "id": "38804837",
   "metadata": {},
   "outputs": [],
   "source": [
    "import json"
   ]
  },
  {
   "cell_type": "code",
   "execution_count": 21,
   "id": "13d95f8f",
   "metadata": {},
   "outputs": [],
   "source": [
    "data = data_df.to_json(orient=\"records\")\n",
    "json_string = json.dumps(data)"
   ]
  },
  {
   "cell_type": "code",
   "execution_count": 22,
   "id": "12353c1e",
   "metadata": {},
   "outputs": [],
   "source": [
    "# Using a JSON string\n",
    "with open('./static/js/data.json', 'w') as outfile:\n",
    "    outfile.write(json_string)"
   ]
  },
  {
   "cell_type": "code",
   "execution_count": 23,
   "id": "76a47059",
   "metadata": {},
   "outputs": [],
   "source": [
    "data_dict = data = data_df.to_dict(\"records\")"
   ]
  },
  {
   "cell_type": "code",
   "execution_count": 25,
   "id": "2f7533d1",
   "metadata": {},
   "outputs": [],
   "source": [
    "# Directly from dictionary\n",
    "with open('./static/js/data.json', 'w') as outfile:\n",
    "    json.dump(data_dict, outfile)"
   ]
  },
  {
   "cell_type": "code",
   "execution_count": null,
   "id": "a1d61141",
   "metadata": {},
   "outputs": [],
   "source": []
  }
 ],
 "metadata": {
  "kernelspec": {
   "display_name": "PythonData",
   "language": "python",
   "name": "pythondata"
  },
  "language_info": {
   "codemirror_mode": {
    "name": "ipython",
    "version": 3
   },
   "file_extension": ".py",
   "mimetype": "text/x-python",
   "name": "python",
   "nbconvert_exporter": "python",
   "pygments_lexer": "ipython3",
   "version": "3.7.11"
  }
 },
 "nbformat": 4,
 "nbformat_minor": 5
}
