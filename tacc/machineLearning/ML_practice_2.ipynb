{
 "cells": [
  {
   "cell_type": "code",
   "execution_count": 1,
   "id": "c419ea06",
   "metadata": {},
   "outputs": [],
   "source": [
    "# Import dependencies\n",
    "import pandas as pd\n",
    "import numpy as np\n",
    "import sklearn\n",
    "import os\n",
    "import seaborn as sns\n",
    "from path import Path\n",
    "\n",
    "import matplotlib as mpl\n",
    "import matplotlib.pyplot as plt"
   ]
  },
  {
   "cell_type": "code",
   "execution_count": 2,
   "id": "90f90cbb",
   "metadata": {},
   "outputs": [
    {
     "data": {
      "text/html": [
       "<div>\n",
       "<style scoped>\n",
       "    .dataframe tbody tr th:only-of-type {\n",
       "        vertical-align: middle;\n",
       "    }\n",
       "\n",
       "    .dataframe tbody tr th {\n",
       "        vertical-align: top;\n",
       "    }\n",
       "\n",
       "    .dataframe thead th {\n",
       "        text-align: right;\n",
       "    }\n",
       "</style>\n",
       "<table border=\"1\" class=\"dataframe\">\n",
       "  <thead>\n",
       "    <tr style=\"text-align: right;\">\n",
       "      <th></th>\n",
       "      <th>id</th>\n",
       "      <th>entidad</th>\n",
       "      <th>colonia</th>\n",
       "      <th>municipio</th>\n",
       "      <th>codigo_postal</th>\n",
       "      <th>tipo</th>\n",
       "      <th>m2Terreno</th>\n",
       "      <th>m2Construccion</th>\n",
       "      <th>recamaras</th>\n",
       "      <th>banos</th>\n",
       "      <th>medio_bano</th>\n",
       "      <th>Baños</th>\n",
       "      <th>estacionamientos</th>\n",
       "      <th>pisos</th>\n",
       "      <th>antiguedad</th>\n",
       "      <th>cuotaMantto</th>\n",
       "      <th>precioSalida</th>\n",
       "      <th>precioVenta</th>\n",
       "    </tr>\n",
       "  </thead>\n",
       "  <tbody>\n",
       "    <tr>\n",
       "      <th>0</th>\n",
       "      <td>10293</td>\n",
       "      <td>CIUDAD DE MEXICO</td>\n",
       "      <td>Del Valle Norte</td>\n",
       "      <td>Benito JuÃ¡rez</td>\n",
       "      <td>3103</td>\n",
       "      <td>TERRENO</td>\n",
       "      <td>421</td>\n",
       "      <td>NaN</td>\n",
       "      <td>NaN</td>\n",
       "      <td>NaN</td>\n",
       "      <td>NaN</td>\n",
       "      <td>0.0</td>\n",
       "      <td>NaN</td>\n",
       "      <td>NaN</td>\n",
       "      <td>NaN</td>\n",
       "      <td>NaN</td>\n",
       "      <td>20000000</td>\n",
       "      <td>17000000</td>\n",
       "    </tr>\n",
       "    <tr>\n",
       "      <th>1</th>\n",
       "      <td>11382</td>\n",
       "      <td>CIUDAD DE MEXICO</td>\n",
       "      <td>Mixcoac</td>\n",
       "      <td>Benito JuÃ¡rez</td>\n",
       "      <td>3910</td>\n",
       "      <td>TERRENO</td>\n",
       "      <td>385.12</td>\n",
       "      <td>NaN</td>\n",
       "      <td>NaN</td>\n",
       "      <td>NaN</td>\n",
       "      <td>NaN</td>\n",
       "      <td>0.0</td>\n",
       "      <td>NaN</td>\n",
       "      <td>NaN</td>\n",
       "      <td>Mas de 30</td>\n",
       "      <td>NaN</td>\n",
       "      <td>18500000</td>\n",
       "      <td>17000000</td>\n",
       "    </tr>\n",
       "    <tr>\n",
       "      <th>2</th>\n",
       "      <td>13132</td>\n",
       "      <td>CIUDAD DE MEXICO</td>\n",
       "      <td>Portales Sur</td>\n",
       "      <td>Benito JuÃ¡rez</td>\n",
       "      <td>3300</td>\n",
       "      <td>CASA</td>\n",
       "      <td>207</td>\n",
       "      <td>230.0</td>\n",
       "      <td>4.0</td>\n",
       "      <td>2.0</td>\n",
       "      <td>NaN</td>\n",
       "      <td>2.0</td>\n",
       "      <td>3.0</td>\n",
       "      <td>1.0</td>\n",
       "      <td>Mas de 30</td>\n",
       "      <td>NaN</td>\n",
       "      <td>6800000</td>\n",
       "      <td>6000000</td>\n",
       "    </tr>\n",
       "    <tr>\n",
       "      <th>3</th>\n",
       "      <td>17107</td>\n",
       "      <td>CIUDAD DE MEXICO</td>\n",
       "      <td>Jardines de CoyoacÃ¡n</td>\n",
       "      <td>CoyoacÃ¡n</td>\n",
       "      <td>4890</td>\n",
       "      <td>CASA</td>\n",
       "      <td>482</td>\n",
       "      <td>637.0</td>\n",
       "      <td>4.0</td>\n",
       "      <td>5.0</td>\n",
       "      <td>1.0</td>\n",
       "      <td>5.5</td>\n",
       "      <td>6.0</td>\n",
       "      <td>3.0</td>\n",
       "      <td>ENTRE 21 - 30 AÃOS</td>\n",
       "      <td>NaN</td>\n",
       "      <td>15000000</td>\n",
       "      <td>14200000</td>\n",
       "    </tr>\n",
       "    <tr>\n",
       "      <th>4</th>\n",
       "      <td>17799</td>\n",
       "      <td>CIUDAD DE MEXICO</td>\n",
       "      <td>Paulino Navarro</td>\n",
       "      <td>CuauhtÃ©moc</td>\n",
       "      <td>6870</td>\n",
       "      <td>EDIFICIO</td>\n",
       "      <td>542</td>\n",
       "      <td>542.0</td>\n",
       "      <td>NaN</td>\n",
       "      <td>NaN</td>\n",
       "      <td>NaN</td>\n",
       "      <td>0.0</td>\n",
       "      <td>NaN</td>\n",
       "      <td>3.0</td>\n",
       "      <td>Mas de 30</td>\n",
       "      <td>NaN</td>\n",
       "      <td>62330000</td>\n",
       "      <td>62330000</td>\n",
       "    </tr>\n",
       "  </tbody>\n",
       "</table>\n",
       "</div>"
      ],
      "text/plain": [
       "      id           entidad                colonia       municipio  \\\n",
       "0  10293  CIUDAD DE MEXICO        Del Valle Norte  Benito JuÃ¡rez   \n",
       "1  11382  CIUDAD DE MEXICO                Mixcoac  Benito JuÃ¡rez   \n",
       "2  13132  CIUDAD DE MEXICO           Portales Sur  Benito JuÃ¡rez   \n",
       "3  17107  CIUDAD DE MEXICO  Jardines de CoyoacÃ¡n       CoyoacÃ¡n   \n",
       "4  17799  CIUDAD DE MEXICO        Paulino Navarro     CuauhtÃ©moc   \n",
       "\n",
       "   codigo_postal      tipo m2Terreno  m2Construccion  recamaras  banos  \\\n",
       "0           3103   TERRENO       421             NaN        NaN    NaN   \n",
       "1           3910   TERRENO    385.12             NaN        NaN    NaN   \n",
       "2           3300      CASA       207           230.0        4.0    2.0   \n",
       "3           4890      CASA       482           637.0        4.0    5.0   \n",
       "4           6870  EDIFICIO       542           542.0        NaN    NaN   \n",
       "\n",
       "   medio_bano  Baños  estacionamientos  pisos           antiguedad  \\\n",
       "0         NaN    0.0               NaN    NaN                  NaN   \n",
       "1         NaN    0.0               NaN    NaN            Mas de 30   \n",
       "2         NaN    2.0               3.0    1.0            Mas de 30   \n",
       "3         1.0    5.5               6.0    3.0  ENTRE 21 - 30 AÃOS   \n",
       "4         NaN    0.0               NaN    3.0            Mas de 30   \n",
       "\n",
       "  cuotaMantto  precioSalida  precioVenta  \n",
       "0         NaN      20000000     17000000  \n",
       "1         NaN      18500000     17000000  \n",
       "2         NaN       6800000      6000000  \n",
       "3         NaN      15000000     14200000  \n",
       "4         NaN      62330000     62330000  "
      ]
     },
     "execution_count": 2,
     "metadata": {},
     "output_type": "execute_result"
    }
   ],
   "source": [
    "# Load data CSV\n",
    "file_path = Path('Resources/reporteTecno.csv')\n",
    "prices_df = pd.read_csv(file_path, encoding=\"ISO-8859-1\")\n",
    "prices_df.head()"
   ]
  },
  {
   "cell_type": "code",
   "execution_count": 3,
   "id": "9000c3f5",
   "metadata": {},
   "outputs": [
    {
     "name": "stdout",
     "output_type": "stream",
     "text": [
      "<class 'pandas.core.frame.DataFrame'>\n",
      "RangeIndex: 1384 entries, 0 to 1383\n",
      "Data columns (total 18 columns):\n",
      " #   Column            Non-Null Count  Dtype  \n",
      "---  ------            --------------  -----  \n",
      " 0   id                1384 non-null   int64  \n",
      " 1   entidad           1383 non-null   object \n",
      " 2   colonia           1383 non-null   object \n",
      " 3   municipio         1383 non-null   object \n",
      " 4   codigo_postal     1384 non-null   int64  \n",
      " 5   tipo              1384 non-null   object \n",
      " 6   m2Terreno         693 non-null    object \n",
      " 7   m2Construccion    1294 non-null   float64\n",
      " 8   recamaras         1213 non-null   float64\n",
      " 9   banos             1236 non-null   float64\n",
      " 10  medio_bano        463 non-null    float64\n",
      " 11  Baños             1384 non-null   float64\n",
      " 12  estacionamientos  1033 non-null   float64\n",
      " 13  pisos             1059 non-null   float64\n",
      " 14  antiguedad        1167 non-null   object \n",
      " 15  cuotaMantto       400 non-null    object \n",
      " 16  precioSalida      1384 non-null   int64  \n",
      " 17  precioVenta       1384 non-null   int64  \n",
      "dtypes: float64(7), int64(4), object(7)\n",
      "memory usage: 194.8+ KB\n"
     ]
    }
   ],
   "source": [
    "prices_df.info()"
   ]
  },
  {
   "cell_type": "code",
   "execution_count": 4,
   "id": "f4b1a477",
   "metadata": {},
   "outputs": [
    {
     "data": {
      "text/plain": [
       "CIUDAD DE MEXICO    1257\n",
       "ESTADO DE MEXICO      93\n",
       "PUEBLA                32\n",
       "JALISCO                1\n",
       "Name: entidad, dtype: int64"
      ]
     },
     "execution_count": 4,
     "metadata": {},
     "output_type": "execute_result"
    }
   ],
   "source": [
    "prices_df['entidad'].value_counts()"
   ]
  },
  {
   "cell_type": "code",
   "execution_count": 5,
   "id": "e7afa8e4",
   "metadata": {},
   "outputs": [
    {
     "data": {
      "text/plain": [
       "NAPOLES                          29\n",
       "CIUDAD SATELITE                  25\n",
       "ROMA NORTE                       21\n",
       "DEL VALLE NORTE                  20\n",
       "DEL VALLE SUR                    20\n",
       "                                 ..\n",
       "Santa MarÃ­a Tepepan              1\n",
       "SANTA FE IMSS                     1\n",
       "NUEVA ROSITA                      1\n",
       "JUSTO SIERRA                      1\n",
       "SAN BERNARDINO TLAXCALANCINGO     1\n",
       "Name: colonia, Length: 380, dtype: int64"
      ]
     },
     "execution_count": 5,
     "metadata": {},
     "output_type": "execute_result"
    }
   ],
   "source": [
    "prices_df['colonia'].value_counts()"
   ]
  },
  {
   "cell_type": "code",
   "execution_count": 6,
   "id": "ad9c088d",
   "metadata": {},
   "outputs": [
    {
     "data": {
      "text/plain": [
       "BENITO JUAREZ             283\n",
       "COYOACAN                  206\n",
       "TLALPAN                   158\n",
       "CUAUHTEMOC                108\n",
       "IZTAPALAPA                107\n",
       "ALVARO OBREGON             77\n",
       "MIGUEL HIDALGO             74\n",
       "NAUCALPAN DE JUAREZ        55\n",
       "LA MAGDALENA CONTRERAS     38\n",
       "VENUSTIANO CARRANZA        38\n",
       "IZTACALCO                  37\n",
       "XOCHIMILCO                 32\n",
       "PUEBLA                     30\n",
       "AZCAPOTZALCO               25\n",
       "GUSTAVO A. MADERO          23\n",
       "Benito JuÃ¡rez             21\n",
       "TLALNEPANTLA DE BAZ        15\n",
       "NAUCALPAN DE JUÃ¡REZ       12\n",
       "ATIZAPAN DE ZARAGOZA       10\n",
       "CoyoacÃ¡n                   9\n",
       "Tlalpan                     4\n",
       "CuauhtÃ©moc                 3\n",
       "BENITO JUÃ¡REZ              3\n",
       "COYOACÃ¡N                   3\n",
       "Xochimilco                  2\n",
       "Ãlvaro ObregÃ³n            2\n",
       "Iztapalapa                  2\n",
       "Iztacalco                   1\n",
       "ÃLVARO OBREGÃ³N            1\n",
       "GUADALAJARA                 1\n",
       "SAN PEDRO CHOLULA           1\n",
       "Naucalpan de JuÃ¡rez        1\n",
       "SAN ANDRES CHOLULA          1\n",
       "Name: municipio, dtype: int64"
      ]
     },
     "execution_count": 6,
     "metadata": {},
     "output_type": "execute_result"
    }
   ],
   "source": [
    "prices_df['municipio'].value_counts()"
   ]
  },
  {
   "cell_type": "code",
   "execution_count": 7,
   "id": "79b54557",
   "metadata": {},
   "outputs": [
    {
     "data": {
      "text/plain": [
       "BENITO JUAREZ             307\n",
       "COYOACAN                  218\n",
       "TLALPAN                   162\n",
       "CUAUHTEMOC                111\n",
       "IZTAPALAPA                109\n",
       "ALVARO OBREGON             80\n",
       "MIGUEL HIDALGO             74\n",
       "NAUCALPAN DE JUAREZ        68\n",
       "IZTACALCO                  38\n",
       "VENUSTIANO CARRANZA        38\n",
       "LA MAGDALENA CONTRERAS     38\n",
       "XOCHIMILCO                 34\n",
       "PUEBLA                     30\n",
       "AZCAPOTZALCO               25\n",
       "GUSTAVO A. MADERO          23\n",
       "TLALNEPANTLA DE BAZ        15\n",
       "ATIZAPAN DE ZARAGOZA       10\n",
       "GUADALAJARA                 1\n",
       "SAN PEDRO CHOLULA           1\n",
       "SAN ANDRES CHOLULA          1\n",
       "Name: municipio, dtype: int64"
      ]
     },
     "execution_count": 7,
     "metadata": {},
     "output_type": "execute_result"
    }
   ],
   "source": [
    "prices_df = prices_df.replace({\"Benito JuÃ¡rez\": \"BENITO JUAREZ\", \"NAUCALPAN DE JUÃ¡REZ\": \"NAUCALPAN DE JUAREZ\", \"CoyoacÃ¡n\": \"COYOACAN\", \"Tlalpan\":\"TLALPAN\", \"CuauhtÃ©moc\":\"CUAUHTEMOC\", \"BENITO JUÃ¡REZ\":\"BENITO JUAREZ\", \"COYOACÃ¡N\":\"COYOACAN\", \"Xochimilco\": \"XOCHIMILCO\", \"Ãlvaro ObregÃ³n\": \"ALVARO OBREGON\", \"Iztapalapa\": \"IZTAPALAPA\", \"Iztacalco\":\"IZTACALCO\", \"ÃLVARO OBREGÃ³N\": \"ALVARO OBREGON\", \"Naucalpan de JuÃ¡rez\": \"NAUCALPAN DE JUAREZ\"})\n",
    "prices_df.municipio.value_counts()"
   ]
  },
  {
   "cell_type": "code",
   "execution_count": 8,
   "id": "480bc2d2",
   "metadata": {},
   "outputs": [
    {
     "data": {
      "text/plain": [
       "DEPARTAMENTO          660\n",
       "CASA                  494\n",
       "TERRENO                86\n",
       "CASA EN CONDOMINIO     45\n",
       "LOCAL COMERCIAL        28\n",
       "EDIFICIO               23\n",
       "OFICINA                16\n",
       "PENT HOUSE             14\n",
       "CASA DUPLEX            10\n",
       "BODEGA                  8\n",
       "Name: tipo, dtype: int64"
      ]
     },
     "execution_count": 8,
     "metadata": {},
     "output_type": "execute_result"
    }
   ],
   "source": [
    "prices_df['tipo'].value_counts()"
   ]
  },
  {
   "cell_type": "code",
   "execution_count": 9,
   "id": "e3c1db0b",
   "metadata": {},
   "outputs": [
    {
     "data": {
      "text/plain": [
       "DEPARTAMENTO       674\n",
       "CASA               549\n",
       "TERRENO             86\n",
       "LOCAL COMERCIAL     28\n",
       "EDIFICIO            23\n",
       "OFICINA             16\n",
       "BODEGA               8\n",
       "Name: tipo, dtype: int64"
      ]
     },
     "execution_count": 9,
     "metadata": {},
     "output_type": "execute_result"
    }
   ],
   "source": [
    "# Combine similar terms\n",
    "prices_df = prices_df.replace({\"CASA DUPLEX\": \"CASA\", \"CASA EN CONDOMINIO\": \"CASA\", \"PENT HOUSE\": \"DEPARTAMENTO\"})\n",
    "tipo_counts = prices_df.tipo.value_counts()\n",
    "tipo_counts"
   ]
  },
  {
   "cell_type": "code",
   "execution_count": 10,
   "id": "748dc36c",
   "metadata": {},
   "outputs": [
    {
     "data": {
      "text/plain": [
       "DEPARTAMENTO    674\n",
       "CASA            549\n",
       "TERRENO          86\n",
       "OTRO             75\n",
       "Name: tipo, dtype: int64"
      ]
     },
     "execution_count": 10,
     "metadata": {},
     "output_type": "execute_result"
    }
   ],
   "source": [
    "# Bin data\n",
    "replace_tipo = list(tipo_counts[tipo_counts <50].index)\n",
    "for tipo in replace_tipo:\n",
    "    prices_df.tipo = prices_df.tipo.replace(tipo, \"OTRO\")\n",
    "    \n",
    "prices_df.tipo.value_counts()"
   ]
  },
  {
   "cell_type": "code",
   "execution_count": 11,
   "id": "ae0b7330",
   "metadata": {},
   "outputs": [],
   "source": [
    "prices_df.m2Terreno = pd.to_numeric(prices_df.m2Terreno, 'coerce')\n",
    "prices_df.m2Construccion = pd.to_numeric(prices_df.m2Construccion, 'coerce')"
   ]
  },
  {
   "cell_type": "code",
   "execution_count": 12,
   "id": "9855cf8f",
   "metadata": {},
   "outputs": [
    {
     "name": "stdout",
     "output_type": "stream",
     "text": [
      "<class 'pandas.core.frame.DataFrame'>\n",
      "RangeIndex: 1384 entries, 0 to 1383\n",
      "Data columns (total 18 columns):\n",
      " #   Column            Non-Null Count  Dtype  \n",
      "---  ------            --------------  -----  \n",
      " 0   id                1384 non-null   int64  \n",
      " 1   entidad           1383 non-null   object \n",
      " 2   colonia           1383 non-null   object \n",
      " 3   municipio         1383 non-null   object \n",
      " 4   codigo_postal     1384 non-null   int64  \n",
      " 5   tipo              1384 non-null   object \n",
      " 6   m2Terreno         675 non-null    float64\n",
      " 7   m2Construccion    1294 non-null   float64\n",
      " 8   recamaras         1213 non-null   float64\n",
      " 9   banos             1236 non-null   float64\n",
      " 10  medio_bano        463 non-null    float64\n",
      " 11  Baños             1384 non-null   float64\n",
      " 12  estacionamientos  1033 non-null   float64\n",
      " 13  pisos             1059 non-null   float64\n",
      " 14  antiguedad        1167 non-null   object \n",
      " 15  cuotaMantto       400 non-null    object \n",
      " 16  precioSalida      1384 non-null   int64  \n",
      " 17  precioVenta       1384 non-null   int64  \n",
      "dtypes: float64(8), int64(4), object(6)\n",
      "memory usage: 194.8+ KB\n"
     ]
    }
   ],
   "source": [
    "prices_df.info()"
   ]
  },
  {
   "cell_type": "code",
   "execution_count": 13,
   "id": "854b3b7c",
   "metadata": {},
   "outputs": [
    {
     "name": "stdout",
     "output_type": "stream",
     "text": [
      "<class 'pandas.core.frame.DataFrame'>\n",
      "RangeIndex: 1384 entries, 0 to 1383\n",
      "Data columns (total 17 columns):\n",
      " #   Column            Non-Null Count  Dtype  \n",
      "---  ------            --------------  -----  \n",
      " 0   entidad           1383 non-null   object \n",
      " 1   colonia           1383 non-null   object \n",
      " 2   municipio         1383 non-null   object \n",
      " 3   codigo_postal     1384 non-null   int64  \n",
      " 4   tipo              1384 non-null   object \n",
      " 5   m2Terreno         675 non-null    float64\n",
      " 6   m2Construccion    1294 non-null   float64\n",
      " 7   recamaras         1213 non-null   float64\n",
      " 8   banos             1236 non-null   float64\n",
      " 9   medio_bano        463 non-null    float64\n",
      " 10  Baños             1384 non-null   float64\n",
      " 11  estacionamientos  1033 non-null   float64\n",
      " 12  pisos             1059 non-null   float64\n",
      " 13  antiguedad        1167 non-null   object \n",
      " 14  cuotaMantto       400 non-null    object \n",
      " 15  precioSalida      1384 non-null   int64  \n",
      " 16  precioVenta       1384 non-null   int64  \n",
      "dtypes: float64(8), int64(3), object(6)\n",
      "memory usage: 183.9+ KB\n"
     ]
    }
   ],
   "source": [
    "prices_df = prices_df.drop([\"id\"], axis=1)\n",
    "prices_df.info()"
   ]
  },
  {
   "cell_type": "code",
   "execution_count": 14,
   "id": "84ce45e4",
   "metadata": {},
   "outputs": [
    {
     "name": "stdout",
     "output_type": "stream",
     "text": [
      "<class 'pandas.core.frame.DataFrame'>\n",
      "RangeIndex: 1384 entries, 0 to 1383\n",
      "Data columns (total 15 columns):\n",
      " #   Column            Non-Null Count  Dtype  \n",
      "---  ------            --------------  -----  \n",
      " 0   entidad           1383 non-null   object \n",
      " 1   colonia           1383 non-null   object \n",
      " 2   municipio         1383 non-null   object \n",
      " 3   codigo_postal     1384 non-null   int64  \n",
      " 4   tipo              1384 non-null   object \n",
      " 5   m2Terreno         675 non-null    float64\n",
      " 6   m2Construccion    1294 non-null   float64\n",
      " 7   recamaras         1213 non-null   float64\n",
      " 8   banos             1236 non-null   float64\n",
      " 9   medio_bano        463 non-null    float64\n",
      " 10  Baños             1384 non-null   float64\n",
      " 11  estacionamientos  1033 non-null   float64\n",
      " 12  pisos             1059 non-null   float64\n",
      " 13  precioSalida      1384 non-null   int64  \n",
      " 14  precioVenta       1384 non-null   int64  \n",
      "dtypes: float64(8), int64(3), object(4)\n",
      "memory usage: 162.3+ KB\n"
     ]
    }
   ],
   "source": [
    "prices_df = prices_df.drop([\"antiguedad\", \"cuotaMantto\"], axis=1)\n",
    "prices_df.info()"
   ]
  },
  {
   "cell_type": "code",
   "execution_count": 15,
   "id": "a89fb2e8",
   "metadata": {},
   "outputs": [
    {
     "name": "stdout",
     "output_type": "stream",
     "text": [
      "<class 'pandas.core.frame.DataFrame'>\n",
      "RangeIndex: 1384 entries, 0 to 1383\n",
      "Data columns (total 13 columns):\n",
      " #   Column            Non-Null Count  Dtype  \n",
      "---  ------            --------------  -----  \n",
      " 0   entidad           1383 non-null   object \n",
      " 1   colonia           1383 non-null   object \n",
      " 2   municipio         1383 non-null   object \n",
      " 3   codigo_postal     1384 non-null   int64  \n",
      " 4   tipo              1384 non-null   object \n",
      " 5   m2Terreno         675 non-null    float64\n",
      " 6   m2Construccion    1294 non-null   float64\n",
      " 7   recamaras         1213 non-null   float64\n",
      " 8   Baños             1384 non-null   float64\n",
      " 9   estacionamientos  1033 non-null   float64\n",
      " 10  pisos             1059 non-null   float64\n",
      " 11  precioSalida      1384 non-null   int64  \n",
      " 12  precioVenta       1384 non-null   int64  \n",
      "dtypes: float64(6), int64(3), object(4)\n",
      "memory usage: 140.7+ KB\n"
     ]
    }
   ],
   "source": [
    "prices_df = prices_df.drop([\"banos\", \"medio_bano\"], axis=1)\n",
    "prices_df.info()"
   ]
  },
  {
   "cell_type": "code",
   "execution_count": 16,
   "id": "4f4234e8",
   "metadata": {},
   "outputs": [
    {
     "name": "stdout",
     "output_type": "stream",
     "text": [
      "<class 'pandas.core.frame.DataFrame'>\n",
      "RangeIndex: 1384 entries, 0 to 1383\n",
      "Data columns (total 12 columns):\n",
      " #   Column            Non-Null Count  Dtype  \n",
      "---  ------            --------------  -----  \n",
      " 0   entidad           1383 non-null   object \n",
      " 1   colonia           1383 non-null   object \n",
      " 2   municipio         1383 non-null   object \n",
      " 3   codigo_postal     1384 non-null   int64  \n",
      " 4   tipo              1384 non-null   object \n",
      " 5   m2Terreno         675 non-null    float64\n",
      " 6   m2Construccion    1294 non-null   float64\n",
      " 7   recamaras         1213 non-null   float64\n",
      " 8   Baños             1384 non-null   float64\n",
      " 9   estacionamientos  1033 non-null   float64\n",
      " 10  pisos             1059 non-null   float64\n",
      " 11  precioVenta       1384 non-null   int64  \n",
      "dtypes: float64(6), int64(2), object(4)\n",
      "memory usage: 129.9+ KB\n"
     ]
    }
   ],
   "source": [
    "prices_df = prices_df.drop([\"precioSalida\"], axis=1)\n",
    "prices_df.info()"
   ]
  },
  {
   "cell_type": "code",
   "execution_count": 17,
   "id": "9f8d8b0a",
   "metadata": {},
   "outputs": [
    {
     "name": "stdout",
     "output_type": "stream",
     "text": [
      "<class 'pandas.core.frame.DataFrame'>\n",
      "RangeIndex: 1384 entries, 0 to 1383\n",
      "Data columns (total 12 columns):\n",
      " #   Column            Non-Null Count  Dtype  \n",
      "---  ------            --------------  -----  \n",
      " 0   entidad           1383 non-null   object \n",
      " 1   colonia           1383 non-null   object \n",
      " 2   municipio         1383 non-null   object \n",
      " 3   codigo_postal     1384 non-null   int64  \n",
      " 4   tipo              1384 non-null   object \n",
      " 5   m2Terreno         675 non-null    float64\n",
      " 6   m2Construccion    1294 non-null   float64\n",
      " 7   recamaras         1384 non-null   float64\n",
      " 8   Baños             1384 non-null   float64\n",
      " 9   estacionamientos  1384 non-null   float64\n",
      " 10  pisos             1384 non-null   float64\n",
      " 11  precioVenta       1384 non-null   int64  \n",
      "dtypes: float64(6), int64(2), object(4)\n",
      "memory usage: 129.9+ KB\n"
     ]
    }
   ],
   "source": [
    "# Replace NaN with 0 recámaras\n",
    "prices_df[\"recamaras\"] = prices_df[\"recamaras\"].fillna(0)\n",
    "prices_df[\"pisos\"] = prices_df[\"pisos\"].fillna(1)\n",
    "prices_df['estacionamientos'] = prices_df['estacionamientos'].fillna(0)\n",
    "prices_df.info()"
   ]
  },
  {
   "cell_type": "code",
   "execution_count": 18,
   "id": "00a1cb18",
   "metadata": {},
   "outputs": [
    {
     "name": "stdout",
     "output_type": "stream",
     "text": [
      "<class 'pandas.core.frame.DataFrame'>\n",
      "RangeIndex: 1384 entries, 0 to 1383\n",
      "Data columns (total 12 columns):\n",
      " #   Column            Non-Null Count  Dtype  \n",
      "---  ------            --------------  -----  \n",
      " 0   entidad           1383 non-null   object \n",
      " 1   colonia           1383 non-null   object \n",
      " 2   municipio         1383 non-null   object \n",
      " 3   codigo_postal     1384 non-null   int64  \n",
      " 4   tipo              1384 non-null   object \n",
      " 5   m2Terreno         1376 non-null   float64\n",
      " 6   m2Construccion    1376 non-null   float64\n",
      " 7   recamaras         1384 non-null   float64\n",
      " 8   Baños             1384 non-null   float64\n",
      " 9   estacionamientos  1384 non-null   float64\n",
      " 10  pisos             1384 non-null   float64\n",
      " 11  precioVenta       1384 non-null   int64  \n",
      "dtypes: float64(6), int64(2), object(4)\n",
      "memory usage: 129.9+ KB\n"
     ]
    }
   ],
   "source": [
    "# replace Nan in m2construccion with m2terreno\n",
    "prices_df.m2Construccion.fillna(prices_df.m2Terreno, inplace=True)\n",
    "prices_df.m2Terreno.fillna(prices_df.m2Construccion, inplace=True)\n",
    "prices_df.info()"
   ]
  },
  {
   "cell_type": "code",
   "execution_count": 19,
   "id": "71d0d455",
   "metadata": {},
   "outputs": [],
   "source": [
    "prices_df = prices_df.dropna()"
   ]
  },
  {
   "cell_type": "code",
   "execution_count": 20,
   "id": "8cb7233f",
   "metadata": {},
   "outputs": [
    {
     "name": "stdout",
     "output_type": "stream",
     "text": [
      "<class 'pandas.core.frame.DataFrame'>\n",
      "Int64Index: 1375 entries, 0 to 1383\n",
      "Data columns (total 12 columns):\n",
      " #   Column            Non-Null Count  Dtype  \n",
      "---  ------            --------------  -----  \n",
      " 0   entidad           1375 non-null   object \n",
      " 1   colonia           1375 non-null   object \n",
      " 2   municipio         1375 non-null   object \n",
      " 3   codigo_postal     1375 non-null   int64  \n",
      " 4   tipo              1375 non-null   object \n",
      " 5   m2Terreno         1375 non-null   float64\n",
      " 6   m2Construccion    1375 non-null   float64\n",
      " 7   recamaras         1375 non-null   float64\n",
      " 8   Baños             1375 non-null   float64\n",
      " 9   estacionamientos  1375 non-null   float64\n",
      " 10  pisos             1375 non-null   float64\n",
      " 11  precioVenta       1375 non-null   int64  \n",
      "dtypes: float64(6), int64(2), object(4)\n",
      "memory usage: 139.6+ KB\n"
     ]
    }
   ],
   "source": [
    "prices_df.info()"
   ]
  },
  {
   "cell_type": "code",
   "execution_count": 21,
   "id": "b45fd11b",
   "metadata": {},
   "outputs": [],
   "source": [
    "prices_df['precioVenta'] = prices_df['precioVenta'].astype(np.float64)\n",
    "prices_df['precioVenta'] = prices_df['precioVenta'].astype(np.float64)\n"
   ]
  },
  {
   "cell_type": "code",
   "execution_count": 22,
   "id": "2a6acb77",
   "metadata": {},
   "outputs": [
    {
     "name": "stdout",
     "output_type": "stream",
     "text": [
      "<class 'pandas.core.frame.DataFrame'>\n",
      "Int64Index: 1375 entries, 0 to 1383\n",
      "Data columns (total 12 columns):\n",
      " #   Column            Non-Null Count  Dtype  \n",
      "---  ------            --------------  -----  \n",
      " 0   entidad           1375 non-null   object \n",
      " 1   colonia           1375 non-null   object \n",
      " 2   municipio         1375 non-null   object \n",
      " 3   codigo_postal     1375 non-null   int64  \n",
      " 4   tipo              1375 non-null   object \n",
      " 5   m2Terreno         1375 non-null   float64\n",
      " 6   m2Construccion    1375 non-null   float64\n",
      " 7   recamaras         1375 non-null   float64\n",
      " 8   Baños             1375 non-null   float64\n",
      " 9   estacionamientos  1375 non-null   float64\n",
      " 10  pisos             1375 non-null   float64\n",
      " 11  precioVenta       1375 non-null   float64\n",
      "dtypes: float64(7), int64(1), object(4)\n",
      "memory usage: 139.6+ KB\n"
     ]
    }
   ],
   "source": [
    "prices_df.info()"
   ]
  },
  {
   "cell_type": "code",
   "execution_count": 23,
   "id": "189e3a54",
   "metadata": {
    "scrolled": true
   },
   "outputs": [
    {
     "name": "stdout",
     "output_type": "stream",
     "text": [
      "<class 'pandas.core.frame.DataFrame'>\n",
      "Int64Index: 1375 entries, 0 to 1383\n",
      "Data columns (total 12 columns):\n",
      " #   Column            Non-Null Count  Dtype  \n",
      "---  ------            --------------  -----  \n",
      " 0   entidad           1375 non-null   int32  \n",
      " 1   colonia           1375 non-null   object \n",
      " 2   municipio         1375 non-null   int32  \n",
      " 3   codigo_postal     1375 non-null   int64  \n",
      " 4   tipo              1375 non-null   int32  \n",
      " 5   m2Terreno         1375 non-null   float64\n",
      " 6   m2Construccion    1375 non-null   float64\n",
      " 7   recamaras         1375 non-null   float64\n",
      " 8   Baños             1375 non-null   float64\n",
      " 9   estacionamientos  1375 non-null   float64\n",
      " 10  pisos             1375 non-null   float64\n",
      " 11  precioVenta       1375 non-null   float64\n",
      "dtypes: float64(7), int32(3), int64(1), object(1)\n",
      "memory usage: 123.5+ KB\n"
     ]
    }
   ],
   "source": [
    "from sklearn.preprocessing import LabelEncoder\n",
    "# Use labelencoder to convert tipo into integers\n",
    "prices_df['tipo'] = LabelEncoder().fit_transform(prices_df['tipo'])\n",
    "prices_df['entidad'] = LabelEncoder().fit_transform(prices_df['entidad'])\n",
    "prices_df['municipio'] = LabelEncoder().fit_transform(prices_df['municipio'])\n",
    "prices_df.info()"
   ]
  },
  {
   "cell_type": "code",
   "execution_count": 24,
   "id": "53561fdb",
   "metadata": {
    "scrolled": true
   },
   "outputs": [
    {
     "name": "stdout",
     "output_type": "stream",
     "text": [
      "<class 'pandas.core.frame.DataFrame'>\n",
      "Int64Index: 1375 entries, 0 to 1383\n",
      "Data columns (total 11 columns):\n",
      " #   Column            Non-Null Count  Dtype  \n",
      "---  ------            --------------  -----  \n",
      " 0   entidad           1375 non-null   int32  \n",
      " 1   municipio         1375 non-null   int32  \n",
      " 2   codigo_postal     1375 non-null   int64  \n",
      " 3   tipo              1375 non-null   int32  \n",
      " 4   m2Terreno         1375 non-null   float64\n",
      " 5   m2Construccion    1375 non-null   float64\n",
      " 6   recamaras         1375 non-null   float64\n",
      " 7   Baños             1375 non-null   float64\n",
      " 8   estacionamientos  1375 non-null   float64\n",
      " 9   pisos             1375 non-null   float64\n",
      " 10  precioVenta       1375 non-null   float64\n",
      "dtypes: float64(7), int32(3), int64(1)\n",
      "memory usage: 112.8 KB\n"
     ]
    }
   ],
   "source": [
    "prices_df = prices_df.drop([\"colonia\"], axis=1)\n",
    "prices_df.info()"
   ]
  },
  {
   "cell_type": "code",
   "execution_count": 25,
   "id": "7021210a",
   "metadata": {
    "scrolled": true
   },
   "outputs": [
    {
     "data": {
      "text/html": [
       "<div>\n",
       "<style scoped>\n",
       "    .dataframe tbody tr th:only-of-type {\n",
       "        vertical-align: middle;\n",
       "    }\n",
       "\n",
       "    .dataframe tbody tr th {\n",
       "        vertical-align: top;\n",
       "    }\n",
       "\n",
       "    .dataframe thead th {\n",
       "        text-align: right;\n",
       "    }\n",
       "</style>\n",
       "<table border=\"1\" class=\"dataframe\">\n",
       "  <thead>\n",
       "    <tr style=\"text-align: right;\">\n",
       "      <th></th>\n",
       "      <th>entidad</th>\n",
       "      <th>municipio</th>\n",
       "      <th>codigo_postal</th>\n",
       "      <th>tipo</th>\n",
       "      <th>m2Terreno</th>\n",
       "      <th>m2Construccion</th>\n",
       "      <th>recamaras</th>\n",
       "      <th>Baños</th>\n",
       "      <th>estacionamientos</th>\n",
       "      <th>pisos</th>\n",
       "      <th>precioVenta</th>\n",
       "    </tr>\n",
       "  </thead>\n",
       "  <tbody>\n",
       "    <tr>\n",
       "      <th>count</th>\n",
       "      <td>1375.000000</td>\n",
       "      <td>1375.000000</td>\n",
       "      <td>1375.000000</td>\n",
       "      <td>1375.000000</td>\n",
       "      <td>1375.000000</td>\n",
       "      <td>1375.000000</td>\n",
       "      <td>1375.000000</td>\n",
       "      <td>1375.000000</td>\n",
       "      <td>1375.000000</td>\n",
       "      <td>1375.000000</td>\n",
       "      <td>1.375000e+03</td>\n",
       "    </tr>\n",
       "    <tr>\n",
       "      <th>mean</th>\n",
       "      <td>0.138909</td>\n",
       "      <td>7.684364</td>\n",
       "      <td>11948.676364</td>\n",
       "      <td>0.776000</td>\n",
       "      <td>159.201047</td>\n",
       "      <td>178.132960</td>\n",
       "      <td>2.636364</td>\n",
       "      <td>2.104000</td>\n",
       "      <td>1.476364</td>\n",
       "      <td>2.890909</td>\n",
       "      <td>5.147507e+06</td>\n",
       "    </tr>\n",
       "    <tr>\n",
       "      <th>std</th>\n",
       "      <td>0.510778</td>\n",
       "      <td>5.608595</td>\n",
       "      <td>15489.618643</td>\n",
       "      <td>0.800749</td>\n",
       "      <td>151.350895</td>\n",
       "      <td>221.577165</td>\n",
       "      <td>1.544154</td>\n",
       "      <td>1.418871</td>\n",
       "      <td>1.372686</td>\n",
       "      <td>1.913264</td>\n",
       "      <td>5.580220e+06</td>\n",
       "    </tr>\n",
       "    <tr>\n",
       "      <th>min</th>\n",
       "      <td>0.000000</td>\n",
       "      <td>0.000000</td>\n",
       "      <td>1000.000000</td>\n",
       "      <td>0.000000</td>\n",
       "      <td>0.000000</td>\n",
       "      <td>0.000000</td>\n",
       "      <td>0.000000</td>\n",
       "      <td>0.000000</td>\n",
       "      <td>0.000000</td>\n",
       "      <td>1.000000</td>\n",
       "      <td>2.200000e+05</td>\n",
       "    </tr>\n",
       "    <tr>\n",
       "      <th>25%</th>\n",
       "      <td>0.000000</td>\n",
       "      <td>3.000000</td>\n",
       "      <td>3765.000000</td>\n",
       "      <td>0.000000</td>\n",
       "      <td>70.000000</td>\n",
       "      <td>70.000000</td>\n",
       "      <td>2.000000</td>\n",
       "      <td>1.000000</td>\n",
       "      <td>0.000000</td>\n",
       "      <td>1.000000</td>\n",
       "      <td>2.300000e+06</td>\n",
       "    </tr>\n",
       "    <tr>\n",
       "      <th>50%</th>\n",
       "      <td>0.000000</td>\n",
       "      <td>5.000000</td>\n",
       "      <td>6700.000000</td>\n",
       "      <td>1.000000</td>\n",
       "      <td>111.000000</td>\n",
       "      <td>120.000000</td>\n",
       "      <td>3.000000</td>\n",
       "      <td>2.000000</td>\n",
       "      <td>1.000000</td>\n",
       "      <td>2.000000</td>\n",
       "      <td>3.700000e+06</td>\n",
       "    </tr>\n",
       "    <tr>\n",
       "      <th>75%</th>\n",
       "      <td>0.000000</td>\n",
       "      <td>12.000000</td>\n",
       "      <td>14060.000000</td>\n",
       "      <td>1.000000</td>\n",
       "      <td>200.000000</td>\n",
       "      <td>232.000000</td>\n",
       "      <td>3.000000</td>\n",
       "      <td>3.000000</td>\n",
       "      <td>2.000000</td>\n",
       "      <td>4.000000</td>\n",
       "      <td>5.995000e+06</td>\n",
       "    </tr>\n",
       "    <tr>\n",
       "      <th>max</th>\n",
       "      <td>3.000000</td>\n",
       "      <td>19.000000</td>\n",
       "      <td>72820.000000</td>\n",
       "      <td>3.000000</td>\n",
       "      <td>1500.000000</td>\n",
       "      <td>5675.000000</td>\n",
       "      <td>8.000000</td>\n",
       "      <td>8.500000</td>\n",
       "      <td>6.000000</td>\n",
       "      <td>11.000000</td>\n",
       "      <td>7.500000e+07</td>\n",
       "    </tr>\n",
       "  </tbody>\n",
       "</table>\n",
       "</div>"
      ],
      "text/plain": [
       "           entidad    municipio  codigo_postal         tipo    m2Terreno  \\\n",
       "count  1375.000000  1375.000000    1375.000000  1375.000000  1375.000000   \n",
       "mean      0.138909     7.684364   11948.676364     0.776000   159.201047   \n",
       "std       0.510778     5.608595   15489.618643     0.800749   151.350895   \n",
       "min       0.000000     0.000000    1000.000000     0.000000     0.000000   \n",
       "25%       0.000000     3.000000    3765.000000     0.000000    70.000000   \n",
       "50%       0.000000     5.000000    6700.000000     1.000000   111.000000   \n",
       "75%       0.000000    12.000000   14060.000000     1.000000   200.000000   \n",
       "max       3.000000    19.000000   72820.000000     3.000000  1500.000000   \n",
       "\n",
       "       m2Construccion    recamaras        Baños  estacionamientos  \\\n",
       "count     1375.000000  1375.000000  1375.000000       1375.000000   \n",
       "mean       178.132960     2.636364     2.104000          1.476364   \n",
       "std        221.577165     1.544154     1.418871          1.372686   \n",
       "min          0.000000     0.000000     0.000000          0.000000   \n",
       "25%         70.000000     2.000000     1.000000          0.000000   \n",
       "50%        120.000000     3.000000     2.000000          1.000000   \n",
       "75%        232.000000     3.000000     3.000000          2.000000   \n",
       "max       5675.000000     8.000000     8.500000          6.000000   \n",
       "\n",
       "             pisos   precioVenta  \n",
       "count  1375.000000  1.375000e+03  \n",
       "mean      2.890909  5.147507e+06  \n",
       "std       1.913264  5.580220e+06  \n",
       "min       1.000000  2.200000e+05  \n",
       "25%       1.000000  2.300000e+06  \n",
       "50%       2.000000  3.700000e+06  \n",
       "75%       4.000000  5.995000e+06  \n",
       "max      11.000000  7.500000e+07  "
      ]
     },
     "execution_count": 25,
     "metadata": {},
     "output_type": "execute_result"
    }
   ],
   "source": [
    "prices_df.describe()"
   ]
  },
  {
   "cell_type": "code",
   "execution_count": 26,
   "id": "36a03fc7",
   "metadata": {
    "scrolled": true
   },
   "outputs": [
    {
     "data": {
      "image/png": "[encoded data removed]",
      "text/plain": [
       "<Figure size 1440x1080 with 12 Axes>"
      ]
     },
     "metadata": {
      "needs_background": "light"
     },
     "output_type": "display_data"
    }
   ],
   "source": [
    "prices_df.hist(bins=50, figsize=(20,15))\n",
    "plt.show()"
   ]
  },
  {
   "cell_type": "code",
   "execution_count": 27,
   "id": "eb4c36fd",
   "metadata": {
    "scrolled": true
   },
   "outputs": [
    {
     "data": {
      "text/plain": [
       "precioVenta         1.000000\n",
       "m2Construccion      0.708259\n",
       "m2Terreno           0.634484\n",
       "estacionamientos    0.253749\n",
       "Baños               0.204082\n",
       "tipo                0.042445\n",
       "recamaras           0.029989\n",
       "codigo_postal      -0.014308\n",
       "entidad            -0.018405\n",
       "municipio          -0.073174\n",
       "pisos              -0.096772\n",
       "Name: precioVenta, dtype: float64"
      ]
     },
     "execution_count": 27,
     "metadata": {},
     "output_type": "execute_result"
    }
   ],
   "source": [
    "corr_matrix = prices_df.corr()\n",
    "corr_matrix['precioVenta'].sort_values(ascending=False)"
   ]
  },
  {
   "cell_type": "code",
   "execution_count": 36,
   "id": "d8e51c96",
   "metadata": {},
   "outputs": [],
   "source": [
    "prices_df = prices_df.drop([\"pisos\"], axis=1)"
   ]
  },
  {
   "cell_type": "code",
   "execution_count": 57,
   "id": "3e28bfd1",
   "metadata": {},
   "outputs": [],
   "source": [
    "# Define target\n",
    "y = prices_df['precioVenta']\n",
    "# Define features set\n",
    "X = prices_df.drop(columns='precioVenta')"
   ]
  },
  {
   "cell_type": "code",
   "execution_count": 58,
   "id": "0de840d7",
   "metadata": {},
   "outputs": [],
   "source": [
    "from sklearn.model_selection import train_test_split\n",
    "# Split into train and test sets\n",
    "X_train, X_test, y_train, y_test = train_test_split(X, y, test_size=0.2, random_state=1)"
   ]
  },
  {
   "cell_type": "code",
   "execution_count": 59,
   "id": "98bb0038",
   "metadata": {},
   "outputs": [
    {
     "name": "stdout",
     "output_type": "stream",
     "text": [
      "(1100, 9)\n",
      "(275, 9)\n",
      "(1100,)\n",
      "(275,)\n"
     ]
    }
   ],
   "source": [
    "print(X_train.shape)\n",
    "print(X_test.shape)\n",
    "print(y_train.shape)\n",
    "print(y_test.shape)"
   ]
  },
  {
   "cell_type": "code",
   "execution_count": 60,
   "id": "32a30bd2",
   "metadata": {},
   "outputs": [],
   "source": [
    "from sklearn.preprocessing import StandardScaler\n",
    "# Create StandardScaler instance\n",
    "scaler = StandardScaler()\n",
    "# Fit Standard Scaler\n",
    "X_scaler = scaler.fit(X_train)\n",
    "\n",
    "# Scale the data\n",
    "X_train_scaled = X_scaler.transform(X_train)\n",
    "X_test_scaled = X_scaler.transform(X_test)"
   ]
  },
  {
   "cell_type": "code",
   "execution_count": 61,
   "id": "36ccad1a",
   "metadata": {},
   "outputs": [],
   "source": [
    "from sklearn.ensemble import RandomForestClassifier\n",
    "# Creating the decision tree classifier instance\n",
    "model = RandomForestClassifier(n_estimators=500, random_state=1)\n",
    "\n",
    "# Fitting the model\n",
    "model = model.fit(X_train_scaled, y_train)"
   ]
  },
  {
   "cell_type": "code",
   "execution_count": 62,
   "id": "d3206270",
   "metadata": {},
   "outputs": [],
   "source": [
    "# Making predictions\n",
    "predictions = model.predict(X_test_scaled)"
   ]
  },
  {
   "cell_type": "code",
   "execution_count": 63,
   "id": "dd9a9e0d",
   "metadata": {},
   "outputs": [
    {
     "data": {
      "text/plain": [
       "0.02181818181818182"
      ]
     },
     "execution_count": 63,
     "metadata": {},
     "output_type": "execute_result"
    }
   ],
   "source": [
    "from sklearn.metrics import accuracy_score\n",
    "# Calculating the accuracy score\n",
    "acc_score = accuracy_score(y_test, predictions)\n",
    "acc_score"
   ]
  },
  {
   "cell_type": "code",
   "execution_count": 64,
   "id": "ec474207",
   "metadata": {},
   "outputs": [
    {
     "name": "stdout",
     "output_type": "stream",
     "text": [
      "0.02181818181818182\n"
     ]
    }
   ],
   "source": [
    "from sklearn.linear_model import LogisticRegression\n",
    "classifier = LogisticRegression(solver='lbfgs',\n",
    "                               max_iter=500,\n",
    "                               random_state=1)\n",
    "classifier.fit(X_train_scaled, y_train)\n",
    "y_pred = classifier.predict(X_test_scaled)\n",
    "\n",
    "print(accuracy_score(y_test, y_pred))"
   ]
  },
  {
   "cell_type": "code",
   "execution_count": null,
   "id": "23473749",
   "metadata": {},
   "outputs": [],
   "source": []
  }
 ],
 "metadata": {
  "kernelspec": {
   "display_name": "mlenv",
   "language": "python",
   "name": "mlenv"
  },
  "language_info": {
   "codemirror_mode": {
    "name": "ipython",
    "version": 3
   },
   "file_extension": ".py",
   "mimetype": "text/x-python",
   "name": "python",
   "nbconvert_exporter": "python",
   "pygments_lexer": "ipython3",
   "version": "3.7.11"
  }
 },
 "nbformat": 4,
 "nbformat_minor": 5
}
