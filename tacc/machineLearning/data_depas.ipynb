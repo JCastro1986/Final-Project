{
 "cells": [
  {
   "cell_type": "code",
   "execution_count": 1,
   "id": "c9f65234",
   "metadata": {},
   "outputs": [],
   "source": [
    "# Import dependencies\n",
    "import pandas as pd\n",
    "import numpy as np\n",
    "import sklearn\n",
    "import os\n",
    "import seaborn as sns\n",
    "from path import Path"
   ]
  },
  {
   "cell_type": "code",
   "execution_count": 2,
   "id": "83698515",
   "metadata": {},
   "outputs": [
    {
     "data": {
      "text/html": [
       "<div>\n",
       "<style scoped>\n",
       "    .dataframe tbody tr th:only-of-type {\n",
       "        vertical-align: middle;\n",
       "    }\n",
       "\n",
       "    .dataframe tbody tr th {\n",
       "        vertical-align: top;\n",
       "    }\n",
       "\n",
       "    .dataframe thead th {\n",
       "        text-align: right;\n",
       "    }\n",
       "</style>\n",
       "<table border=\"1\" class=\"dataframe\">\n",
       "  <thead>\n",
       "    <tr style=\"text-align: right;\">\n",
       "      <th></th>\n",
       "      <th>ID</th>\n",
       "      <th>entidad</th>\n",
       "      <th>tipo</th>\n",
       "      <th>link</th>\n",
       "      <th>precio</th>\n",
       "      <th>municipio_x</th>\n",
       "      <th>colonia</th>\n",
       "      <th>m2Terreno</th>\n",
       "      <th>m2Construccion</th>\n",
       "      <th>estacionamientos</th>\n",
       "      <th>...</th>\n",
       "      <th>antiguedad</th>\n",
       "      <th>id</th>\n",
       "      <th>nombre</th>\n",
       "      <th>municipio_y</th>\n",
       "      <th>asentamiento</th>\n",
       "      <th>codigo_postal</th>\n",
       "      <th>latitud</th>\n",
       "      <th>longitud</th>\n",
       "      <th>nombreMun</th>\n",
       "      <th>estado</th>\n",
       "    </tr>\n",
       "  </thead>\n",
       "  <tbody>\n",
       "    <tr>\n",
       "      <th>0</th>\n",
       "      <td>1425548080</td>\n",
       "      <td>Aguascalientes</td>\n",
       "      <td>casas</td>\n",
       "      <td>https://casa.metroscubicos.com/MLM-1425548080-...</td>\n",
       "      <td>6500000.0</td>\n",
       "      <td>Aguascalientes</td>\n",
       "      <td>Los Pocitos</td>\n",
       "      <td>320.0</td>\n",
       "      <td>200.0</td>\n",
       "      <td>2.0</td>\n",
       "      <td>...</td>\n",
       "      <td>2.0</td>\n",
       "      <td>1001563.0</td>\n",
       "      <td>Los Pocitos</td>\n",
       "      <td>1001.0</td>\n",
       "      <td>Ejido</td>\n",
       "      <td>20328.0</td>\n",
       "      <td>21.923098</td>\n",
       "      <td>-102.343269</td>\n",
       "      <td>Aguascalientes</td>\n",
       "      <td>Aguascalientes</td>\n",
       "    </tr>\n",
       "    <tr>\n",
       "      <th>1</th>\n",
       "      <td>1397663987</td>\n",
       "      <td>Aguascalientes</td>\n",
       "      <td>casas</td>\n",
       "      <td>https://casa.metroscubicos.com/MLM-1397663987-...</td>\n",
       "      <td>1990000.0</td>\n",
       "      <td>Aguascalientes</td>\n",
       "      <td>Puesta del Sol</td>\n",
       "      <td>119.0</td>\n",
       "      <td>112.0</td>\n",
       "      <td>2.0</td>\n",
       "      <td>...</td>\n",
       "      <td>0.0</td>\n",
       "      <td>1001553.0</td>\n",
       "      <td>Puesta del Sol</td>\n",
       "      <td>1001.0</td>\n",
       "      <td>Fraccionamiento</td>\n",
       "      <td>20326.0</td>\n",
       "      <td>21.877844</td>\n",
       "      <td>-102.332252</td>\n",
       "      <td>Aguascalientes</td>\n",
       "      <td>Aguascalientes</td>\n",
       "    </tr>\n",
       "    <tr>\n",
       "      <th>2</th>\n",
       "      <td>1398422703</td>\n",
       "      <td>Aguascalientes</td>\n",
       "      <td>casas</td>\n",
       "      <td>https://casa.metroscubicos.com/MLM-1398422703-...</td>\n",
       "      <td>2750000.0</td>\n",
       "      <td>Aguascalientes</td>\n",
       "      <td>La Cantera</td>\n",
       "      <td>178.0</td>\n",
       "      <td>163.0</td>\n",
       "      <td>2.0</td>\n",
       "      <td>...</td>\n",
       "      <td>0.0</td>\n",
       "      <td>NaN</td>\n",
       "      <td>NaN</td>\n",
       "      <td>NaN</td>\n",
       "      <td>NaN</td>\n",
       "      <td>NaN</td>\n",
       "      <td>NaN</td>\n",
       "      <td>NaN</td>\n",
       "      <td>NaN</td>\n",
       "      <td>NaN</td>\n",
       "    </tr>\n",
       "    <tr>\n",
       "      <th>3</th>\n",
       "      <td>1413775652</td>\n",
       "      <td>Aguascalientes</td>\n",
       "      <td>casas</td>\n",
       "      <td>https://casa.metroscubicos.com/MLM-1413775652-...</td>\n",
       "      <td>3000000.0</td>\n",
       "      <td>Aguascalientes</td>\n",
       "      <td>Ejido El Refugio de Peñuelas</td>\n",
       "      <td>640.0</td>\n",
       "      <td>150.0</td>\n",
       "      <td>3.0</td>\n",
       "      <td>...</td>\n",
       "      <td>NaN</td>\n",
       "      <td>NaN</td>\n",
       "      <td>NaN</td>\n",
       "      <td>NaN</td>\n",
       "      <td>NaN</td>\n",
       "      <td>NaN</td>\n",
       "      <td>NaN</td>\n",
       "      <td>NaN</td>\n",
       "      <td>NaN</td>\n",
       "      <td>NaN</td>\n",
       "    </tr>\n",
       "    <tr>\n",
       "      <th>4</th>\n",
       "      <td>1411133552</td>\n",
       "      <td>Aguascalientes</td>\n",
       "      <td>casas</td>\n",
       "      <td>https://casa.metroscubicos.com/MLM-1411133552-...</td>\n",
       "      <td>1280000.0</td>\n",
       "      <td>Aguascalientes</td>\n",
       "      <td>Real De Haciendas</td>\n",
       "      <td>75.0</td>\n",
       "      <td>135.0</td>\n",
       "      <td>1.0</td>\n",
       "      <td>...</td>\n",
       "      <td>6.0</td>\n",
       "      <td>NaN</td>\n",
       "      <td>NaN</td>\n",
       "      <td>NaN</td>\n",
       "      <td>NaN</td>\n",
       "      <td>NaN</td>\n",
       "      <td>NaN</td>\n",
       "      <td>NaN</td>\n",
       "      <td>NaN</td>\n",
       "      <td>NaN</td>\n",
       "    </tr>\n",
       "  </tbody>\n",
       "</table>\n",
       "<p>5 rows × 24 columns</p>\n",
       "</div>"
      ],
      "text/plain": [
       "           ID          entidad   tipo  \\\n",
       "0  1425548080   Aguascalientes  casas   \n",
       "1  1397663987   Aguascalientes  casas   \n",
       "2  1398422703   Aguascalientes  casas   \n",
       "3  1413775652   Aguascalientes  casas   \n",
       "4  1411133552   Aguascalientes  casas   \n",
       "\n",
       "                                                link     precio  \\\n",
       "0  https://casa.metroscubicos.com/MLM-1425548080-...  6500000.0   \n",
       "1  https://casa.metroscubicos.com/MLM-1397663987-...  1990000.0   \n",
       "2  https://casa.metroscubicos.com/MLM-1398422703-...  2750000.0   \n",
       "3  https://casa.metroscubicos.com/MLM-1413775652-...  3000000.0   \n",
       "4  https://casa.metroscubicos.com/MLM-1411133552-...  1280000.0   \n",
       "\n",
       "      municipio_x                       colonia  m2Terreno  m2Construccion  \\\n",
       "0  Aguascalientes                   Los Pocitos      320.0           200.0   \n",
       "1  Aguascalientes                Puesta del Sol      119.0           112.0   \n",
       "2  Aguascalientes                    La Cantera      178.0           163.0   \n",
       "3  Aguascalientes  Ejido El Refugio de Peñuelas      640.0           150.0   \n",
       "4  Aguascalientes             Real De Haciendas       75.0           135.0   \n",
       "\n",
       "   estacionamientos  ...  antiguedad         id          nombre  municipio_y  \\\n",
       "0               2.0  ...         2.0  1001563.0     Los Pocitos       1001.0   \n",
       "1               2.0  ...         0.0  1001553.0  Puesta del Sol       1001.0   \n",
       "2               2.0  ...         0.0        NaN             NaN          NaN   \n",
       "3               3.0  ...         NaN        NaN             NaN          NaN   \n",
       "4               1.0  ...         6.0        NaN             NaN          NaN   \n",
       "\n",
       "      asentamiento  codigo_postal    latitud    longitud        nombreMun  \\\n",
       "0            Ejido        20328.0  21.923098 -102.343269   Aguascalientes   \n",
       "1  Fraccionamiento        20326.0  21.877844 -102.332252   Aguascalientes   \n",
       "2              NaN            NaN        NaN         NaN              NaN   \n",
       "3              NaN            NaN        NaN         NaN              NaN   \n",
       "4              NaN            NaN        NaN         NaN              NaN   \n",
       "\n",
       "            estado  \n",
       "0   Aguascalientes  \n",
       "1   Aguascalientes  \n",
       "2              NaN  \n",
       "3              NaN  \n",
       "4              NaN  \n",
       "\n",
       "[5 rows x 24 columns]"
      ]
     },
     "execution_count": 2,
     "metadata": {},
     "output_type": "execute_result"
    }
   ],
   "source": [
    "# Load data CSV\n",
    "file_path = Path('Resources/merged.csv')\n",
    "data_df = pd.read_csv(file_path, encoding=\"utf-8-sig\")\n",
    "data_df.head()"
   ]
  },
  {
   "cell_type": "code",
   "execution_count": 3,
   "id": "a5ae9002",
   "metadata": {},
   "outputs": [],
   "source": [
    "data_df = data_df.drop(['ID', 'link', 'colonia', 'mantenimiento', 'symbol', 'id', 'nombre', 'municipio_y', 'asentamiento', 'codigo_postal', 'nombre', 'nombreMun', 'estado'], axis=1)"
   ]
  },
  {
   "cell_type": "code",
   "execution_count": 4,
   "id": "bad3c017",
   "metadata": {},
   "outputs": [
    {
     "data": {
      "text/plain": [
       "casas            120278\n",
       "terrenos           2005\n",
       "departamentos      1893\n",
       "Name: tipo, dtype: int64"
      ]
     },
     "execution_count": 4,
     "metadata": {},
     "output_type": "execute_result"
    }
   ],
   "source": [
    "data_df.tipo.value_counts()"
   ]
  },
  {
   "cell_type": "code",
   "execution_count": 6,
   "id": "d6cd9b23",
   "metadata": {},
   "outputs": [],
   "source": [
    "depas_df = data_df.loc[(data_df['tipo'] == 'departamentos')]"
   ]
  },
  {
   "cell_type": "code",
   "execution_count": 7,
   "id": "fd11fc14",
   "metadata": {},
   "outputs": [
    {
     "name": "stdout",
     "output_type": "stream",
     "text": [
      "<class 'pandas.core.frame.DataFrame'>\n",
      "Int64Index: 1893 entries, 1493 to 121816\n",
      "Data columns (total 11 columns):\n",
      " #   Column            Non-Null Count  Dtype  \n",
      "---  ------            --------------  -----  \n",
      " 0   entidad           1893 non-null   object \n",
      " 1   precio            1893 non-null   float64\n",
      " 2   municipio_x       1893 non-null   object \n",
      " 3   m2Terreno         1796 non-null   float64\n",
      " 4   m2Construccion    1821 non-null   float64\n",
      " 5   estacionamientos  1107 non-null   float64\n",
      " 6   Recamaras         1738 non-null   float64\n",
      " 7   Banos             1805 non-null   float64\n",
      " 8   antiguedad        1003 non-null   float64\n",
      " 9   latitud           733 non-null    float64\n",
      " 10  longitud          733 non-null    float64\n",
      "dtypes: float64(9), object(2)\n",
      "memory usage: 177.5+ KB\n"
     ]
    }
   ],
   "source": [
    "depas_df = depas_df.drop(['tipo'], axis=1)\n",
    "depas_df.info()"
   ]
  },
  {
   "cell_type": "code",
   "execution_count": 8,
   "id": "3a7a0d79",
   "metadata": {},
   "outputs": [
    {
     "name": "stdout",
     "output_type": "stream",
     "text": [
      "<class 'pandas.core.frame.DataFrame'>\n",
      "Int64Index: 1893 entries, 1493 to 121816\n",
      "Data columns (total 8 columns):\n",
      " #   Column            Non-Null Count  Dtype  \n",
      "---  ------            --------------  -----  \n",
      " 0   entidad           1893 non-null   object \n",
      " 1   precio            1893 non-null   float64\n",
      " 2   municipio_x       1893 non-null   object \n",
      " 3   m2Construccion    1821 non-null   float64\n",
      " 4   estacionamientos  1107 non-null   float64\n",
      " 5   Recamaras         1738 non-null   float64\n",
      " 6   Banos             1805 non-null   float64\n",
      " 7   antiguedad        1003 non-null   float64\n",
      "dtypes: float64(6), object(2)\n",
      "memory usage: 133.1+ KB\n"
     ]
    }
   ],
   "source": [
    "depas_df = depas_df.drop(['m2Terreno', 'latitud', 'longitud'], axis=1)\n",
    "depas_df.info()"
   ]
  },
  {
   "cell_type": "code",
   "execution_count": 9,
   "id": "4a83b48c",
   "metadata": {
    "scrolled": true
   },
   "outputs": [
    {
     "data": {
      "text/plain": [
       "1.0      546\n",
       "2.0      505\n",
       "3.0       30\n",
       "4.0       18\n",
       "5.0        2\n",
       "10.0       1\n",
       "8.0        1\n",
       "12.0       1\n",
       "14.0       1\n",
       "6.0        1\n",
       "235.0      1\n",
       "Name: estacionamientos, dtype: int64"
      ]
     },
     "execution_count": 9,
     "metadata": {},
     "output_type": "execute_result"
    }
   ],
   "source": [
    "depas_df.estacionamientos.value_counts()"
   ]
  },
  {
   "cell_type": "code",
   "execution_count": 10,
   "id": "65d23f98",
   "metadata": {
    "scrolled": true
   },
   "outputs": [
    {
     "data": {
      "text/plain": [
       "2.0     931\n",
       "3.0     461\n",
       "1.0     293\n",
       "4.0      26\n",
       "6.0       6\n",
       "7.0       6\n",
       "5.0       5\n",
       "8.0       3\n",
       "10.0      3\n",
       "12.0      2\n",
       "30.0      1\n",
       "14.0      1\n",
       "Name: Recamaras, dtype: int64"
      ]
     },
     "execution_count": 10,
     "metadata": {},
     "output_type": "execute_result"
    }
   ],
   "source": [
    "depas_df.Recamaras.value_counts()"
   ]
  },
  {
   "cell_type": "code",
   "execution_count": 11,
   "id": "cd24e8a7",
   "metadata": {},
   "outputs": [
    {
     "data": {
      "text/plain": [
       "2.0     1054\n",
       "1.0      445\n",
       "3.0      216\n",
       "4.0       64\n",
       "5.0       12\n",
       "6.0        7\n",
       "10.0       3\n",
       "7.0        2\n",
       "20.0       1\n",
       "32.0       1\n",
       "Name: Banos, dtype: int64"
      ]
     },
     "execution_count": 11,
     "metadata": {},
     "output_type": "execute_result"
    }
   ],
   "source": [
    "depas_df.Banos.value_counts()"
   ]
  },
  {
   "cell_type": "code",
   "execution_count": 12,
   "id": "d10011bc",
   "metadata": {},
   "outputs": [
    {
     "name": "stdout",
     "output_type": "stream",
     "text": [
      "<class 'pandas.core.frame.DataFrame'>\n",
      "Int64Index: 1890 entries, 1493 to 121816\n",
      "Data columns (total 8 columns):\n",
      " #   Column            Non-Null Count  Dtype  \n",
      "---  ------            --------------  -----  \n",
      " 0   entidad           1890 non-null   object \n",
      " 1   precio            1890 non-null   float64\n",
      " 2   municipio_x       1890 non-null   object \n",
      " 3   m2Construccion    1819 non-null   float64\n",
      " 4   estacionamientos  1105 non-null   float64\n",
      " 5   Recamaras         1735 non-null   float64\n",
      " 6   Banos             1802 non-null   float64\n",
      " 7   antiguedad        1001 non-null   float64\n",
      "dtypes: float64(6), object(2)\n",
      "memory usage: 132.9+ KB\n"
     ]
    }
   ],
   "source": [
    "depas_df.drop(depas_df[depas_df['estacionamientos'] == 235].index, inplace=True)\n",
    "depas_df.drop(depas_df[depas_df['Recamaras'] == 30].index, inplace=True)\n",
    "depas_df.drop(depas_df[depas_df['Banos'] >= 20].index, inplace=True)\n",
    "depas_df.info()"
   ]
  },
  {
   "cell_type": "code",
   "execution_count": 13,
   "id": "1231995f",
   "metadata": {},
   "outputs": [
    {
     "data": {
      "text/plain": [
       "0.0       881\n",
       "1.0        55\n",
       "2.0        17\n",
       "5.0        12\n",
       "3.0         9\n",
       "20.0        7\n",
       "4.0         4\n",
       "7.0         4\n",
       "6.0         3\n",
       "15.0        2\n",
       "10.0        2\n",
       "30.0        1\n",
       "9.0         1\n",
       "2018.0      1\n",
       "2022.0      1\n",
       "40.0        1\n",
       "Name: antiguedad, dtype: int64"
      ]
     },
     "execution_count": 13,
     "metadata": {},
     "output_type": "execute_result"
    }
   ],
   "source": [
    "depas_df.antiguedad.value_counts()"
   ]
  },
  {
   "cell_type": "code",
   "execution_count": 14,
   "id": "003e200f",
   "metadata": {},
   "outputs": [],
   "source": [
    "depas_df = depas_df.replace({2018.0:4, 2022.0:0})"
   ]
  },
  {
   "cell_type": "code",
   "execution_count": 16,
   "id": "b0d913ed",
   "metadata": {},
   "outputs": [],
   "source": [
    "depas_df['Banos'] = depas_df['Banos'].fillna(0)\n",
    "depas_df['estacionamientos'] = depas_df['estacionamientos'].fillna(0)\n",
    "depas_df['Recamaras'] = depas_df['Recamaras'].fillna(0)"
   ]
  },
  {
   "cell_type": "code",
   "execution_count": 17,
   "id": "f995bd8f",
   "metadata": {
    "scrolled": true
   },
   "outputs": [
    {
     "name": "stdout",
     "output_type": "stream",
     "text": [
      "<class 'pandas.core.frame.DataFrame'>\n",
      "Int64Index: 1890 entries, 1493 to 121816\n",
      "Data columns (total 8 columns):\n",
      " #   Column            Non-Null Count  Dtype  \n",
      "---  ------            --------------  -----  \n",
      " 0   entidad           1890 non-null   object \n",
      " 1   precio            1890 non-null   float64\n",
      " 2   municipio_x       1890 non-null   object \n",
      " 3   m2Construccion    1819 non-null   float64\n",
      " 4   estacionamientos  1890 non-null   float64\n",
      " 5   Recamaras         1890 non-null   float64\n",
      " 6   Banos             1890 non-null   float64\n",
      " 7   antiguedad        1001 non-null   float64\n",
      "dtypes: float64(6), object(2)\n",
      "memory usage: 132.9+ KB\n"
     ]
    }
   ],
   "source": [
    "depas_df.info()"
   ]
  },
  {
   "cell_type": "code",
   "execution_count": 18,
   "id": "664dbd7d",
   "metadata": {
    "scrolled": true
   },
   "outputs": [
    {
     "data": {
      "text/plain": [
       "0.0     882\n",
       "1.0      55\n",
       "2.0      17\n",
       "5.0      12\n",
       "3.0       9\n",
       "20.0      7\n",
       "4.0       5\n",
       "7.0       4\n",
       "6.0       3\n",
       "15.0      2\n",
       "10.0      2\n",
       "30.0      1\n",
       "9.0       1\n",
       "40.0      1\n",
       "Name: antiguedad, dtype: int64"
      ]
     },
     "execution_count": 18,
     "metadata": {},
     "output_type": "execute_result"
    }
   ],
   "source": [
    "depas_df.antiguedad.value_counts()"
   ]
  },
  {
   "cell_type": "code",
   "execution_count": 19,
   "id": "c5d372fc",
   "metadata": {},
   "outputs": [],
   "source": [
    "depas_df['antiguedad'] = depas_df['antiguedad'].fillna(0)"
   ]
  },
  {
   "cell_type": "code",
   "execution_count": 20,
   "id": "62d55daa",
   "metadata": {},
   "outputs": [
    {
     "name": "stdout",
     "output_type": "stream",
     "text": [
      "<class 'pandas.core.frame.DataFrame'>\n",
      "Int64Index: 1890 entries, 1493 to 121816\n",
      "Data columns (total 8 columns):\n",
      " #   Column            Non-Null Count  Dtype  \n",
      "---  ------            --------------  -----  \n",
      " 0   entidad           1890 non-null   object \n",
      " 1   precio            1890 non-null   float64\n",
      " 2   municipio_x       1890 non-null   object \n",
      " 3   m2Construccion    1819 non-null   float64\n",
      " 4   estacionamientos  1890 non-null   float64\n",
      " 5   Recamaras         1890 non-null   float64\n",
      " 6   Banos             1890 non-null   float64\n",
      " 7   antiguedad        1890 non-null   float64\n",
      "dtypes: float64(6), object(2)\n",
      "memory usage: 132.9+ KB\n"
     ]
    }
   ],
   "source": [
    "depas_df.info()"
   ]
  },
  {
   "cell_type": "code",
   "execution_count": 21,
   "id": "b021a05c",
   "metadata": {},
   "outputs": [],
   "source": [
    "depas_df = depas_df.dropna()"
   ]
  },
  {
   "cell_type": "code",
   "execution_count": 22,
   "id": "1ac7232b",
   "metadata": {},
   "outputs": [],
   "source": [
    "from sklearn.preprocessing import LabelEncoder\n",
    "# Use labelencoder to convert tipo into integers\n",
    "depas_df['entidad'] = LabelEncoder().fit_transform(depas_df['entidad'])\n",
    "depas_df['municipio_x'] = LabelEncoder().fit_transform(depas_df['municipio_x'])"
   ]
  },
  {
   "cell_type": "code",
   "execution_count": 23,
   "id": "ed235605",
   "metadata": {},
   "outputs": [
    {
     "data": {
      "text/plain": [
       "precio              1.000000\n",
       "estacionamientos    0.022523\n",
       "Banos               0.020821\n",
       "entidad             0.018767\n",
       "municipio_x         0.007065\n",
       "antiguedad         -0.007738\n",
       "m2Construccion     -0.012179\n",
       "Recamaras          -0.018452\n",
       "Name: precio, dtype: float64"
      ]
     },
     "execution_count": 23,
     "metadata": {},
     "output_type": "execute_result"
    }
   ],
   "source": [
    "corr_matrix = depas_df.corr()\n",
    "corr_matrix['precio'].sort_values(ascending=False)"
   ]
  },
  {
   "cell_type": "code",
   "execution_count": 24,
   "id": "65894a67",
   "metadata": {},
   "outputs": [
    {
     "data": {
      "text/html": [
       "<div>\n",
       "<style scoped>\n",
       "    .dataframe tbody tr th:only-of-type {\n",
       "        vertical-align: middle;\n",
       "    }\n",
       "\n",
       "    .dataframe tbody tr th {\n",
       "        vertical-align: top;\n",
       "    }\n",
       "\n",
       "    .dataframe thead th {\n",
       "        text-align: right;\n",
       "    }\n",
       "</style>\n",
       "<table border=\"1\" class=\"dataframe\">\n",
       "  <thead>\n",
       "    <tr style=\"text-align: right;\">\n",
       "      <th></th>\n",
       "      <th>entidad</th>\n",
       "      <th>precio</th>\n",
       "      <th>municipio_x</th>\n",
       "      <th>m2Construccion</th>\n",
       "      <th>estacionamientos</th>\n",
       "      <th>Recamaras</th>\n",
       "      <th>Banos</th>\n",
       "      <th>antiguedad</th>\n",
       "    </tr>\n",
       "  </thead>\n",
       "  <tbody>\n",
       "    <tr>\n",
       "      <th>0</th>\n",
       "      <td>-2.083427</td>\n",
       "      <td>-0.054084</td>\n",
       "      <td>-2.01975</td>\n",
       "      <td>4.484472</td>\n",
       "      <td>1.05066</td>\n",
       "      <td>-0.025074</td>\n",
       "      <td>0.098026</td>\n",
       "      <td>-0.145558</td>\n",
       "    </tr>\n",
       "    <tr>\n",
       "      <th>1</th>\n",
       "      <td>-2.083427</td>\n",
       "      <td>-0.061322</td>\n",
       "      <td>-2.01975</td>\n",
       "      <td>-0.242213</td>\n",
       "      <td>1.05066</td>\n",
       "      <td>-0.025074</td>\n",
       "      <td>0.098026</td>\n",
       "      <td>-0.145558</td>\n",
       "    </tr>\n",
       "    <tr>\n",
       "      <th>2</th>\n",
       "      <td>-2.083427</td>\n",
       "      <td>-0.061322</td>\n",
       "      <td>-2.01975</td>\n",
       "      <td>-0.242213</td>\n",
       "      <td>1.05066</td>\n",
       "      <td>-0.025074</td>\n",
       "      <td>0.098026</td>\n",
       "      <td>-0.145558</td>\n",
       "    </tr>\n",
       "    <tr>\n",
       "      <th>3</th>\n",
       "      <td>-2.083427</td>\n",
       "      <td>-0.059029</td>\n",
       "      <td>-2.01975</td>\n",
       "      <td>-0.234523</td>\n",
       "      <td>1.05066</td>\n",
       "      <td>-0.025074</td>\n",
       "      <td>0.098026</td>\n",
       "      <td>-0.145558</td>\n",
       "    </tr>\n",
       "    <tr>\n",
       "      <th>4</th>\n",
       "      <td>-2.083427</td>\n",
       "      <td>-0.059029</td>\n",
       "      <td>-2.01975</td>\n",
       "      <td>-0.234523</td>\n",
       "      <td>1.05066</td>\n",
       "      <td>-0.025074</td>\n",
       "      <td>0.098026</td>\n",
       "      <td>-0.145558</td>\n",
       "    </tr>\n",
       "  </tbody>\n",
       "</table>\n",
       "</div>"
      ],
      "text/plain": [
       "    entidad    precio  municipio_x  m2Construccion  estacionamientos  \\\n",
       "0 -2.083427 -0.054084     -2.01975        4.484472           1.05066   \n",
       "1 -2.083427 -0.061322     -2.01975       -0.242213           1.05066   \n",
       "2 -2.083427 -0.061322     -2.01975       -0.242213           1.05066   \n",
       "3 -2.083427 -0.059029     -2.01975       -0.234523           1.05066   \n",
       "4 -2.083427 -0.059029     -2.01975       -0.234523           1.05066   \n",
       "\n",
       "   Recamaras     Banos  antiguedad  \n",
       "0  -0.025074  0.098026   -0.145558  \n",
       "1  -0.025074  0.098026   -0.145558  \n",
       "2  -0.025074  0.098026   -0.145558  \n",
       "3  -0.025074  0.098026   -0.145558  \n",
       "4  -0.025074  0.098026   -0.145558  "
      ]
     },
     "execution_count": 24,
     "metadata": {},
     "output_type": "execute_result"
    }
   ],
   "source": [
    "from sklearn.preprocessing import StandardScaler\n",
    "scaler = StandardScaler()\n",
    "scaler.fit(depas_df)\n",
    "scaled_data = scaler.transform(depas_df)\n",
    "transformed_scaled_data = pd.DataFrame(scaled_data, columns=depas_df.columns)\n",
    "transformed_scaled_data.head()"
   ]
  },
  {
   "cell_type": "code",
   "execution_count": 25,
   "id": "788e2b4f",
   "metadata": {},
   "outputs": [],
   "source": [
    "# Define target\n",
    "y = transformed_scaled_data['precio']\n",
    "X = transformed_scaled_data.drop(columns='precio')"
   ]
  },
  {
   "cell_type": "code",
   "execution_count": 26,
   "id": "db3b17dc",
   "metadata": {},
   "outputs": [],
   "source": [
    "from sklearn import preprocessing\n",
    "lab = preprocessing.LabelEncoder()\n",
    "y_transformed = lab.fit_transform(y)\n",
    "from sklearn.model_selection import train_test_split\n",
    "# Split into train and test sets\n",
    "X_train, X_test, y_train, y_test = train_test_split(X, y_transformed, test_size=0.2, random_state=1)\n"
   ]
  },
  {
   "cell_type": "code",
   "execution_count": 27,
   "id": "c240317a",
   "metadata": {},
   "outputs": [],
   "source": [
    "from sklearn.preprocessing import StandardScaler\n",
    "# Create StandardScaler instance\n",
    "scaler = StandardScaler()\n",
    "# Fit Standard Scaler\n",
    "X_scaler = scaler.fit(X_train)\n",
    "\n",
    "# Scale the data\n",
    "X_train_scaled = X_scaler.transform(X_train)\n",
    "X_test_scaled = X_scaler.transform(X_test)"
   ]
  },
  {
   "cell_type": "code",
   "execution_count": 28,
   "id": "87ee38ea",
   "metadata": {},
   "outputs": [],
   "source": [
    "from sklearn.ensemble import RandomForestClassifier\n",
    "# Creating the decision tree classifier instance\n",
    "model = RandomForestClassifier(n_estimators=200, random_state=1)\n",
    "\n",
    "# Fitting the model\n",
    "model = model.fit(X_train_scaled, y_train)"
   ]
  },
  {
   "cell_type": "code",
   "execution_count": 29,
   "id": "95bbcf13",
   "metadata": {},
   "outputs": [],
   "source": [
    "# Making predictions\n",
    "predictions = model.predict(X_test_scaled)"
   ]
  },
  {
   "cell_type": "code",
   "execution_count": 30,
   "id": "474a26f4",
   "metadata": {},
   "outputs": [
    {
     "data": {
      "text/plain": [
       "0.11263736263736264"
      ]
     },
     "execution_count": 30,
     "metadata": {},
     "output_type": "execute_result"
    }
   ],
   "source": [
    "from sklearn.metrics import accuracy_score\n",
    "# Calculating the accuracy score\n",
    "acc_score = accuracy_score(y_test, predictions)\n",
    "acc_score"
   ]
  }
 ],
 "metadata": {
  "kernelspec": {
   "display_name": "mlenv",
   "language": "python",
   "name": "mlenv"
  },
  "language_info": {
   "codemirror_mode": {
    "name": "ipython",
    "version": 3
   },
   "file_extension": ".py",
   "mimetype": "text/x-python",
   "name": "python",
   "nbconvert_exporter": "python",
   "pygments_lexer": "ipython3",
   "version": "3.7.11"
  }
 },
 "nbformat": 4,
 "nbformat_minor": 5
}
